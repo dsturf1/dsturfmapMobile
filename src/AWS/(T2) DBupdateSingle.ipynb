{
 "cells": [
  {
   "cell_type": "code",
   "execution_count": 1,
   "metadata": {},
   "outputs": [],
   "source": [
    "import pandas as pd\n",
    "import re\n",
    "import os\n",
    "import numpy as np\n",
    "import glob\n",
    "from datetime import datetime\n",
    "import geopandas as gpd\n",
    "import json\n",
    "from shapely.geometry import shape, GeometryCollection\n",
    "from rasterio.plot import show\n",
    "import matplotlib.pyplot as plt\n",
    "from mpl_toolkits.mplot3d import Axes3D\n",
    "from matplotlib import cm\n",
    "from matplotlib import colors\n",
    "from utils import FeatureExtraction, feature_matching, decimal_coords\n",
    "from exif import Image as exifimg\n",
    "from PIL import Image\n",
    "\n",
    "import shutil\n",
    "import rasterio\n",
    "import cv2\n",
    "%matplotlib inline"
   ]
  },
  {
   "cell_type": "code",
   "execution_count": 2,
   "metadata": {},
   "outputs": [],
   "source": [
    "# 가능한 font list 확인\n",
    "import matplotlib.font_manager as fm\n",
    "f = [f.name for f in fm.fontManager.ttflist]\n",
    "# print(f)\n",
    "\n",
    "plt.rc('font', family='Malgun Gothic')"
   ]
  },
  {
   "cell_type": "code",
   "execution_count": 3,
   "metadata": {},
   "outputs": [],
   "source": [
    "import boto3\n",
    "from decimal import Decimal\n",
    "# Get the service resource.\n",
    "dynamodb = boto3.resource('dynamodb', region_name='ap-northeast-2')\n",
    "table = dynamodb.Table('dsnia_imagelabelsV2')\n",
    "# table = dynamodb.Table('dsnia_imagelabels')"
   ]
  },
  {
   "cell_type": "code",
   "execution_count": 4,
   "metadata": {},
   "outputs": [],
   "source": [
    "course_list = ['청도','포항','중문','시흥','거창','속리산','춘천']\n",
    "\n",
    "course_ids = {\n",
    "  '포항':'MGC001',\n",
    "  '청도':'MGC002',\n",
    "  '중문':'MGC003',\n",
    "  '시흥':'MGC004',\n",
    "  '거창':'MGC005',\n",
    "  '속리산':'MGC006',\n",
    "  '춘천':'MGC007'\n",
    "}\n",
    "\n",
    "folder_type = ['rgb','ndvi','thumb']"
   ]
  },
  {
   "cell_type": "code",
   "execution_count": 5,
   "metadata": {},
   "outputs": [
    {
     "data": {
      "text/plain": [
       "'MGC002'"
      ]
     },
     "execution_count": 5,
     "metadata": {},
     "output_type": "execute_result"
    }
   ],
   "source": [
    "course_id = course_ids.get('청도')\n",
    "course_id"
   ]
  },
  {
   "cell_type": "code",
   "execution_count": null,
   "metadata": {},
   "outputs": [],
   "source": []
  },
  {
   "cell_type": "code",
   "execution_count": 6,
   "metadata": {},
   "outputs": [
    {
     "data": {
      "text/plain": [
       "'c:\\\\Users\\\\yc463\\\\Documents\\\\JamesLocal\\\\DS\\\\Drone\\\\dsmapv2\\\\src\\\\AWS\\\\filepathBackUp'"
      ]
     },
     "execution_count": 6,
     "metadata": {},
     "output_type": "execute_result"
    }
   ],
   "source": [
    "AWS_folder = os.getcwd()\n",
    "\n",
    "b_folder = os.path.join(AWS_folder,'BACKUPS')\n",
    "b_folder\n",
    "\n",
    "src_folder = os.path.join(AWS_folder,'dataDownloaded')\n",
    "src_folder\n",
    "\n",
    "out_folder = os.path.join(AWS_folder,'filepathBackUp')\n",
    "out_folder"
   ]
  },
  {
   "cell_type": "code",
   "execution_count": 7,
   "metadata": {},
   "outputs": [],
   "source": [
    "from boto3.dynamodb.conditions import Key, Attr\n",
    "from botocore.exceptions import ClientError\n",
    "\n",
    "\n",
    "\n",
    "courseid = \"MGC002\"\n",
    "date = \"20230823\"\n",
    "\n",
    "\n",
    "response = table.query(IndexName='courseid-id-index', KeyConditionExpression=Key('courseid').eq(courseid),  FilterExpression=Attr('date').eq(date))\n",
    "alldata =  response['Items']\n",
    "\n",
    "while 'LastEvaluatedKey' in response:\n",
    "    response = table.query(IndexName='courseid-id-index', KeyConditionExpression=Key('courseid').eq(courseid), \n",
    "     ExclusiveStartKey=response['LastEvaluatedKey'] ,FilterExpression=Attr('date').eq(date) )    \n",
    "    # response_ = table.scan(ExclusiveStartKey=response['LastEvaluatedKey'])\n",
    "    alldata.extend(response['Items'])"
   ]
  },
  {
   "cell_type": "code",
   "execution_count": 8,
   "metadata": {},
   "outputs": [
    {
     "data": {
      "text/plain": [
       "8319"
      ]
     },
     "execution_count": 8,
     "metadata": {},
     "output_type": "execute_result"
    }
   ],
   "source": [
    "len(alldata)"
   ]
  },
  {
   "cell_type": "code",
   "execution_count": 9,
   "metadata": {},
   "outputs": [],
   "source": [
    "def update_root(x):\n",
    "  path = os.path.normpath(x)\n",
    "  info = path.split(os.sep)\n",
    "  index_ = [idx for idx, s in enumerate(info) if '2023' and '완' in s][0]\n",
    "  return 'original/'+ ('/').join(info[index_:])"
   ]
  },
  {
   "cell_type": "code",
   "execution_count": 10,
   "metadata": {},
   "outputs": [],
   "source": [
    "for jsonSinlgle in alldata:\n",
    "  jsonSinlgle['json']['originalFileJPG'] = update_root(jsonSinlgle['json']['originalFileJPG'])\n",
    "  jsonSinlgle['json']['originalFileGrp'] = [update_root(x) for x in jsonSinlgle['json']['originalFileGrp']]\n"
   ]
  },
  {
   "cell_type": "code",
   "execution_count": 13,
   "metadata": {},
   "outputs": [
    {
     "data": {
      "text/plain": [
       "{'metadata': 'MGC002202308234_마운틴1H패취류,섬머패취,켄터키,티,잡초,피막이,바랭이,민들레,파대가리_0',\n",
       " 'date': '20230823',\n",
       " 'area': '4_마운틴1H',\n",
       " 'courseid': 'MGC002',\n",
       " 'json': {'originalFileGrp': ['original/2023_0823_청도그레이스_맑고뭉게구름_데이터 1차 분류본_완/4_마운틴1H/2023_0823_청도그레이스_마운틴 1H_0.5m/20230823_1328-1352_패취류,섬머패취,켄터키,티,잡초,피막이,바랭이,민들레,파대가리/DJI_20230823132925_0024_MS_G.TIF',\n",
       "   'original/2023_0823_청도그레이스_맑고뭉게구름_데이터 1차 분류본_완/4_마운틴1H/2023_0823_청도그레이스_마운틴 1H_0.5m/20230823_1328-1352_패취류,섬머패취,켄터키,티,잡초,피막이,바랭이,민들레,파대가리/DJI_20230823132925_0024_MS_NIR.TIF',\n",
       "   'original/2023_0823_청도그레이스_맑고뭉게구름_데이터 1차 분류본_완/4_마운틴1H/2023_0823_청도그레이스_마운틴 1H_0.5m/20230823_1328-1352_패취류,섬머패취,켄터키,티,잡초,피막이,바랭이,민들레,파대가리/DJI_20230823132925_0024_MS_R.TIF',\n",
       "   'original/2023_0823_청도그레이스_맑고뭉게구름_데이터 1차 분류본_완/4_마운틴1H/2023_0823_청도그레이스_마운틴 1H_0.5m/20230823_1328-1352_패취류,섬머패취,켄터키,티,잡초,피막이,바랭이,민들레,파대가리/DJI_20230823132925_0024_MS_RE.TIF'],\n",
       "  'annotation': [],\n",
       "  'labelBy': '',\n",
       "  'GeoTagInfo': {'gps_altitude': Decimal('165.179'),\n",
       "   'datetime_original': '2023:08:23 13:29:25',\n",
       "   'coords': [Decimal('128.6441809444'), Decimal('35.6648490833')],\n",
       "   'gps_altitude_ref': Decimal('0')},\n",
       "  'id': '20230823132925_1286441809444_356648490833_165179000',\n",
       "  'label': [],\n",
       "  'originalFileJPG': 'original/2023_0823_청도그레이스_맑고뭉게구름_데이터 1차 분류본_완/4_마운틴1H/2023_0823_청도그레이스_마운틴 1H_0.5m/20230823_1328-1352_패취류,섬머패취,켄터키,티,잡초,피막이,바랭이,민들레,파대가리/DJI_20230823132925_0024_D.JPG',\n",
       "  'destFolder': '20230823/4_마운틴1H/패취류,섬머패취,켄터키,티,잡초,피막이,바랭이,민들레,파대가리_0',\n",
       "  'dest': {'rgb': 'MGC002\\\\20230823\\\\4_마운틴1H\\\\패취류,섬머패취,켄터키,티,잡초,피막이,바랭이,민들레,파대가리_0\\\\rgb\\\\rgb20230823132925_1286441809444_356648490833_165179000.JPG',\n",
       "   'thumb': 'MGC002\\\\20230823\\\\4_마운틴1H\\\\패취류,섬머패취,켄터키,티,잡초,피막이,바랭이,민들레,파대가리_0\\\\thumb\\\\thumbrgb20230823132925_1286441809444_356648490833_165179000.JPG',\n",
       "   'ndvi': 'MGC002\\\\20230823\\\\4_마운틴1H\\\\패취류,섬머패취,켄터키,티,잡초,피막이,바랭이,민들레,파대가리_0\\\\ndvi\\\\ndvi20230823132925_1286441809444_356648490833_165179000.JPG'},\n",
       "  'info': {'area': '4_마운틴1H',\n",
       "   'alt': '0.5m',\n",
       "   'date': '20230823',\n",
       "   'course': '청도',\n",
       "   'desc': '패취류,섬머패취,켄터키,티,잡초,피막이,바랭이,민들레,파대가리_0'}},\n",
       " 'id': '20230823132925_1286441809444_356648490833_165179000',\n",
       " 'desc': '패취류,섬머패취,켄터키,티,잡초,피막이,바랭이,민들레,파대가리_0'}"
      ]
     },
     "execution_count": 13,
     "metadata": {},
     "output_type": "execute_result"
    }
   ],
   "source": [
    "alldata[3000]"
   ]
  },
  {
   "cell_type": "code",
   "execution_count": 14,
   "metadata": {},
   "outputs": [
    {
     "name": "stdout",
     "output_type": "stream",
     "text": [
      "8318 20230823163038_1286447889167_356634473611_161237000\r"
     ]
    }
   ],
   "source": [
    "with table.batch_writer(overwrite_by_pkeys=['metadata', 'id']) as batch:\n",
    "  for index_, row_ in enumerate(alldata):\n",
    "    print(index_, row_['id'], end='\\r')\n",
    "    batch.put_item(\n",
    "      Item= row_\n",
    "    )"
   ]
  },
  {
   "cell_type": "code",
   "execution_count": 15,
   "metadata": {},
   "outputs": [],
   "source": [
    "\n",
    "\n",
    "\n",
    "response = table.query(IndexName='courseid-id-index', KeyConditionExpression=Key('courseid').eq(courseid),  FilterExpression=Attr('date').eq(date))\n",
    "data =  response['Items']\n",
    "\n",
    "while 'LastEvaluatedKey' in response:\n",
    "    response = table.query(IndexName='courseid-id-index', KeyConditionExpression=Key('courseid').eq(courseid),  ExclusiveStartKey=response['LastEvaluatedKey'] ,FilterExpression=Attr('date').eq(date) )    \n",
    "    # response_ = table.scan(ExclusiveStartKey=response['LastEvaluatedKey'])\n",
    "    data.extend(response['Items'])"
   ]
  },
  {
   "cell_type": "code",
   "execution_count": 16,
   "metadata": {},
   "outputs": [
    {
     "data": {
      "text/plain": [
       "8319"
      ]
     },
     "execution_count": 16,
     "metadata": {},
     "output_type": "execute_result"
    }
   ],
   "source": [
    "len(data)"
   ]
  },
  {
   "cell_type": "code",
   "execution_count": null,
   "metadata": {},
   "outputs": [],
   "source": []
  }
 ],
 "metadata": {
  "kernelspec": {
   "display_name": "Python 3.9.2 ('geo_James')",
   "language": "python",
   "name": "python3"
  },
  "language_info": {
   "codemirror_mode": {
    "name": "ipython",
    "version": 3
   },
   "file_extension": ".py",
   "mimetype": "text/x-python",
   "name": "python",
   "nbconvert_exporter": "python",
   "pygments_lexer": "ipython3",
   "version": "3.9.7"
  },
  "orig_nbformat": 4,
  "vscode": {
   "interpreter": {
    "hash": "af734be8ad55227f26227a3bb273225e8c732a9f6283c6f58fcb510615c38890"
   }
  }
 },
 "nbformat": 4,
 "nbformat_minor": 2
}
