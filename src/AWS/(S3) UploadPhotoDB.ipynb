{
 "cells": [
  {
   "cell_type": "code",
   "execution_count": 85,
   "metadata": {},
   "outputs": [],
   "source": [
    "import pandas as pd\n",
    "import re\n",
    "import os\n",
    "import numpy as np\n",
    "import glob\n",
    "from datetime import datetime\n",
    "import geopandas as gpd\n",
    "import json\n",
    "from shapely.geometry import shape, GeometryCollection\n",
    "from rasterio.plot import show\n",
    "import matplotlib.pyplot as plt\n",
    "from mpl_toolkits.mplot3d import Axes3D\n",
    "from matplotlib import cm\n",
    "from matplotlib import colors\n",
    "from utils import FeatureExtraction, feature_matching, decimal_coords\n",
    "from exif import Image as exifimg\n",
    "from PIL import Image\n",
    "\n",
    "import shutil\n",
    "import rasterio\n",
    "import cv2\n",
    "%matplotlib inline"
   ]
  },
  {
   "cell_type": "code",
   "execution_count": 86,
   "metadata": {},
   "outputs": [],
   "source": [
    "# 가능한 font list 확인\n",
    "import matplotlib.font_manager as fm\n",
    "f = [f.name for f in fm.fontManager.ttflist]\n",
    "# print(f)\n",
    "\n",
    "plt.rc('font', family='Malgun Gothic')"
   ]
  },
  {
   "cell_type": "code",
   "execution_count": 87,
   "metadata": {},
   "outputs": [],
   "source": [
    "img_folder = r'D:\\original'\n",
    "out_folder = r'D:\\ToAWS2'\n",
    "\n",
    "course_list = ['청도','포항','중문','시흥','거창','속리산','춘천']\n",
    "\n",
    "course_ids = {\n",
    "  '포항':'MGC001',\n",
    "  '청도':'MGC002',\n",
    "  '중문':'MGC003',\n",
    "  '시흥':'MGC004',\n",
    "  '거창':'MGC005',\n",
    "  '속리산':'MGC006',\n",
    "  '춘천':'MGC007'\n",
    "}\n",
    "\n",
    "folder_type = ['rgb','ndvi','thumb']"
   ]
  },
  {
   "cell_type": "code",
   "execution_count": 98,
   "metadata": {},
   "outputs": [
    {
     "data": {
      "text/plain": [
       "'MGC005'"
      ]
     },
     "execution_count": 98,
     "metadata": {},
     "output_type": "execute_result"
    }
   ],
   "source": [
    "course_id = course_ids.get('거창')\n",
    "course_id"
   ]
  },
  {
   "cell_type": "code",
   "execution_count": 99,
   "metadata": {},
   "outputs": [
    {
     "data": {
      "text/plain": [
       "['D:\\\\ToAWS2\\\\MGC005\\\\20230809',\n",
       " 'D:\\\\ToAWS2\\\\MGC005\\\\20230817',\n",
       " 'D:\\\\ToAWS2\\\\MGC005\\\\20230906']"
      ]
     },
     "execution_count": 99,
     "metadata": {},
     "output_type": "execute_result"
    }
   ],
   "source": [
    "target_folders = glob.glob(os.path.join(out_folder,'**/*'))\n",
    "target_folders = [x for x in target_folders if course_id in x]\n",
    "target_folders"
   ]
  },
  {
   "cell_type": "code",
   "execution_count": 100,
   "metadata": {},
   "outputs": [],
   "source": [
    "target_folder = target_folders[0]"
   ]
  },
  {
   "cell_type": "code",
   "execution_count": 101,
   "metadata": {},
   "outputs": [
    {
     "data": {
      "text/plain": [
       "('MGC005', '20230809')"
      ]
     },
     "execution_count": 101,
     "metadata": {},
     "output_type": "execute_result"
    }
   ],
   "source": [
    "target_date = os.path.split(target_folder)[-1]\n",
    "course_id, target_date"
   ]
  },
  {
   "cell_type": "code",
   "execution_count": 103,
   "metadata": {},
   "outputs": [
    {
     "data": {
      "text/plain": [
       "'D:\\\\ToAWS2\\\\MGC005\\\\20230809\\\\photo.json'"
      ]
     },
     "execution_count": 103,
     "metadata": {},
     "output_type": "execute_result"
    }
   ],
   "source": [
    "dataJson_ = glob.glob(os.path.join(out_folder,course_id,target_date,'**/photo*.json'), recursive=True)[0]\n",
    "dataJson_ "
   ]
  },
  {
   "cell_type": "code",
   "execution_count": 104,
   "metadata": {},
   "outputs": [],
   "source": [
    "with open(dataJson_, \"r\") as _json:\n",
    "  dataJson= json.load(_json)"
   ]
  },
  {
   "cell_type": "code",
   "execution_count": 105,
   "metadata": {},
   "outputs": [
    {
     "data": {
      "text/plain": [
       "1954"
      ]
     },
     "execution_count": 105,
     "metadata": {},
     "output_type": "execute_result"
    }
   ],
   "source": [
    "len(dataJson)"
   ]
  },
  {
   "cell_type": "code",
   "execution_count": 106,
   "metadata": {},
   "outputs": [
    {
     "data": {
      "text/plain": [
       "{'id': '20230809085707_1279039365833_355910666389_627518000',\n",
       " 'originalFileJPG': 'NIA_2023_52_잔디\\\\10_원시데이터(3사_분류대상)\\\\2023_0809_클럽디 거창_구름많은날_데이터 1차 분류_완\\\\클럽디 거창 SOUTH 1H\\\\2023_0809_클럽디거창_SOUTH1H_0.5m\\\\20230809_0857-0912_엽고,탄저병,보식지역\\\\DJI_20230809085707_0001_D.JPG',\n",
       " 'originalFileGrp': ['NIA_2023_52_잔디\\\\10_원시데이터(3사_분류대상)\\\\2023_0809_클럽디 거창_구름많은날_데이터 1차 분류_완\\\\클럽디 거창 SOUTH 1H\\\\2023_0809_클럽디거창_SOUTH1H_0.5m\\\\20230809_0857-0912_엽고,탄저병,보식지역\\\\DJI_20230809085707_0001_MS_G.TIF',\n",
       "  'NIA_2023_52_잔디\\\\10_원시데이터(3사_분류대상)\\\\2023_0809_클럽디 거창_구름많은날_데이터 1차 분류_완\\\\클럽디 거창 SOUTH 1H\\\\2023_0809_클럽디거창_SOUTH1H_0.5m\\\\20230809_0857-0912_엽고,탄저병,보식지역\\\\DJI_20230809085707_0001_MS_NIR.TIF',\n",
       "  'NIA_2023_52_잔디\\\\10_원시데이터(3사_분류대상)\\\\2023_0809_클럽디 거창_구름많은날_데이터 1차 분류_완\\\\클럽디 거창 SOUTH 1H\\\\2023_0809_클럽디거창_SOUTH1H_0.5m\\\\20230809_0857-0912_엽고,탄저병,보식지역\\\\DJI_20230809085707_0001_MS_R.TIF',\n",
       "  'NIA_2023_52_잔디\\\\10_원시데이터(3사_분류대상)\\\\2023_0809_클럽디 거창_구름많은날_데이터 1차 분류_완\\\\클럽디 거창 SOUTH 1H\\\\2023_0809_클럽디거창_SOUTH1H_0.5m\\\\20230809_0857-0912_엽고,탄저병,보식지역\\\\DJI_20230809085707_0001_MS_RE.TIF'],\n",
       " 'destFolder': '20230809/클럽디 거창 SOUTH 1H/엽고,탄저병,보식지역_0',\n",
       " 'GeoTagInfo': {'coords': [127.90393658333333, 35.59106663888889],\n",
       "  'datetime_original': '2023:08:09 08:57:07',\n",
       "  'gps_altitude': 627.518,\n",
       "  'gps_altitude_ref': 0},\n",
       " 'dest': {'rgb': 'MGC005\\\\20230809\\\\클럽디 거창 SOUTH 1H\\\\엽고,탄저병,보식지역_0\\\\rgb\\\\rgb20230809085707_1279039365833_355910666389_627518000.JPG',\n",
       "  'ndvi': 'MGC005\\\\20230809\\\\클럽디 거창 SOUTH 1H\\\\엽고,탄저병,보식지역_0\\\\ndvi\\\\ndvi20230809085707_1279039365833_355910666389_627518000.JPG',\n",
       "  'thumb': 'MGC005\\\\20230809\\\\클럽디 거창 SOUTH 1H\\\\엽고,탄저병,보식지역_0\\\\thumb\\\\thumbrgb20230809085707_1279039365833_355910666389_627518000.JPG'},\n",
       " 'info': {'course': '거창',\n",
       "  'area': '클럽디 거창 SOUTH 1H',\n",
       "  'desc': '엽고,탄저병,보식지역_0',\n",
       "  'alt': '0.5m',\n",
       "  'date': '20230809'},\n",
       " 'label': [],\n",
       " 'annotation': [],\n",
       " 'labelBy': ''}"
      ]
     },
     "execution_count": 106,
     "metadata": {},
     "output_type": "execute_result"
    }
   ],
   "source": [
    "dataJson[0]"
   ]
  },
  {
   "cell_type": "code",
   "execution_count": 107,
   "metadata": {},
   "outputs": [],
   "source": [
    "import boto3\n",
    "from decimal import Decimal\n",
    "# Get the service resource.\n",
    "dynamodb = boto3.resource('dynamodb', region_name='us-east-1')\n",
    "table = dynamodb.Table('dsnia_imagelabelsV2')\n",
    "# table = dynamodb.Table('dsnia_imagelabels')"
   ]
  },
  {
   "cell_type": "code",
   "execution_count": 108,
   "metadata": {},
   "outputs": [
    {
     "name": "stdout",
     "output_type": "stream",
     "text": [
      "1953\r"
     ]
    }
   ],
   "source": [
    "from boto3.dynamodb.conditions import Key, Attr\n",
    "from botocore.exceptions import ClientError\n",
    "\n",
    "with table.batch_writer(overwrite_by_pkeys=['metadata', 'id']) as batch:\n",
    "  for index_, row_ in enumerate(dataJson):\n",
    "    newrow = {}\n",
    "    newrow ['id'] = row_['id']\n",
    "    newrow ['metadata'] = course_id+target_date+row_['info']['area']+row_['info']['desc']\n",
    "    newrow ['date'] = target_date\n",
    "    newrow ['area'] = row_['info']['area']\n",
    "    newrow ['desc'] = row_['info']['desc']\n",
    "    newrow ['json'] = json.loads(json.dumps(row_), parse_float=Decimal)\n",
    "    print(index_, end='\\r')\n",
    "    batch.put_item(\n",
    "      Item= newrow\n",
    "    )"
   ]
  },
  {
   "cell_type": "code",
   "execution_count": 57,
   "metadata": {},
   "outputs": [],
   "source": [
    "from boto3.dynamodb.conditions import Key, Attr\n",
    "from botocore.exceptions import ClientError\n",
    "\n",
    "courseid = course_id\n",
    "date = target_date\n",
    "\n",
    "area = \"아세코벨리 1H\"\n",
    "\n",
    "desc = \"광엽,화본과,민들래,바랭이,애기땅빈대,왕바랭이,이종잔디,조이시아그래스,사초과,방동사니_0\"\n",
    "\n",
    "response = table.query(KeyConditionExpression=Key('metadata').eq(courseid+date+area+desc))\n",
    "data =  response['Items']\n",
    "\n",
    "while 'LastEvaluatedKey' in response:\n",
    "    response = table.query(KeyConditionExpression=Key('metadata').eq(courseid+date+area+desc),  ExclusiveStartKey=response['LastEvaluatedKey']  )    \n",
    "    # response_ = table.scan(ExclusiveStartKey=response['LastEvaluatedKey'])\n",
    "    data.extend(response['Items'])"
   ]
  },
  {
   "cell_type": "code",
   "execution_count": 58,
   "metadata": {},
   "outputs": [
    {
     "data": {
      "text/plain": [
       "290"
      ]
     },
     "execution_count": 58,
     "metadata": {},
     "output_type": "execute_result"
    }
   ],
   "source": [
    "len(data)"
   ]
  },
  {
   "cell_type": "code",
   "execution_count": null,
   "metadata": {},
   "outputs": [],
   "source": []
  }
 ],
 "metadata": {
  "kernelspec": {
   "display_name": "Python 3.9.2 ('geo_James')",
   "language": "python",
   "name": "python3"
  },
  "language_info": {
   "codemirror_mode": {
    "name": "ipython",
    "version": 3
   },
   "file_extension": ".py",
   "mimetype": "text/x-python",
   "name": "python",
   "nbconvert_exporter": "python",
   "pygments_lexer": "ipython3",
   "version": "3.9.7"
  },
  "orig_nbformat": 4,
  "vscode": {
   "interpreter": {
    "hash": "af734be8ad55227f26227a3bb273225e8c732a9f6283c6f58fcb510615c38890"
   }
  }
 },
 "nbformat": 4,
 "nbformat_minor": 2
}
