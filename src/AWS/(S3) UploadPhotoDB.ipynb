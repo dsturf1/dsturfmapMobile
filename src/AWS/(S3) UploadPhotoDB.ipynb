{
 "cells": [
  {
   "cell_type": "code",
   "execution_count": 10,
   "metadata": {},
   "outputs": [],
   "source": [
    "import pandas as pd\n",
    "import re\n",
    "import os\n",
    "import numpy as np\n",
    "import glob\n",
    "from datetime import datetime\n",
    "import geopandas as gpd\n",
    "import json\n",
    "from shapely.geometry import shape, GeometryCollection\n",
    "from rasterio.plot import show\n",
    "import matplotlib.pyplot as plt\n",
    "from mpl_toolkits.mplot3d import Axes3D\n",
    "from matplotlib import cm\n",
    "from matplotlib import colors\n",
    "from utils import FeatureExtraction, feature_matching, decimal_coords\n",
    "from exif import Image as exifimg\n",
    "from PIL import Image\n",
    "\n",
    "import shutil\n",
    "import rasterio\n",
    "import cv2\n",
    "%matplotlib inline"
   ]
  },
  {
   "cell_type": "code",
   "execution_count": 11,
   "metadata": {},
   "outputs": [],
   "source": [
    "# 가능한 font list 확인\n",
    "import matplotlib.font_manager as fm\n",
    "f = [f.name for f in fm.fontManager.ttflist]\n",
    "# print(f)\n",
    "\n",
    "plt.rc('font', family='Malgun Gothic')"
   ]
  },
  {
   "cell_type": "code",
   "execution_count": 12,
   "metadata": {},
   "outputs": [],
   "source": [
    "img_folder = r'D:\\original'\n",
    "out_folder = r'D:\\ToAWS'\n",
    "\n",
    "course_list = ['청도','포항','중문']\n",
    "\n",
    "course_ids = {\n",
    "  '포항':'MGC001',\n",
    "  '청도':'MGC002',\n",
    "  '중문':'MGC003',\n",
    "}\n",
    "\n",
    "folder_type = ['rgb','ndvi','thumb']"
   ]
  },
  {
   "cell_type": "code",
   "execution_count": 13,
   "metadata": {},
   "outputs": [
    {
     "data": {
      "text/plain": [
       "['D:\\\\ToAWS\\\\MGC001\\\\20230811',\n",
       " 'D:\\\\ToAWS\\\\MGC001\\\\20230816',\n",
       " 'D:\\\\ToAWS\\\\MGC002\\\\20230823']"
      ]
     },
     "execution_count": 13,
     "metadata": {},
     "output_type": "execute_result"
    }
   ],
   "source": [
    "target_folders = glob.glob(os.path.join(out_folder,'**/*'))\n",
    "target_folders"
   ]
  },
  {
   "cell_type": "code",
   "execution_count": 14,
   "metadata": {},
   "outputs": [],
   "source": [
    "target_folder = target_folders[1]"
   ]
  },
  {
   "cell_type": "code",
   "execution_count": 15,
   "metadata": {},
   "outputs": [
    {
     "data": {
      "text/plain": [
       "('MGC001', '20230816')"
      ]
     },
     "execution_count": 15,
     "metadata": {},
     "output_type": "execute_result"
    }
   ],
   "source": [
    "course_id = course_ids.get('포항')\n",
    "target_date = os.path.split(target_folder)[-1]\n",
    "course_id, target_date"
   ]
  },
  {
   "cell_type": "code",
   "execution_count": 16,
   "metadata": {},
   "outputs": [
    {
     "data": {
      "text/plain": [
       "'D:\\\\ToAWS\\\\MGC001\\\\20230816\\\\photo.json'"
      ]
     },
     "execution_count": 16,
     "metadata": {},
     "output_type": "execute_result"
    }
   ],
   "source": [
    "dataJson_ = glob.glob(os.path.join(out_folder,course_id,target_date,'**/photo*.json'), recursive=True)[0]\n",
    "dataJson_ "
   ]
  },
  {
   "cell_type": "code",
   "execution_count": 17,
   "metadata": {},
   "outputs": [],
   "source": [
    "with open(dataJson_, \"r\") as _json:\n",
    "  dataJson= json.load(_json)"
   ]
  },
  {
   "cell_type": "code",
   "execution_count": 18,
   "metadata": {},
   "outputs": [
    {
     "data": {
      "text/plain": [
       "9184"
      ]
     },
     "execution_count": 18,
     "metadata": {},
     "output_type": "execute_result"
    }
   ],
   "source": [
    "len(dataJson)"
   ]
  },
  {
   "cell_type": "code",
   "execution_count": 19,
   "metadata": {},
   "outputs": [
    {
     "data": {
      "text/plain": [
       "{'id': '20230816104921_1293336709444_362275511944_156750000',\n",
       " 'originalFileJPG': 'original\\\\2023_0816_포항CC_오전맑음오후구름가득_데이터 1차 분류본_완\\\\1.태백3H\\\\2023_0816_포항CC_태백3H_0.5m\\\\20230816_1039-1049\\\\DJI_20230816104921_0295_D.JPG',\n",
       " 'originalFileGrp': ['original\\\\2023_0816_포항CC_오전맑음오후구름가득_데이터 1차 분류본_완\\\\1.태백3H\\\\2023_0816_포항CC_태백3H_0.5m\\\\20230816_1039-1049\\\\DJI_20230816104921_0295_MS_RE.TIF',\n",
       "  'original\\\\2023_0816_포항CC_오전맑음오후구름가득_데이터 1차 분류본_완\\\\1.태백3H\\\\2023_0816_포항CC_태백3H_0.5m\\\\20230816_1039-1049\\\\DJI_20230816104921_0295_MS_R.TIF',\n",
       "  'original\\\\2023_0816_포항CC_오전맑음오후구름가득_데이터 1차 분류본_완\\\\1.태백3H\\\\2023_0816_포항CC_태백3H_0.5m\\\\20230816_1039-1049\\\\DJI_20230816104921_0295_MS_NIR.TIF',\n",
       "  'original\\\\2023_0816_포항CC_오전맑음오후구름가득_데이터 1차 분류본_완\\\\1.태백3H\\\\2023_0816_포항CC_태백3H_0.5m\\\\20230816_1039-1049\\\\DJI_20230816104921_0295_MS_G.TIF'],\n",
       " 'destFolder': '20230816/1.태백3H/미기재_0',\n",
       " 'GeoTagInfo': {'coords': [129.33367094444446, 36.227551194444445],\n",
       "  'datetime_original': '2023:08:16 10:49:21',\n",
       "  'gps_altitude': 156.75,\n",
       "  'gps_altitude_ref': 0},\n",
       " 'dest': {'rgb': 'MGC001\\\\20230816\\\\1.태백3H\\\\미기재_0\\\\rgb\\\\rgb20230816104921_1293336709444_362275511944_156750000.JPG',\n",
       "  'ndvi': 'MGC001\\\\20230816\\\\1.태백3H\\\\미기재_0\\\\ndvi\\\\ndvi20230816104921_1293336709444_362275511944_156750000.JPG',\n",
       "  'thumb': 'MGC001\\\\20230816\\\\1.태백3H\\\\미기재_0\\\\thumb\\\\thumbrgb20230816104921_1293336709444_362275511944_156750000.JPG'},\n",
       " 'info': {'course': '포항',\n",
       "  'area': '1.태백3H',\n",
       "  'desc': '미기재_0',\n",
       "  'alt': '0.5m',\n",
       "  'date': '20230816'},\n",
       " 'label': [],\n",
       " 'annotation': []}"
      ]
     },
     "execution_count": 19,
     "metadata": {},
     "output_type": "execute_result"
    }
   ],
   "source": [
    "dataJson[0]"
   ]
  },
  {
   "cell_type": "code",
   "execution_count": 20,
   "metadata": {},
   "outputs": [],
   "source": [
    "import boto3\n",
    "from decimal import Decimal\n",
    "# Get the service resource.\n",
    "dynamodb = boto3.resource('dynamodb', region_name='us-east-1')\n",
    "table = dynamodb.Table('dsnia_imagelabelsV2')\n",
    "# table = dynamodb.Table('dsnia_imagelabels')"
   ]
  },
  {
   "cell_type": "code",
   "execution_count": 21,
   "metadata": {},
   "outputs": [
    {
     "name": "stdout",
     "output_type": "stream",
     "text": [
      "9183\r"
     ]
    }
   ],
   "source": [
    "for index_, row_ in enumerate(dataJson):\n",
    "  newrow = {}\n",
    "  newrow ['id'] = row_['id']\n",
    "  newrow ['metadata'] = course_id+target_date+row_['info']['area']+row_['info']['desc']\n",
    "  newrow ['date'] = target_date\n",
    "  newrow ['area'] = row_['info']['area']\n",
    "  newrow ['desc'] = row_['info']['desc']\n",
    "  newrow ['json'] = json.loads(json.dumps(row_), parse_float=Decimal)\n",
    "  print(index_, end='\\r')\n",
    "  table.put_item(\n",
    "    Item= newrow\n",
    "  )"
   ]
  },
  {
   "cell_type": "code",
   "execution_count": 22,
   "metadata": {},
   "outputs": [
    {
     "data": {
      "text/plain": [
       "'20230816'"
      ]
     },
     "execution_count": 22,
     "metadata": {},
     "output_type": "execute_result"
    }
   ],
   "source": [
    "target_date"
   ]
  },
  {
   "cell_type": "code",
   "execution_count": 1,
   "metadata": {},
   "outputs": [
    {
     "ename": "NameError",
     "evalue": "name 'table' is not defined",
     "output_type": "error",
     "traceback": [
      "\u001b[1;31m---------------------------------------------------------------------------\u001b[0m",
      "\u001b[1;31mNameError\u001b[0m                                 Traceback (most recent call last)",
      "\u001b[1;32mc:\\Users\\yc463\\Documents\\JamesLocal\\DS\\Drone\\dsmapv2\\src\\AWS\\(S3) UploadPhotoDB.ipynb Cell 14\u001b[0m line \u001b[0;36m6\n\u001b[0;32m      <a href='vscode-notebook-cell:/c%3A/Users/yc463/Documents/JamesLocal/DS/Drone/dsmapv2/src/AWS/%28S3%29%20UploadPhotoDB.ipynb#X16sZmlsZQ%3D%3D?line=0'>1</a>\u001b[0m \u001b[39mfrom\u001b[39;00m \u001b[39mboto3\u001b[39;00m\u001b[39m.\u001b[39;00m\u001b[39mdynamodb\u001b[39;00m\u001b[39m.\u001b[39;00m\u001b[39mconditions\u001b[39;00m \u001b[39mimport\u001b[39;00m Key, Attr\n\u001b[0;32m      <a href='vscode-notebook-cell:/c%3A/Users/yc463/Documents/JamesLocal/DS/Drone/dsmapv2/src/AWS/%28S3%29%20UploadPhotoDB.ipynb#X16sZmlsZQ%3D%3D?line=1'>2</a>\u001b[0m \u001b[39mfrom\u001b[39;00m \u001b[39mbotocore\u001b[39;00m\u001b[39m.\u001b[39;00m\u001b[39mexceptions\u001b[39;00m \u001b[39mimport\u001b[39;00m ClientError\n\u001b[1;32m----> <a href='vscode-notebook-cell:/c%3A/Users/yc463/Documents/JamesLocal/DS/Drone/dsmapv2/src/AWS/%28S3%29%20UploadPhotoDB.ipynb#X16sZmlsZQ%3D%3D?line=5'>6</a>\u001b[0m response \u001b[39m=\u001b[39m table\u001b[39m.\u001b[39mscan()\n\u001b[0;32m      <a href='vscode-notebook-cell:/c%3A/Users/yc463/Documents/JamesLocal/DS/Drone/dsmapv2/src/AWS/%28S3%29%20UploadPhotoDB.ipynb#X16sZmlsZQ%3D%3D?line=6'>7</a>\u001b[0m data \u001b[39m=\u001b[39m response[\u001b[39m'\u001b[39m\u001b[39mItems\u001b[39m\u001b[39m'\u001b[39m]\n\u001b[0;32m      <a href='vscode-notebook-cell:/c%3A/Users/yc463/Documents/JamesLocal/DS/Drone/dsmapv2/src/AWS/%28S3%29%20UploadPhotoDB.ipynb#X16sZmlsZQ%3D%3D?line=8'>9</a>\u001b[0m \u001b[39mwhile\u001b[39;00m \u001b[39m'\u001b[39m\u001b[39mLastEvaluatedKey\u001b[39m\u001b[39m'\u001b[39m \u001b[39min\u001b[39;00m response:\n",
      "\u001b[1;31mNameError\u001b[0m: name 'table' is not defined"
     ]
    }
   ],
   "source": [
    "from boto3.dynamodb.conditions import Key, Attr\n",
    "from botocore.exceptions import ClientError\n",
    "\n",
    "\n",
    "\n",
    "response = table.scan()\n",
    "data = response['Items']\n",
    "\n",
    "while 'LastEvaluatedKey' in response:\n",
    "    response = table.scan(ExclusiveStartKey=response['LastEvaluatedKey'])\n",
    "    data.extend(response['Items'])"
   ]
  },
  {
   "cell_type": "code",
   "execution_count": 31,
   "metadata": {},
   "outputs": [
    {
     "data": {
      "text/plain": [
       "121"
      ]
     },
     "execution_count": 31,
     "metadata": {},
     "output_type": "execute_result"
    }
   ],
   "source": [
    "len(data)"
   ]
  },
  {
   "cell_type": "code",
   "execution_count": null,
   "metadata": {},
   "outputs": [],
   "source": []
  }
 ],
 "metadata": {
  "kernelspec": {
   "display_name": "Python 3.9.2 ('geo_James')",
   "language": "python",
   "name": "python3"
  },
  "language_info": {
   "codemirror_mode": {
    "name": "ipython",
    "version": 3
   },
   "file_extension": ".py",
   "mimetype": "text/x-python",
   "name": "python",
   "nbconvert_exporter": "python",
   "pygments_lexer": "ipython3",
   "version": "3.9.7"
  },
  "orig_nbformat": 4,
  "vscode": {
   "interpreter": {
    "hash": "af734be8ad55227f26227a3bb273225e8c732a9f6283c6f58fcb510615c38890"
   }
  }
 },
 "nbformat": 4,
 "nbformat_minor": 2
}
