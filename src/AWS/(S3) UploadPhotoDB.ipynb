{
 "cells": [
  {
   "cell_type": "code",
   "execution_count": 1,
   "metadata": {},
   "outputs": [],
   "source": [
    "import pandas as pd\n",
    "import re\n",
    "import os\n",
    "import numpy as np\n",
    "import glob\n",
    "from datetime import datetime\n",
    "import geopandas as gpd\n",
    "import json\n",
    "from shapely.geometry import shape, GeometryCollection\n",
    "from rasterio.plot import show\n",
    "import matplotlib.pyplot as plt\n",
    "from mpl_toolkits.mplot3d import Axes3D\n",
    "from matplotlib import cm\n",
    "from matplotlib import colors\n",
    "from utils import FeatureExtraction, feature_matching, decimal_coords\n",
    "from exif import Image as exifimg\n",
    "from PIL import Image\n",
    "\n",
    "import shutil\n",
    "import rasterio\n",
    "import cv2\n",
    "%matplotlib inline"
   ]
  },
  {
   "cell_type": "code",
   "execution_count": 2,
   "metadata": {},
   "outputs": [],
   "source": [
    "# 가능한 font list 확인\n",
    "import matplotlib.font_manager as fm\n",
    "f = [f.name for f in fm.fontManager.ttflist]\n",
    "# print(f)\n",
    "\n",
    "plt.rc('font', family='Malgun Gothic')"
   ]
  },
  {
   "cell_type": "code",
   "execution_count": 3,
   "metadata": {},
   "outputs": [],
   "source": [
    "img_folder = r'D:\\original'\n",
    "out_folder = r'D:\\ToAWS'\n",
    "\n",
    "course_list = ['청도','포항','중문']\n",
    "\n",
    "course_ids = {\n",
    "  '포항':'MGC001',\n",
    "  '청도':'MGC002',\n",
    "  '중문':'MGC003',\n",
    "}\n",
    "\n",
    "folder_type = ['rgb','ndvi','thumb']"
   ]
  },
  {
   "cell_type": "code",
   "execution_count": 4,
   "metadata": {},
   "outputs": [
    {
     "data": {
      "text/plain": [
       "['D:\\\\ToAWS\\\\MGC001\\\\20230811', 'D:\\\\ToAWS\\\\MGC002\\\\20230823']"
      ]
     },
     "execution_count": 4,
     "metadata": {},
     "output_type": "execute_result"
    }
   ],
   "source": [
    "target_folders = glob.glob(os.path.join(out_folder,'**/*'))\n",
    "target_folders"
   ]
  },
  {
   "cell_type": "code",
   "execution_count": 5,
   "metadata": {},
   "outputs": [],
   "source": [
    "target_folder = target_folders[0]"
   ]
  },
  {
   "cell_type": "code",
   "execution_count": 6,
   "metadata": {},
   "outputs": [
    {
     "data": {
      "text/plain": [
       "('MGC001', '20230811')"
      ]
     },
     "execution_count": 6,
     "metadata": {},
     "output_type": "execute_result"
    }
   ],
   "source": [
    "course_id = course_ids.get('포항')\n",
    "target_date = os.path.split(target_folder)[-1]\n",
    "course_id, target_date"
   ]
  },
  {
   "cell_type": "code",
   "execution_count": 7,
   "metadata": {},
   "outputs": [
    {
     "data": {
      "text/plain": [
       "'D:\\\\ToAWS\\\\MGC001\\\\20230811\\\\photo.json'"
      ]
     },
     "execution_count": 7,
     "metadata": {},
     "output_type": "execute_result"
    }
   ],
   "source": [
    "dataJson_ = glob.glob(os.path.join(out_folder,course_id,target_date,'**/photo*.json'), recursive=True)[0]\n",
    "dataJson_ "
   ]
  },
  {
   "cell_type": "code",
   "execution_count": 8,
   "metadata": {},
   "outputs": [],
   "source": [
    "with open(dataJson_, \"r\") as _json:\n",
    "  dataJson= json.load(_json)"
   ]
  },
  {
   "cell_type": "code",
   "execution_count": 9,
   "metadata": {},
   "outputs": [
    {
     "data": {
      "text/plain": [
       "7571"
      ]
     },
     "execution_count": 9,
     "metadata": {},
     "output_type": "execute_result"
    }
   ],
   "source": [
    "len(dataJson)"
   ]
  },
  {
   "cell_type": "code",
   "execution_count": 10,
   "metadata": {},
   "outputs": [
    {
     "data": {
      "text/plain": [
       "{'id': '20230811114038_1293386534167_362205185833_131509000',\n",
       " 'originalFileJPG': 'original\\\\2023_0811_포항CC_비온다음날_데이터 1차 분류_완\\\\동해 4H\\\\2023_0811_포항CC_동해 4H_1.5m\\\\20230811_1140-1147_물리적피해,과습피해,플레이어답압,토양병,페어리링\\\\DJI_20230811114038_0001_D.JPG',\n",
       " 'originalFileGrp': ['D:\\\\original\\\\2023_0811_포항CC_비온다음날_데이터 1차 분류_완\\\\동해 4H\\\\2023_0811_포항CC_동해 4H_1.5m\\\\20230811_1140-1147_물리적피해,과습피해,플레이어답압,토양병,페어리링\\\\DJI_20230811114038_0001_D.JPG',\n",
       "  'D:\\\\original\\\\2023_0811_포항CC_비온다음날_데이터 1차 분류_완\\\\동해 4H\\\\2023_0811_포항CC_동해 4H_1.5m\\\\20230811_1140-1147_물리적피해,과습피해,플레이어답압,토양병,페어리링\\\\DJI_20230811114038_0001_MS_G.TIF',\n",
       "  'D:\\\\original\\\\2023_0811_포항CC_비온다음날_데이터 1차 분류_완\\\\동해 4H\\\\2023_0811_포항CC_동해 4H_1.5m\\\\20230811_1140-1147_물리적피해,과습피해,플레이어답압,토양병,페어리링\\\\DJI_20230811114038_0001_MS_NIR.TIF',\n",
       "  'D:\\\\original\\\\2023_0811_포항CC_비온다음날_데이터 1차 분류_완\\\\동해 4H\\\\2023_0811_포항CC_동해 4H_1.5m\\\\20230811_1140-1147_물리적피해,과습피해,플레이어답압,토양병,페어리링\\\\DJI_20230811114038_0001_MS_R.TIF',\n",
       "  'D:\\\\original\\\\2023_0811_포항CC_비온다음날_데이터 1차 분류_완\\\\동해 4H\\\\2023_0811_포항CC_동해 4H_1.5m\\\\20230811_1140-1147_물리적피해,과습피해,플레이어답압,토양병,페어리링\\\\DJI_20230811114038_0001_MS_RE.TIF'],\n",
       " 'destFolder': '20230811/동해 4H/물리적피해,과습피해,플레이어답압,토양병,페어리링',\n",
       " 'GeoTagInfo': {'coords': [129.3386534166667, 36.22051858333334],\n",
       "  'datetime_original': '2023:08:11 11:40:38',\n",
       "  'gps_altitude': 131.509,\n",
       "  'gps_altitude_ref': 0},\n",
       " 'dest': {'rgb': 'MGC001\\\\20230811\\\\동해 4H\\\\물리적피해,과습피해,플레이어답압,토양병,페어리링\\\\rgb\\\\rgb20230811114038_1293386534167_362205185833_131509000.JPG',\n",
       "  'ndvi': 'MGC001\\\\20230811\\\\동해 4H\\\\물리적피해,과습피해,플레이어답압,토양병,페어리링\\\\ndvi\\\\ndvi20230811114038_1293386534167_362205185833_131509000.JPG',\n",
       "  'thumb': 'MGC001\\\\20230811\\\\동해 4H\\\\물리적피해,과습피해,플레이어답압,토양병,페어리링\\\\thumb\\\\thumbrgb20230811114038_1293386534167_362205185833_131509000.JPG'},\n",
       " 'info': {'course': '포항',\n",
       "  'area': '동해 4H',\n",
       "  'desc': '물리적피해,과습피해,플레이어답압,토양병,페어리링',\n",
       "  'alt': '1.5m',\n",
       "  'date': '20230811'},\n",
       " 'label': [],\n",
       " 'annotation': []}"
      ]
     },
     "execution_count": 10,
     "metadata": {},
     "output_type": "execute_result"
    }
   ],
   "source": [
    "dataJson[0]"
   ]
  },
  {
   "cell_type": "code",
   "execution_count": 11,
   "metadata": {},
   "outputs": [],
   "source": [
    "import boto3\n",
    "from decimal import Decimal\n",
    "# Get the service resource.\n",
    "dynamodb = boto3.resource('dynamodb', region_name='us-east-1')\n",
    "table = dynamodb.Table('dsnia_imagelabelsV2')\n",
    "# table = dynamodb.Table('dsnia_imagelabels')"
   ]
  },
  {
   "cell_type": "code",
   "execution_count": 22,
   "metadata": {},
   "outputs": [
    {
     "name": "stdout",
     "output_type": "stream",
     "text": [
      "7570\r"
     ]
    }
   ],
   "source": [
    "for index_, row_ in enumerate(dataJson):\n",
    "  newrow = {}\n",
    "  newrow ['id'] = row_['id']\n",
    "  newrow ['metadata'] = course_id+target_date+row_['info']['area']+row_['info']['desc']\n",
    "  newrow ['date'] = target_date\n",
    "  newrow ['area'] = row_['info']['area']\n",
    "  newrow ['desc'] = row_['info']['desc']\n",
    "  newrow ['json'] = json.loads(json.dumps(row_), parse_float=Decimal)\n",
    "  print(index_, end='\\r')\n",
    "  table.put_item(\n",
    "    Item= newrow\n",
    "  )"
   ]
  },
  {
   "cell_type": "code",
   "execution_count": 14,
   "metadata": {},
   "outputs": [
    {
     "data": {
      "text/plain": [
       "'20230811'"
      ]
     },
     "execution_count": 14,
     "metadata": {},
     "output_type": "execute_result"
    }
   ],
   "source": [
    "target_date"
   ]
  },
  {
   "cell_type": "code",
   "execution_count": 30,
   "metadata": {},
   "outputs": [],
   "source": [
    "from boto3.dynamodb.conditions import Key, Attr\n",
    "from botocore.exceptions import ClientError\n",
    "\n",
    "\n",
    "\n",
    "response = table.scan()\n",
    "data = response['Items']\n",
    "\n",
    "while 'LastEvaluatedKey' in response:\n",
    "    response = table.scan(ExclusiveStartKey=response['LastEvaluatedKey'])\n",
    "    data.extend(response['Items'])"
   ]
  },
  {
   "cell_type": "code",
   "execution_count": 31,
   "metadata": {},
   "outputs": [
    {
     "data": {
      "text/plain": [
       "121"
      ]
     },
     "execution_count": 31,
     "metadata": {},
     "output_type": "execute_result"
    }
   ],
   "source": [
    "len(data)"
   ]
  },
  {
   "cell_type": "code",
   "execution_count": null,
   "metadata": {},
   "outputs": [],
   "source": []
  }
 ],
 "metadata": {
  "kernelspec": {
   "display_name": "Python 3.9.2 ('geo_James')",
   "language": "python",
   "name": "python3"
  },
  "language_info": {
   "codemirror_mode": {
    "name": "ipython",
    "version": 3
   },
   "file_extension": ".py",
   "mimetype": "text/x-python",
   "name": "python",
   "nbconvert_exporter": "python",
   "pygments_lexer": "ipython3",
   "version": "3.9.7"
  },
  "orig_nbformat": 4,
  "vscode": {
   "interpreter": {
    "hash": "af734be8ad55227f26227a3bb273225e8c732a9f6283c6f58fcb510615c38890"
   }
  }
 },
 "nbformat": 4,
 "nbformat_minor": 2
}
