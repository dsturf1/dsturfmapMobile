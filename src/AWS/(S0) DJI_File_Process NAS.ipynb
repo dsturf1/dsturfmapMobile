{
 "cells": [
  {
   "cell_type": "code",
   "execution_count": 1,
   "metadata": {},
   "outputs": [],
   "source": [
    "import pandas as pd\n",
    "import re\n",
    "import os\n",
    "import numpy as np\n",
    "import glob\n",
    "from datetime import datetime\n",
    "import geopandas as gpd\n",
    "import json\n",
    "from shapely.geometry import shape, GeometryCollection\n",
    "from rasterio.plot import show\n",
    "import matplotlib.pyplot as plt\n",
    "from mpl_toolkits.mplot3d import Axes3D\n",
    "from matplotlib import cm\n",
    "from matplotlib import colors\n",
    "from utils import FeatureExtraction, feature_matching, decimal_coords\n",
    "from exif import Image as exifimg\n",
    "from PIL import Image\n",
    "\n",
    "import shutil\n",
    "import rasterio\n",
    "import cv2\n",
    "%matplotlib inline"
   ]
  },
  {
   "cell_type": "code",
   "execution_count": 2,
   "metadata": {},
   "outputs": [],
   "source": [
    "# 가능한 font list 확인\n",
    "import matplotlib.font_manager as fm\n",
    "f = [f.name for f in fm.fontManager.ttflist]\n",
    "# print(f)\n",
    "\n",
    "plt.rc('font', family='Malgun Gothic')"
   ]
  },
  {
   "cell_type": "code",
   "execution_count": 3,
   "metadata": {},
   "outputs": [],
   "source": [
    "def getInfo(filesGrp, img_path):\n",
    "\n",
    "  dslabel = {\n",
    "    \"id\":\"\",\n",
    "    \"originalFileJPG\":\"\",\n",
    "    \"originalFileGrp\":[],\n",
    "    \"destFolder\":\"\",\n",
    "    \"GeoTagInfo\":{\n",
    "      \"coords\":[],\n",
    "      \"datetime_original\":\"\",\n",
    "      \"gps_altitude\":0,\n",
    "      \"gps_altitude_ref\":\"\"    \n",
    "    },\n",
    "    \"dest\":{\n",
    "      \"rgb\":\"\",\n",
    "      \"ndvi\":\"\",\n",
    "      \"thumb\":\"\",\n",
    "    },\n",
    "    \"info\":{\n",
    "      \"course\":\"\",\n",
    "      \"area\":\"\",\n",
    "      \"desc\":\"\",\n",
    "      \"alt\":\"\"\n",
    "    },\n",
    "    \"label\":[],\n",
    "    \"annotation\":[]\n",
    "  }\n",
    "\n",
    "# Remove Drive letter with root path\n",
    "  dslabel['originalFileJPG'] = img_path[3:]\n",
    "  dslabel['originalFileGrp'] = [x[3:] for x in filesGrp  if ('.JPG' not in x)]\n",
    "\n",
    "  with open(img_path, 'rb') as src:\n",
    "    img = exifimg(src)\n",
    "\n",
    "  coords = [\n",
    "    decimal_coords(img.gps_longitude,\n",
    "    img.gps_longitude_ref),\n",
    "      decimal_coords(img.gps_latitude,\n",
    "    img.gps_latitude_ref)\n",
    "  ]\n",
    "\n",
    "  dslabel['id'] = img.datetime_original.replace(\" \",\"\").replace(\":\",\"\") + \"_{:.10f}\".format(coords[0]).replace(\".\",\"\") + \"_{:.10f}\".format(coords[1]).replace(\".\",\"\") + \"_{:f}\".format(img.gps_altitude).replace(\".\",\"\")\n",
    "  dslabel['GeoTagInfo']['coords'] = coords\n",
    "  dslabel['GeoTagInfo']['datetime_original'] = img.datetime_original\n",
    "  dslabel['GeoTagInfo']['gps_altitude'] = img.gps_altitude\n",
    "  dslabel['GeoTagInfo']['gps_altitude_ref'] = img.gps_altitude_ref\n",
    "  \n",
    "  return dslabel"
   ]
  },
  {
   "cell_type": "code",
   "execution_count": 4,
   "metadata": {},
   "outputs": [],
   "source": [
    "def getNDVIimg(filesGrp):\n",
    "\n",
    "\n",
    "  with rasterio.open([ x for x in filesGrp if ('_MS_R' in x) ][0]) as src:\n",
    "      band_red = src.read(1).astype(float)/65536.\n",
    "\n",
    "  with rasterio.open([ x for x in filesGrp if ('_MS_NIR' in x) ][0]) as src:\n",
    "      band_nir = src.read(1).astype(float)/65536.\n",
    "\n",
    "  np.seterr(divide='ignore', invalid='ignore')\n",
    "\n",
    "  # Calculate NDVI\n",
    "  ndvi = (band_nir.astype(float) - band_red.astype(float)) / (band_nir.astype(float) + band_red.astype(float))\n",
    "\n",
    "  ndvi -= ndvi.min() # ensure the minimal value is 0.0\n",
    "  ndvi /= ndvi.max() # maximum value in image is now 1.0\n",
    "\n",
    "  cm = plt.cm.get_cmap('RdYlGn')\n",
    "  ndvi_cm = cm(ndvi)\n",
    "\n",
    "  ndvi_img = cv2.normalize(ndvi_cm[:,:,:3], None, alpha = 0, beta = 255, norm_type = cv2.NORM_MINMAX, dtype = cv2.CV_32F).astype(np.uint8)\n",
    "\n",
    "  return ndvi_img"
   ]
  },
  {
   "cell_type": "code",
   "execution_count": 5,
   "metadata": {},
   "outputs": [],
   "source": [
    "def getalignedRGB(filesGrp_, ndvi_img):\n",
    "  RGBimg = np.asarray(Image.open([x for x in filesGrp_ if 'JPG' in x][0]))\n",
    "\n",
    "  # RGBimg = np.asarray(Image.open(filesGrp_[0]).resize((ndvi_img.shape[1],ndvi_img.shape[0])))\n",
    "  # features0 = FeatureExtraction(RGBimg)\n",
    "  # features1 = FeatureExtraction(ndvi_img)\n",
    "\n",
    "  # matches = feature_matching(features0, features1)\n",
    "\n",
    "  # print('{} number of matched has been found! in {}'.format(len(matches), filesGrp_[0]))\n",
    "\n",
    "  # if len(matches) < 10:\n",
    "  #    raise Exception(\"Not Enough Matches\")\n",
    "\n",
    "  # H, _ = cv2.findHomography( features0.matched_pts, features1.matched_pts, cv2.RANSAC, 5.0)\n",
    "\n",
    "  H = np.array([[ 5.93209530e-01, -8.35074813e-03, -2.21474434e+02],\n",
    "       [ 1.32198817e-02,  5.96460559e-01, -2.01042419e+02],\n",
    "       [ 1.58520522e-06,  1.69424781e-06,  1.00000000e+00]])\n",
    "\n",
    "  h, w, c = ndvi_img.shape\n",
    "  RGBimg_tuned = cv2.warpPerspective(RGBimg, H, (w, h), borderMode=cv2.BORDER_CONSTANT, borderValue=(0, 0, 0, 0))\n",
    "\n",
    "  return RGBimg_tuned "
   ]
  },
  {
   "cell_type": "code",
   "execution_count": 6,
   "metadata": {},
   "outputs": [],
   "source": [
    "img_folder = r'N:\\NIA_2023_52_잔디\\10_원시데이터(3사_분류대상)'\n",
    "out_folder = r'D:\\ToAWS'\n",
    "\n",
    "course_list = ['청도','포항','중문','시흥']\n",
    "\n",
    "course_ids = {\n",
    "  '포항':'MGC001',\n",
    "  '청도':'MGC002',\n",
    "  '중문':'MGC003',\n",
    "  '시흥':'MGC004'\n",
    "}\n",
    "\n",
    "folder_type = ['rgb','ndvi','thumb']"
   ]
  },
  {
   "cell_type": "code",
   "execution_count": 7,
   "metadata": {},
   "outputs": [
    {
     "data": {
      "text/plain": [
       "'MGC004'"
      ]
     },
     "execution_count": 7,
     "metadata": {},
     "output_type": "execute_result"
    }
   ],
   "source": [
    "course_id = course_ids.get('시흥')\n",
    "course_id"
   ]
  },
  {
   "cell_type": "code",
   "execution_count": 8,
   "metadata": {},
   "outputs": [
    {
     "data": {
      "text/plain": [
       "['N:\\\\NIA_2023_52_잔디\\\\10_원시데이터(3사_분류대상)\\\\2023_0807_시흥 아세코밸리_맑음_데이터 1차 분류본_완',\n",
       " 'N:\\\\NIA_2023_52_잔디\\\\10_원시데이터(3사_분류대상)\\\\2023_0809_클럽디 거창_구름많은날_데이터 1차 분류_완',\n",
       " 'N:\\\\NIA_2023_52_잔디\\\\10_원시데이터(3사_분류대상)\\\\2023_0811_포항CC_비온다음날_데이터 1차 분류',\n",
       " 'N:\\\\NIA_2023_52_잔디\\\\10_원시데이터(3사_분류대상)\\\\2023_0815_시흥 아세코밸리_맑음_데이터 1차 분류본_완',\n",
       " 'N:\\\\NIA_2023_52_잔디\\\\10_원시데이터(3사_분류대상)\\\\2023_0816_포항CC_오전맑음오후구름가득_데이터 1차 분류본',\n",
       " 'N:\\\\NIA_2023_52_잔디\\\\10_원시데이터(3사_분류대상)\\\\2023_0817_거창클럽디_오전구름많이오후구름반햇빛반_데이터 1차 분류본_완',\n",
       " 'N:\\\\NIA_2023_52_잔디\\\\10_원시데이터(3사_분류대상)\\\\2023_0822_시흥아세코밸리_비온직후맑은날_데이터 1차 분류본_완',\n",
       " 'N:\\\\NIA_2023_52_잔디\\\\10_원시데이터(3사_분류대상)\\\\2023_0823_청도그레이스_맑고뭉게구름_데이터 1차 분류본_완',\n",
       " 'N:\\\\NIA_2023_52_잔디\\\\10_원시데이터(3사_분류대상)\\\\2023_0825_클럽디속리산_맑고뭉게구름_데이터1차분류_M3M_완',\n",
       " 'N:\\\\NIA_2023_52_잔디\\\\10_원시데이터(3사_분류대상)\\\\2023_0826_춘천오너스_맑고구름조금미세먼지_데이터 1차 분류_완',\n",
       " 'N:\\\\NIA_2023_52_잔디\\\\10_원시데이터(3사_분류대상)\\\\2023_0902_시흥아세코밸리_맑은날_구름조금_데이터 1차 분류_완',\n",
       " 'N:\\\\NIA_2023_52_잔디\\\\10_원시데이터(3사_분류대상)\\\\2023_0911_클럽디속리산-데이터1차분류_완',\n",
       " 'N:\\\\NIA_2023_52_잔디\\\\10_원시데이터(3사_분류대상)\\\\2023_0912_시흥아세코밸리_구름많음_1차분류완료',\n",
       " 'N:\\\\NIA_2023_52_잔디\\\\10_원시데이터(3사_분류대상)\\\\잔디농장']"
      ]
     },
     "execution_count": 8,
     "metadata": {},
     "output_type": "execute_result"
    }
   ],
   "source": [
    "img_folders_candidate =glob.glob(os.path.join(img_folder,'*'))\n",
    "img_folders_candidate"
   ]
  },
  {
   "cell_type": "code",
   "execution_count": 9,
   "metadata": {},
   "outputs": [
    {
     "data": {
      "text/plain": [
       "'N:\\\\NIA_2023_52_잔디\\\\10_원시데이터(3사_분류대상)\\\\2023_0807_시흥 아세코밸리_맑음_데이터 1차 분류본_완'"
      ]
     },
     "execution_count": 9,
     "metadata": {},
     "output_type": "execute_result"
    }
   ],
   "source": [
    "img_folder = img_folders_candidate[0]\n",
    "img_folder"
   ]
  },
  {
   "cell_type": "code",
   "execution_count": 10,
   "metadata": {},
   "outputs": [
    {
     "data": {
      "text/plain": [
       "4054"
      ]
     },
     "execution_count": 10,
     "metadata": {},
     "output_type": "execute_result"
    }
   ],
   "source": [
    "files = glob.glob(os.path.join(img_folder,'**/DJI_*.JPG'), recursive=True)\n",
    "\n",
    "len(files)"
   ]
  },
  {
   "cell_type": "code",
   "execution_count": 11,
   "metadata": {},
   "outputs": [],
   "source": [
    "original_folder = []\n",
    "\n",
    "for file_ in files:\n",
    "  path_ = os.path.normpath(file_)\n",
    "  paths_ = path_.split(os.sep)\n",
    "  path_ = (os.sep).join(paths_[0:5])\n",
    "\n",
    "  if path_ not in original_folder:\n",
    "    original_folder.append(path_)"
   ]
  },
  {
   "cell_type": "code",
   "execution_count": 12,
   "metadata": {},
   "outputs": [
    {
     "data": {
      "text/plain": [
       "['N:\\\\NIA_2023_52_잔디\\\\10_원시데이터(3사_분류대상)\\\\2023_0807_시흥 아세코밸리_맑음_데이터 1차 분류본_완\\\\아세코밸리_1H',\n",
       " 'N:\\\\NIA_2023_52_잔디\\\\10_원시데이터(3사_분류대상)\\\\2023_0807_시흥 아세코밸리_맑음_데이터 1차 분류본_완\\\\아세코밸리_5H',\n",
       " 'N:\\\\NIA_2023_52_잔디\\\\10_원시데이터(3사_분류대상)\\\\2023_0807_시흥 아세코밸리_맑음_데이터 1차 분류본_완\\\\아세코밸리_8H',\n",
       " 'N:\\\\NIA_2023_52_잔디\\\\10_원시데이터(3사_분류대상)\\\\2023_0807_시흥 아세코밸리_맑음_데이터 1차 분류본_완\\\\아세코밸리_9H']"
      ]
     },
     "execution_count": 12,
     "metadata": {},
     "output_type": "execute_result"
    }
   ],
   "source": [
    "original_folder"
   ]
  },
  {
   "cell_type": "code",
   "execution_count": 13,
   "metadata": {},
   "outputs": [
    {
     "data": {
      "text/plain": [
       "473"
      ]
     },
     "execution_count": 13,
     "metadata": {},
     "output_type": "execute_result"
    }
   ],
   "source": [
    "target_files = glob.glob(os.path.join(original_folder[0],'**/DJI_*.JPG'), recursive=True)\n",
    "len(target_files)"
   ]
  },
  {
   "cell_type": "code",
   "execution_count": 14,
   "metadata": {},
   "outputs": [
    {
     "data": {
      "text/plain": [
       "'N:\\\\NIA_2023_52_잔디\\\\10_원시데이터(3사_분류대상)\\\\2023_0807_시흥 아세코밸리_맑음_데이터 1차 분류본_완\\\\아세코밸리_9H\\\\2023_0807_시흥 아세코밸리_9H_1.5m\\\\20230807_1626-1632_병해,패취류,라지패취\\\\DJI_20230807163226_0335_D.JPG'"
      ]
     },
     "execution_count": 14,
     "metadata": {},
     "output_type": "execute_result"
    }
   ],
   "source": [
    "file_"
   ]
  },
  {
   "cell_type": "code",
   "execution_count": 17,
   "metadata": {},
   "outputs": [
    {
     "data": {
      "text/plain": [
       "['N:',\n",
       " 'NIA_2023_52_잔디',\n",
       " '10_원시데이터(3사_분류대상)',\n",
       " '2023_0807_시흥 아세코밸리_맑음_데이터 1차 분류본_완',\n",
       " '아세코밸리_9H',\n",
       " '2023_0807_시흥 아세코밸리_9H_1.5m',\n",
       " '20230807_1626-1632_병해,패취류,라지패취',\n",
       " 'DJI_20230807163226_0335_D.JPG']"
      ]
     },
     "execution_count": 17,
     "metadata": {},
     "output_type": "execute_result"
    }
   ],
   "source": [
    "path = os.path.normpath(file_)\n",
    "info = path.split(os.sep)\n",
    "\n",
    "info"
   ]
  },
  {
   "cell_type": "code",
   "execution_count": 18,
   "metadata": {},
   "outputs": [
    {
     "name": "stderr",
     "output_type": "stream",
     "text": [
      "c:\\anaconda3\\envs\\geo_James\\lib\\site-packages\\rasterio\\__init__.py:220: NotGeoreferencedWarning: Dataset has no geotransform, gcps, or rpcs. The identity matrix be returned.\n",
      "  s = DatasetReader(path, driver=driver, sharing=sharing, **kwargs)\n",
      "C:\\Users\\yc463\\AppData\\Local\\Temp\\ipykernel_32228\\891679340.py:18: MatplotlibDeprecationWarning: The get_cmap function was deprecated in Matplotlib 3.7 and will be removed two minor releases later. Use ``matplotlib.colormaps[name]`` or ``matplotlib.colormaps.get_cmap(obj)`` instead.\n",
      "  cm = plt.cm.get_cmap('RdYlGn')\n"
     ]
    },
    {
     "name": "stdout",
     "output_type": "stream",
     "text": [
      "D:\\ToAWS\\MGC004\\20230807\\아세코밸리_1H\\미기재_0\\thumb\\thumbrgb20230807111526_1267705616389_373680895556_56142000.JPG\n",
      "0 out of 473 files Completed\n"
     ]
    },
    {
     "name": "stderr",
     "output_type": "stream",
     "text": [
      "C:\\Users\\yc463\\AppData\\Local\\Temp\\ipykernel_32228\\1506130912.py:2: DeprecationWarning: An exception was ignored while fetching the attribute `__array_interface__` from an object of type 'MpoImageFile'.  With the exception of `AttributeError` NumPy will always raise this exception in the future.  Raise this deprecation warning to see the original exception. (Warning added NumPy 1.21)\n",
      "  RGBimg = np.asarray(Image.open([x for x in filesGrp_ if 'JPG' in x][0]))\n"
     ]
    },
    {
     "ename": "error",
     "evalue": "OpenCV(4.6.0) :-1: error: (-5:Bad argument) in function 'warpPerspective'\n> Overload resolution failed:\n>  - src data type = 17 is not supported\n>  - Expected Ptr<cv::UMat> for argument 'src'\n",
     "output_type": "error",
     "traceback": [
      "\u001b[1;31m---------------------------------------------------------------------------\u001b[0m",
      "\u001b[1;31merror\u001b[0m                                     Traceback (most recent call last)",
      "\u001b[1;32mc:\\Users\\yc463\\Documents\\JamesLocal\\DS\\Drone\\dsmapv2\\src\\AWS\\(S0) DJI_File_Process NAS.ipynb Cell 16\u001b[0m line \u001b[0;36m5\n\u001b[0;32m     <a href='vscode-notebook-cell:/c%3A/Users/yc463/Documents/JamesLocal/DS/Drone/dsmapv2/src/AWS/%28S0%29%20DJI_File_Process%20NAS.ipynb#X16sZmlsZQ%3D%3D?line=55'>56</a>\u001b[0m \u001b[39m# try:\u001b[39;00m\n\u001b[0;32m     <a href='vscode-notebook-cell:/c%3A/Users/yc463/Documents/JamesLocal/DS/Drone/dsmapv2/src/AWS/%28S0%29%20DJI_File_Process%20NAS.ipynb#X16sZmlsZQ%3D%3D?line=56'>57</a>\u001b[0m ndvi_img \u001b[39m=\u001b[39m getNDVIimg(filesGrp)\n\u001b[1;32m---> <a href='vscode-notebook-cell:/c%3A/Users/yc463/Documents/JamesLocal/DS/Drone/dsmapv2/src/AWS/%28S0%29%20DJI_File_Process%20NAS.ipynb#X16sZmlsZQ%3D%3D?line=57'>58</a>\u001b[0m rgb_img \u001b[39m=\u001b[39m getalignedRGB(filesGrp, ndvi_img)\n\u001b[0;32m     <a href='vscode-notebook-cell:/c%3A/Users/yc463/Documents/JamesLocal/DS/Drone/dsmapv2/src/AWS/%28S0%29%20DJI_File_Process%20NAS.ipynb#X16sZmlsZQ%3D%3D?line=58'>59</a>\u001b[0m resized_ndvi \u001b[39m=\u001b[39m cv2\u001b[39m.\u001b[39mresize(ndvi_img, dsize\u001b[39m=\u001b[39m(\u001b[39m648\u001b[39m,\u001b[39m486\u001b[39m), interpolation\u001b[39m=\u001b[39mcv2\u001b[39m.\u001b[39mINTER_CUBIC)\n\u001b[0;32m     <a href='vscode-notebook-cell:/c%3A/Users/yc463/Documents/JamesLocal/DS/Drone/dsmapv2/src/AWS/%28S0%29%20DJI_File_Process%20NAS.ipynb#X16sZmlsZQ%3D%3D?line=59'>60</a>\u001b[0m save_name \u001b[39m=\u001b[39m os\u001b[39m.\u001b[39mpath\u001b[39m.\u001b[39mjoin(out_folder,course_id,target_date,area,desc,\u001b[39m'\u001b[39m\u001b[39mndvi\u001b[39m\u001b[39m'\u001b[39m,\u001b[39m'\u001b[39m\u001b[39mndvi\u001b[39m\u001b[39m{}\u001b[39;00m\u001b[39m.JPG\u001b[39m\u001b[39m'\u001b[39m\u001b[39m.\u001b[39mformat( file_info[\u001b[39m'\u001b[39m\u001b[39mid\u001b[39m\u001b[39m'\u001b[39m]) )\n",
      "\u001b[1;32mc:\\Users\\yc463\\Documents\\JamesLocal\\DS\\Drone\\dsmapv2\\src\\AWS\\(S0) DJI_File_Process NAS.ipynb Cell 16\u001b[0m line \u001b[0;36m2\n\u001b[0;32m     <a href='vscode-notebook-cell:/c%3A/Users/yc463/Documents/JamesLocal/DS/Drone/dsmapv2/src/AWS/%28S0%29%20DJI_File_Process%20NAS.ipynb#X16sZmlsZQ%3D%3D?line=16'>17</a>\u001b[0m H \u001b[39m=\u001b[39m np\u001b[39m.\u001b[39marray([[ \u001b[39m5.93209530e-01\u001b[39m, \u001b[39m-\u001b[39m\u001b[39m8.35074813e-03\u001b[39m, \u001b[39m-\u001b[39m\u001b[39m2.21474434e+02\u001b[39m],\n\u001b[0;32m     <a href='vscode-notebook-cell:/c%3A/Users/yc463/Documents/JamesLocal/DS/Drone/dsmapv2/src/AWS/%28S0%29%20DJI_File_Process%20NAS.ipynb#X16sZmlsZQ%3D%3D?line=17'>18</a>\u001b[0m      [ \u001b[39m1.32198817e-02\u001b[39m,  \u001b[39m5.96460559e-01\u001b[39m, \u001b[39m-\u001b[39m\u001b[39m2.01042419e+02\u001b[39m],\n\u001b[0;32m     <a href='vscode-notebook-cell:/c%3A/Users/yc463/Documents/JamesLocal/DS/Drone/dsmapv2/src/AWS/%28S0%29%20DJI_File_Process%20NAS.ipynb#X16sZmlsZQ%3D%3D?line=18'>19</a>\u001b[0m      [ \u001b[39m1.58520522e-06\u001b[39m,  \u001b[39m1.69424781e-06\u001b[39m,  \u001b[39m1.00000000e+00\u001b[39m]])\n\u001b[0;32m     <a href='vscode-notebook-cell:/c%3A/Users/yc463/Documents/JamesLocal/DS/Drone/dsmapv2/src/AWS/%28S0%29%20DJI_File_Process%20NAS.ipynb#X16sZmlsZQ%3D%3D?line=20'>21</a>\u001b[0m h, w, c \u001b[39m=\u001b[39m ndvi_img\u001b[39m.\u001b[39mshape\n\u001b[1;32m---> <a href='vscode-notebook-cell:/c%3A/Users/yc463/Documents/JamesLocal/DS/Drone/dsmapv2/src/AWS/%28S0%29%20DJI_File_Process%20NAS.ipynb#X16sZmlsZQ%3D%3D?line=21'>22</a>\u001b[0m RGBimg_tuned \u001b[39m=\u001b[39m cv2\u001b[39m.\u001b[39;49mwarpPerspective(RGBimg, H, (w, h), borderMode\u001b[39m=\u001b[39;49mcv2\u001b[39m.\u001b[39;49mBORDER_CONSTANT, borderValue\u001b[39m=\u001b[39;49m(\u001b[39m0\u001b[39;49m, \u001b[39m0\u001b[39;49m, \u001b[39m0\u001b[39;49m, \u001b[39m0\u001b[39;49m))\n\u001b[0;32m     <a href='vscode-notebook-cell:/c%3A/Users/yc463/Documents/JamesLocal/DS/Drone/dsmapv2/src/AWS/%28S0%29%20DJI_File_Process%20NAS.ipynb#X16sZmlsZQ%3D%3D?line=23'>24</a>\u001b[0m \u001b[39mreturn\u001b[39;00m RGBimg_tuned\n",
      "\u001b[1;31merror\u001b[0m: OpenCV(4.6.0) :-1: error: (-5:Bad argument) in function 'warpPerspective'\n> Overload resolution failed:\n>  - src data type = 17 is not supported\n>  - Expected Ptr<cv::UMat> for argument 'src'\n"
     ]
    }
   ],
   "source": [
    "\n",
    "InfoJsonArray = []\n",
    "target_folder = []\n",
    "\n",
    "for idx, file_ in enumerate(target_files):\n",
    "\n",
    "  course = list(filter(lambda y: y in file_, course_list))[0]\n",
    "  target_date = os.path.split(file_)[-1].split('_')[1][:8]\n",
    "  path = os.path.normpath(file_)\n",
    "  info = path.split(os.sep)\n",
    "\n",
    "  area = info[4]\n",
    "  \n",
    "  if len(info[6].split('_')) ==3 :\n",
    "    desc = info[6].split('_')[-1] + '_0'\n",
    "  else:\n",
    "    desc = \"미기재\" + '_0'\n",
    "\n",
    "  target_path = ('/').join([target_date,area,desc])\n",
    "\n",
    "  while target_folder.count(target_path)>500:\n",
    "    desc = desc.split('_')[0] + '_'+str(int(desc.split('_')[-1]) + 1)\n",
    "    target_path = ('/').join([target_date,area,desc])\n",
    "\n",
    "  target_folder.append(target_path)\n",
    "\n",
    "  alt =  info[5].split('_')[-1]\n",
    "\n",
    "\n",
    "  filesGrp = glob.glob(os.path.join(os.path.split(file_)[0],(os.path.split(file_)[1].split('_')[0]+'_'+ os.path.split(file_)[1].split('_')[1][:-3]+\"***_\" + os.path.split(file_)[1].split('_')[2]) + '*'), recursive=True)\n",
    "  # print(filesGrp)\n",
    "  file_info = getInfo(filesGrp, file_)\n",
    "\n",
    "  file_info['info']['course'] = course\n",
    "  file_info['info']['area'] = area\n",
    "  file_info['info']['alt'] = alt\n",
    "  file_info['info']['desc'] = desc\n",
    "  file_info['info']['date'] = target_date\n",
    "  file_info['destFolder'] = target_path\n",
    "\n",
    "  path_ = os.path.join(out_folder,course_id,target_date,area,desc,'rgb')\n",
    "\n",
    "  if not os.path.exists(path_):\n",
    "    os.makedirs(path_)\n",
    "\n",
    "  path_ = os.path.join(out_folder,course_id,target_date,area,desc,'ndvi')\n",
    "\n",
    "  if not os.path.exists(path_):\n",
    "    os.makedirs(path_)\n",
    "\n",
    "  path_ = os.path.join(out_folder,course_id,target_date,area,desc,'thumb')\n",
    "\n",
    "  if not os.path.exists(path_):\n",
    "    os.makedirs(path_)\n",
    "\n",
    "\n",
    "  # try:\n",
    "  ndvi_img = getNDVIimg(filesGrp)\n",
    "  rgb_img = getalignedRGB(filesGrp, ndvi_img)\n",
    "  resized_ndvi = cv2.resize(ndvi_img, dsize=(648,486), interpolation=cv2.INTER_CUBIC)\n",
    "  save_name = os.path.join(out_folder,course_id,target_date,area,desc,'ndvi','ndvi{}.JPG'.format( file_info['id']) )\n",
    "  im = Image.fromarray(resized_ndvi)\n",
    "  im.save(save_name)\n",
    "  file_info['dest']['ndvi'] = save_name[9:]\n",
    "\n",
    "  resized_rgb = cv2.resize(rgb_img , dsize=(2592,1944), interpolation=cv2.INTER_CUBIC)\n",
    "  save_name = os.path.join(out_folder,course_id,target_date,area,desc,'rgb','rgb{}.JPG'.format( file_info['id']) )\n",
    "  im = Image.fromarray(resized_rgb)\n",
    "  im.save(save_name)\n",
    "  file_info['dest']['rgb'] = save_name[9:]\n",
    "\n",
    "\n",
    "  thumb_rgb = cv2.resize(rgb_img , dsize=(324,243), interpolation=cv2.INTER_CUBIC)\n",
    "  save_name = os.path.join(out_folder,course_id,target_date,area,desc,'thumb','thumbrgb{}.JPG'.format( file_info['id']) )\n",
    "  im = Image.fromarray(thumb_rgb)\n",
    "  im.save(save_name)\n",
    "  file_info['dest']['thumb'] = save_name[9:]\n",
    "\n",
    "  InfoJsonArray.append( file_info)\n",
    "  \n",
    "  print(save_name)\n",
    "\n",
    "  print('{} out of {} files Completed'.format(idx, len(target_files)))\n",
    "\n",
    "save_name = os.path.join(out_folder,course_id,target_date,area, 'data'+target_date+area+'.json')\n",
    "with open(save_name, \"w\", encoding='utf-8') as final:\n",
    "   json.dump(InfoJsonArray, final , ensure_ascii=False)\n",
    "\n",
    "\n",
    "  "
   ]
  },
  {
   "cell_type": "code",
   "execution_count": null,
   "metadata": {},
   "outputs": [],
   "source": []
  },
  {
   "cell_type": "markdown",
   "metadata": {},
   "source": [
    "Gather all data json files from Output Folder"
   ]
  },
  {
   "cell_type": "code",
   "execution_count": 27,
   "metadata": {},
   "outputs": [
    {
     "data": {
      "text/plain": [
       "['D:\\\\ToAWS\\\\MGC001\\\\20230816\\\\1.태백3H\\\\data202308161.태백3H.json',\n",
       " 'D:\\\\ToAWS\\\\MGC001\\\\20230816\\\\2.태백5H\\\\data202308162.태백5H.json',\n",
       " 'D:\\\\ToAWS\\\\MGC001\\\\20230816\\\\3.동해1H\\\\data202308163.동해1H.json',\n",
       " 'D:\\\\ToAWS\\\\MGC001\\\\20230816\\\\4.동해2H\\\\data202308164.동해2H.json',\n",
       " 'D:\\\\ToAWS\\\\MGC001\\\\20230816\\\\5.동해3H\\\\data202308165.동해3H.json',\n",
       " 'D:\\\\ToAWS\\\\MGC001\\\\20230816\\\\6.태백1H\\\\data202308166.태백1H.json']"
      ]
     },
     "execution_count": 27,
     "metadata": {},
     "output_type": "execute_result"
    }
   ],
   "source": [
    "dataJsonList = glob.glob(os.path.join(out_folder,course_id,target_date,'**/data*.json'), recursive=True)\n",
    "dataJsonList"
   ]
  },
  {
   "cell_type": "code",
   "execution_count": 28,
   "metadata": {},
   "outputs": [],
   "source": [
    "folderinDataJson = []\n",
    "totalPhotoJson = []\n",
    "\n",
    "for dataJson_ in dataJsonList:\n",
    "  with open(dataJson_, \"r\") as _json:\n",
    "    dataJson= json.load(_json)\n",
    "  \n",
    "  totalPhotoJson.extend(dataJson)\n",
    "\n",
    "  for Json_ in dataJson:\n",
    "    if Json_['destFolder'] not in folderinDataJson:\n",
    "      folderinDataJson.append(Json_['destFolder'])\n",
    "\n",
    "\n"
   ]
  },
  {
   "cell_type": "code",
   "execution_count": 29,
   "metadata": {},
   "outputs": [],
   "source": [
    "save_name = os.path.join(out_folder,course_id,target_date, 'photo.json')\n",
    "with open(save_name, \"w\", encoding='utf-8') as final:\n",
    "   json.dump(totalPhotoJson, final , ensure_ascii=False)"
   ]
  },
  {
   "cell_type": "code",
   "execution_count": 30,
   "metadata": {},
   "outputs": [],
   "source": [
    "filestructure = []\n",
    "\n",
    "\n",
    "for folder_ in folderinDataJson:\n",
    "  fileinfo = {}\n",
    "  fileinfo[\"path\"] = folder_\n",
    "  fileinfo[\"file_cnt\"] = len([ x for x in totalPhotoJson if x[\"destFolder\"] == folder_])\n",
    "  fileinfo[\"labeled_file_cnt\"] = 0\n",
    "  filestructure.append(fileinfo)\n",
    "  "
   ]
  },
  {
   "cell_type": "code",
   "execution_count": 31,
   "metadata": {},
   "outputs": [],
   "source": [
    "save_name = os.path.join(out_folder,course_id,target_date, 'filepath_'+course_id + '_'+target_date+'.json')\n",
    "with open(save_name, \"w\", encoding='utf-8') as final:\n",
    "   json.dump(filestructure, final , ensure_ascii=False)"
   ]
  },
  {
   "cell_type": "code",
   "execution_count": 32,
   "metadata": {},
   "outputs": [
    {
     "data": {
      "text/plain": [
       "9184"
      ]
     },
     "execution_count": 32,
     "metadata": {},
     "output_type": "execute_result"
    }
   ],
   "source": [
    "len(totalPhotoJson)"
   ]
  },
  {
   "cell_type": "code",
   "execution_count": null,
   "metadata": {},
   "outputs": [],
   "source": []
  }
 ],
 "metadata": {
  "kernelspec": {
   "display_name": "Python 3.9.2 ('geo_James')",
   "language": "python",
   "name": "python3"
  },
  "language_info": {
   "codemirror_mode": {
    "name": "ipython",
    "version": 3
   },
   "file_extension": ".py",
   "mimetype": "text/x-python",
   "name": "python",
   "nbconvert_exporter": "python",
   "pygments_lexer": "ipython3",
   "version": "3.9.7"
  },
  "orig_nbformat": 4,
  "vscode": {
   "interpreter": {
    "hash": "af734be8ad55227f26227a3bb273225e8c732a9f6283c6f58fcb510615c38890"
   }
  }
 },
 "nbformat": 4,
 "nbformat_minor": 2
}
