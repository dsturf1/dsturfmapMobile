{
 "cells": [
  {
   "cell_type": "code",
   "execution_count": 1,
   "metadata": {},
   "outputs": [],
   "source": [
    "import pandas as pd\n",
    "import re\n",
    "import os\n",
    "import numpy as np\n",
    "import glob\n",
    "from datetime import datetime\n",
    "import geopandas as gpd\n",
    "import json\n",
    "from shapely.geometry import shape, GeometryCollection\n",
    "from rasterio.plot import show\n",
    "import matplotlib.pyplot as plt\n",
    "from mpl_toolkits.mplot3d import Axes3D\n",
    "from matplotlib import cm\n",
    "from matplotlib import colors\n",
    "from utils import FeatureExtraction, feature_matching, decimal_coords\n",
    "from exif import Image as exifimg\n",
    "from PIL import Image\n",
    "\n",
    "import shutil\n",
    "import rasterio\n",
    "import cv2\n",
    "%matplotlib inline"
   ]
  },
  {
   "cell_type": "code",
   "execution_count": 2,
   "metadata": {},
   "outputs": [],
   "source": [
    "# 가능한 font list 확인\n",
    "import matplotlib.font_manager as fm\n",
    "f = [f.name for f in fm.fontManager.ttflist]\n",
    "# print(f)\n",
    "\n",
    "plt.rc('font', family='Malgun Gothic')"
   ]
  },
  {
   "cell_type": "code",
   "execution_count": 3,
   "metadata": {},
   "outputs": [],
   "source": [
    "import boto3\n",
    "from decimal import Decimal\n",
    "# Get the service resource.\n",
    "dynamodb = boto3.resource('dynamodb', region_name='ap-northeast-2')\n",
    "table = dynamodb.Table('dsnia_imagelabelsV2')\n",
    "# table = dynamodb.Table('dsnia_imagelabels')"
   ]
  },
  {
   "cell_type": "code",
   "execution_count": 4,
   "metadata": {},
   "outputs": [],
   "source": [
    "course_list = ['청도','포항','중문','시흥','거창','속리산','춘천']\n",
    "\n",
    "course_ids = {\n",
    "  '포항':'MGC001',\n",
    "  '청도':'MGC002',\n",
    "  '중문':'MGC003',\n",
    "  '시흥':'MGC004',\n",
    "  '거창':'MGC005',\n",
    "  '속리산':'MGC006',\n",
    "  '춘천':'MGC007'\n",
    "}\n",
    "\n",
    "folder_type = ['rgb','ndvi','thumb']"
   ]
  },
  {
   "cell_type": "code",
   "execution_count": 5,
   "metadata": {},
   "outputs": [
    {
     "data": {
      "text/plain": [
       "'c:\\\\Users\\\\yc463\\\\Documents\\\\JamesLocal\\\\DS\\\\Drone\\\\dsmapv2\\\\src\\\\AWS\\\\filepathBackUp'"
      ]
     },
     "execution_count": 5,
     "metadata": {},
     "output_type": "execute_result"
    }
   ],
   "source": [
    "AWS_folder = os.getcwd()\n",
    "\n",
    "b_folder = os.path.join(AWS_folder,'BACKUPS')\n",
    "b_folder\n",
    "\n",
    "src_folder = os.path.join(AWS_folder,'dataDownloaded')\n",
    "src_folder\n",
    "\n",
    "out_folder = os.path.join(AWS_folder,'filepathBackUp')\n",
    "out_folder"
   ]
  },
  {
   "cell_type": "code",
   "execution_count": 6,
   "metadata": {},
   "outputs": [],
   "source": [
    "from boto3.dynamodb.conditions import Key, Attr\n",
    "from botocore.exceptions import ClientError\n",
    "\n",
    "\n",
    "\n",
    "recentDB = glob.glob(os.path.join(b_folder ,'Total*.pickle'), recursive=True)[-1]\n",
    "df = pd.read_pickle(recentDB)\n",
    "\n",
    "alldata = df.to_dict('records')"
   ]
  },
  {
   "cell_type": "code",
   "execution_count": 7,
   "metadata": {},
   "outputs": [
    {
     "data": {
      "text/plain": [
       "184082"
      ]
     },
     "execution_count": 7,
     "metadata": {},
     "output_type": "execute_result"
    }
   ],
   "source": [
    "len(alldata)"
   ]
  },
  {
   "cell_type": "code",
   "execution_count": 8,
   "metadata": {},
   "outputs": [
    {
     "data": {
      "text/plain": [
       "[{'metadata': 'MGC00320230910해안 6H물리적피해,장비,스켈핑_2',\n",
       "  'date': '20230910',\n",
       "  'area': '해안 6H',\n",
       "  'courseid': 'MGC003',\n",
       "  'json': {'originalFileGrp': ['ta/nas/10_원시데이터(3사_분류대상)/2023_0910_중문골프클럽_데이터 1차 분류_완/해안 6H/2023_0910_중문골프클럽_해안6H_1.5m/20230910_1637-1651_물리적피해,장비,스켈핑/DJI_20230910164012_0073_MS_G.TIF',\n",
       "    'ta/nas/10_원시데이터(3사_분류대상)/2023_0910_중문골프클럽_데이터 1차 분류_완/해안 6H/2023_0910_중문골프클럽_해안6H_1.5m/20230910_1637-1651_물리적피해,장비,스켈핑/DJI_20230910164012_0073_MS_NIR.TIF',\n",
       "    'ta/nas/10_원시데이터(3사_분류대상)/2023_0910_중문골프클럽_데이터 1차 분류_완/해안 6H/2023_0910_중문골프클럽_해안6H_1.5m/20230910_1637-1651_물리적피해,장비,스켈핑/DJI_20230910164012_0073_MS_RE.TIF',\n",
       "    'ta/nas/10_원시데이터(3사_분류대상)/2023_0910_중문골프클럽_데이터 1차 분류_완/해안 6H/2023_0910_중문골프클럽_해안6H_1.5m/20230910_1637-1651_물리적피해,장비,스켈핑/DJI_20230910164012_0073_MS_R.TIF',\n",
       "    'ta/nas/10_원시데이터(3사_분류대상)/2023_0910_중문골프클럽_데이터 1차 분류_완/해안 6H/2023_0910_중문골프클럽_해안6H_1.5m/20230910_1637-1651_물리적피해,장비,스켈핑/DJI_20230910164753_0073_MS_G.TIF',\n",
       "    'ta/nas/10_원시데이터(3사_분류대상)/2023_0910_중문골프클럽_데이터 1차 분류_완/해안 6H/2023_0910_중문골프클럽_해안6H_1.5m/20230910_1637-1651_물리적피해,장비,스켈핑/DJI_20230910164753_0073_MS_R.TIF',\n",
       "    'ta/nas/10_원시데이터(3사_분류대상)/2023_0910_중문골프클럽_데이터 1차 분류_완/해안 6H/2023_0910_중문골프클럽_해안6H_1.5m/20230910_1637-1651_물리적피해,장비,스켈핑/DJI_20230910164753_0073_MS_NIR.TIF',\n",
       "    'ta/nas/10_원시데이터(3사_분류대상)/2023_0910_중문골프클럽_데이터 1차 분류_완/해안 6H/2023_0910_중문골프클럽_해안6H_1.5m/20230910_1637-1651_물리적피해,장비,스켈핑/DJI_20230910164753_0073_MS_RE.TIF'],\n",
       "   'annotation': [],\n",
       "   'labelBy': '',\n",
       "   'GeoTagInfo': {'gps_altitude': Decimal('79.034'),\n",
       "    'datetime_original': '2023:09:10 16:40:12',\n",
       "    'coords': [Decimal('126.40171016666667'), Decimal('33.24422338888889')],\n",
       "    'gps_altitude_ref': Decimal('0')},\n",
       "   'id': '20230910164012_1264017101667_332442233889_79034000',\n",
       "   'label': [],\n",
       "   'originalFileJPG': 'ta/nas/10_원시데이터(3사_분류대상)/2023_0910_중문골프클럽_데이터 1차 분류_완/해안 6H/2023_0910_중문골프클럽_해안6H_1.5m/20230910_1637-1651_물리적피해,장비,스켈핑/DJI_20230910164012_0073_D.JPG',\n",
       "   'destFolder': '20230910/해안 6H/물리적피해,장비,스켈핑_2',\n",
       "   'dest': {'rgb': 'MGC003\\\\20230910\\\\해안 6H\\\\물리적피해,장비,스켈핑_2\\\\rgb\\\\rgb20230910164012_1264017101667_332442233889_79034000.JPG',\n",
       "    'thumb': 'MGC003\\\\20230910\\\\해안 6H\\\\물리적피해,장비,스켈핑_2\\\\thumb\\\\thumbrgb20230910164012_1264017101667_332442233889_79034000.JPG',\n",
       "    'ndvi': 'MGC003\\\\20230910\\\\해안 6H\\\\물리적피해,장비,스켈핑_2\\\\ndvi\\\\ndvi20230910164012_1264017101667_332442233889_79034000.JPG'},\n",
       "   'info': {'area': '해안 6H',\n",
       "    'alt': '1.5m',\n",
       "    'date': '20230910',\n",
       "    'course': '중문',\n",
       "    'desc': '물리적피해,장비,스켈핑_2'}},\n",
       "  'id': '20230910164012_1264017101667_332442233889_79034000',\n",
       "  'desc': '물리적피해,장비,스켈핑_2'},\n",
       " {'metadata': 'MGC00320230910해안 6H물리적피해,장비,스켈핑_0',\n",
       "  'date': '20230910',\n",
       "  'area': '해안 6H',\n",
       "  'courseid': 'MGC003',\n",
       "  'json': {'originalFileGrp': ['ta/nas/10_원시데이터(3사_분류대상)/2023_0910_중문골프클럽_데이터 1차 분류_완/해안 6H/2023_0910_중문골프클럽_해안6H_0.5m/20230910_1633-1650_물리적피해,장비,스켈핑/DJI_20230910164012_0056_MS_G.TIF',\n",
       "    'ta/nas/10_원시데이터(3사_분류대상)/2023_0910_중문골프클럽_데이터 1차 분류_완/해안 6H/2023_0910_중문골프클럽_해안6H_0.5m/20230910_1633-1650_물리적피해,장비,스켈핑/DJI_20230910164012_0056_MS_NIR.TIF',\n",
       "    'ta/nas/10_원시데이터(3사_분류대상)/2023_0910_중문골프클럽_데이터 1차 분류_완/해안 6H/2023_0910_중문골프클럽_해안6H_0.5m/20230910_1633-1650_물리적피해,장비,스켈핑/DJI_20230910164012_0056_MS_R.TIF',\n",
       "    'ta/nas/10_원시데이터(3사_분류대상)/2023_0910_중문골프클럽_데이터 1차 분류_완/해안 6H/2023_0910_중문골프클럽_해안6H_0.5m/20230910_1633-1650_물리적피해,장비,스켈핑/DJI_20230910164012_0056_MS_RE.TIF'],\n",
       "   'annotation': [],\n",
       "   'labelBy': '',\n",
       "   'GeoTagInfo': {'gps_altitude': Decimal('74.386'),\n",
       "    'datetime_original': '2023:09:10 16:40:12',\n",
       "    'coords': [Decimal('126.40108744444446'), Decimal('33.24294669444445')],\n",
       "    'gps_altitude_ref': Decimal('0')},\n",
       "   'id': '20230910164012_1264010874444_332429466944_74386000',\n",
       "   'label': [],\n",
       "   'originalFileJPG': 'ta/nas/10_원시데이터(3사_분류대상)/2023_0910_중문골프클럽_데이터 1차 분류_완/해안 6H/2023_0910_중문골프클럽_해안6H_0.5m/20230910_1633-1650_물리적피해,장비,스켈핑/DJI_20230910164012_0056_D.JPG',\n",
       "   'destFolder': '20230910/해안 6H/물리적피해,장비,스켈핑_0',\n",
       "   'dest': {'rgb': 'MGC003\\\\20230910\\\\해안 6H\\\\물리적피해,장비,스켈핑_0\\\\rgb\\\\rgb20230910164012_1264010874444_332429466944_74386000.JPG',\n",
       "    'thumb': 'MGC003\\\\20230910\\\\해안 6H\\\\물리적피해,장비,스켈핑_0\\\\thumb\\\\thumbrgb20230910164012_1264010874444_332429466944_74386000.JPG',\n",
       "    'ndvi': 'MGC003\\\\20230910\\\\해안 6H\\\\물리적피해,장비,스켈핑_0\\\\ndvi\\\\ndvi20230910164012_1264010874444_332429466944_74386000.JPG'},\n",
       "   'info': {'area': '해안 6H',\n",
       "    'alt': '0.5m',\n",
       "    'date': '20230910',\n",
       "    'course': '중문',\n",
       "    'desc': '물리적피해,장비,스켈핑_0'}},\n",
       "  'id': '20230910164012_1264010874444_332429466944_74386000',\n",
       "  'desc': '물리적피해,장비,스켈핑_0'},\n",
       " {'metadata': 'MGC00320230910해안 6H물리적피해,장비,스켈핑_1',\n",
       "  'date': '20230910',\n",
       "  'area': '해안 6H',\n",
       "  'courseid': 'MGC003',\n",
       "  'json': {'originalFileGrp': ['ta/nas/10_원시데이터(3사_분류대상)/2023_0910_중문골프클럽_데이터 1차 분류_완/해안 6H/2023_0910_중문골프클럽_해안6H_1.5m/20230910_1631-1650_물리적피해,장비,스켈핑/DJI_20230910164012_0126_MS_G.TIF',\n",
       "    'ta/nas/10_원시데이터(3사_분류대상)/2023_0910_중문골프클럽_데이터 1차 분류_완/해안 6H/2023_0910_중문골프클럽_해안6H_1.5m/20230910_1631-1650_물리적피해,장비,스켈핑/DJI_20230910164012_0126_MS_NIR.TIF',\n",
       "    'ta/nas/10_원시데이터(3사_분류대상)/2023_0910_중문골프클럽_데이터 1차 분류_완/해안 6H/2023_0910_중문골프클럽_해안6H_1.5m/20230910_1631-1650_물리적피해,장비,스켈핑/DJI_20230910164012_0126_MS_R.TIF',\n",
       "    'ta/nas/10_원시데이터(3사_분류대상)/2023_0910_중문골프클럽_데이터 1차 분류_완/해안 6H/2023_0910_중문골프클럽_해안6H_1.5m/20230910_1631-1650_물리적피해,장비,스켈핑/DJI_20230910164012_0126_MS_RE.TIF'],\n",
       "   'annotation': [],\n",
       "   'labelBy': '',\n",
       "   'GeoTagInfo': {'gps_altitude': Decimal('74.955'),\n",
       "    'datetime_original': '2023:09:10 16:40:12',\n",
       "    'coords': [Decimal('126.40106994444444'), Decimal('33.2429425')],\n",
       "    'gps_altitude_ref': Decimal('0')},\n",
       "   'id': '20230910164012_1264010699444_332429425000_74955000',\n",
       "   'label': [],\n",
       "   'originalFileJPG': 'ta/nas/10_원시데이터(3사_분류대상)/2023_0910_중문골프클럽_데이터 1차 분류_완/해안 6H/2023_0910_중문골프클럽_해안6H_1.5m/20230910_1631-1650_물리적피해,장비,스켈핑/DJI_20230910164012_0126_D.JPG',\n",
       "   'destFolder': '20230910/해안 6H/물리적피해,장비,스켈핑_1',\n",
       "   'dest': {'rgb': 'MGC003\\\\20230910\\\\해안 6H\\\\물리적피해,장비,스켈핑_1\\\\rgb\\\\rgb20230910164012_1264010699444_332429425000_74955000.JPG',\n",
       "    'thumb': 'MGC003\\\\20230910\\\\해안 6H\\\\물리적피해,장비,스켈핑_1\\\\thumb\\\\thumbrgb20230910164012_1264010699444_332429425000_74955000.JPG',\n",
       "    'ndvi': 'MGC003\\\\20230910\\\\해안 6H\\\\물리적피해,장비,스켈핑_1\\\\ndvi\\\\ndvi20230910164012_1264010699444_332429425000_74955000.JPG'},\n",
       "   'info': {'area': '해안 6H',\n",
       "    'alt': '1.5m',\n",
       "    'date': '20230910',\n",
       "    'course': '중문',\n",
       "    'desc': '물리적피해,장비,스켈핑_1'}},\n",
       "  'id': '20230910164012_1264010699444_332429425000_74955000',\n",
       "  'desc': '물리적피해,장비,스켈핑_1'}]"
      ]
     },
     "execution_count": 8,
     "metadata": {},
     "output_type": "execute_result"
    }
   ],
   "source": [
    "[x for x in alldata if 'DJI_20230910164012' in x['json']['originalFileJPG']]"
   ]
  },
  {
   "cell_type": "code",
   "execution_count": 9,
   "metadata": {},
   "outputs": [],
   "source": [
    "def update_root(x):\n",
    "  path = os.path.normpath(x)\n",
    "  info = path.split(os.sep)\n",
    "  index_ = [idx for idx, s in enumerate(info) if '2023' and '완' in s][0]\n",
    "  return 'original/'+ ('/').join(info[index_:])"
   ]
  },
  {
   "cell_type": "code",
   "execution_count": 10,
   "metadata": {},
   "outputs": [],
   "source": [
    "for jsonSinlgle in alldata:\n",
    "  jsonSinlgle['json']['originalFileJPG'] = update_root(jsonSinlgle['json']['originalFileJPG'])\n",
    "  jsonSinlgle['json']['originalFileGrp'] = [update_root(x) for x in jsonSinlgle['json']['originalFileGrp']]\n"
   ]
  },
  {
   "cell_type": "code",
   "execution_count": 12,
   "metadata": {},
   "outputs": [
    {
     "data": {
      "text/plain": [
       "{'metadata': 'MGC00520230906거창 클럽디 EAST 3이종잔디,라이그래스_1',\n",
       " 'date': '20230906',\n",
       " 'area': '거창 클럽디 EAST 3',\n",
       " 'courseid': 'MGC005',\n",
       " 'json': {'originalFileGrp': ['original/2023_0906_거창클럽디_맑은날_구름조금_데이터 1차 분류_완/거창 클럽디 EAST 3/2023_0906_거창클럽디_EAST3H_1.5m/20230906_1210-1235_이종잔디,라이그래스/DJI_20230906121230_0411_MS_G.TIF',\n",
       "   'original/2023_0906_거창클럽디_맑은날_구름조금_데이터 1차 분류_완/거창 클럽디 EAST 3/2023_0906_거창클럽디_EAST3H_1.5m/20230906_1210-1235_이종잔디,라이그래스/DJI_20230906121230_0411_MS_NIR.TIF',\n",
       "   'original/2023_0906_거창클럽디_맑은날_구름조금_데이터 1차 분류_완/거창 클럽디 EAST 3/2023_0906_거창클럽디_EAST3H_1.5m/20230906_1210-1235_이종잔디,라이그래스/DJI_20230906121230_0411_MS_R.TIF',\n",
       "   'original/2023_0906_거창클럽디_맑은날_구름조금_데이터 1차 분류_완/거창 클럽디 EAST 3/2023_0906_거창클럽디_EAST3H_1.5m/20230906_1210-1235_이종잔디,라이그래스/DJI_20230906121230_0411_MS_RE.TIF'],\n",
       "  'annotation': [],\n",
       "  'labelBy': '',\n",
       "  'GeoTagInfo': {'gps_altitude': Decimal('686.771'),\n",
       "   'datetime_original': '2023:09:06 12:12:30',\n",
       "   'coords': [Decimal('127.91078325000001'), Decimal('35.59604686111111')],\n",
       "   'gps_altitude_ref': Decimal('0')},\n",
       "  'id': '20230906121230_1279107832500_355960468611_686771000',\n",
       "  'label': [],\n",
       "  'originalFileJPG': 'original/2023_0906_거창클럽디_맑은날_구름조금_데이터 1차 분류_완/거창 클럽디 EAST 3/2023_0906_거창클럽디_EAST3H_1.5m/20230906_1210-1235_이종잔디,라이그래스/DJI_20230906121230_0411_D.JPG',\n",
       "  'destFolder': '20230906/거창 클럽디 EAST 3/이종잔디,라이그래스_1',\n",
       "  'dest': {'rgb': 'MGC005\\\\20230906\\\\거창 클럽디 EAST 3\\\\이종잔디,라이그래스_1\\\\rgb\\\\rgb20230906121230_1279107832500_355960468611_686771000.JPG',\n",
       "   'thumb': 'MGC005\\\\20230906\\\\거창 클럽디 EAST 3\\\\이종잔디,라이그래스_1\\\\thumb\\\\thumbrgb20230906121230_1279107832500_355960468611_686771000.JPG',\n",
       "   'ndvi': 'MGC005\\\\20230906\\\\거창 클럽디 EAST 3\\\\이종잔디,라이그래스_1\\\\ndvi\\\\ndvi20230906121230_1279107832500_355960468611_686771000.JPG'},\n",
       "  'info': {'area': '거창 클럽디 EAST 3',\n",
       "   'alt': '1.5m',\n",
       "   'date': '20230906',\n",
       "   'course': '거창',\n",
       "   'desc': '이종잔디,라이그래스_1'}},\n",
       " 'id': '20230906121230_1279107832500_355960468611_686771000',\n",
       " 'desc': '이종잔디,라이그래스_1'}"
      ]
     },
     "execution_count": 12,
     "metadata": {},
     "output_type": "execute_result"
    }
   ],
   "source": [
    "alldata[10000]"
   ]
  },
  {
   "cell_type": "code",
   "execution_count": null,
   "metadata": {},
   "outputs": [],
   "source": []
  },
  {
   "cell_type": "code",
   "execution_count": null,
   "metadata": {},
   "outputs": [],
   "source": []
  },
  {
   "cell_type": "markdown",
   "metadata": {},
   "source": [
    "##### FINAL UPLOAD"
   ]
  },
  {
   "cell_type": "code",
   "execution_count": null,
   "metadata": {},
   "outputs": [],
   "source": []
  },
  {
   "cell_type": "code",
   "execution_count": 13,
   "metadata": {},
   "outputs": [
    {
     "name": "stdout",
     "output_type": "stream",
     "text": [
      "184081 20230816160453_1293353578056_362254769444_155272000\r"
     ]
    }
   ],
   "source": [
    "with table.batch_writer(overwrite_by_pkeys=['metadata', 'id']) as batch:\n",
    "  for index_, row_ in enumerate(alldata):\n",
    "    print(index_, row_['id'], end='\\r')\n",
    "    batch.put_item(\n",
    "      Item= row_\n",
    "    )"
   ]
  },
  {
   "cell_type": "code",
   "execution_count": null,
   "metadata": {},
   "outputs": [],
   "source": []
  }
 ],
 "metadata": {
  "kernelspec": {
   "display_name": "Python 3.9.2 ('geo_James')",
   "language": "python",
   "name": "python3"
  },
  "language_info": {
   "codemirror_mode": {
    "name": "ipython",
    "version": 3
   },
   "file_extension": ".py",
   "mimetype": "text/x-python",
   "name": "python",
   "nbconvert_exporter": "python",
   "pygments_lexer": "ipython3",
   "version": "3.9.7"
  },
  "orig_nbformat": 4,
  "vscode": {
   "interpreter": {
    "hash": "af734be8ad55227f26227a3bb273225e8c732a9f6283c6f58fcb510615c38890"
   }
  }
 },
 "nbformat": 4,
 "nbformat_minor": 2
}
