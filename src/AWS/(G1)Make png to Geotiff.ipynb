{
 "cells": [
  {
   "cell_type": "code",
   "execution_count": 50,
   "id": "7b19eced",
   "metadata": {},
   "outputs": [],
   "source": [
    "import pandas as pd\n",
    "import re\n",
    "import os\n",
    "import numpy as np\n",
    "import glob\n",
    "from datetime import datetime\n",
    "import geopandas as gpd\n",
    "import json\n",
    "from shapely.geometry import shape, GeometryCollection\n",
    "from rasterio.plot import show\n",
    "import matplotlib.pyplot as plt\n",
    "from mpl_toolkits.mplot3d import Axes3D\n",
    "from matplotlib import cm\n",
    "from matplotlib import colors\n",
    "\n",
    "import shutil\n",
    "import rasterio\n",
    "\n",
    "%matplotlib widget"
   ]
  },
  {
   "cell_type": "code",
   "execution_count": 51,
   "id": "99eeee26",
   "metadata": {},
   "outputs": [],
   "source": [
    "json_folder = r\"C:\\Users\\yc463\\Documents\\JamesLocal\\DS\\Drone\\GEOJSONDATA\\GeoJson\"\n",
    "img_folder = r'C:\\Users\\yc463\\Documents\\JamesLocal\\DS\\Drone\\GEOJSONDATA\\Naver'\n",
    "tiff_folder = r'C:\\Users\\yc463\\Documents\\JamesLocal\\DS\\Drone\\GEOJSONDATA\\GeoTiff'"
   ]
  },
  {
   "cell_type": "code",
   "execution_count": 52,
   "id": "561ef127",
   "metadata": {},
   "outputs": [
    {
     "data": {
      "text/plain": [
       "['C:\\\\Users\\\\yc463\\\\Documents\\\\JamesLocal\\\\DS\\\\Drone\\\\GEOJSONDATA\\\\Naver\\\\아세코밸리골프클럽L14.png',\n",
       " 'C:\\\\Users\\\\yc463\\\\Documents\\\\JamesLocal\\\\DS\\\\Drone\\\\GEOJSONDATA\\\\Naver\\\\아세코밸리골프클럽L15.png',\n",
       " 'C:\\\\Users\\\\yc463\\\\Documents\\\\JamesLocal\\\\DS\\\\Drone\\\\GEOJSONDATA\\\\Naver\\\\아세코밸리골프클럽L18[126.77461,37.37177,126.76388,37.36324].png',\n",
       " 'C:\\\\Users\\\\yc463\\\\Documents\\\\JamesLocal\\\\DS\\\\Drone\\\\GEOJSONDATA\\\\Naver\\\\오너스GCL14.png',\n",
       " 'C:\\\\Users\\\\yc463\\\\Documents\\\\JamesLocal\\\\DS\\\\Drone\\\\GEOJSONDATA\\\\Naver\\\\오너스GCL15.png',\n",
       " 'C:\\\\Users\\\\yc463\\\\Documents\\\\JamesLocal\\\\DS\\\\Drone\\\\GEOJSONDATA\\\\Naver\\\\오너스GCL18[127.66687,37.77891,127.64541,37.76195].png',\n",
       " 'C:\\\\Users\\\\yc463\\\\Documents\\\\JamesLocal\\\\DS\\\\Drone\\\\GEOJSONDATA\\\\Naver\\\\중문골프클럽L14.png',\n",
       " 'C:\\\\Users\\\\yc463\\\\Documents\\\\JamesLocal\\\\DS\\\\Drone\\\\GEOJSONDATA\\\\Naver\\\\중문골프클럽L15.png',\n",
       " 'C:\\\\Users\\\\yc463\\\\Documents\\\\JamesLocal\\\\DS\\\\Drone\\\\GEOJSONDATA\\\\Naver\\\\중문골프클럽L18[126.41520,33.25800,126.39374,33.24005].png',\n",
       " 'C:\\\\Users\\\\yc463\\\\Documents\\\\JamesLocal\\\\DS\\\\Drone\\\\GEOJSONDATA\\\\Naver\\\\클럽디거창CCL14.png',\n",
       " 'C:\\\\Users\\\\yc463\\\\Documents\\\\JamesLocal\\\\DS\\\\Drone\\\\GEOJSONDATA\\\\Naver\\\\클럽디거창CCL15.png',\n",
       " 'C:\\\\Users\\\\yc463\\\\Documents\\\\JamesLocal\\\\DS\\\\Drone\\\\GEOJSONDATA\\\\Naver\\\\클럽디거창CCL18[127.91554,35.60071,127.89408,35.58326].png',\n",
       " 'C:\\\\Users\\\\yc463\\\\Documents\\\\JamesLocal\\\\DS\\\\Drone\\\\GEOJSONDATA\\\\Naver\\\\클럽디속리산CCL14.png',\n",
       " 'C:\\\\Users\\\\yc463\\\\Documents\\\\JamesLocal\\\\DS\\\\Drone\\\\GEOJSONDATA\\\\Naver\\\\클럽디속리산CCL15.png',\n",
       " 'C:\\\\Users\\\\yc463\\\\Documents\\\\JamesLocal\\\\DS\\\\Drone\\\\GEOJSONDATA\\\\Naver\\\\클럽디속리산CCL18[127.79408,36.45498,127.77263,36.43772].png']"
      ]
     },
     "execution_count": 52,
     "metadata": {},
     "output_type": "execute_result"
    }
   ],
   "source": [
    "files = glob.glob(os.path.join(img_folder,'*.png'))\n",
    "\n",
    "# files = [x for x in files if (TClient in x)]\n",
    "files"
   ]
  },
  {
   "cell_type": "code",
   "execution_count": 53,
   "metadata": {},
   "outputs": [],
   "source": [
    "target_courseName = '오너스'"
   ]
  },
  {
   "cell_type": "code",
   "execution_count": 54,
   "id": "6c3b26b1",
   "metadata": {},
   "outputs": [
    {
     "data": {
      "text/plain": [
       "['C:\\\\Users\\\\yc463\\\\Documents\\\\JamesLocal\\\\DS\\\\Drone\\\\GEOJSONDATA\\\\Naver\\\\오너스GCL14.png',\n",
       " 'C:\\\\Users\\\\yc463\\\\Documents\\\\JamesLocal\\\\DS\\\\Drone\\\\GEOJSONDATA\\\\Naver\\\\오너스GCL15.png',\n",
       " 'C:\\\\Users\\\\yc463\\\\Documents\\\\JamesLocal\\\\DS\\\\Drone\\\\GEOJSONDATA\\\\Naver\\\\오너스GCL18[127.66687,37.77891,127.64541,37.76195].png']"
      ]
     },
     "execution_count": 54,
     "metadata": {},
     "output_type": "execute_result"
    }
   ],
   "source": [
    "target_filesL18 = [ x for x in files if 'L18' in x and target_courseName in x][0]\n",
    "target_files = [ x for x in files if target_courseName in x]\n",
    "\n",
    "target_files"
   ]
  },
  {
   "cell_type": "code",
   "execution_count": 55,
   "id": "1e32a5bb",
   "metadata": {},
   "outputs": [
    {
     "data": {
      "text/plain": [
       "['127.66687', '37.77891', '127.64541', '37.76195']"
      ]
     },
     "execution_count": 55,
     "metadata": {},
     "output_type": "execute_result"
    }
   ],
   "source": [
    "import re\n",
    "\n",
    "res = re.findall(r'\\[.*?\\]', target_filesL18)[0][1:-1].split(',')\n",
    "res"
   ]
  },
  {
   "cell_type": "code",
   "execution_count": 56,
   "id": "654fdd0c",
   "metadata": {},
   "outputs": [],
   "source": [
    "north = float(res[1])\n",
    "east = float(res[0])\n",
    "south = float(res[3])\n",
    "west = float(res[2])"
   ]
  },
  {
   "cell_type": "code",
   "execution_count": 57,
   "metadata": {},
   "outputs": [],
   "source": [
    "from pyproj import CRS\n",
    "from rasterio import crs\n",
    "\n",
    "for target_file in target_files:\n",
    "  dataset = rasterio.open(target_file, 'r')\n",
    "  bands = [1, 2, 3]\n",
    "  data = dataset.read(bands)\n",
    "\n",
    "  if '[' in target_file:\n",
    "    out_tiff = os.path.join(tiff_folder,os.path.split(target_file)[-1].split('[')[0] +'.tif')\n",
    "  else:\n",
    "    out_tiff = os.path.join(tiff_folder,os.path.split(target_file)[-1].split('.')[0] +'.tif')\n",
    "\n",
    "  transform = rasterio.transform.from_bounds(west, south, east, north, data.shape[1], data.shape[2])\n",
    "\n",
    "\n",
    "\n",
    "  # crs_r = crs.CRS.from_epsg(4326)\n",
    "  crs = CRS({\"init\": \"epsg:4326\"})\n",
    "\n",
    "  with rasterio.open(out_tiff, 'w', driver='GTiff',\n",
    "                    width=data.shape[1], height=data.shape[2],\n",
    "                    count=3, dtype=data.dtype, nodata=0,\n",
    "                    transform=transform, crs=crs) as dst:\n",
    "      dst.write(data, indexes=bands)"
   ]
  },
  {
   "cell_type": "code",
   "execution_count": 58,
   "metadata": {},
   "outputs": [
    {
     "data": {
      "text/plain": [
       "['C:\\\\Users\\\\yc463\\\\Documents\\\\JamesLocal\\\\DS\\\\Drone\\\\GEOJSONDATA\\\\GeoTiff\\\\아세코밸리골프클럽L14.tif',\n",
       " 'C:\\\\Users\\\\yc463\\\\Documents\\\\JamesLocal\\\\DS\\\\Drone\\\\GEOJSONDATA\\\\GeoTiff\\\\아세코밸리골프클럽L15.tif',\n",
       " 'C:\\\\Users\\\\yc463\\\\Documents\\\\JamesLocal\\\\DS\\\\Drone\\\\GEOJSONDATA\\\\GeoTiff\\\\아세코밸리골프클럽L18.tif',\n",
       " 'C:\\\\Users\\\\yc463\\\\Documents\\\\JamesLocal\\\\DS\\\\Drone\\\\GEOJSONDATA\\\\GeoTiff\\\\오너스GCL14.tif',\n",
       " 'C:\\\\Users\\\\yc463\\\\Documents\\\\JamesLocal\\\\DS\\\\Drone\\\\GEOJSONDATA\\\\GeoTiff\\\\오너스GCL15.tif',\n",
       " 'C:\\\\Users\\\\yc463\\\\Documents\\\\JamesLocal\\\\DS\\\\Drone\\\\GEOJSONDATA\\\\GeoTiff\\\\오너스GCL18.tif',\n",
       " 'C:\\\\Users\\\\yc463\\\\Documents\\\\JamesLocal\\\\DS\\\\Drone\\\\GEOJSONDATA\\\\GeoTiff\\\\중문골프클럽L14.tif',\n",
       " 'C:\\\\Users\\\\yc463\\\\Documents\\\\JamesLocal\\\\DS\\\\Drone\\\\GEOJSONDATA\\\\GeoTiff\\\\중문골프클럽L15.tif',\n",
       " 'C:\\\\Users\\\\yc463\\\\Documents\\\\JamesLocal\\\\DS\\\\Drone\\\\GEOJSONDATA\\\\GeoTiff\\\\중문골프클럽L18.tif',\n",
       " 'C:\\\\Users\\\\yc463\\\\Documents\\\\JamesLocal\\\\DS\\\\Drone\\\\GEOJSONDATA\\\\GeoTiff\\\\클럽디거창CCL14.tif',\n",
       " 'C:\\\\Users\\\\yc463\\\\Documents\\\\JamesLocal\\\\DS\\\\Drone\\\\GEOJSONDATA\\\\GeoTiff\\\\클럽디거창CCL15.tif',\n",
       " 'C:\\\\Users\\\\yc463\\\\Documents\\\\JamesLocal\\\\DS\\\\Drone\\\\GEOJSONDATA\\\\GeoTiff\\\\클럽디거창CCL18.tif',\n",
       " 'C:\\\\Users\\\\yc463\\\\Documents\\\\JamesLocal\\\\DS\\\\Drone\\\\GEOJSONDATA\\\\GeoTiff\\\\클럽디속리산CCL14.tif',\n",
       " 'C:\\\\Users\\\\yc463\\\\Documents\\\\JamesLocal\\\\DS\\\\Drone\\\\GEOJSONDATA\\\\GeoTiff\\\\클럽디속리산CCL15.tif',\n",
       " 'C:\\\\Users\\\\yc463\\\\Documents\\\\JamesLocal\\\\DS\\\\Drone\\\\GEOJSONDATA\\\\GeoTiff\\\\클럽디속리산CCL18.tif']"
      ]
     },
     "execution_count": 58,
     "metadata": {},
     "output_type": "execute_result"
    }
   ],
   "source": [
    "files = glob.glob(os.path.join(tiff_folder,'*.tif'))\n",
    "files"
   ]
  },
  {
   "cell_type": "code",
   "execution_count": null,
   "metadata": {},
   "outputs": [],
   "source": []
  }
 ],
 "metadata": {
  "kernelspec": {
   "display_name": "Python 3.9.2 ('geo_James')",
   "language": "python",
   "name": "python3"
  },
  "language_info": {
   "codemirror_mode": {
    "name": "ipython",
    "version": 3
   },
   "file_extension": ".py",
   "mimetype": "text/x-python",
   "name": "python",
   "nbconvert_exporter": "python",
   "pygments_lexer": "ipython3",
   "version": "3.9.18"
  },
  "vscode": {
   "interpreter": {
    "hash": "af734be8ad55227f26227a3bb273225e8c732a9f6283c6f58fcb510615c38890"
   }
  }
 },
 "nbformat": 4,
 "nbformat_minor": 5
}
