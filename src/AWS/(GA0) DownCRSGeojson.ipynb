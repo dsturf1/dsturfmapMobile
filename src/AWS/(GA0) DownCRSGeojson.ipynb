{
 "cells": [
  {
   "cell_type": "markdown",
   "metadata": {},
   "source": [
    "#### Download course Geojson files (CRSGeojaon) from AWS S3 (with User_Name)"
   ]
  },
  {
   "cell_type": "code",
   "execution_count": 1,
   "metadata": {},
   "outputs": [],
   "source": [
    "import pandas as pd\n",
    "import re\n",
    "import os\n",
    "import numpy as np\n",
    "import glob\n",
    "from datetime import datetime\n",
    "import boto3\n",
    "import json"
   ]
  },
  {
   "cell_type": "code",
   "execution_count": 15,
   "metadata": {},
   "outputs": [],
   "source": [
    "Target_year = 2023\n",
    "\n",
    "pd.set_option('display.max_rows', 20)\n",
    "pd.options.display.float_format = '{:,.1f}'.format\n",
    "\n",
    "User_Name = 'dsmapadmin'\n",
    "\n",
    "\n",
    "AWS_folder = \"./\"\n",
    "\n",
    "src_folder = os.path.join(AWS_folder,'Downloaded',User_Name)\n",
    "out_folder = os.path.join(AWS_folder,'ToUpload',User_Name)\n",
    "\n",
    "json_folder = r\"C:\\Users\\yc463\\Documents\\JamesLocal\\DS\\Drone\\GEOJSONDATA\\GeoJson\"\n",
    "img_folder = r'C:\\Users\\yc463\\Documents\\JamesLocal\\DS\\Drone\\GEOJSONDATA\\Naver'\n",
    "tiff_folder = r'C:\\Users\\yc463\\Documents\\JamesLocal\\DS\\Drone\\GEOJSONDATA\\GeoTiff'"
   ]
  },
  {
   "cell_type": "markdown",
   "metadata": {},
   "source": [
    "Get today Date information"
   ]
  },
  {
   "cell_type": "code",
   "execution_count": 22,
   "metadata": {},
   "outputs": [
    {
     "name": "stdout",
     "output_type": "stream",
     "text": [
      "date and time = 20231108_0235\n"
     ]
    }
   ],
   "source": [
    "from datetime import datetime\n",
    "\n",
    "# datetime object containing current date and time\n",
    "now = datetime.now()\n",
    "# dd/mm/YY H:M:S\n",
    "dt_string = now.strftime(\"%Y%m%d_%H%M\")\n",
    "print(\"date and time =\", dt_string)"
   ]
  },
  {
   "cell_type": "markdown",
   "metadata": {},
   "source": [
    "/dsmapdata/public/[User_Name]/coursegeojson에 있는 모든 화일을 List & Download to (AWS current Download FOlder & JSON FOLDER)"
   ]
  },
  {
   "cell_type": "code",
   "execution_count": 23,
   "metadata": {},
   "outputs": [],
   "source": [
    "s3 = boto3.client('s3')\n",
    "object_list = s3.list_objects_v2(Bucket = 'dsmapdata', Delimiter = '/', Prefix=User_Name+'/coursegeojson/')\n"
   ]
  },
  {
   "cell_type": "code",
   "execution_count": 24,
   "metadata": {},
   "outputs": [
    {
     "name": "stdout",
     "output_type": "stream",
     "text": [
      "C:\\Users\\yc463\\Documents\\JamesLocal\\DS\\Drone\\GEOJSONDATA\\GeoJson\\AWS\\MGC001fromAWS20231108_0235.json\n",
      "C:\\Users\\yc463\\Documents\\JamesLocal\\DS\\Drone\\GEOJSONDATA\\GeoJson\\AWS\\MGC002fromAWS20231108_0235.json\n",
      "C:\\Users\\yc463\\Documents\\JamesLocal\\DS\\Drone\\GEOJSONDATA\\GeoJson\\AWS\\MGC003fromAWS20231108_0235.json\n",
      "C:\\Users\\yc463\\Documents\\JamesLocal\\DS\\Drone\\GEOJSONDATA\\GeoJson\\AWS\\MGC004fromAWS20231108_0235.json\n",
      "C:\\Users\\yc463\\Documents\\JamesLocal\\DS\\Drone\\GEOJSONDATA\\GeoJson\\AWS\\MGC005fromAWS20231108_0235.json\n",
      "C:\\Users\\yc463\\Documents\\JamesLocal\\DS\\Drone\\GEOJSONDATA\\GeoJson\\AWS\\MGC006fromAWS20231108_0235.json\n",
      "C:\\Users\\yc463\\Documents\\JamesLocal\\DS\\Drone\\GEOJSONDATA\\GeoJson\\AWS\\MGC007fromAWS20231108_0235.json\n",
      "C:\\Users\\yc463\\Documents\\JamesLocal\\DS\\Drone\\GEOJSONDATA\\GeoJson\\AWS\\MGC008fromAWS20231108_0235.json\n"
     ]
    }
   ],
   "source": [
    "for obj_ in object_list['Contents']:\n",
    "\n",
    "  content_object = s3.get_object(Bucket = 'dsmapdata', Key = obj_['Key'])\n",
    "  file_content = content_object['Body'].read().decode('utf-8')\n",
    "  json_content = json.loads(file_content)\n",
    "\n",
    "  fname_ = obj_['Key'].split('/')[-1].split('.')[0]+'fromAWS' + dt_string + '.json'\n",
    "\n",
    "  file_to_save = os.path.join(src_folder ,'{}'.format(fname_))\n",
    "  # print(file_to_save)\n",
    "\n",
    "  with open(file_to_save, \"w\", encoding=\"utf-8\") as file:\n",
    "    file.write(json.dumps(json_content, ensure_ascii=False))\n",
    "\n",
    "  file_to_save = os.path.join(json_folder,'AWS' ,'{}'.format(fname_))\n",
    "  print(file_to_save)\n",
    "\n",
    "  with open(file_to_save, \"w\", encoding=\"utf-8\") as file:\n",
    "    file.write(json.dumps(json_content, ensure_ascii=False))"
   ]
  },
  {
   "cell_type": "code",
   "execution_count": null,
   "metadata": {},
   "outputs": [],
   "source": []
  }
 ],
 "metadata": {
  "kernelspec": {
   "display_name": "Python 3.9.2 ('geo_James')",
   "language": "python",
   "name": "python3"
  },
  "language_info": {
   "codemirror_mode": {
    "name": "ipython",
    "version": 3
   },
   "file_extension": ".py",
   "mimetype": "text/x-python",
   "name": "python",
   "nbconvert_exporter": "python",
   "pygments_lexer": "ipython3",
   "version": "3.9.18"
  },
  "orig_nbformat": 4,
  "vscode": {
   "interpreter": {
    "hash": "af734be8ad55227f26227a3bb273225e8c732a9f6283c6f58fcb510615c38890"
   }
  }
 },
 "nbformat": 4,
 "nbformat_minor": 2
}
