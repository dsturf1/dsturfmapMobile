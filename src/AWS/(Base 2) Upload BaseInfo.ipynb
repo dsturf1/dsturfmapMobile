{
 "cells": [
  {
   "cell_type": "code",
   "execution_count": 1,
   "metadata": {},
   "outputs": [],
   "source": [
    "import pandas as pd\n",
    "import re\n",
    "import os\n",
    "import numpy as np\n",
    "import glob\n",
    "from datetime import datetime\n",
    "import boto3\n",
    "import json"
   ]
  },
  {
   "cell_type": "code",
   "execution_count": 2,
   "metadata": {},
   "outputs": [],
   "source": [
    "Target_year = 2023\n",
    "\n",
    "pd.set_option('display.max_rows', 20)\n",
    "pd.options.display.float_format = '{:,.1f}'.format\n",
    "\n",
    "User_Name = 'dsadmin'\n",
    "\n",
    "\n",
    "AWS_folder = \"./\"\n",
    "\n",
    "src_folder = os.path.join(AWS_folder,'Downloaded',User_Name)\n",
    "out_folder = os.path.join(AWS_folder,'ToUpload',User_Name)"
   ]
  },
  {
   "cell_type": "code",
   "execution_count": 3,
   "metadata": {},
   "outputs": [
    {
     "data": {
      "text/plain": [
       "['./ToUpload\\\\dsadmin\\\\area_def.json',\n",
       " './ToUpload\\\\dsadmin\\\\course_info.json',\n",
       " './ToUpload\\\\dsadmin\\\\label_info.json',\n",
       " './ToUpload\\\\dsadmin\\\\turf_type.json']"
      ]
     },
     "execution_count": 3,
     "metadata": {},
     "output_type": "execute_result"
    }
   ],
   "source": [
    "files = glob.glob(os.path.join(out_folder,'*.json'))\n",
    "target_files = [ x for x in files if ('~$' not in x) ]\n",
    "target_files"
   ]
  },
  {
   "cell_type": "markdown",
   "metadata": {},
   "source": [
    "각 화일을 base.json으로 통합, 그후 가가 화일과 통합화일을 Upload"
   ]
  },
  {
   "cell_type": "code",
   "execution_count": 4,
   "metadata": {},
   "outputs": [
    {
     "data": {
      "text/plain": [
       "{'ResponseMetadata': {'RequestId': 'HQ5GVPGSXXNMYZ02',\n",
       "  'HostId': 'liWw8aQRd7PPGK0Bmfd+/26fAWBfAcbxtQk85weWV3B3Q3ayJJzAhEwoWlFAvb/bKbm97Aqtvmw=',\n",
       "  'HTTPStatusCode': 200,\n",
       "  'HTTPHeaders': {'x-amz-id-2': 'liWw8aQRd7PPGK0Bmfd+/26fAWBfAcbxtQk85weWV3B3Q3ayJJzAhEwoWlFAvb/bKbm97Aqtvmw=',\n",
       "   'x-amz-request-id': 'HQ5GVPGSXXNMYZ02',\n",
       "   'date': 'Thu, 14 Sep 2023 17:51:38 GMT',\n",
       "   'x-amz-server-side-encryption': 'AES256',\n",
       "   'etag': '\"0342395bc45f1bc9b697c9f05366df96\"',\n",
       "   'server': 'AmazonS3',\n",
       "   'content-length': '0'},\n",
       "  'RetryAttempts': 0},\n",
       " 'ETag': '\"0342395bc45f1bc9b697c9f05366df96\"',\n",
       " 'ServerSideEncryption': 'AES256'}"
      ]
     },
     "execution_count": 4,
     "metadata": {},
     "output_type": "execute_result"
    }
   ],
   "source": [
    "Total_json = {}\n",
    "\n",
    "s3 = boto3.client('s3')\n",
    "\n",
    "for _file in target_files:\n",
    "  f_ = os.path.splitext(os.path.basename(_file))[0]\n",
    "  json_content_ = json.load(open(_file, encoding=\"utf8\"))\n",
    "  Total_json[f_] = json_content_\n",
    "  s3.put_object(Body=json.dumps(json_content_).encode('utf-8'),Bucket='dsmapdata',Key='baseinfo/{}.json'.format(f_))\n",
    "  \n",
    "s3.put_object(\n",
    "  Body=json.dumps(Total_json).encode('utf-8'),\n",
    "  Bucket='dsmapdata',\n",
    "  Key=User_Name + '/base.json'\n",
    "  )"
   ]
  },
  {
   "cell_type": "code",
   "execution_count": 5,
   "metadata": {},
   "outputs": [
    {
     "data": {
      "text/plain": [
       "dict_keys(['area_def', 'course_info', 'label_info', 'turf_type'])"
      ]
     },
     "execution_count": 5,
     "metadata": {},
     "output_type": "execute_result"
    }
   ],
   "source": [
    "Total_json.keys()"
   ]
  },
  {
   "cell_type": "code",
   "execution_count": 6,
   "metadata": {},
   "outputs": [
    {
     "data": {
      "text/plain": [
       "[{'TypeId': 101, 'L1': '건강한잔디', 'L2': '일반'},\n",
       " {'TypeId': 102, 'L1': '건강한잔디', 'L2': '배토'},\n",
       " {'TypeId': 103, 'L1': '건강한잔디', 'L2': '통기 (유공)'},\n",
       " {'TypeId': 104, 'L1': '건강한잔디', 'L2': '통기 (무공)'},\n",
       " {'TypeId': 105, 'L1': '건강한잔디', 'L2': '시비 (알비)'},\n",
       " {'TypeId': 106, 'L1': '건강한잔디', 'L2': '시비 (액비)'},\n",
       " {'TypeId': 107, 'L1': '건강한잔디', 'L2': '깎기'},\n",
       " {'TypeId': 108, 'L1': '건강한잔디', 'L2': '보식'},\n",
       " {'TypeId': 109, 'L1': '건강한잔디', 'L2': '농약살포'},\n",
       " {'TypeId': 110, 'L1': '건강한잔디', 'L2': '제초제 (발아전)'},\n",
       " {'TypeId': 111, 'L1': '건강한잔디', 'L2': '제초제 (경엽)'},\n",
       " {'TypeId': 112, 'L1': '건강한잔디', 'L2': '버티칼모잉'},\n",
       " {'TypeId': 113, 'L1': '건강한잔디', 'L2': '브러쉬작업'},\n",
       " {'TypeId': 114, 'L1': '건강한잔디', 'L2': '스위퍼작업'},\n",
       " {'TypeId': 115, 'L1': '건강한잔디', 'L2': '구르밍작업'},\n",
       " {'TypeId': 116, 'L1': '건강한잔디', 'L2': '기타'},\n",
       " {'TypeId': 201, 'L1': '물리적피해', 'L2': '볼마크'},\n",
       " {'TypeId': 202, 'L1': '물리적피해', 'L2': '건조피해'},\n",
       " {'TypeId': 203, 'L1': '물리적피해', 'L2': '플레이어 답압'},\n",
       " {'TypeId': 204, 'L1': '물리적피해', 'L2': '고온피해'},\n",
       " {'TypeId': 205, 'L1': '물리적피해', 'L2': '디봇'},\n",
       " {'TypeId': 206, 'L1': '물리적피해', 'L2': '과습피해'},\n",
       " {'TypeId': 207, 'L1': '물리적피해', 'L2': '약해'},\n",
       " {'TypeId': 208, 'L1': '물리적피해', 'L2': '음지피해'},\n",
       " {'TypeId': 209, 'L1': '물리적피해', 'L2': '장비피해'},\n",
       " {'TypeId': 210, 'L1': '물리적피해', 'L2': '저온피해'},\n",
       " {'TypeId': 211, 'L1': '물리적피해', 'L2': '기타피해'},\n",
       " {'TypeId': 212, 'L1': '물리적피해', 'L2': '나방류'},\n",
       " {'TypeId': 213, 'L1': '물리적피해', 'L2': '굼벵이류'},\n",
       " {'TypeId': 214, 'L1': '물리적피해', 'L2': '응애'},\n",
       " {'TypeId': 215, 'L1': '물리적피해', 'L2': '기타'},\n",
       " {'TypeId': 301, 'L1': '잡초', 'L2': '(화본과) 강아지풀'},\n",
       " {'TypeId': 302, 'L1': '잡초', 'L2': '(화본과) 개밀'},\n",
       " {'TypeId': 303, 'L1': '잡초', 'L2': '(화본과) 기타'},\n",
       " {'TypeId': 304, 'L1': '잡초', 'L2': '(화본과) 띠'},\n",
       " {'TypeId': 305, 'L1': '잡초', 'L2': '(화본과) 바랭이'},\n",
       " {'TypeId': 306, 'L1': '잡초', 'L2': '(화본과) 새포아풀'},\n",
       " {'TypeId': 307, 'L1': '잡초', 'L2': '(화본과) 왕바랭이'},\n",
       " {'TypeId': 308, 'L1': '잡초', 'L2': '(화본과) 향모'},\n",
       " {'TypeId': 309, 'L1': '잡초', 'L2': '(사초과) 기타'},\n",
       " {'TypeId': 310, 'L1': '잡초', 'L2': '(사초과) 방동사니'},\n",
       " {'TypeId': 311, 'L1': '잡초', 'L2': '(사초과) 파대가리'},\n",
       " {'TypeId': 312, 'L1': '잡초', 'L2': '(광엽) 개갓냉이'},\n",
       " {'TypeId': 313, 'L1': '잡초', 'L2': '(광엽) 개망초'},\n",
       " {'TypeId': 314, 'L1': '잡초', 'L2': '(광엽) 개여뀌'},\n",
       " {'TypeId': 315, 'L1': '잡초', 'L2': '(광엽) 괭이밥'},\n",
       " {'TypeId': 316, 'L1': '잡초', 'L2': '(광엽) 기타'},\n",
       " {'TypeId': 317, 'L1': '잡초', 'L2': '(광엽) 꽃다지'},\n",
       " {'TypeId': 318, 'L1': '잡초', 'L2': '(광엽) 꽃마리'},\n",
       " {'TypeId': 319, 'L1': '잡초', 'L2': '(광엽) 냉이'},\n",
       " {'TypeId': 320, 'L1': '잡초', 'L2': '(광엽) 닭의장풀'},\n",
       " {'TypeId': 321, 'L1': '잡초', 'L2': '(광엽) 마디풀'},\n",
       " {'TypeId': 322, 'L1': '잡초', 'L2': '(광엽) 망초'},\n",
       " {'TypeId': 323, 'L1': '잡초', 'L2': '(광엽) 매듭풀'},\n",
       " {'TypeId': 324, 'L1': '잡초', 'L2': '(광엽) 명아주'},\n",
       " {'TypeId': 325, 'L1': '잡초', 'L2': '(광엽) 민들레'},\n",
       " {'TypeId': 326, 'L1': '잡초', 'L2': '(광엽) 밭둑외풀'},\n",
       " {'TypeId': 327, 'L1': '잡초', 'L2': '(광엽) 벼룩이자리'},\n",
       " {'TypeId': 328, 'L1': '잡초', 'L2': '(광엽) 별꽃'},\n",
       " {'TypeId': 329, 'L1': '잡초', 'L2': '(광엽) 선개불알풀'},\n",
       " {'TypeId': 330, 'L1': '잡초', 'L2': '(광엽) 선피막이'},\n",
       " {'TypeId': 331, 'L1': '잡초', 'L2': '(광엽) 쇠비름'},\n",
       " {'TypeId': 332, 'L1': '잡초', 'L2': '(광엽) 애기땅빈대'},\n",
       " {'TypeId': 333, 'L1': '잡초', 'L2': '(광엽) 여뀌'},\n",
       " {'TypeId': 334, 'L1': '잡초', 'L2': '(광엽) 여뀌'},\n",
       " {'TypeId': 335, 'L1': '잡초', 'L2': '(광엽) 점너도나물'},\n",
       " {'TypeId': 336, 'L1': '잡초', 'L2': '(광엽) 제비꽃'},\n",
       " {'TypeId': 337, 'L1': '잡초', 'L2': '(광엽) 중대가리풀'},\n",
       " {'TypeId': 338, 'L1': '잡초', 'L2': '(광엽) 질경이'},\n",
       " {'TypeId': 339, 'L1': '잡초', 'L2': '(광엽) 토끼풀'},\n",
       " {'TypeId': 340, 'L1': '잡초', 'L2': '(광엽) 피막이'},\n",
       " {'TypeId': 341, 'L1': '잡초', 'L2': '(이종잔디) 기타'},\n",
       " {'TypeId': 342, 'L1': '잡초', 'L2': '(이종잔디) 이종잔디(벤트)'},\n",
       " {'TypeId': 343, 'L1': '잡초', 'L2': '(이종잔디) 이종잔디(켄터키)'},\n",
       " {'TypeId': 344, 'L1': '잡초', 'L2': '(이끼) 은이끼'},\n",
       " {'TypeId': 345, 'L1': '잡초', 'L2': '(기타) 기타'},\n",
       " {'TypeId': 401, 'L1': '병해', 'L2': '(엽고성병) 탄저병'},\n",
       " {'TypeId': 402, 'L1': '병해', 'L2': '(엽고성병) 엽고병'},\n",
       " {'TypeId': 403, 'L1': '병해', 'L2': '(엽고성병) 동전마름병'},\n",
       " {'TypeId': 404, 'L1': '병해', 'L2': '(엽고성병) 피티움블라이트'},\n",
       " {'TypeId': 405, 'L1': '병해', 'L2': '(엽고성병) 도열병'},\n",
       " {'TypeId': 406, 'L1': '병해', 'L2': '(패취류) 브라운패취'},\n",
       " {'TypeId': 407, 'L1': '병해', 'L2': '(패취류) 라지패취'},\n",
       " {'TypeId': 408, 'L1': '병해', 'L2': '(패취류) 섬머패취'},\n",
       " {'TypeId': 409, 'L1': '병해', 'L2': '(토양병) 페어리링'},\n",
       " {'TypeId': 410, 'L1': '병해', 'L2': '(토양병) 루트피티움'},\n",
       " {'TypeId': 411, 'L1': '병해', 'L2': '(조류) 남조류'},\n",
       " {'TypeId': 412, 'L1': '병해', 'L2': '(기타) 기타'},\n",
       " {'TypeId': 501, 'L1': '충해', 'L2': '나방류'},\n",
       " {'TypeId': 502, 'L1': '충해', 'L2': '굼벵이류'},\n",
       " {'TypeId': 503, 'L1': '충해', 'L2': '응애'},\n",
       " {'TypeId': 504, 'L1': '충해', 'L2': '기타'},\n",
       " {'TypeId': 0, 'L1': 'TBD', 'L2': 'TBD'}]"
      ]
     },
     "execution_count": 6,
     "metadata": {},
     "output_type": "execute_result"
    }
   ],
   "source": [
    "Total_json['label_info']"
   ]
  },
  {
   "cell_type": "code",
   "execution_count": null,
   "metadata": {},
   "outputs": [],
   "source": []
  }
 ],
 "metadata": {
  "kernelspec": {
   "display_name": "Python 3.9.2 ('geo_James')",
   "language": "python",
   "name": "python3"
  },
  "language_info": {
   "codemirror_mode": {
    "name": "ipython",
    "version": 3
   },
   "file_extension": ".py",
   "mimetype": "text/x-python",
   "name": "python",
   "nbconvert_exporter": "python",
   "pygments_lexer": "ipython3",
   "version": "3.9.7"
  },
  "orig_nbformat": 4,
  "vscode": {
   "interpreter": {
    "hash": "af734be8ad55227f26227a3bb273225e8c732a9f6283c6f58fcb510615c38890"
   }
  }
 },
 "nbformat": 4,
 "nbformat_minor": 2
}
