{
 "cells": [
  {
   "cell_type": "code",
   "execution_count": 21,
   "metadata": {},
   "outputs": [],
   "source": [
    "import pandas as pd\n",
    "import re\n",
    "import os\n",
    "import numpy as np\n",
    "import glob\n",
    "from datetime import datetime\n",
    "import boto3\n",
    "import json"
   ]
  },
  {
   "cell_type": "markdown",
   "metadata": {},
   "source": []
  },
  {
   "cell_type": "code",
   "execution_count": 22,
   "metadata": {},
   "outputs": [],
   "source": [
    "Target_year = 2023\n",
    "\n",
    "pd.set_option('display.max_rows', 20)\n",
    "pd.options.display.float_format = '{:,.1f}'.format\n",
    "\n",
    "User_Name = 'dsmapadmin'\n",
    "\n",
    "\n",
    "AWS_folder = \"./\"\n",
    "\n",
    "src_folder = os.path.join(AWS_folder,'Downloaded',User_Name)\n",
    "out_folder = os.path.join(AWS_folder,'ToUpload',User_Name)"
   ]
  },
  {
   "cell_type": "code",
   "execution_count": 23,
   "metadata": {},
   "outputs": [],
   "source": [
    "# Create Out folder if not exists\n",
    "if not os.path.exists(out_folder):\n",
    "    os.makedirs(out_folder)"
   ]
  },
  {
   "cell_type": "code",
   "execution_count": 24,
   "metadata": {},
   "outputs": [
    {
     "data": {
      "text/plain": [
       "['./ToUpload\\\\dsmapadmin\\\\area_def.json',\n",
       " './ToUpload\\\\dsmapadmin\\\\area_label_info.json',\n",
       " './ToUpload\\\\dsmapadmin\\\\course_info.json',\n",
       " './ToUpload\\\\dsmapadmin\\\\label_info.json',\n",
       " './ToUpload\\\\dsmapadmin\\\\photo copy.json',\n",
       " './ToUpload\\\\dsmapadmin\\\\photo.json',\n",
       " './ToUpload\\\\dsmapadmin\\\\turf_type.json']"
      ]
     },
     "execution_count": 24,
     "metadata": {},
     "output_type": "execute_result"
    }
   ],
   "source": [
    "files = glob.glob(os.path.join(out_folder,'*.json'))\n",
    "target_files = [ x for x in files if ('~$' not in x) ]\n",
    "target_files"
   ]
  },
  {
   "cell_type": "code",
   "execution_count": 25,
   "metadata": {},
   "outputs": [],
   "source": [
    "_file = target_files[-2]"
   ]
  },
  {
   "cell_type": "code",
   "execution_count": 26,
   "metadata": {},
   "outputs": [
    {
     "data": {
      "text/plain": [
       "[{'id': '2023090706061812864474977783566296377781569800000000',\n",
       "  'name': '2023090706061812864474977783566296377781569800000000.jpg',\n",
       "  'imgsrc': 'dsmapadmin/rgb/2023090706061812864474977783566296377781569800000000.jpg',\n",
       "  'thumbsrc': 'dsmapadmin/thumb/2023090706061812864474977783566296377781569800000000.jpg',\n",
       "  'ndvisrc': 'dsmapadmin/ndvi2023090706061812864474977783566296377781569800000000.jpg',\n",
       "  'gps': {'longitude': 128.64474977777778,\n",
       "   'latitude': 35.662963777777776,\n",
       "   'altitude': 156.98},\n",
       "  'date': '20230907 060618',\n",
       "  'info': {'type': 'TBD',\n",
       "   'typeId': 0,\n",
       "   'label': {'level1': '', 'level2': '', 'level3': '', 'TurfType': ''},\n",
       "   'desc': '',\n",
       "   'value': 0,\n",
       "   'ndvi_avg': 0,\n",
       "   'temp_avg': 0},\n",
       "  'location': {'Client': '그레이스CC', 'Course': 'LAKE', 'Hole': 1},\n",
       "  'by': 'dsmapadmin'}]"
      ]
     },
     "execution_count": 26,
     "metadata": {},
     "output_type": "execute_result"
    }
   ],
   "source": [
    "json_content = json.load(open(_file, encoding=\"utf8\"))\n",
    "json_content"
   ]
  },
  {
   "cell_type": "markdown",
   "metadata": {},
   "source": [
    "각 화일을 base.json으로 통합, 그후 가가 화일과 통합화일을 Upload"
   ]
  },
  {
   "cell_type": "code",
   "execution_count": 27,
   "metadata": {},
   "outputs": [
    {
     "data": {
      "text/plain": [
       "{'ResponseMetadata': {'RequestId': '93DT6S6N8PG51EYT',\n",
       "  'HostId': 'URHn5jUH9CnOkVIZreX6IzlXabMhQidW/X47uewkPSWDw4BoXFoDUJ//wBwK3vj6A6ku0ih3XPk=',\n",
       "  'HTTPStatusCode': 200,\n",
       "  'HTTPHeaders': {'x-amz-id-2': 'URHn5jUH9CnOkVIZreX6IzlXabMhQidW/X47uewkPSWDw4BoXFoDUJ//wBwK3vj6A6ku0ih3XPk=',\n",
       "   'x-amz-request-id': '93DT6S6N8PG51EYT',\n",
       "   'date': 'Wed, 29 Nov 2023 03:05:23 GMT',\n",
       "   'x-amz-server-side-encryption': 'AES256',\n",
       "   'etag': '\"374f7e375e0433ec7a9730fe6a537ed1\"',\n",
       "   'server': 'AmazonS3',\n",
       "   'content-length': '0'},\n",
       "  'RetryAttempts': 0},\n",
       " 'ETag': '\"374f7e375e0433ec7a9730fe6a537ed1\"',\n",
       " 'ServerSideEncryption': 'AES256'}"
      ]
     },
     "execution_count": 27,
     "metadata": {},
     "output_type": "execute_result"
    }
   ],
   "source": [
    "Total_json = {}\n",
    "\n",
    "s3 = boto3.client('s3')  \n",
    "s3.put_object(\n",
    "  Body=json.dumps(json_content).encode('utf-8'),\n",
    "  Bucket='dsmap-photo',\n",
    "  Key='public/'+User_Name + '/photo.json'\n",
    "  )"
   ]
  },
  {
   "cell_type": "code",
   "execution_count": null,
   "metadata": {},
   "outputs": [],
   "source": []
  }
 ],
 "metadata": {
  "kernelspec": {
   "display_name": "Python 3.9.2 ('geo_James')",
   "language": "python",
   "name": "python3"
  },
  "language_info": {
   "codemirror_mode": {
    "name": "ipython",
    "version": 3
   },
   "file_extension": ".py",
   "mimetype": "text/x-python",
   "name": "python",
   "nbconvert_exporter": "python",
   "pygments_lexer": "ipython3",
   "version": "3.9.18"
  },
  "orig_nbformat": 4,
  "vscode": {
   "interpreter": {
    "hash": "af734be8ad55227f26227a3bb273225e8c732a9f6283c6f58fcb510615c38890"
   }
  }
 },
 "nbformat": 4,
 "nbformat_minor": 2
}
