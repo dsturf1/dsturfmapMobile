{
 "cells": [
  {
   "cell_type": "code",
   "execution_count": 1,
   "metadata": {},
   "outputs": [],
   "source": [
    "import pandas as pd\n",
    "import re\n",
    "import os\n",
    "import numpy as np\n",
    "import glob\n",
    "from datetime import datetime\n",
    "import boto3\n",
    "import json\n",
    "import uuid"
   ]
  },
  {
   "cell_type": "code",
   "execution_count": 2,
   "metadata": {},
   "outputs": [
    {
     "data": {
      "text/plain": [
       "['20230816_1049-1053_30m/']"
      ]
     },
     "execution_count": 2,
     "metadata": {},
     "output_type": "execute_result"
    }
   ],
   "source": [
    "s3 = boto3.resource('s3')\n",
    "bucket = s3.Bucket('ds-niaimages')\n",
    "\n",
    "folders = set()\n",
    "\n",
    "for obj in bucket.objects.all():\n",
    "    prefix, delimiter, _ = obj.key.rpartition('/')\n",
    "    if prefix:\n",
    "      folders.add(prefix + '/')\n",
    "list(folders)"
   ]
  },
  {
   "cell_type": "code",
   "execution_count": 28,
   "metadata": {},
   "outputs": [
    {
     "data": {
      "text/plain": [
       "{'ResponseMetadata': {'RequestId': 'MX1XWK7B7067CAVF',\n",
       "  'HostId': 'f933m9woMgGkDByQYefc6KP4jkK9FjMtveKOQc0DZ5SWi2HWjM0szIMGDX6/7T5RzC9mdvhPR60=',\n",
       "  'HTTPStatusCode': 200,\n",
       "  'HTTPHeaders': {'x-amz-id-2': 'f933m9woMgGkDByQYefc6KP4jkK9FjMtveKOQc0DZ5SWi2HWjM0szIMGDX6/7T5RzC9mdvhPR60=',\n",
       "   'x-amz-request-id': 'MX1XWK7B7067CAVF',\n",
       "   'date': 'Sun, 27 Aug 2023 01:15:14 GMT',\n",
       "   'x-amz-bucket-region': 'us-east-1',\n",
       "   'content-type': 'application/xml',\n",
       "   'transfer-encoding': 'chunked',\n",
       "   'server': 'AmazonS3'},\n",
       "  'RetryAttempts': 0},\n",
       " 'IsTruncated': False,\n",
       " 'Contents': [{'Key': '20230816_1049-1053_30m/DJI_20230816105153_0356_D.JPG',\n",
       "   'LastModified': datetime.datetime(2023, 8, 27, 0, 37, 17, tzinfo=tzutc()),\n",
       "   'ETag': '\"f8bea9e8c3d64927201ba896c077a767\"',\n",
       "   'Size': 5275648,\n",
       "   'StorageClass': 'STANDARD'},\n",
       "  {'Key': '20230816_1049-1053_30m/DJI_20230816105153_0356_MS_G.TIF',\n",
       "   'LastModified': datetime.datetime(2023, 8, 27, 0, 37, 19, tzinfo=tzutc()),\n",
       "   'ETag': '\"46ec25c591c491a1c73c02f89445aa65\"',\n",
       "   'Size': 10087424,\n",
       "   'StorageClass': 'STANDARD'},\n",
       "  {'Key': '20230816_1049-1053_30m/DJI_20230816105153_0356_MS_NIR.TIF',\n",
       "   'LastModified': datetime.datetime(2023, 8, 27, 0, 37, 21, tzinfo=tzutc()),\n",
       "   'ETag': '\"a9edc3a16c48b7b198996c363409bfa5\"',\n",
       "   'Size': 10087424,\n",
       "   'StorageClass': 'STANDARD'},\n",
       "  {'Key': '20230816_1049-1053_30m/DJI_20230816105153_0356_MS_R.TIF',\n",
       "   'LastModified': datetime.datetime(2023, 8, 27, 0, 37, 23, tzinfo=tzutc()),\n",
       "   'ETag': '\"a1732d150c304ed092b924898e2dce26\"',\n",
       "   'Size': 10087424,\n",
       "   'StorageClass': 'STANDARD'},\n",
       "  {'Key': '20230816_1049-1053_30m/DJI_20230816105153_0356_MS_RE.TIF',\n",
       "   'LastModified': datetime.datetime(2023, 8, 27, 0, 37, 25, tzinfo=tzutc()),\n",
       "   'ETag': '\"53edee5ffb4b4f1e14330b0b8bfc5859\"',\n",
       "   'Size': 10087424,\n",
       "   'StorageClass': 'STANDARD'},\n",
       "  {'Key': '20230816_1049-1053_30m/DJI_20230816105155_0357_D.JPG',\n",
       "   'LastModified': datetime.datetime(2023, 8, 27, 0, 37, 27, tzinfo=tzutc()),\n",
       "   'ETag': '\"2679cea34c2efc00ca07505c02a6624b\"',\n",
       "   'Size': 5234688,\n",
       "   'StorageClass': 'STANDARD'},\n",
       "  {'Key': '20230816_1049-1053_30m/DJI_20230816105155_0357_MS_G.TIF',\n",
       "   'LastModified': datetime.datetime(2023, 8, 27, 0, 37, 29, tzinfo=tzutc()),\n",
       "   'ETag': '\"483849d33dbeea9fa43585a50cf429e9\"',\n",
       "   'Size': 10087424,\n",
       "   'StorageClass': 'STANDARD'},\n",
       "  {'Key': '20230816_1049-1053_30m/DJI_20230816105155_0357_MS_NIR.TIF',\n",
       "   'LastModified': datetime.datetime(2023, 8, 27, 0, 37, 31, tzinfo=tzutc()),\n",
       "   'ETag': '\"ae3cfa69e7d6854c25ff9f40a2e38e47\"',\n",
       "   'Size': 10087424,\n",
       "   'StorageClass': 'STANDARD'},\n",
       "  {'Key': '20230816_1049-1053_30m/DJI_20230816105155_0357_MS_R.TIF',\n",
       "   'LastModified': datetime.datetime(2023, 8, 27, 0, 37, 33, tzinfo=tzutc()),\n",
       "   'ETag': '\"8ed6d0f081b413c7e3048598cf1dfd10\"',\n",
       "   'Size': 10087424,\n",
       "   'StorageClass': 'STANDARD'},\n",
       "  {'Key': '20230816_1049-1053_30m/DJI_20230816105155_0357_MS_RE.TIF',\n",
       "   'LastModified': datetime.datetime(2023, 8, 27, 0, 37, 35, tzinfo=tzutc()),\n",
       "   'ETag': '\"64385abaaf935ff17bcbac99f6669dce\"',\n",
       "   'Size': 10087424,\n",
       "   'StorageClass': 'STANDARD'}],\n",
       " 'Name': 'ds-niaimages',\n",
       " 'Prefix': '',\n",
       " 'MaxKeys': 1000,\n",
       " 'EncodingType': 'url',\n",
       " 'KeyCount': 10}"
      ]
     },
     "execution_count": 28,
     "metadata": {},
     "output_type": "execute_result"
    }
   ],
   "source": [
    "client = boto3.client('s3')\n",
    "\n",
    "\n",
    "\n",
    "response = client.list_objects_v2(\n",
    "    Bucket='ds-niaimages',\n",
    "    # Prefix='/', \n",
    "    # Delimiter='/'\n",
    "    )\n",
    "\n",
    "folders = []\n",
    "\n",
    "for obj in bucket.objects.all():\n",
    "    prefix, delimiter, _ = obj.key.rpartition('/')\n",
    "    if prefix:\n",
    "        folders.add(prefix + '/')\n",
    "\n",
    "\n",
    "for obj in response['Contents']:\n",
    "  # if obj['Key'].endswith('/'):\n",
    "    folders.append(obj['Key'])\n",
    "\n",
    "response"
   ]
  },
  {
   "cell_type": "code",
   "execution_count": 11,
   "metadata": {},
   "outputs": [],
   "source": [
    "Target_year = 2023\n",
    "\n",
    "pd.set_option('display.max_rows', 20)\n",
    "pd.options.display.float_format = '{:,.1f}'.format\n",
    "\n",
    "User_Name = 'dsadmin'\n",
    "\n",
    "\n",
    "AWS_folder = \"./\"\n",
    "\n",
    "src_folder = os.path.join(AWS_folder,'Downloaded',User_Name, 'geojson')\n",
    "out_folder = os.path.join(AWS_folder,'ToUpload',User_Name, 'geojson')\n",
    "course_folder = os.path.join(AWS_folder,'ToUpload',User_Name, 'coursegeojson')\n",
    "info_folder = os.path.join(AWS_folder,'ToUpload',User_Name)"
   ]
  },
  {
   "cell_type": "markdown",
   "metadata": {},
   "source": [
    "AREA Definition File을 Load"
   ]
  },
  {
   "cell_type": "code",
   "execution_count": 4,
   "metadata": {},
   "outputs": [],
   "source": [
    "files = glob.glob(os.path.join(info_folder,'*.json'))\n",
    "target_files = [ x for x in files if ('~$' not in x) ]\n",
    "area_def = json.load(open(target_files[0], encoding=\"utf8\"))"
   ]
  },
  {
   "cell_type": "code",
   "execution_count": 5,
   "metadata": {},
   "outputs": [],
   "source": [
    "# Create Out folder if not exists\n",
    "if not os.path.exists(out_folder):\n",
    "    os.makedirs(out_folder)"
   ]
  },
  {
   "cell_type": "code",
   "execution_count": null,
   "metadata": {},
   "outputs": [],
   "source": []
  },
  {
   "cell_type": "markdown",
   "metadata": {},
   "source": [
    "S3에 있는 GEOJSON화일을 Check ... Not load Yet"
   ]
  },
  {
   "cell_type": "code",
   "execution_count": 6,
   "metadata": {},
   "outputs": [
    {
     "data": {
      "text/plain": [
       "['samjigi/geojson/MGC001.json', 'samjigi/geojson/MGC002.json']"
      ]
     },
     "execution_count": 6,
     "metadata": {},
     "output_type": "execute_result"
    }
   ],
   "source": [
    "\n",
    "client = boto3.client('s3')\n",
    "\n",
    "response = client.list_objects_v2(\n",
    "    Bucket='dsmapdata',\n",
    "    Prefix='samjigi'+'/geojson/')\n",
    "\n",
    "list = [x['Key'] for x in response.get('Contents', [])]\n",
    "list = [ x for x in list if ('MGC' in x) ]\n",
    "list\n"
   ]
  },
  {
   "cell_type": "markdown",
   "metadata": {},
   "source": [
    "base.json file이 모든 정보를 가지고 있으므로 이화일만 다운로드\n",
    "그 후 내용 화일로 분리"
   ]
  },
  {
   "cell_type": "code",
   "execution_count": 7,
   "metadata": {},
   "outputs": [
    {
     "name": "stdout",
     "output_type": "stream",
     "text": [
      "./ToUpload\\dsadmin\\geojson\\MGC001.json\n",
      "./ToUpload\\dsadmin\\geojson\\MGC002.json\n"
     ]
    }
   ],
   "source": [
    "s3 = boto3.client('s3')\n",
    "\n",
    "for file_ in list:\n",
    "  content_object = s3.get_object(Bucket = 'dsmapdata', Key = file_)\n",
    "  file_content = content_object['Body'].read().decode('utf-8')\n",
    "  json_content = json.loads(file_content)\n",
    "\n",
    "  for json_ in json_content['features']:\n",
    "    json_['properties'] = ({\n",
    "            \"Name\": \"Contour_\",\n",
    "            \"Id\":str(uuid.uuid4()),\n",
    "            \"Client\": json_['properties']['Client'],\n",
    "            \"Course\": json_['properties']['Course'],            \n",
    "            \"Hole\": 0 if json_['properties']['Hole'] == '' else int(float(json_['properties']['Hole'])),\n",
    "            \"Type\": json_['properties']['Type'],\n",
    "            \"TypeId\": next(item for item in area_def if item['name'] == json_['properties']['Type'])['TypeId'],\n",
    "            \"Desc\": \"\",\n",
    "            \"Valid\":True,\n",
    "            \"By\":\"\",\n",
    "            \"When\":\"\",\n",
    "            \"Labels\":[{ 'level1':\"\", 'level2':\"\", 'level3':\"\",'TurfType':\"\"}],\n",
    "            \"LabelL1\":\"\",\n",
    "            \"LabelL2\":\"\",\n",
    "            \"TurfType\":\"\",\n",
    "            \"Start\": \"\",\n",
    "            \"End\": \"\",\n",
    "            \"radius\": json_['properties'].get('radius',0),    \n",
    "            \"center\": json_['properties'].get('center',[]),    \n",
    "          })\n",
    "\n",
    "  #   json_['geometry']['coordinates'] = [json_['geometry']['coordinates'][0]+[json_['geometry']['coordinates'][0][0]]]\n",
    "      \n",
    "  file_to_save = os.path.join(out_folder ,file_.split('/')[2])\n",
    "  print(file_to_save)\n",
    "  with open(file_to_save, \"w\", encoding=\"utf-8\") as file:\n",
    "    file.write(json.dumps(json_content, ensure_ascii=False))"
   ]
  },
  {
   "cell_type": "code",
   "execution_count": 14,
   "metadata": {},
   "outputs": [
    {
     "data": {
      "text/plain": [
       "['./ToUpload\\\\dsadmin\\\\geojson\\\\MGC001.json',\n",
       " './ToUpload\\\\dsadmin\\\\geojson\\\\MGC002.json']"
      ]
     },
     "execution_count": 14,
     "metadata": {},
     "output_type": "execute_result"
    }
   ],
   "source": [
    "files = glob.glob(os.path.join(out_folder,'*.json'))\n",
    "target_files = [ x for x in files if ('~$' not in x) ]\n",
    "target_files"
   ]
  },
  {
   "cell_type": "code",
   "execution_count": 15,
   "metadata": {},
   "outputs": [
    {
     "data": {
      "text/plain": [
       "'MGC001'"
      ]
     },
     "execution_count": 15,
     "metadata": {},
     "output_type": "execute_result"
    }
   ],
   "source": [
    "os.path.splitext(os.path.basename(target_files[0]))[0]"
   ]
  },
  {
   "cell_type": "markdown",
   "metadata": {},
   "source": [
    "각 화일을 base.json으로 통합, 그후 가가 화일과 통합화일을 Upload"
   ]
  },
  {
   "cell_type": "code",
   "execution_count": 16,
   "metadata": {},
   "outputs": [],
   "source": [
    "Total_json = {}\n",
    "\n",
    "s3 = boto3.client('s3')\n",
    "for _file in target_files:\n",
    "  f_ = os.path.splitext(os.path.basename(_file))[0]\n",
    "  json_content_ = json.load(open(_file, encoding=\"utf8\"))\n",
    "  Total_json[f_] = json_content_\n",
    "  s3.put_object(Body=json.dumps(json_content_).encode('utf-8'),Bucket='dsmapdata',Key=User_Name+'/geojson/{}.json'.format(f_))\n",
    "  \n",
    "# s3.put_object(\n",
    "#   Body=json.dumps(Total_json).encode('utf-8'),\n",
    "#   Bucket='dsmapdata',\n",
    "#   Key=User_Name + '/base.json'\n",
    "#   )"
   ]
  },
  {
   "cell_type": "code",
   "execution_count": 12,
   "metadata": {},
   "outputs": [
    {
     "data": {
      "text/plain": [
       "['./ToUpload\\\\dsadmin\\\\coursegeojson\\\\MGC001.json',\n",
       " './ToUpload\\\\dsadmin\\\\coursegeojson\\\\MGC002.json']"
      ]
     },
     "execution_count": 12,
     "metadata": {},
     "output_type": "execute_result"
    }
   ],
   "source": [
    "files = glob.glob(os.path.join(course_folder,'*.json'))\n",
    "target_files = [ x for x in files if ('~$' not in x) ]\n",
    "target_files"
   ]
  },
  {
   "cell_type": "code",
   "execution_count": 13,
   "metadata": {},
   "outputs": [],
   "source": [
    "Total_json = {}\n",
    "\n",
    "s3 = boto3.client('s3')\n",
    "for _file in target_files:\n",
    "  f_ = os.path.splitext(os.path.basename(_file))[0]\n",
    "  json_content_ = json.load(open(_file, encoding=\"utf8\"))\n",
    "  Total_json[f_] = json_content_\n",
    "  s3.put_object(Body=json.dumps(json_content_).encode('utf-8'),Bucket='dsmapdata',Key=User_Name+'/coursegeojson/{}.json'.format(f_))\n",
    "  \n",
    "# s3.put_object(\n",
    "#   Body=json.dumps(Total_json).encode('utf-8'),\n",
    "#   Bucket='dsmapdata',\n",
    "#   Key=User_Name + '/base.json'\n",
    "#   )"
   ]
  },
  {
   "cell_type": "code",
   "execution_count": null,
   "metadata": {},
   "outputs": [],
   "source": []
  }
 ],
 "metadata": {
  "kernelspec": {
   "display_name": "Python 3.9.2 ('geo_James')",
   "language": "python",
   "name": "python3"
  },
  "language_info": {
   "codemirror_mode": {
    "name": "ipython",
    "version": 3
   },
   "file_extension": ".py",
   "mimetype": "text/x-python",
   "name": "python",
   "nbconvert_exporter": "python",
   "pygments_lexer": "ipython3",
   "version": "3.9.2"
  },
  "orig_nbformat": 4,
  "vscode": {
   "interpreter": {
    "hash": "af734be8ad55227f26227a3bb273225e8c732a9f6283c6f58fcb510615c38890"
   }
  }
 },
 "nbformat": 4,
 "nbformat_minor": 2
}
