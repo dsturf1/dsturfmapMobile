{
 "cells": [
  {
   "cell_type": "code",
   "execution_count": 88,
   "metadata": {},
   "outputs": [],
   "source": [
    "import pandas as pd\n",
    "import re\n",
    "import os\n",
    "import numpy as np\n",
    "import glob\n",
    "from datetime import datetime\n",
    "import boto3\n",
    "import json"
   ]
  },
  {
   "cell_type": "code",
   "execution_count": 89,
   "metadata": {},
   "outputs": [],
   "source": [
    "Target_year = 2023\n",
    "\n",
    "pd.set_option('display.max_rows', 20)\n",
    "pd.options.display.float_format = '{:,.1f}'.format\n",
    "\n",
    "User_Name = 'ftp_yido'\n",
    "Admin_Name = 'dsadmin'\n",
    "\n",
    "\n",
    "AWS_folder = \"./\"\n",
    "\n",
    "src_folder = os.path.join(AWS_folder,'ToUpload',Admin_Name)\n",
    "out_folder = os.path.join(AWS_folder,'ToUpload',User_Name)"
   ]
  },
  {
   "cell_type": "code",
   "execution_count": 90,
   "metadata": {},
   "outputs": [
    {
     "data": {
      "text/plain": [
       "['./ToUpload\\\\dsadmin\\\\area_def.json',\n",
       " './ToUpload\\\\dsadmin\\\\course_info.json',\n",
       " './ToUpload\\\\dsadmin\\\\label_info.json',\n",
       " './ToUpload\\\\dsadmin\\\\turf_type.json',\n",
       " './ToUpload\\\\dsadmin\\\\coursegeojson\\\\MGC001.json',\n",
       " './ToUpload\\\\dsadmin\\\\coursegeojson\\\\MGC002.json',\n",
       " './ToUpload\\\\dsadmin\\\\geojson\\\\MGC001.json',\n",
       " './ToUpload\\\\dsadmin\\\\geojson\\\\MGC002.json']"
      ]
     },
     "execution_count": 90,
     "metadata": {},
     "output_type": "execute_result"
    }
   ],
   "source": [
    "files = glob.glob(os.path.join(src_folder,'**/*.json'), recursive = True)\n",
    "target_files = [ x for x in files if ('~$' not in x) ]\n",
    "target_files"
   ]
  },
  {
   "cell_type": "code",
   "execution_count": 91,
   "metadata": {},
   "outputs": [
    {
     "name": "stdout",
     "output_type": "stream",
     "text": [
      "./ToUpload\\ftp_yido\\area_def.json\n",
      "./ToUpload\\ftp_yido\\course_info.json\n",
      "./ToUpload\\ftp_yido\\label_info.json\n",
      "./ToUpload\\ftp_yido\\turf_type.json\n",
      "./ToUpload\\ftp_yido\\coursegeojson\\MGC001.json\n",
      "./ToUpload\\ftp_yido\\coursegeojson\\MGC002.json\n",
      "./ToUpload\\ftp_yido\\geojson\\MGC001.json\n",
      "./ToUpload\\ftp_yido\\geojson\\MGC002.json\n"
     ]
    }
   ],
   "source": [
    "import shutil\n",
    "\n",
    "files = glob.glob(os.path.join(src_folder,'**/*.json'), recursive = True)\n",
    "target_files = [ x for x in files if ('~$' not in x) ]\n",
    "\n",
    "for f_ in target_files:\n",
    "  path_ = os.path.normpath(f_)\n",
    "  paths_ = path_.split(os.sep)\n",
    "  to_be_save = os.path.join(out_folder,(os.sep).join(paths_[2:]))\n",
    "  print(to_be_save)\n",
    "  if not os.path.exists(os.path.split(to_be_save)[0]):\n",
    "    os.makedirs(os.path.split(to_be_save)[0])\n",
    "\n",
    "  shutil.copy(f_, to_be_save)"
   ]
  },
  {
   "cell_type": "code",
   "execution_count": 92,
   "metadata": {},
   "outputs": [
    {
     "data": {
      "text/plain": [
       "['./ToUpload\\\\ftp_yido\\\\area_def.json',\n",
       " './ToUpload\\\\ftp_yido\\\\course_info.json',\n",
       " './ToUpload\\\\ftp_yido\\\\label_info.json',\n",
       " './ToUpload\\\\ftp_yido\\\\turf_type.json']"
      ]
     },
     "execution_count": 92,
     "metadata": {},
     "output_type": "execute_result"
    }
   ],
   "source": [
    "files = glob.glob(os.path.join(out_folder,'*.json'))\n",
    "target_files = [ x for x in files if ('~$' not in x) ]\n",
    "target_files"
   ]
  },
  {
   "cell_type": "code",
   "execution_count": 93,
   "metadata": {},
   "outputs": [
    {
     "name": "stdout",
     "output_type": "stream",
     "text": [
      "ftp_yido/area_def.json\n",
      "ftp_yido/course_info.json\n",
      "ftp_yido/label_info.json\n",
      "ftp_yido/turf_type.json\n"
     ]
    },
    {
     "data": {
      "text/plain": [
       "{'ResponseMetadata': {'RequestId': 'H00BJMS4D6GEH5F6',\n",
       "  'HostId': 'Lu5fyxYjUFs7nOuOLDe+FwjWyM58qz6fWcc+AxOjgN0WHq0VPPkpPLZ0XONLuou00fBM5Q8MoKA=',\n",
       "  'HTTPStatusCode': 200,\n",
       "  'HTTPHeaders': {'x-amz-id-2': 'Lu5fyxYjUFs7nOuOLDe+FwjWyM58qz6fWcc+AxOjgN0WHq0VPPkpPLZ0XONLuou00fBM5Q8MoKA=',\n",
       "   'x-amz-request-id': 'H00BJMS4D6GEH5F6',\n",
       "   'date': 'Thu, 28 Sep 2023 04:25:31 GMT',\n",
       "   'x-amz-server-side-encryption': 'AES256',\n",
       "   'etag': '\"e129d91cffc76001dbb1f5ba8651a076\"',\n",
       "   'server': 'AmazonS3',\n",
       "   'content-length': '0'},\n",
       "  'RetryAttempts': 0},\n",
       " 'ETag': '\"e129d91cffc76001dbb1f5ba8651a076\"',\n",
       " 'ServerSideEncryption': 'AES256'}"
      ]
     },
     "execution_count": 93,
     "metadata": {},
     "output_type": "execute_result"
    }
   ],
   "source": [
    "Total_json = {}\n",
    "\n",
    "s3 = boto3.client('s3')\n",
    "\n",
    "for _file in target_files:\n",
    "  f_ = os.path.splitext(os.path.basename(_file))[0]\n",
    "  json_content_ = json.load(open(_file, encoding=\"utf8\"))\n",
    "  Total_json[f_] = json_content_\n",
    "  print(User_Name + '/{}.json'.format(f_))\n",
    "  s3.put_object(Body=json.dumps(json_content_).encode('utf-8'),Bucket='dsmapdata',Key=User_Name + '/{}.json'.format(f_))\n",
    "  \n",
    "s3.put_object(\n",
    "  Body=json.dumps(Total_json).encode('utf-8'),\n",
    "  Bucket='dsmapdata',\n",
    "  Key=User_Name + '/base.json'\n",
    "  )"
   ]
  },
  {
   "cell_type": "code",
   "execution_count": 94,
   "metadata": {},
   "outputs": [
    {
     "data": {
      "text/plain": [
       "dict_keys(['area_def', 'course_info', 'label_info', 'turf_type'])"
      ]
     },
     "execution_count": 94,
     "metadata": {},
     "output_type": "execute_result"
    }
   ],
   "source": [
    "Total_json.keys()"
   ]
  },
  {
   "cell_type": "code",
   "execution_count": 95,
   "metadata": {},
   "outputs": [
    {
     "data": {
      "text/plain": [
       "['./ToUpload\\\\ftp_yido\\\\coursegeojson\\\\MGC001.json',\n",
       " './ToUpload\\\\ftp_yido\\\\coursegeojson\\\\MGC002.json',\n",
       " './ToUpload\\\\ftp_yido\\\\geojson\\\\MGC001.json',\n",
       " './ToUpload\\\\ftp_yido\\\\geojson\\\\MGC002.json']"
      ]
     },
     "execution_count": 95,
     "metadata": {},
     "output_type": "execute_result"
    }
   ],
   "source": [
    "files = glob.glob(os.path.join(out_folder,'*/*.json'))\n",
    "target_files = [ x for x in files if ('~$' not in x) ]\n",
    "target_files"
   ]
  },
  {
   "cell_type": "code",
   "execution_count": 96,
   "metadata": {},
   "outputs": [
    {
     "name": "stdout",
     "output_type": "stream",
     "text": [
      "ftp_yido/coursegeojson/MGC001.json\n",
      "ftp_yido/coursegeojson/MGC002.json\n",
      "ftp_yido/geojson/MGC001.json\n",
      "ftp_yido/geojson/MGC002.json\n"
     ]
    }
   ],
   "source": [
    "for _file in target_files:\n",
    "  path_ = os.path.normpath(_file)\n",
    "  paths_ = path_.split(os.sep)\n",
    "  json_content_ = json.load(open(_file, encoding=\"utf8\"))\n",
    "  print(User_Name +'/' +paths_[2]+'/' +paths_[3])\n",
    "  s3.put_object(Body=json.dumps(json_content_).encode('utf-8'),Bucket='dsmapdata',Key=User_Name +'/'+ paths_[2]+ '/' +paths_[3])"
   ]
  },
  {
   "cell_type": "code",
   "execution_count": null,
   "metadata": {},
   "outputs": [],
   "source": []
  },
  {
   "cell_type": "code",
   "execution_count": null,
   "metadata": {},
   "outputs": [],
   "source": []
  }
 ],
 "metadata": {
  "kernelspec": {
   "display_name": "Python 3.9.2 ('geo_James')",
   "language": "python",
   "name": "python3"
  },
  "language_info": {
   "codemirror_mode": {
    "name": "ipython",
    "version": 3
   },
   "file_extension": ".py",
   "mimetype": "text/x-python",
   "name": "python",
   "nbconvert_exporter": "python",
   "pygments_lexer": "ipython3",
   "version": "3.9.7"
  },
  "orig_nbformat": 4,
  "vscode": {
   "interpreter": {
    "hash": "af734be8ad55227f26227a3bb273225e8c732a9f6283c6f58fcb510615c38890"
   }
  }
 },
 "nbformat": 4,
 "nbformat_minor": 2
}
