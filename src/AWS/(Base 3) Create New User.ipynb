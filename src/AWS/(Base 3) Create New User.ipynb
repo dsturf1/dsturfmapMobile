{
 "cells": [
  {
   "cell_type": "code",
   "execution_count": 1,
   "metadata": {},
   "outputs": [],
   "source": [
    "import pandas as pd\n",
    "import re\n",
    "import os\n",
    "import numpy as np\n",
    "import glob\n",
    "from datetime import datetime\n",
    "import boto3\n",
    "import json"
   ]
  },
  {
   "cell_type": "code",
   "execution_count": 10,
   "metadata": {},
   "outputs": [],
   "source": [
    "Target_year = 2023\n",
    "\n",
    "pd.set_option('display.max_rows', 20)\n",
    "pd.options.display.float_format = '{:,.1f}'.format\n",
    "\n",
    "User_Name = 'yc463cor'\n",
    "Admin_Name = 'dsadmin'\n",
    "\n",
    "\n",
    "AWS_folder = \"./\"\n",
    "\n",
    "src_folder = os.path.join(AWS_folder,'ToUpload',Admin_Name)\n",
    "out_folder = os.path.join(AWS_folder,'ToUpload',User_Name)"
   ]
  },
  {
   "cell_type": "code",
   "execution_count": 11,
   "metadata": {},
   "outputs": [
    {
     "data": {
      "text/plain": [
       "['./ToUpload\\\\dsadmin\\\\area_def.json',\n",
       " './ToUpload\\\\dsadmin\\\\course_info.json',\n",
       " './ToUpload\\\\dsadmin\\\\label_info.json',\n",
       " './ToUpload\\\\dsadmin\\\\turf_type.json',\n",
       " './ToUpload\\\\dsadmin\\\\coursegeojson\\\\MGC001.json',\n",
       " './ToUpload\\\\dsadmin\\\\coursegeojson\\\\MGC002.json',\n",
       " './ToUpload\\\\dsadmin\\\\geojson\\\\MGC001.json',\n",
       " './ToUpload\\\\dsadmin\\\\geojson\\\\MGC002.json']"
      ]
     },
     "execution_count": 11,
     "metadata": {},
     "output_type": "execute_result"
    }
   ],
   "source": [
    "files = glob.glob(os.path.join(src_folder,'**/*.json'), recursive = True)\n",
    "target_files = [ x for x in files if ('~$' not in x) ]\n",
    "target_files"
   ]
  },
  {
   "cell_type": "code",
   "execution_count": 12,
   "metadata": {},
   "outputs": [
    {
     "name": "stdout",
     "output_type": "stream",
     "text": [
      "./ToUpload\\yc463cor\\area_def.json\n",
      "./ToUpload\\yc463cor\\course_info.json\n",
      "./ToUpload\\yc463cor\\label_info.json\n",
      "./ToUpload\\yc463cor\\turf_type.json\n",
      "./ToUpload\\yc463cor\\coursegeojson\\MGC001.json\n",
      "./ToUpload\\yc463cor\\coursegeojson\\MGC002.json\n",
      "./ToUpload\\yc463cor\\geojson\\MGC001.json\n",
      "./ToUpload\\yc463cor\\geojson\\MGC002.json\n"
     ]
    }
   ],
   "source": [
    "import shutil\n",
    "\n",
    "files = glob.glob(os.path.join(src_folder,'**/*.json'), recursive = True)\n",
    "target_files = [ x for x in files if ('~$' not in x) ]\n",
    "\n",
    "for f_ in target_files:\n",
    "  path_ = os.path.normpath(f_)\n",
    "  paths_ = path_.split(os.sep)\n",
    "  to_be_save = os.path.join(out_folder,(os.sep).join(paths_[2:]))\n",
    "  print(to_be_save)\n",
    "  if not os.path.exists(os.path.split(to_be_save)[0]):\n",
    "    os.makedirs(os.path.split(to_be_save)[0])\n",
    "\n",
    "  shutil.copy(f_, to_be_save)"
   ]
  },
  {
   "cell_type": "code",
   "execution_count": 13,
   "metadata": {},
   "outputs": [
    {
     "data": {
      "text/plain": [
       "['./ToUpload\\\\yc463cor\\\\area_def.json',\n",
       " './ToUpload\\\\yc463cor\\\\course_info.json',\n",
       " './ToUpload\\\\yc463cor\\\\label_info.json',\n",
       " './ToUpload\\\\yc463cor\\\\turf_type.json']"
      ]
     },
     "execution_count": 13,
     "metadata": {},
     "output_type": "execute_result"
    }
   ],
   "source": [
    "files = glob.glob(os.path.join(out_folder,'*.json'))\n",
    "target_files = [ x for x in files if ('~$' not in x) ]\n",
    "target_files"
   ]
  },
  {
   "cell_type": "code",
   "execution_count": 14,
   "metadata": {},
   "outputs": [
    {
     "name": "stdout",
     "output_type": "stream",
     "text": [
      "yc463cor/area_def.json\n",
      "yc463cor/course_info.json\n",
      "yc463cor/label_info.json\n",
      "yc463cor/turf_type.json\n"
     ]
    },
    {
     "data": {
      "text/plain": [
       "{'ResponseMetadata': {'RequestId': 'V9VZZ8SS1DM3RNVH',\n",
       "  'HostId': 'fTKmqL3EbZfvjU2ps8L6WSsb6ffqQSHm8+Eq4azwROpVsxcg2k03f6SWalfmj6JUvg/8ZkE9YsM=',\n",
       "  'HTTPStatusCode': 200,\n",
       "  'HTTPHeaders': {'x-amz-id-2': 'fTKmqL3EbZfvjU2ps8L6WSsb6ffqQSHm8+Eq4azwROpVsxcg2k03f6SWalfmj6JUvg/8ZkE9YsM=',\n",
       "   'x-amz-request-id': 'V9VZZ8SS1DM3RNVH',\n",
       "   'date': 'Sat, 30 Sep 2023 04:41:02 GMT',\n",
       "   'x-amz-server-side-encryption': 'AES256',\n",
       "   'etag': '\"fe81584835e15866bd3400e16f365de3\"',\n",
       "   'server': 'AmazonS3',\n",
       "   'content-length': '0'},\n",
       "  'RetryAttempts': 0},\n",
       " 'ETag': '\"fe81584835e15866bd3400e16f365de3\"',\n",
       " 'ServerSideEncryption': 'AES256'}"
      ]
     },
     "execution_count": 14,
     "metadata": {},
     "output_type": "execute_result"
    }
   ],
   "source": [
    "Total_json = {}\n",
    "\n",
    "s3 = boto3.client('s3')\n",
    "\n",
    "for _file in target_files:\n",
    "  f_ = os.path.splitext(os.path.basename(_file))[0]\n",
    "  json_content_ = json.load(open(_file, encoding=\"utf8\"))\n",
    "  Total_json[f_] = json_content_\n",
    "  print(User_Name + '/{}.json'.format(f_))\n",
    "  s3.put_object(Body=json.dumps(json_content_).encode('utf-8'),Bucket='dsmapdata',Key=User_Name + '/{}.json'.format(f_))\n",
    "  \n",
    "s3.put_object(\n",
    "  Body=json.dumps(Total_json).encode('utf-8'),\n",
    "  Bucket='dsmapdata',\n",
    "  Key=User_Name + '/base.json'\n",
    "  )"
   ]
  },
  {
   "cell_type": "code",
   "execution_count": 15,
   "metadata": {},
   "outputs": [
    {
     "data": {
      "text/plain": [
       "dict_keys(['area_def', 'course_info', 'label_info', 'turf_type'])"
      ]
     },
     "execution_count": 15,
     "metadata": {},
     "output_type": "execute_result"
    }
   ],
   "source": [
    "Total_json.keys()"
   ]
  },
  {
   "cell_type": "code",
   "execution_count": 16,
   "metadata": {},
   "outputs": [
    {
     "data": {
      "text/plain": [
       "['./ToUpload\\\\yc463cor\\\\coursegeojson\\\\MGC001.json',\n",
       " './ToUpload\\\\yc463cor\\\\coursegeojson\\\\MGC002.json',\n",
       " './ToUpload\\\\yc463cor\\\\geojson\\\\MGC001.json',\n",
       " './ToUpload\\\\yc463cor\\\\geojson\\\\MGC002.json']"
      ]
     },
     "execution_count": 16,
     "metadata": {},
     "output_type": "execute_result"
    }
   ],
   "source": [
    "files = glob.glob(os.path.join(out_folder,'*/*.json'))\n",
    "target_files = [ x for x in files if ('~$' not in x) ]\n",
    "target_files"
   ]
  },
  {
   "cell_type": "code",
   "execution_count": 17,
   "metadata": {},
   "outputs": [
    {
     "name": "stdout",
     "output_type": "stream",
     "text": [
      "yc463cor/coursegeojson/MGC001.json\n",
      "yc463cor/coursegeojson/MGC002.json\n",
      "yc463cor/geojson/MGC001.json\n",
      "yc463cor/geojson/MGC002.json\n"
     ]
    }
   ],
   "source": [
    "for _file in target_files:\n",
    "  path_ = os.path.normpath(_file)\n",
    "  paths_ = path_.split(os.sep)\n",
    "  json_content_ = json.load(open(_file, encoding=\"utf8\"))\n",
    "  print(User_Name +'/' +paths_[2]+'/' +paths_[3])\n",
    "  s3.put_object(Body=json.dumps(json_content_).encode('utf-8'),Bucket='dsmapdata',Key=User_Name +'/'+ paths_[2]+ '/' +paths_[3])"
   ]
  },
  {
   "cell_type": "code",
   "execution_count": null,
   "metadata": {},
   "outputs": [],
   "source": []
  },
  {
   "cell_type": "code",
   "execution_count": null,
   "metadata": {},
   "outputs": [],
   "source": []
  }
 ],
 "metadata": {
  "kernelspec": {
   "display_name": "Python 3.9.2 ('geo_James')",
   "language": "python",
   "name": "python3"
  },
  "language_info": {
   "codemirror_mode": {
    "name": "ipython",
    "version": 3
   },
   "file_extension": ".py",
   "mimetype": "text/x-python",
   "name": "python",
   "nbconvert_exporter": "python",
   "pygments_lexer": "ipython3",
   "version": "3.9.7"
  },
  "orig_nbformat": 4,
  "vscode": {
   "interpreter": {
    "hash": "af734be8ad55227f26227a3bb273225e8c732a9f6283c6f58fcb510615c38890"
   }
  }
 },
 "nbformat": 4,
 "nbformat_minor": 2
}
