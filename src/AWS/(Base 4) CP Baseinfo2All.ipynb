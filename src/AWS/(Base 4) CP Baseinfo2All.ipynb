{
 "cells": [
  {
   "cell_type": "code",
   "execution_count": 1,
   "metadata": {},
   "outputs": [],
   "source": [
    "import pandas as pd\n",
    "import re\n",
    "import os\n",
    "import numpy as np\n",
    "import glob\n",
    "from datetime import datetime\n",
    "import boto3\n",
    "import json"
   ]
  },
  {
   "cell_type": "code",
   "execution_count": 2,
   "metadata": {},
   "outputs": [],
   "source": [
    "Target_year = 2023\n",
    "\n",
    "pd.set_option('display.max_rows', 20)\n",
    "pd.options.display.float_format = '{:,.1f}'.format\n",
    "\n",
    "User_Name = 'ftp_yido'\n",
    "Admin_Name = 'dsadmin'\n",
    "\n",
    "\n",
    "AWS_folder = \"./\"\n",
    "\n",
    "src_folder = os.path.join(AWS_folder,'ToUpload',Admin_Name)\n",
    "out_folder = os.path.join(AWS_folder,'ToUpload',User_Name)"
   ]
  },
  {
   "cell_type": "code",
   "execution_count": 3,
   "metadata": {},
   "outputs": [
    {
     "data": {
      "text/plain": [
       "['./ToUpload\\\\dsadmin\\\\area_def.json',\n",
       " './ToUpload\\\\dsadmin\\\\course_info.json',\n",
       " './ToUpload\\\\dsadmin\\\\label_info.json',\n",
       " './ToUpload\\\\dsadmin\\\\turf_type.json']"
      ]
     },
     "execution_count": 3,
     "metadata": {},
     "output_type": "execute_result"
    }
   ],
   "source": [
    "files = glob.glob(os.path.join(src_folder,'*.json'), recursive = True)\n",
    "target_files = [ x for x in files if ('~$' not in x) ]\n",
    "target_files"
   ]
  },
  {
   "cell_type": "code",
   "execution_count": 4,
   "metadata": {},
   "outputs": [
    {
     "data": {
      "text/plain": [
       "['baseinfo/',\n",
       " 'cho7797/',\n",
       " 'dhlee/',\n",
       " 'dsadmin/',\n",
       " 'enerzie/',\n",
       " 'ftp_dsg/',\n",
       " 'ftp_yido/',\n",
       " 'grandtae/',\n",
       " 'hamsounk/',\n",
       " 'iylee/',\n",
       " 'joohlee/',\n",
       " 'mys1007/',\n",
       " 'samjigi/',\n",
       " 'samjigi2/',\n",
       " 'sentopak/',\n",
       " 'turf0909/',\n",
       " 'turf5382/',\n",
       " 'yc463cor/',\n",
       " 'zoygene/']"
      ]
     },
     "execution_count": 4,
     "metadata": {},
     "output_type": "execute_result"
    }
   ],
   "source": [
    "s3 = boto3.client('s3')\n",
    "\n",
    "result = s3.list_objects(Bucket='dsmapdata', Delimiter='/')\n",
    "\n",
    "target_folders = []\n",
    "\n",
    "for o in result.get('CommonPrefixes'):\n",
    "    # print('sub folder : ', o.get('Prefix'))\n",
    "  target_folders.append(o.get('Prefix'))\n",
    "target_folders"
   ]
  },
  {
   "cell_type": "code",
   "execution_count": 5,
   "metadata": {},
   "outputs": [
    {
     "data": {
      "text/plain": [
       "[{'TypeId': 110, 'L1': '건강한잔디', 'L2': '일반', 'L3': '일반'},\n",
       " {'TypeId': 210, 'L1': '물리피해', 'L2': '볼마크', 'L3': '볼마크'},\n",
       " {'TypeId': 220, 'L1': '물리피해', 'L2': '디봇', 'L3': '디봇'},\n",
       " {'TypeId': 230, 'L1': '물리피해', 'L2': '장비피해', 'L3': '장비피해'},\n",
       " {'TypeId': 240, 'L1': '물리피해', 'L2': '기타물리', 'L3': '기타물리'},\n",
       " {'TypeId': 310, 'L1': '충해', 'L2': '나방류', 'L3': '나방류'},\n",
       " {'TypeId': 320, 'L1': '충해', 'L2': '굼벵이류', 'L3': '굼벵이류'},\n",
       " {'TypeId': 330, 'L1': '충해', 'L2': '응애류', 'L3': '응애류'},\n",
       " {'TypeId': 340, 'L1': '충해', 'L2': '기타충해', 'L3': '기타충해'},\n",
       " {'TypeId': 410, 'L1': '병해', 'L2': '엽고성', 'L3': '탄저병'},\n",
       " {'TypeId': 411, 'L1': '병해', 'L2': '엽고성', 'L3': '엽고병'},\n",
       " {'TypeId': 412, 'L1': '병해', 'L2': '엽고성', 'L3': '동전마름병'},\n",
       " {'TypeId': 413, 'L1': '병해', 'L2': '엽고성', 'L3': '피티움블라이트'},\n",
       " {'TypeId': 414, 'L1': '병해', 'L2': '엽고성', 'L3': '노균병'},\n",
       " {'TypeId': 420, 'L1': '병해', 'L2': '패취', 'L3': '브라운패취'},\n",
       " {'TypeId': 421, 'L1': '병해', 'L2': '패취', 'L3': '라지패취'},\n",
       " {'TypeId': 422, 'L1': '병해', 'L2': '패취', 'L3': '섬머패취'},\n",
       " {'TypeId': 430, 'L1': '병해', 'L2': '토양병', 'L3': '페어리링'},\n",
       " {'TypeId': 431, 'L1': '병해', 'L2': '토양병', 'L3': '루트피티움'},\n",
       " {'TypeId': 440, 'L1': '병해', 'L2': '조류', 'L3': '남조류'},\n",
       " {'TypeId': 441, 'L1': '병해', 'L2': '기타병해', 'L3': ''},\n",
       " {'TypeId': 501, 'L1': '잡초', 'L2': '화본과', 'L3': '강아지풀'},\n",
       " {'TypeId': 502, 'L1': '잡초', 'L2': '화본과', 'L3': '기타'},\n",
       " {'TypeId': 503, 'L1': '잡초', 'L2': '화본과', 'L3': '돌피'},\n",
       " {'TypeId': 504, 'L1': '잡초', 'L2': '화본과', 'L3': '뚝새풀'},\n",
       " {'TypeId': 505, 'L1': '잡초', 'L2': '화본과', 'L3': '띠'},\n",
       " {'TypeId': 506, 'L1': '잡초', 'L2': '화본과', 'L3': '바랭이'},\n",
       " {'TypeId': 507, 'L1': '잡초', 'L2': '화본과', 'L3': '새포아풀'},\n",
       " {'TypeId': 508, 'L1': '잡초', 'L2': '화본과', 'L3': '수크령'},\n",
       " {'TypeId': 509, 'L1': '잡초', 'L2': '화본과', 'L3': '왕바랭이'},\n",
       " {'TypeId': 510, 'L1': '잡초', 'L2': '사초과', 'L3': '괭이사초'},\n",
       " {'TypeId': 511, 'L1': '잡초', 'L2': '사초과', 'L3': '기타'},\n",
       " {'TypeId': 512, 'L1': '잡초', 'L2': '사초과', 'L3': '방동사니'},\n",
       " {'TypeId': 513, 'L1': '잡초', 'L2': '사초과', 'L3': '파대가리'},\n",
       " {'TypeId': 514, 'L1': '잡초', 'L2': '광엽', 'L3': '개망초'},\n",
       " {'TypeId': 515, 'L1': '잡초', 'L2': '광엽', 'L3': '개여뀌'},\n",
       " {'TypeId': 516, 'L1': '잡초', 'L2': '광엽', 'L3': '괭이밥'},\n",
       " {'TypeId': 517, 'L1': '잡초', 'L2': '광엽', 'L3': '기타'},\n",
       " {'TypeId': 518, 'L1': '잡초', 'L2': '광엽', 'L3': '깨풀'},\n",
       " {'TypeId': 519, 'L1': '잡초', 'L2': '광엽', 'L3': '마디풀'},\n",
       " {'TypeId': 520, 'L1': '잡초', 'L2': '광엽', 'L3': '망초'},\n",
       " {'TypeId': 521, 'L1': '잡초', 'L2': '광엽', 'L3': '매듭풀'},\n",
       " {'TypeId': 522, 'L1': '잡초', 'L2': '광엽', 'L3': '명아주'},\n",
       " {'TypeId': 523, 'L1': '잡초', 'L2': '광엽', 'L3': '민들레'},\n",
       " {'TypeId': 524, 'L1': '잡초', 'L2': '광엽', 'L3': '밭둑외풀'},\n",
       " {'TypeId': 525, 'L1': '잡초', 'L2': '광엽', 'L3': '소리쟁이'},\n",
       " {'TypeId': 526, 'L1': '잡초', 'L2': '광엽', 'L3': '선피막이'},\n",
       " {'TypeId': 527, 'L1': '잡초', 'L2': '광엽', 'L3': '쇠비름'},\n",
       " {'TypeId': 528, 'L1': '잡초', 'L2': '광엽', 'L3': '쇠뜨기'},\n",
       " {'TypeId': 529, 'L1': '잡초', 'L2': '광엽', 'L3': '애기땅빈대'},\n",
       " {'TypeId': 530, 'L1': '잡초', 'L2': '광엽', 'L3': '애기수영'},\n",
       " {'TypeId': 531, 'L1': '잡초', 'L2': '광엽', 'L3': '여뀌'},\n",
       " {'TypeId': 532, 'L1': '잡초', 'L2': '광엽', 'L3': '제비꽃'},\n",
       " {'TypeId': 533, 'L1': '잡초', 'L2': '광엽', 'L3': '질경이'},\n",
       " {'TypeId': 534, 'L1': '잡초', 'L2': '광엽', 'L3': '차풀'},\n",
       " {'TypeId': 535, 'L1': '잡초', 'L2': '광엽', 'L3': '토끼풀'},\n",
       " {'TypeId': 536, 'L1': '잡초', 'L2': '광엽', 'L3': '쑥'},\n",
       " {'TypeId': 537, 'L1': '잡초', 'L2': '이끼', 'L3': '은이끼'},\n",
       " {'TypeId': 538, 'L1': '잡초', 'L2': '기타잡초', 'L3': '기타잡초'},\n",
       " {'TypeId': 0, 'L1': 'TBD', 'L2': 'TBD', 'L3': ''}]"
      ]
     },
     "execution_count": 5,
     "metadata": {},
     "output_type": "execute_result"
    }
   ],
   "source": [
    "Total_json = {}\n",
    "\n",
    "for _file in target_files:\n",
    "  f_ = os.path.splitext(os.path.basename(_file))[0]\n",
    "  json_content_ = json.load(open(_file, encoding=\"utf8\"))\n",
    "  Total_json[f_] = json_content_\n",
    "\n",
    "Total_json['label_info']"
   ]
  },
  {
   "cell_type": "code",
   "execution_count": 6,
   "metadata": {},
   "outputs": [
    {
     "name": "stdout",
     "output_type": "stream",
     "text": [
      "baseinfo/base.json\n",
      "cho7797/base.json\n",
      "dhlee/base.json\n",
      "dsadmin/base.json\n",
      "enerzie/base.json\n",
      "ftp_dsg/base.json\n",
      "ftp_yido/base.json\n",
      "grandtae/base.json\n",
      "hamsounk/base.json\n",
      "iylee/base.json\n",
      "joohlee/base.json\n",
      "mys1007/base.json\n",
      "samjigi/base.json\n",
      "samjigi2/base.json\n",
      "sentopak/base.json\n",
      "turf0909/base.json\n",
      "turf5382/base.json\n",
      "yc463cor/base.json\n",
      "zoygene/base.json\n"
     ]
    }
   ],
   "source": [
    "for _folder in target_folders:\n",
    "  print(_folder +'base.json')\n",
    "  s3.put_object(Body=json.dumps(Total_json).encode('utf-8'),Bucket='dsmapdata',Key=_folder +'base.json')"
   ]
  },
  {
   "cell_type": "code",
   "execution_count": null,
   "metadata": {},
   "outputs": [],
   "source": []
  }
 ],
 "metadata": {
  "kernelspec": {
   "display_name": "Python 3.9.2 ('geo_James')",
   "language": "python",
   "name": "python3"
  },
  "language_info": {
   "codemirror_mode": {
    "name": "ipython",
    "version": 3
   },
   "file_extension": ".py",
   "mimetype": "text/x-python",
   "name": "python",
   "nbconvert_exporter": "python",
   "pygments_lexer": "ipython3",
   "version": "3.9.7"
  },
  "orig_nbformat": 4,
  "vscode": {
   "interpreter": {
    "hash": "af734be8ad55227f26227a3bb273225e8c732a9f6283c6f58fcb510615c38890"
   }
  }
 },
 "nbformat": 4,
 "nbformat_minor": 2
}
