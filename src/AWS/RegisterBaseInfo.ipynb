{
 "cells": [
  {
   "cell_type": "code",
   "execution_count": 53,
   "metadata": {},
   "outputs": [],
   "source": [
    "import pandas as pd\n",
    "import re\n",
    "import os\n",
    "import numpy as np\n",
    "import glob\n",
    "from datetime import datetime\n",
    "import boto3\n",
    "import json"
   ]
  },
  {
   "cell_type": "code",
   "execution_count": 28,
   "metadata": {},
   "outputs": [],
   "source": [
    "Target_year = 2023\n",
    "\n",
    "pd.set_option('display.max_rows', 20)\n",
    "pd.options.display.float_format = '{:,.1f}'.format\n",
    "\n",
    "User_Name = 'dsadmin'\n",
    "\n",
    "\n",
    "AWS_folder = \"./\"\n",
    "\n",
    "src_folder = os.path.join(AWS_folder,'Downloaded',User_Name)\n",
    "out_folder = os.path.join(AWS_folder,'ToUpload',User_Name)"
   ]
  },
  {
   "cell_type": "code",
   "execution_count": 3,
   "metadata": {},
   "outputs": [],
   "source": [
    "# Create Out folder if not exists\n",
    "if not os.path.exists(out_folder):\n",
    "    os.makedirs(out_folder)"
   ]
  },
  {
   "cell_type": "markdown",
   "metadata": {},
   "source": [
    "base.json file이 모든 정보를 가지고 있으므로 이화일만 다운로드\n",
    "그 후 내용 화일로 분리"
   ]
  },
  {
   "cell_type": "code",
   "execution_count": 4,
   "metadata": {},
   "outputs": [],
   "source": [
    "s3 = boto3.client('s3')\n",
    "content_object = s3.get_object(Bucket = 'dsmapdata', Key = User_Name + '/base.json')\n",
    "file_content = content_object['Body'].read().decode('utf-8')\n",
    "json_content = json.loads(file_content)"
   ]
  },
  {
   "cell_type": "code",
   "execution_count": 5,
   "metadata": {},
   "outputs": [
    {
     "name": "stdout",
     "output_type": "stream",
     "text": [
      "./Downloaded\\dsadmin\\area_def.json\n",
      "./Downloaded\\dsadmin\\course_info.json\n"
     ]
    }
   ],
   "source": [
    "for key_ in json_content.keys():\n",
    "  if 'user' not in key_ :\n",
    "    df = pd.json_normalize(json_content, record_path =[key_])\n",
    "    file_to_save = os.path.join(src_folder ,'{}.json'.format(key_))\n",
    "    print(file_to_save)\n",
    "    df.to_json(open(file_to_save, 'w', encoding='utf-8'),orient=\"records\",force_ascii=False)"
   ]
  },
  {
   "cell_type": "markdown",
   "metadata": {},
   "source": [
    "작업."
   ]
  },
  {
   "cell_type": "code",
   "execution_count": null,
   "metadata": {},
   "outputs": [],
   "source": []
  },
  {
   "cell_type": "markdown",
   "metadata": {},
   "source": [
    "작업이 완료되면 UPload folder로 이동"
   ]
  },
  {
   "cell_type": "code",
   "execution_count": 11,
   "metadata": {},
   "outputs": [],
   "source": [
    "\n",
    "import shutil\n",
    "\n",
    "files = glob.glob(os.path.join(src_folder,'*.json'))\n",
    "target_files = [ x for x in files if ('~$' not in x) ]\n",
    "\n",
    "for f_ in target_files:\n",
    "  shutil.copy(f_, out_folder)"
   ]
  },
  {
   "cell_type": "code",
   "execution_count": 67,
   "metadata": {},
   "outputs": [
    {
     "data": {
      "text/plain": [
       "['./ToUpload\\\\dsadmin\\\\area_def.json', './ToUpload\\\\dsadmin\\\\course_info.json']"
      ]
     },
     "execution_count": 67,
     "metadata": {},
     "output_type": "execute_result"
    }
   ],
   "source": [
    "files = glob.glob(os.path.join(out_folder,'*.json'))\n",
    "target_files = [ x for x in files if ('~$' not in x) ]\n",
    "target_files"
   ]
  },
  {
   "cell_type": "markdown",
   "metadata": {},
   "source": [
    "각 화일을 base.json으로 통합, 그후 가가 화일과 통합화일을 Upload"
   ]
  },
  {
   "cell_type": "code",
   "execution_count": 77,
   "metadata": {},
   "outputs": [
    {
     "data": {
      "text/plain": [
       "{'ResponseMetadata': {'RequestId': 'V2JS6662P8SFZ7Y6',\n",
       "  'HostId': '3twkefgjqNCc0zT83U1rml9625TJcd4cfOk4YpbcOlfn3r6Osi1StAH6G5+alUXpmx+68knIdo020+/oYMm42g==',\n",
       "  'HTTPStatusCode': 200,\n",
       "  'HTTPHeaders': {'x-amz-id-2': '3twkefgjqNCc0zT83U1rml9625TJcd4cfOk4YpbcOlfn3r6Osi1StAH6G5+alUXpmx+68knIdo020+/oYMm42g==',\n",
       "   'x-amz-request-id': 'V2JS6662P8SFZ7Y6',\n",
       "   'date': 'Wed, 09 Aug 2023 03:10:24 GMT',\n",
       "   'x-amz-server-side-encryption': 'AES256',\n",
       "   'etag': '\"f7690d507adfbda7284973e37f5afac5\"',\n",
       "   'server': 'AmazonS3',\n",
       "   'content-length': '0'},\n",
       "  'RetryAttempts': 0},\n",
       " 'ETag': '\"f7690d507adfbda7284973e37f5afac5\"',\n",
       " 'ServerSideEncryption': 'AES256'}"
      ]
     },
     "execution_count": 77,
     "metadata": {},
     "output_type": "execute_result"
    }
   ],
   "source": [
    "Total_json = {}\n",
    "\n",
    "\n",
    "for _file in target_files:\n",
    "  f_ = os.path.splitext(os.path.basename(_file))[0]\n",
    "  json_content_ = json.load(open(_file, encoding=\"utf8\"))\n",
    "  Total_json[f_] = json_content_\n",
    "  s3.put_object(Body=json.dumps(json_content_).encode('utf-8'),Bucket='dsmapdata',Key='baseinfo/{}.json'.format(f_))\n",
    "  \n",
    "s3.put_object(\n",
    "  Body=json.dumps(Total_json).encode('utf-8'),\n",
    "  Bucket='dsmapdata',\n",
    "  Key=User_Name + '/base.json'\n",
    "  )"
   ]
  },
  {
   "cell_type": "code",
   "execution_count": 78,
   "metadata": {},
   "outputs": [
    {
     "data": {
      "text/plain": [
       "{'area_def': [{'TypeId': 0,\n",
       "   'name': 'Undefined',\n",
       "   'color': '#8d99ae',\n",
       "   'display': True,\n",
       "   'DSZindex': 100},\n",
       "  {'TypeId': 1,\n",
       "   'name': '전면',\n",
       "   'color': '#00a0e9',\n",
       "   'display': True,\n",
       "   'DSZindex': 1},\n",
       "  {'TypeId': 2,\n",
       "   'name': '코스',\n",
       "   'color': '#B71C1C',\n",
       "   'display': True,\n",
       "   'DSZindex': 2},\n",
       "  {'TypeId': 3,\n",
       "   'name': '홀영역',\n",
       "   'color': '#1A237E',\n",
       "   'display': True,\n",
       "   'DSZindex': 3},\n",
       "  {'TypeId': 4,\n",
       "   'name': '그린',\n",
       "   'color': '#336600',\n",
       "   'display': True,\n",
       "   'DSZindex': 4},\n",
       "  {'TypeId': 5,\n",
       "   'name': '티박스',\n",
       "   'color': '#0D47A1',\n",
       "   'display': True,\n",
       "   'DSZindex': 5},\n",
       "  {'TypeId': 6,\n",
       "   'name': '훼어웨이',\n",
       "   'color': '#FFFF33',\n",
       "   'display': True,\n",
       "   'DSZindex': 6},\n",
       "  {'TypeId': 7,\n",
       "   'name': '기타관심지역',\n",
       "   'color': '#d90429',\n",
       "   'display': True,\n",
       "   'DSZindex': 200}],\n",
       " 'course_info': [{'id': 'MGC001',\n",
       "   'dscourseids': '',\n",
       "   'name': '올림픽CC',\n",
       "   'address': '경기 고양시 덕양구 혜음로 301',\n",
       "   'numHole': 9,\n",
       "   'course_names': ['올림픽'],\n",
       "   'map_info': {'center': [126.894265298, 37.723108441],\n",
       "    'level': 2,\n",
       "    'bounds': {'sw': [126.8882885404, 37.7206252569],\n",
       "     'ne': [126.9002424553, 37.7255913217]}}}]}"
      ]
     },
     "execution_count": 78,
     "metadata": {},
     "output_type": "execute_result"
    }
   ],
   "source": [
    "Total_json"
   ]
  },
  {
   "cell_type": "code",
   "execution_count": null,
   "metadata": {},
   "outputs": [],
   "source": []
  }
 ],
 "metadata": {
  "kernelspec": {
   "display_name": "Python 3.9.2 ('geo_James')",
   "language": "python",
   "name": "python3"
  },
  "language_info": {
   "codemirror_mode": {
    "name": "ipython",
    "version": 3
   },
   "file_extension": ".py",
   "mimetype": "text/x-python",
   "name": "python",
   "nbconvert_exporter": "python",
   "pygments_lexer": "ipython3",
   "version": "3.9.2"
  },
  "orig_nbformat": 4,
  "vscode": {
   "interpreter": {
    "hash": "af734be8ad55227f26227a3bb273225e8c732a9f6283c6f58fcb510615c38890"
   }
  }
 },
 "nbformat": 4,
 "nbformat_minor": 2
}
