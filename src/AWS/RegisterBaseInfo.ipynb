{
 "cells": [
  {
   "cell_type": "code",
   "execution_count": 1,
   "metadata": {},
   "outputs": [],
   "source": [
    "import pandas as pd\n",
    "import re\n",
    "import os\n",
    "import numpy as np\n",
    "import glob\n",
    "from datetime import datetime\n",
    "import boto3\n",
    "import json"
   ]
  },
  {
   "cell_type": "code",
   "execution_count": 2,
   "metadata": {},
   "outputs": [],
   "source": [
    "Target_year = 2023\n",
    "\n",
    "pd.set_option('display.max_rows', 20)\n",
    "pd.options.display.float_format = '{:,.1f}'.format\n",
    "\n",
    "User_Name = 'dsadmin'\n",
    "\n",
    "\n",
    "AWS_folder = \"./\"\n",
    "\n",
    "src_folder = os.path.join(AWS_folder,'Downloaded',User_Name)\n",
    "out_folder = os.path.join(AWS_folder,'ToUpload',User_Name)"
   ]
  },
  {
   "cell_type": "code",
   "execution_count": 52,
   "metadata": {},
   "outputs": [],
   "source": [
    "# Create Out folder if not exists\n",
    "if not os.path.exists(out_folder):\n",
    "    os.makedirs(out_folder)"
   ]
  },
  {
   "cell_type": "markdown",
   "metadata": {},
   "source": [
    "base.json file이 모든 정보를 가지고 있으므로 이화일만 다운로드\n",
    "그 후 내용 화일로 분리"
   ]
  },
  {
   "cell_type": "code",
   "execution_count": 6,
   "metadata": {},
   "outputs": [],
   "source": [
    "s3 = boto3.client('s3')\n",
    "content_object = s3.get_object(Bucket = 'dsmapdata', Key = User_Name + '/base.json')\n",
    "file_content = content_object['Body'].read().decode('utf-8')\n",
    "json_content = json.loads(file_content)"
   ]
  },
  {
   "cell_type": "code",
   "execution_count": 7,
   "metadata": {},
   "outputs": [
    {
     "data": {
      "text/plain": [
       "[{'L1': '건강한잔디', 'L2': '일반'},\n",
       " {'L1': '건강한잔디', 'L2': '배토'},\n",
       " {'L1': '건강한잔디', 'L2': '통기 (유공)'},\n",
       " {'L1': '건강한잔디', 'L2': '통기 (무공)'},\n",
       " {'L1': '건강한잔디', 'L2': '시비 (알비)'},\n",
       " {'L1': '건강한잔디', 'L2': '시비 (액비)'},\n",
       " {'L1': '건강한잔디', 'L2': '깎기'},\n",
       " {'L1': '건강한잔디', 'L2': '보식'},\n",
       " {'L1': '건강한잔디', 'L2': '농약살포'},\n",
       " {'L1': '건강한잔디', 'L2': '제초제 (발아전)'},\n",
       " {'L1': '건강한잔디', 'L2': '제초제 (경엽)'},\n",
       " {'L1': '건강한잔디', 'L2': '버티칼모잉'},\n",
       " {'L1': '건강한잔디', 'L2': '브러쉬작업'},\n",
       " {'L1': '건강한잔디', 'L2': '스위퍼작업'},\n",
       " {'L1': '건강한잔디', 'L2': '구르밍작업'},\n",
       " {'L1': '건강한잔디', 'L2': '기타'},\n",
       " {'L1': '물리적피해', 'L2': '볼마크'},\n",
       " {'L1': '물리적피해', 'L2': '건조피해'},\n",
       " {'L1': '물리적피해', 'L2': '플레이어 답압'},\n",
       " {'L1': '물리적피해', 'L2': '고온피해'},\n",
       " {'L1': '물리적피해', 'L2': '디봇'},\n",
       " {'L1': '물리적피해', 'L2': '과습피해'},\n",
       " {'L1': '물리적피해', 'L2': '약해'},\n",
       " {'L1': '물리적피해', 'L2': '음지피해'},\n",
       " {'L1': '물리적피해', 'L2': '장비피해'},\n",
       " {'L1': '물리적피해', 'L2': '저온피해'},\n",
       " {'L1': '물리적피해', 'L2': '기타피해'},\n",
       " {'L1': '물리적피해', 'L2': '나방류'},\n",
       " {'L1': '물리적피해', 'L2': '굼벵이류'},\n",
       " {'L1': '물리적피해', 'L2': '응애'},\n",
       " {'L1': '물리적피해', 'L2': '기타'},\n",
       " {'L1': '잡초', 'L2': '(화본과) 강아지풀'},\n",
       " {'L1': '잡초', 'L2': '(화본과) 개밀'},\n",
       " {'L1': '잡초', 'L2': '(화본과) 기타'},\n",
       " {'L1': '잡초', 'L2': '(화본과) 띠'},\n",
       " {'L1': '잡초', 'L2': '(화본과) 바랭이'},\n",
       " {'L1': '잡초', 'L2': '(화본과) 새포아풀'},\n",
       " {'L1': '잡초', 'L2': '(화본과) 왕바랭이'},\n",
       " {'L1': '잡초', 'L2': '(화본과) 향모'},\n",
       " {'L1': '잡초', 'L2': '(사초과) 기타'},\n",
       " {'L1': '잡초', 'L2': '(사초과) 방동사니'},\n",
       " {'L1': '잡초', 'L2': '(사초과) 파대가리'},\n",
       " {'L1': '잡초', 'L2': '(광엽) 개갓냉이'},\n",
       " {'L1': '잡초', 'L2': '(광엽) 개망초'},\n",
       " {'L1': '잡초', 'L2': '(광엽) 개여뀌'},\n",
       " {'L1': '잡초', 'L2': '(광엽) 괭이밥'},\n",
       " {'L1': '잡초', 'L2': '(광엽) 기타'},\n",
       " {'L1': '잡초', 'L2': '(광엽) 꽃다지'},\n",
       " {'L1': '잡초', 'L2': '(광엽) 꽃마리'},\n",
       " {'L1': '잡초', 'L2': '(광엽) 냉이'},\n",
       " {'L1': '잡초', 'L2': '(광엽) 닭의장풀'},\n",
       " {'L1': '잡초', 'L2': '(광엽) 마디풀'},\n",
       " {'L1': '잡초', 'L2': '(광엽) 망초'},\n",
       " {'L1': '잡초', 'L2': '(광엽) 매듭풀'},\n",
       " {'L1': '잡초', 'L2': '(광엽) 명아주'},\n",
       " {'L1': '잡초', 'L2': '(광엽) 민들레'},\n",
       " {'L1': '잡초', 'L2': '(광엽) 밭둑외풀'},\n",
       " {'L1': '잡초', 'L2': '(광엽) 벼룩이자리'},\n",
       " {'L1': '잡초', 'L2': '(광엽) 별꽃'},\n",
       " {'L1': '잡초', 'L2': '(광엽) 선개불알풀'},\n",
       " {'L1': '잡초', 'L2': '(광엽) 선피막이'},\n",
       " {'L1': '잡초', 'L2': '(광엽) 쇠비름'},\n",
       " {'L1': '잡초', 'L2': '(광엽) 애기땅빈대'},\n",
       " {'L1': '잡초', 'L2': '(광엽) 여뀌'},\n",
       " {'L1': '잡초', 'L2': '(광엽) 여뀌'},\n",
       " {'L1': '잡초', 'L2': '(광엽) 점너도나물'},\n",
       " {'L1': '잡초', 'L2': '(광엽) 제비꽃'},\n",
       " {'L1': '잡초', 'L2': '(광엽) 중대가리풀'},\n",
       " {'L1': '잡초', 'L2': '(광엽) 질경이'},\n",
       " {'L1': '잡초', 'L2': '(광엽) 토끼풀'},\n",
       " {'L1': '잡초', 'L2': '(광엽) 피막이'},\n",
       " {'L1': '잡초', 'L2': '(이종잔디) 기타'},\n",
       " {'L1': '잡초', 'L2': '(이종잔디) 이종잔디(벤트)'},\n",
       " {'L1': '잡초', 'L2': '(이종잔디) 이종잔디(켄터키)'},\n",
       " {'L1': '잡초', 'L2': '(이끼) 은이끼'},\n",
       " {'L1': '잡초', 'L2': '(기타) 기타'},\n",
       " {'L1': '병해', 'L2': '(엽고성병) 탄저병'},\n",
       " {'L1': '병해', 'L2': '(엽고성병) 엽고병'},\n",
       " {'L1': '병해', 'L2': '(엽고성병) 동전마름병'},\n",
       " {'L1': '병해', 'L2': '(엽고성병) 피티움블라이트'},\n",
       " {'L1': '병해', 'L2': '(엽고성병) 도열병'},\n",
       " {'L1': '병해', 'L2': '(패취류) 브라운패취'},\n",
       " {'L1': '병해', 'L2': '(패취류) 라지패취'},\n",
       " {'L1': '병해', 'L2': '(패취류) 섬머패취'},\n",
       " {'L1': '병해', 'L2': '(토양병) 페어리링'},\n",
       " {'L1': '병해', 'L2': '(토양병) 루트피티움'},\n",
       " {'L1': '병해', 'L2': '(조류) 남조류'},\n",
       " {'L1': '병해', 'L2': '(기타) 기타'},\n",
       " {'L1': '충해', 'L2': '나방류'},\n",
       " {'L1': '충해', 'L2': '굼벵이류'},\n",
       " {'L1': '충해', 'L2': '응애'},\n",
       " {'L1': '충해', 'L2': '기타'}]"
      ]
     },
     "execution_count": 7,
     "metadata": {},
     "output_type": "execute_result"
    }
   ],
   "source": [
    "json_content[\"label_info\"]"
   ]
  },
  {
   "cell_type": "code",
   "execution_count": 54,
   "metadata": {},
   "outputs": [
    {
     "name": "stdout",
     "output_type": "stream",
     "text": [
      "./Downloaded\\dsadmin\\area_def.json\n",
      "./Downloaded\\dsadmin\\course_info.json\n"
     ]
    }
   ],
   "source": [
    "for key_ in json_content.keys():\n",
    "  if 'user' not in key_ :\n",
    "    file_to_save = os.path.join(src_folder ,'{}.json'.format(key_))\n",
    "    print(file_to_save)\n",
    "    with open(file_to_save, \"w\", encoding=\"utf-8\") as file:\n",
    "      file.write(json.dumps(json_content[key_], ensure_ascii=False))"
   ]
  },
  {
   "cell_type": "markdown",
   "metadata": {},
   "source": [
    "작업."
   ]
  },
  {
   "cell_type": "code",
   "execution_count": null,
   "metadata": {},
   "outputs": [],
   "source": [
    "\n",
    "import shutil\n",
    "\n",
    "files = glob.glob(os.path.join(src_folder,'*.json'))\n",
    "target_files = [ x for x in files if ('~$' not in x) ]\n",
    "\n",
    "for f_ in target_files:\n",
    "  shutil.copy(f_, out_folder)"
   ]
  },
  {
   "cell_type": "markdown",
   "metadata": {},
   "source": [
    "작업이 완료되면 UPload folder로 이동"
   ]
  },
  {
   "cell_type": "code",
   "execution_count": 38,
   "metadata": {},
   "outputs": [],
   "source": []
  },
  {
   "cell_type": "code",
   "execution_count": 1,
   "metadata": {},
   "outputs": [
    {
     "ename": "NameError",
     "evalue": "name 'glob' is not defined",
     "output_type": "error",
     "traceback": [
      "\u001b[1;31m---------------------------------------------------------------------------\u001b[0m",
      "\u001b[1;31mNameError\u001b[0m                                 Traceback (most recent call last)",
      "\u001b[1;32mc:\\Users\\yc463\\Documents\\JamesLocal\\DS\\Drone\\dsmapv2\\src\\AWS\\RegisterBaseInfo.ipynb Cell 12\u001b[0m line \u001b[0;36m1\n\u001b[1;32m----> <a href='vscode-notebook-cell:/c%3A/Users/yc463/Documents/JamesLocal/DS/Drone/dsmapv2/src/AWS/RegisterBaseInfo.ipynb#X14sZmlsZQ%3D%3D?line=0'>1</a>\u001b[0m files \u001b[39m=\u001b[39m glob\u001b[39m.\u001b[39mglob(os\u001b[39m.\u001b[39mpath\u001b[39m.\u001b[39mjoin(out_folder,\u001b[39m'\u001b[39m\u001b[39m*.json\u001b[39m\u001b[39m'\u001b[39m))\n\u001b[0;32m      <a href='vscode-notebook-cell:/c%3A/Users/yc463/Documents/JamesLocal/DS/Drone/dsmapv2/src/AWS/RegisterBaseInfo.ipynb#X14sZmlsZQ%3D%3D?line=1'>2</a>\u001b[0m target_files \u001b[39m=\u001b[39m [ x \u001b[39mfor\u001b[39;00m x \u001b[39min\u001b[39;00m files \u001b[39mif\u001b[39;00m (\u001b[39m'\u001b[39m\u001b[39m~$\u001b[39m\u001b[39m'\u001b[39m \u001b[39mnot\u001b[39;00m \u001b[39min\u001b[39;00m x) ]\n\u001b[0;32m      <a href='vscode-notebook-cell:/c%3A/Users/yc463/Documents/JamesLocal/DS/Drone/dsmapv2/src/AWS/RegisterBaseInfo.ipynb#X14sZmlsZQ%3D%3D?line=2'>3</a>\u001b[0m target_files\n",
      "\u001b[1;31mNameError\u001b[0m: name 'glob' is not defined"
     ]
    }
   ],
   "source": [
    "files = glob.glob(os.path.join(out_folder,'*.json'))\n",
    "target_files = [ x for x in files if ('~$' not in x) ]\n",
    "target_files"
   ]
  },
  {
   "cell_type": "markdown",
   "metadata": {},
   "source": [
    "각 화일을 base.json으로 통합, 그후 가가 화일과 통합화일을 Upload"
   ]
  },
  {
   "cell_type": "code",
   "execution_count": 15,
   "metadata": {},
   "outputs": [
    {
     "data": {
      "text/plain": [
       "{'ResponseMetadata': {'RequestId': '7ET2YM8RZN2CDBA0',\n",
       "  'HostId': 'WkJDwC+zOiJBxTVVAYF8mKsTSokpK8WH2aZ5RMGDFWs45yk3zbRm+ltVN6iueJgTZ5TG4bkNTtQ=',\n",
       "  'HTTPStatusCode': 200,\n",
       "  'HTTPHeaders': {'x-amz-id-2': 'WkJDwC+zOiJBxTVVAYF8mKsTSokpK8WH2aZ5RMGDFWs45yk3zbRm+ltVN6iueJgTZ5TG4bkNTtQ=',\n",
       "   'x-amz-request-id': '7ET2YM8RZN2CDBA0',\n",
       "   'date': 'Thu, 14 Sep 2023 15:09:12 GMT',\n",
       "   'x-amz-server-side-encryption': 'AES256',\n",
       "   'etag': '\"7de37b86c2344bd128d8bf283132c9d5\"',\n",
       "   'server': 'AmazonS3',\n",
       "   'content-length': '0'},\n",
       "  'RetryAttempts': 0},\n",
       " 'ETag': '\"7de37b86c2344bd128d8bf283132c9d5\"',\n",
       " 'ServerSideEncryption': 'AES256'}"
      ]
     },
     "execution_count": 15,
     "metadata": {},
     "output_type": "execute_result"
    }
   ],
   "source": [
    "Total_json = {}\n",
    "\n",
    "s3 = boto3.client('s3')\n",
    "\n",
    "for _file in target_files:\n",
    "  f_ = os.path.splitext(os.path.basename(_file))[0]\n",
    "  json_content_ = json.load(open(_file, encoding=\"utf8\"))\n",
    "  Total_json[f_] = json_content_\n",
    "  s3.put_object(Body=json.dumps(json_content_).encode('utf-8'),Bucket='dsmapdata',Key='baseinfo/{}.json'.format(f_))\n",
    "  \n",
    "s3.put_object(\n",
    "  Body=json.dumps(Total_json).encode('utf-8'),\n",
    "  Bucket='dsmapdata',\n",
    "  Key=User_Name + '/base.json'\n",
    "  )"
   ]
  },
  {
   "cell_type": "code",
   "execution_count": 16,
   "metadata": {},
   "outputs": [
    {
     "data": {
      "text/plain": [
       "dict_keys(['area_def', 'course_info', 'label_info'])"
      ]
     },
     "execution_count": 16,
     "metadata": {},
     "output_type": "execute_result"
    }
   ],
   "source": [
    "Total_json.keys()"
   ]
  },
  {
   "cell_type": "code",
   "execution_count": 17,
   "metadata": {},
   "outputs": [
    {
     "data": {
      "text/plain": [
       "[{'L1': '건강한잔디', 'L2': '일반'},\n",
       " {'L1': '건강한잔디', 'L2': '배토'},\n",
       " {'L1': '건강한잔디', 'L2': '통기 (유공)'},\n",
       " {'L1': '건강한잔디', 'L2': '통기 (무공)'},\n",
       " {'L1': '건강한잔디', 'L2': '시비 (알비)'},\n",
       " {'L1': '건강한잔디', 'L2': '시비 (액비)'},\n",
       " {'L1': '건강한잔디', 'L2': '깎기'},\n",
       " {'L1': '건강한잔디', 'L2': '보식'},\n",
       " {'L1': '건강한잔디', 'L2': '농약살포'},\n",
       " {'L1': '건강한잔디', 'L2': '제초제 (발아전)'},\n",
       " {'L1': '건강한잔디', 'L2': '제초제 (경엽)'},\n",
       " {'L1': '건강한잔디', 'L2': '버티칼모잉'},\n",
       " {'L1': '건강한잔디', 'L2': '브러쉬작업'},\n",
       " {'L1': '건강한잔디', 'L2': '스위퍼작업'},\n",
       " {'L1': '건강한잔디', 'L2': '구르밍작업'},\n",
       " {'L1': '건강한잔디', 'L2': '기타'},\n",
       " {'L1': '물리적피해', 'L2': '볼마크'},\n",
       " {'L1': '물리적피해', 'L2': '건조피해'},\n",
       " {'L1': '물리적피해', 'L2': '플레이어 답압'},\n",
       " {'L1': '물리적피해', 'L2': '고온피해'},\n",
       " {'L1': '물리적피해', 'L2': '디봇'},\n",
       " {'L1': '물리적피해', 'L2': '과습피해'},\n",
       " {'L1': '물리적피해', 'L2': '약해'},\n",
       " {'L1': '물리적피해', 'L2': '음지피해'},\n",
       " {'L1': '물리적피해', 'L2': '장비피해'},\n",
       " {'L1': '물리적피해', 'L2': '저온피해'},\n",
       " {'L1': '물리적피해', 'L2': '기타피해'},\n",
       " {'L1': '물리적피해', 'L2': '나방류'},\n",
       " {'L1': '물리적피해', 'L2': '굼벵이류'},\n",
       " {'L1': '물리적피해', 'L2': '응애'},\n",
       " {'L1': '물리적피해', 'L2': '기타'},\n",
       " {'L1': '잡초', 'L2': '(화본과) 강아지풀'},\n",
       " {'L1': '잡초', 'L2': '(화본과) 개밀'},\n",
       " {'L1': '잡초', 'L2': '(화본과) 기타'},\n",
       " {'L1': '잡초', 'L2': '(화본과) 띠'},\n",
       " {'L1': '잡초', 'L2': '(화본과) 바랭이'},\n",
       " {'L1': '잡초', 'L2': '(화본과) 새포아풀'},\n",
       " {'L1': '잡초', 'L2': '(화본과) 왕바랭이'},\n",
       " {'L1': '잡초', 'L2': '(화본과) 향모'},\n",
       " {'L1': '잡초', 'L2': '(사초과) 기타'},\n",
       " {'L1': '잡초', 'L2': '(사초과) 방동사니'},\n",
       " {'L1': '잡초', 'L2': '(사초과) 파대가리'},\n",
       " {'L1': '잡초', 'L2': '(광엽) 개갓냉이'},\n",
       " {'L1': '잡초', 'L2': '(광엽) 개망초'},\n",
       " {'L1': '잡초', 'L2': '(광엽) 개여뀌'},\n",
       " {'L1': '잡초', 'L2': '(광엽) 괭이밥'},\n",
       " {'L1': '잡초', 'L2': '(광엽) 기타'},\n",
       " {'L1': '잡초', 'L2': '(광엽) 꽃다지'},\n",
       " {'L1': '잡초', 'L2': '(광엽) 꽃마리'},\n",
       " {'L1': '잡초', 'L2': '(광엽) 냉이'},\n",
       " {'L1': '잡초', 'L2': '(광엽) 닭의장풀'},\n",
       " {'L1': '잡초', 'L2': '(광엽) 마디풀'},\n",
       " {'L1': '잡초', 'L2': '(광엽) 망초'},\n",
       " {'L1': '잡초', 'L2': '(광엽) 매듭풀'},\n",
       " {'L1': '잡초', 'L2': '(광엽) 명아주'},\n",
       " {'L1': '잡초', 'L2': '(광엽) 민들레'},\n",
       " {'L1': '잡초', 'L2': '(광엽) 밭둑외풀'},\n",
       " {'L1': '잡초', 'L2': '(광엽) 벼룩이자리'},\n",
       " {'L1': '잡초', 'L2': '(광엽) 별꽃'},\n",
       " {'L1': '잡초', 'L2': '(광엽) 선개불알풀'},\n",
       " {'L1': '잡초', 'L2': '(광엽) 선피막이'},\n",
       " {'L1': '잡초', 'L2': '(광엽) 쇠비름'},\n",
       " {'L1': '잡초', 'L2': '(광엽) 애기땅빈대'},\n",
       " {'L1': '잡초', 'L2': '(광엽) 여뀌'},\n",
       " {'L1': '잡초', 'L2': '(광엽) 점너도나물'},\n",
       " {'L1': '잡초', 'L2': '(광엽) 제비꽃'},\n",
       " {'L1': '잡초', 'L2': '(광엽) 중대가리풀'},\n",
       " {'L1': '잡초', 'L2': '(광엽) 질경이'},\n",
       " {'L1': '잡초', 'L2': '(광엽) 토끼풀'},\n",
       " {'L1': '잡초', 'L2': '(광엽) 피막이'},\n",
       " {'L1': '잡초', 'L2': '(이종잔디) 기타'},\n",
       " {'L1': '잡초', 'L2': '(이종잔디) 이종잔디(벤트)'},\n",
       " {'L1': '잡초', 'L2': '(이종잔디) 이종잔디(켄터키)'},\n",
       " {'L1': '잡초', 'L2': '(이끼) 은이끼'},\n",
       " {'L1': '잡초', 'L2': '(기타) 기타'},\n",
       " {'L1': '병해', 'L2': '(엽고성병) 탄저병'},\n",
       " {'L1': '병해', 'L2': '(엽고성병) 엽고병'},\n",
       " {'L1': '병해', 'L2': '(엽고성병) 동전마름병'},\n",
       " {'L1': '병해', 'L2': '(엽고성병) 피티움블라이트'},\n",
       " {'L1': '병해', 'L2': '(엽고성병) 도열병'},\n",
       " {'L1': '병해', 'L2': '(패취류) 브라운패취'},\n",
       " {'L1': '병해', 'L2': '(패취류) 라지패취'},\n",
       " {'L1': '병해', 'L2': '(패취류) 섬머패취'},\n",
       " {'L1': '병해', 'L2': '(토양병) 페어리링'},\n",
       " {'L1': '병해', 'L2': '(토양병) 루트피티움'},\n",
       " {'L1': '병해', 'L2': '(조류) 남조류'},\n",
       " {'L1': '병해', 'L2': '(기타) 기타'},\n",
       " {'L1': '충해', 'L2': '나방류'},\n",
       " {'L1': '충해', 'L2': '굼벵이류'},\n",
       " {'L1': '충해', 'L2': '응애'},\n",
       " {'L1': '충해', 'L2': '기타'},\n",
       " {'L1': 'TBD', 'L2': 'TBD'}]"
      ]
     },
     "execution_count": 17,
     "metadata": {},
     "output_type": "execute_result"
    }
   ],
   "source": [
    "Total_json['label_info']"
   ]
  },
  {
   "cell_type": "code",
   "execution_count": null,
   "metadata": {},
   "outputs": [],
   "source": []
  }
 ],
 "metadata": {
  "kernelspec": {
   "display_name": "Python 3.9.2 ('geo_James')",
   "language": "python",
   "name": "python3"
  },
  "language_info": {
   "codemirror_mode": {
    "name": "ipython",
    "version": 3
   },
   "file_extension": ".py",
   "mimetype": "text/x-python",
   "name": "python",
   "nbconvert_exporter": "python",
   "pygments_lexer": "ipython3",
   "version": "3.9.7"
  },
  "orig_nbformat": 4,
  "vscode": {
   "interpreter": {
    "hash": "af734be8ad55227f26227a3bb273225e8c732a9f6283c6f58fcb510615c38890"
   }
  }
 },
 "nbformat": 4,
 "nbformat_minor": 2
}
