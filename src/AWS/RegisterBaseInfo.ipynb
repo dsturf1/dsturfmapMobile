{
 "cells": [
  {
   "cell_type": "code",
   "execution_count": 1,
   "metadata": {},
   "outputs": [
    {
     "ename": "ModuleNotFoundError",
     "evalue": "No module named 'dsgreen'",
     "output_type": "error",
     "traceback": [
      "\u001b[1;31m---------------------------------------------------------------------------\u001b[0m",
      "\u001b[1;31mModuleNotFoundError\u001b[0m                       Traceback (most recent call last)",
      "Cell \u001b[1;32mIn [1], line 10\u001b[0m\n\u001b[0;32m      7\u001b[0m \u001b[38;5;28;01mimport\u001b[39;00m \u001b[38;5;21;01mboto3\u001b[39;00m\n\u001b[0;32m      8\u001b[0m \u001b[38;5;28;01mimport\u001b[39;00m \u001b[38;5;21;01mjson\u001b[39;00m\n\u001b[1;32m---> 10\u001b[0m \u001b[38;5;28;01mfrom\u001b[39;00m \u001b[38;5;21;01mdsgreen\u001b[39;00m\u001b[38;5;21;01m.\u001b[39;00m\u001b[38;5;21;01mutil\u001b[39;00m \u001b[38;5;28;01mimport\u001b[39;00m load_std_names, load_std_client_name,load_std_cost,load_course2stdname,clean_up\n",
      "\u001b[1;31mModuleNotFoundError\u001b[0m: No module named 'dsgreen'"
     ]
    }
   ],
   "source": [
    "import pandas as pd\n",
    "import re\n",
    "import os\n",
    "import numpy as np\n",
    "import glob\n",
    "from datetime import datetime\n",
    "import boto3\n",
    "import json"
   ]
  },
  {
   "cell_type": "code",
   "execution_count": null,
   "metadata": {},
   "outputs": [],
   "source": [
    "Target_year = 2022\n",
    "\n",
    "pd.set_option('display.max_rows', None)\n",
    "pd.options.display.float_format = '{:,.1f}'.format\n",
    "\n",
    "out_folder = 'Output'\n",
    "AWS_folder = \"../MAP/AWS/Latest/\"\n",
    "data_folder = 'Output\\Ecount'\n",
    "src_folder = \"Ecount_download\"\n",
    "src_folder = os.path.join(src_folder,str(Target_year))\n",
    "src_folder = os.path.join(src_folder,'inv')"
   ]
  }
 ],
 "metadata": {
  "kernelspec": {
   "display_name": "Python 3.9.2 ('geo_James')",
   "language": "python",
   "name": "python3"
  },
  "language_info": {
   "codemirror_mode": {
    "name": "ipython",
    "version": 3
   },
   "file_extension": ".py",
   "mimetype": "text/x-python",
   "name": "python",
   "nbconvert_exporter": "python",
   "pygments_lexer": "ipython3",
   "version": "3.9.2"
  },
  "orig_nbformat": 4,
  "vscode": {
   "interpreter": {
    "hash": "af734be8ad55227f26227a3bb273225e8c732a9f6283c6f58fcb510615c38890"
   }
  }
 },
 "nbformat": 4,
 "nbformat_minor": 2
}
