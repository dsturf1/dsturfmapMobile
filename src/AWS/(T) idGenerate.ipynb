{
 "cells": [
  {
   "cell_type": "code",
   "execution_count": 72,
   "metadata": {},
   "outputs": [],
   "source": [
    "import pandas as pd\n",
    "import re\n",
    "import os\n",
    "import numpy as np\n",
    "import glob\n",
    "from datetime import datetime\n",
    "import geopandas as gpd\n",
    "import json\n",
    "from shapely.geometry import shape, GeometryCollection\n",
    "from rasterio.plot import show\n",
    "import matplotlib.pyplot as plt\n",
    "from mpl_toolkits.mplot3d import Axes3D\n",
    "from matplotlib import cm\n",
    "from matplotlib import colors\n",
    "from utils import FeatureExtraction, feature_matching, decimal_coords\n",
    "from exif import Image as exifimg\n",
    "from PIL import Image\n",
    "\n",
    "import shutil\n",
    "import rasterio\n",
    "import cv2\n",
    "%matplotlib inline"
   ]
  },
  {
   "cell_type": "code",
   "execution_count": 73,
   "metadata": {},
   "outputs": [],
   "source": [
    "# 가능한 font list 확인\n",
    "import matplotlib.font_manager as fm\n",
    "f = [f.name for f in fm.fontManager.ttflist]\n",
    "# print(f)\n",
    "\n",
    "plt.rc('font', family='Malgun Gothic')"
   ]
  },
  {
   "cell_type": "code",
   "execution_count": 76,
   "metadata": {},
   "outputs": [],
   "source": [
    "def getInfo(filesGrp, img_path):\n",
    "\n",
    "  dslabel = {\n",
    "    \"id\":\"\",\n",
    "    \"11originalFileJPG\":\"\",\n",
    "    \"11originalFileGrp\":[],\n",
    "    \"GeoTagInfo\":{\n",
    "      \"coords\":[],\n",
    "      \"datetime_original\":\"\",\n",
    "      \"gps_altitude\":0,\n",
    "      \"gps_altitude_ref\":\"\"    \n",
    "    },\n",
    "    \"label\":[]\n",
    "  }\n",
    "\n",
    "# Remove Drive letter with root path\n",
    "  dslabel['11originalFileJPG'] = img_path[3:]\n",
    "  dslabel['11originalFileGrp'] = [x[3:] for x in filesGrp  if ('.JPG' not in x)]\n",
    "\n",
    "  with open(img_path, 'rb') as src:\n",
    "    img = exifimg(src)\n",
    "\n",
    "  coords = [\n",
    "    decimal_coords(img.gps_longitude,\n",
    "    img.gps_longitude_ref),\n",
    "      decimal_coords(img.gps_latitude,\n",
    "    img.gps_latitude_ref)\n",
    "  ]\n",
    "\n",
    "  dslabel['id'] = img.datetime_original.replace(\" \",\"\").replace(\":\",\"\") + \"_{:.10f}\".format(coords[0]).replace(\".\",\"\") + \"_{:.10f}\".format(coords[1]).replace(\".\",\"\") + \"_{:f}\".format(img.gps_altitude).replace(\".\",\"\")\n",
    "  dslabel['GeoTagInfo']['coords'] = coords\n",
    "  dslabel['GeoTagInfo']['datetime_original'] = img.datetime_original\n",
    "  dslabel['GeoTagInfo']['gps_altitude'] = img.gps_altitude\n",
    "  dslabel['GeoTagInfo']['gps_altitude_ref'] = img.gps_altitude_ref\n",
    "  \n",
    "  return dslabel"
   ]
  },
  {
   "cell_type": "code",
   "execution_count": 86,
   "metadata": {},
   "outputs": [],
   "source": [
    "src_folder = r'D:\\G04_오너스'\n",
    "out_folder = r'D:\\ToAWS2'\n",
    "\n",
    "course_list = ['청도','포항','중문','시흥','거창','속리산','춘천','오너스']\n",
    "\n",
    "course_ids = {\n",
    "  '포항':'MGC001',\n",
    "  '청도':'MGC002',\n",
    "  '중문':'MGC003',\n",
    "  '시흥':'MGC004',\n",
    "  '거창':'MGC005',\n",
    "  '속리산':'MGC006',\n",
    "  '춘천':'MGC007',\n",
    "  '오너스':'MGC007'\n",
    "}\n",
    "\n",
    "folder_type = ['rgb','ndvi','thumb']"
   ]
  },
  {
   "cell_type": "code",
   "execution_count": 87,
   "metadata": {},
   "outputs": [
    {
     "data": {
      "text/plain": [
       "'MGC007'"
      ]
     },
     "execution_count": 87,
     "metadata": {},
     "output_type": "execute_result"
    }
   ],
   "source": [
    "course_id = course_ids.get('춘천')\n",
    "course_id"
   ]
  },
  {
   "cell_type": "code",
   "execution_count": 88,
   "metadata": {},
   "outputs": [
    {
     "data": {
      "text/plain": [
       "5"
      ]
     },
     "execution_count": 88,
     "metadata": {},
     "output_type": "execute_result"
    }
   ],
   "source": [
    "files = glob.glob(os.path.join(src_folder,'**/*.JPG'), recursive=True)\n",
    "files = [x for x in files if 'DJI' in x]\n",
    "\n",
    "len(files)"
   ]
  },
  {
   "cell_type": "code",
   "execution_count": 89,
   "metadata": {},
   "outputs": [
    {
     "data": {
      "text/plain": [
       "'D:\\\\G04_오너스\\\\CU_근접촬영\\\\05_병해잔디\\\\83_(패취류)섬머패취\\\\G04_CU_0583_DJI_20230826133939_0001_D.JPG'"
      ]
     },
     "execution_count": 89,
     "metadata": {},
     "output_type": "execute_result"
    }
   ],
   "source": [
    "files[0]"
   ]
  },
  {
   "cell_type": "code",
   "execution_count": 90,
   "metadata": {},
   "outputs": [
    {
     "data": {
      "text/plain": [
       "['D:',\n",
       " 'G04_오너스',\n",
       " 'CU_근접촬영',\n",
       " '05_병해잔디',\n",
       " '83_(패취류)섬머패취',\n",
       " 'G04_CU_0583_DJI_20230826133939_0001_D.JPG']"
      ]
     },
     "execution_count": 90,
     "metadata": {},
     "output_type": "execute_result"
    }
   ],
   "source": [
    "file_ = files[0]\n",
    "path = os.path.normpath(file_)\n",
    "info = path.split(os.sep)\n",
    "info"
   ]
  },
  {
   "cell_type": "code",
   "execution_count": 91,
   "metadata": {},
   "outputs": [
    {
     "data": {
      "text/plain": [
       "'D:\\\\G04_오너스\\\\CU_근접촬영\\\\05_병해잔디\\\\83_(패취류)섬머패취\\\\G04_CU_0583_DJI_20230826133***_0001*'"
      ]
     },
     "execution_count": 91,
     "metadata": {},
     "output_type": "execute_result"
    }
   ],
   "source": [
    "os.path.join(os.path.split(file_)[0],(('_').join(os.path.split(file_)[1].split('_')[:-2])[:-3]+\"***_\" + os.path.split(file_)[1].split('_')[-2]) + '*')"
   ]
  },
  {
   "cell_type": "code",
   "execution_count": 92,
   "metadata": {},
   "outputs": [
    {
     "data": {
      "text/plain": [
       "['D:\\\\G04_오너스\\\\CU_근접촬영\\\\05_병해잔디\\\\83_(패취류)섬머패취\\\\G04_CU_0583_DJI_20230826133939_0001_D.JPG',\n",
       " 'D:\\\\G04_오너스\\\\CU_근접촬영\\\\05_병해잔디\\\\83_(패취류)섬머패취\\\\G04_CU_0583_DJI_20230826133939_0001_MS_G.TIF',\n",
       " 'D:\\\\G04_오너스\\\\CU_근접촬영\\\\05_병해잔디\\\\83_(패취류)섬머패취\\\\G04_CU_0583_DJI_20230826133939_0001_MS_NIR.TIF',\n",
       " 'D:\\\\G04_오너스\\\\CU_근접촬영\\\\05_병해잔디\\\\83_(패취류)섬머패취\\\\G04_CU_0583_DJI_20230826133939_0001_MS_R.TIF',\n",
       " 'D:\\\\G04_오너스\\\\CU_근접촬영\\\\05_병해잔디\\\\83_(패취류)섬머패취\\\\G04_CU_0583_DJI_20230826133939_0001_MS_RE.TIF']"
      ]
     },
     "execution_count": 92,
     "metadata": {},
     "output_type": "execute_result"
    }
   ],
   "source": [
    "glob.glob(os.path.join(os.path.split(file_)[0],(('_').join(os.path.split(file_)[1].split('_')[:-2])[:-3]+\"***_\" + os.path.split(file_)[1].split('_')[-2]) + '*'), recursive=True)"
   ]
  },
  {
   "cell_type": "code",
   "execution_count": 93,
   "metadata": {},
   "outputs": [
    {
     "name": "stdout",
     "output_type": "stream",
     "text": [
      "D:\\G04_오너스\\CU_근접촬영\\05_병해잔디\\83_(패취류)섬머패취\\G04_CU_0583_DJI_20230826133939_0001_D.JPG\n",
      "D:\\G04_오너스\\CU_근접촬영\\05_병해잔디\\83_(패취류)섬머패취\\G04_CU_0583_DJI_20230826133941_0002_D.JPG\n",
      "D:\\G04_오너스\\CU_근접촬영\\05_병해잔디\\83_(패취류)섬머패취\\G04_CU_0583_DJI_20230826133943_0003_D.JPG\n",
      "D:\\G04_오너스\\CU_근접촬영\\05_병해잔디\\83_(패취류)섬머패취\\G04_CU_0583_DJI_20230826133945_0004_D.JPG\n",
      "D:\\G04_오너스\\CU_근접촬영\\05_병해잔디\\83_(패취류)섬머패취\\G04_CU_0583_DJI_20230826133947_0005_D.JPG\n"
     ]
    }
   ],
   "source": [
    "InfoJsonArray = []\n",
    "target_folder = []\n",
    "\n",
    "for idx, file_ in enumerate(files):\n",
    "\n",
    "  course = list(filter(lambda y: y in file_, course_list))[0]\n",
    "\n",
    "  path = os.path.normpath(file_)\n",
    "  info = path.split(os.sep)\n",
    "\n",
    "  filesGrp = glob.glob(os.path.join(os.path.split(file_)[0],(('_').join(os.path.split(file_)[1].split('_')[:-2])[:-3]+\"***_\" + os.path.split(file_)[1].split('_')[-2]) + '*'), recursive=True)\n",
    "  print(file_)\n",
    "  file_info = getInfo(filesGrp, file_)\n",
    "\n",
    "  file_info['label'] = {\n",
    "    \"level1\":info[-3],\n",
    "    \"level2\":info[-2],\n",
    "    \"level3\":\"\",\n",
    "    \"TurfType\":\"\"\n",
    "  }\n",
    "\n",
    "  InfoJsonArray.append( file_info)\n",
    "  \n",
    "#   print(save_name)\n",
    "\n",
    "#   print('{} out of {} files Completed'.format(idx, len(target_files)))\n",
    "\n",
    "save_name = os.path.join(out_folder, 'afterLabeldata'+course_id+'.json')\n",
    "with open(save_name, \"w\", encoding='utf-8') as final:\n",
    "   json.dump(InfoJsonArray, final , ensure_ascii=False)\n",
    "\n",
    "\n",
    "\n",
    "  "
   ]
  },
  {
   "cell_type": "code",
   "execution_count": 94,
   "metadata": {},
   "outputs": [
    {
     "data": {
      "text/plain": [
       "[{'id': '20230826133939_1276601483056_377679769444_204559000',\n",
       "  '11originalFileJPG': 'G04_오너스\\\\CU_근접촬영\\\\05_병해잔디\\\\83_(패취류)섬머패취\\\\G04_CU_0583_DJI_20230826133939_0001_D.JPG',\n",
       "  '11originalFileGrp': ['G04_오너스\\\\CU_근접촬영\\\\05_병해잔디\\\\83_(패취류)섬머패취\\\\G04_CU_0583_DJI_20230826133939_0001_MS_G.TIF',\n",
       "   'G04_오너스\\\\CU_근접촬영\\\\05_병해잔디\\\\83_(패취류)섬머패취\\\\G04_CU_0583_DJI_20230826133939_0001_MS_NIR.TIF',\n",
       "   'G04_오너스\\\\CU_근접촬영\\\\05_병해잔디\\\\83_(패취류)섬머패취\\\\G04_CU_0583_DJI_20230826133939_0001_MS_R.TIF',\n",
       "   'G04_오너스\\\\CU_근접촬영\\\\05_병해잔디\\\\83_(패취류)섬머패취\\\\G04_CU_0583_DJI_20230826133939_0001_MS_RE.TIF'],\n",
       "  'GeoTagInfo': {'coords': [127.66014830555557, 37.76797694444444],\n",
       "   'datetime_original': '2023:08:26 13:39:39',\n",
       "   'gps_altitude': 204.559,\n",
       "   'gps_altitude_ref': <GpsAltitudeRef.ABOVE_SEA_LEVEL: 0>},\n",
       "  'label': {'level1': '05_병해잔디',\n",
       "   'level2': '83_(패취류)섬머패취',\n",
       "   'level3': '',\n",
       "   'TurfType': ''}},\n",
       " {'id': '20230826133941_1276601509167_377679778611_204499000',\n",
       "  '11originalFileJPG': 'G04_오너스\\\\CU_근접촬영\\\\05_병해잔디\\\\83_(패취류)섬머패취\\\\G04_CU_0583_DJI_20230826133941_0002_D.JPG',\n",
       "  '11originalFileGrp': ['G04_오너스\\\\CU_근접촬영\\\\05_병해잔디\\\\83_(패취류)섬머패취\\\\G04_CU_0583_DJI_20230826133941_0002_MS_G.TIF',\n",
       "   'G04_오너스\\\\CU_근접촬영\\\\05_병해잔디\\\\83_(패취류)섬머패취\\\\G04_CU_0583_DJI_20230826133941_0002_MS_NIR.TIF',\n",
       "   'G04_오너스\\\\CU_근접촬영\\\\05_병해잔디\\\\83_(패취류)섬머패취\\\\G04_CU_0583_DJI_20230826133941_0002_MS_R.TIF',\n",
       "   'G04_오너스\\\\CU_근접촬영\\\\05_병해잔디\\\\83_(패취류)섬머패취\\\\G04_CU_0583_DJI_20230826133941_0002_MS_RE.TIF'],\n",
       "  'GeoTagInfo': {'coords': [127.66015091666667, 37.76797786111111],\n",
       "   'datetime_original': '2023:08:26 13:39:41',\n",
       "   'gps_altitude': 204.499,\n",
       "   'gps_altitude_ref': <GpsAltitudeRef.ABOVE_SEA_LEVEL: 0>},\n",
       "  'label': {'level1': '05_병해잔디',\n",
       "   'level2': '83_(패취류)섬머패취',\n",
       "   'level3': '',\n",
       "   'TurfType': ''}},\n",
       " {'id': '20230826133943_1276601497222_377679799444_204380000',\n",
       "  '11originalFileJPG': 'G04_오너스\\\\CU_근접촬영\\\\05_병해잔디\\\\83_(패취류)섬머패취\\\\G04_CU_0583_DJI_20230826133943_0003_D.JPG',\n",
       "  '11originalFileGrp': ['G04_오너스\\\\CU_근접촬영\\\\05_병해잔디\\\\83_(패취류)섬머패취\\\\G04_CU_0583_DJI_20230826133943_0003_MS_G.TIF',\n",
       "   'G04_오너스\\\\CU_근접촬영\\\\05_병해잔디\\\\83_(패취류)섬머패취\\\\G04_CU_0583_DJI_20230826133943_0003_MS_NIR.TIF',\n",
       "   'G04_오너스\\\\CU_근접촬영\\\\05_병해잔디\\\\83_(패취류)섬머패취\\\\G04_CU_0583_DJI_20230826133943_0003_MS_R.TIF',\n",
       "   'G04_오너스\\\\CU_근접촬영\\\\05_병해잔디\\\\83_(패취류)섬머패취\\\\G04_CU_0583_DJI_20230826133943_0003_MS_RE.TIF'],\n",
       "  'GeoTagInfo': {'coords': [127.66014972222223, 37.76797994444444],\n",
       "   'datetime_original': '2023:08:26 13:39:43',\n",
       "   'gps_altitude': 204.38,\n",
       "   'gps_altitude_ref': <GpsAltitudeRef.ABOVE_SEA_LEVEL: 0>},\n",
       "  'label': {'level1': '05_병해잔디',\n",
       "   'level2': '83_(패취류)섬머패취',\n",
       "   'level3': '',\n",
       "   'TurfType': ''}},\n",
       " {'id': '20230826133945_1276601463889_377679823889_204355000',\n",
       "  '11originalFileJPG': 'G04_오너스\\\\CU_근접촬영\\\\05_병해잔디\\\\83_(패취류)섬머패취\\\\G04_CU_0583_DJI_20230826133945_0004_D.JPG',\n",
       "  '11originalFileGrp': ['G04_오너스\\\\CU_근접촬영\\\\05_병해잔디\\\\83_(패취류)섬머패취\\\\G04_CU_0583_DJI_20230826133945_0004_MS_G.TIF',\n",
       "   'G04_오너스\\\\CU_근접촬영\\\\05_병해잔디\\\\83_(패취류)섬머패취\\\\G04_CU_0583_DJI_20230826133945_0004_MS_NIR.TIF',\n",
       "   'G04_오너스\\\\CU_근접촬영\\\\05_병해잔디\\\\83_(패취류)섬머패취\\\\G04_CU_0583_DJI_20230826133945_0004_MS_R.TIF',\n",
       "   'G04_오너스\\\\CU_근접촬영\\\\05_병해잔디\\\\83_(패취류)섬머패취\\\\G04_CU_0583_DJI_20230826133945_0004_MS_RE.TIF'],\n",
       "  'GeoTagInfo': {'coords': [127.66014638888889, 37.76798238888889],\n",
       "   'datetime_original': '2023:08:26 13:39:45',\n",
       "   'gps_altitude': 204.355,\n",
       "   'gps_altitude_ref': <GpsAltitudeRef.ABOVE_SEA_LEVEL: 0>},\n",
       "  'label': {'level1': '05_병해잔디',\n",
       "   'level2': '83_(패취류)섬머패취',\n",
       "   'level3': '',\n",
       "   'TurfType': ''}},\n",
       " {'id': '20230826133947_1276601433333_377679851944_204346000',\n",
       "  '11originalFileJPG': 'G04_오너스\\\\CU_근접촬영\\\\05_병해잔디\\\\83_(패취류)섬머패취\\\\G04_CU_0583_DJI_20230826133947_0005_D.JPG',\n",
       "  '11originalFileGrp': ['G04_오너스\\\\CU_근접촬영\\\\05_병해잔디\\\\83_(패취류)섬머패취\\\\G04_CU_0583_DJI_20230826133947_0005_MS_G.TIF',\n",
       "   'G04_오너스\\\\CU_근접촬영\\\\05_병해잔디\\\\83_(패취류)섬머패취\\\\G04_CU_0583_DJI_20230826133947_0005_MS_NIR.TIF',\n",
       "   'G04_오너스\\\\CU_근접촬영\\\\05_병해잔디\\\\83_(패취류)섬머패취\\\\G04_CU_0583_DJI_20230826133947_0005_MS_R.TIF',\n",
       "   'G04_오너스\\\\CU_근접촬영\\\\05_병해잔디\\\\83_(패취류)섬머패취\\\\G04_CU_0583_DJI_20230826133947_0005_MS_RE.TIF'],\n",
       "  'GeoTagInfo': {'coords': [127.66014333333334, 37.76798519444444],\n",
       "   'datetime_original': '2023:08:26 13:39:47',\n",
       "   'gps_altitude': 204.346,\n",
       "   'gps_altitude_ref': <GpsAltitudeRef.ABOVE_SEA_LEVEL: 0>},\n",
       "  'label': {'level1': '05_병해잔디',\n",
       "   'level2': '83_(패취류)섬머패취',\n",
       "   'level3': '',\n",
       "   'TurfType': ''}}]"
      ]
     },
     "execution_count": 94,
     "metadata": {},
     "output_type": "execute_result"
    }
   ],
   "source": [
    "InfoJsonArray"
   ]
  },
  {
   "cell_type": "code",
   "execution_count": null,
   "metadata": {},
   "outputs": [],
   "source": []
  },
  {
   "cell_type": "markdown",
   "metadata": {},
   "source": [
    "Gather all data json files from Output Folder"
   ]
  },
  {
   "cell_type": "code",
   "execution_count": 52,
   "metadata": {},
   "outputs": [],
   "source": [
    "out_folder = r'D:\\ToAWS'"
   ]
  },
  {
   "cell_type": "code",
   "execution_count": 56,
   "metadata": {},
   "outputs": [
    {
     "data": {
      "text/plain": [
       "['D:\\\\ToAWS\\\\MGC001\\\\20230811\\\\photo.json',\n",
       " 'D:\\\\ToAWS\\\\MGC002\\\\20230823\\\\photo.json']"
      ]
     },
     "execution_count": 56,
     "metadata": {},
     "output_type": "execute_result"
    }
   ],
   "source": [
    "files = glob.glob(os.path.join(out_folder,'**/*.json'), recursive=True)\n",
    "files = [x for x in files if 'photo' in x]\n",
    "files"
   ]
  },
  {
   "cell_type": "code",
   "execution_count": 57,
   "metadata": {},
   "outputs": [],
   "source": [
    "file_ = files[1]"
   ]
  },
  {
   "cell_type": "code",
   "execution_count": 58,
   "metadata": {},
   "outputs": [],
   "source": [
    "json_dsDB = json.load(open(file_, encoding=\"utf8\"))"
   ]
  },
  {
   "cell_type": "code",
   "execution_count": 67,
   "metadata": {},
   "outputs": [
    {
     "data": {
      "text/plain": [
       "[{'id': '20230823162127_1286447972500_356633918611_161213000',\n",
       "  'originalFileJPG': 'original\\\\2023_0823_청도그레이스_맑고뭉게구름_데이터 1차 분류본\\\\10_스타트퍼팅그린\\\\2023_0823_청도그레이스_스타트퍼팅그린_1.5m\\\\20230823_1621-1630_엽고성병,달라스팟,벤트,그린\\\\DJI_20230823162127_0011_D.JPG',\n",
       "  'originalFileGrp': ['original\\\\2023_0823_청도그레이스_맑고뭉게구름_데이터 1차 분류본\\\\10_스타트퍼팅그린\\\\2023_0823_청도그레이스_스타트퍼팅그린_1.5m\\\\20230823_1621-1630_엽고성병,달라스팟,벤트,그린\\\\DJI_20230823162127_0011_MS_G.TIF',\n",
       "   'original\\\\2023_0823_청도그레이스_맑고뭉게구름_데이터 1차 분류본\\\\10_스타트퍼팅그린\\\\2023_0823_청도그레이스_스타트퍼팅그린_1.5m\\\\20230823_1621-1630_엽고성병,달라스팟,벤트,그린\\\\DJI_20230823162127_0011_MS_NIR.TIF',\n",
       "   'original\\\\2023_0823_청도그레이스_맑고뭉게구름_데이터 1차 분류본\\\\10_스타트퍼팅그린\\\\2023_0823_청도그레이스_스타트퍼팅그린_1.5m\\\\20230823_1621-1630_엽고성병,달라스팟,벤트,그린\\\\DJI_20230823162127_0011_MS_R.TIF',\n",
       "   'original\\\\2023_0823_청도그레이스_맑고뭉게구름_데이터 1차 분류본\\\\10_스타트퍼팅그린\\\\2023_0823_청도그레이스_스타트퍼팅그린_1.5m\\\\20230823_1621-1630_엽고성병,달라스팟,벤트,그린\\\\DJI_20230823162127_0011_MS_RE.TIF'],\n",
       "  'GeoTagInfo': {'coords': [128.64479724999998, 35.66339186111111],\n",
       "   'datetime_original': '2023:08:23 16:21:27',\n",
       "   'gps_altitude': 161.213,\n",
       "   'gps_altitude_ref': 0},\n",
       "  'dest': {'rgb': 'MGC002\\\\20230823\\\\스타트퍼팅그린\\\\엽고성병,달라스팟,벤트,그린\\\\rgb\\\\rgb20230823162127_1286447972500_356633918611_161213000.JPG',\n",
       "   'ndvi': 'MGC002\\\\20230823\\\\스타트퍼팅그린\\\\엽고성병,달라스팟,벤트,그린\\\\ndvi\\\\ndvi20230823162127_1286447972500_356633918611_161213000.JPG',\n",
       "   'thumb': 'MGC002\\\\20230823\\\\스타트퍼팅그린\\\\엽고성병,달라스팟,벤트,그린\\\\thumb\\\\thumbrgb20230823162127_1286447972500_356633918611_161213000.JPG'},\n",
       "  'info': {'course': '청도',\n",
       "   'area': '스타트퍼팅그린',\n",
       "   'desc': '엽고성병,달라스팟,벤트,그린',\n",
       "   'alt': '1.5m',\n",
       "   'date': '20230823'},\n",
       "  'label': [],\n",
       "  'annotation': []}]"
      ]
     },
     "execution_count": 67,
     "metadata": {},
     "output_type": "execute_result"
    }
   ],
   "source": [
    "[x for x in json_dsDB if '20230823162127' in x['id']]"
   ]
  },
  {
   "cell_type": "code",
   "execution_count": 71,
   "metadata": {},
   "outputs": [
    {
     "data": {
      "text/plain": [
       "{'id': '20230823162145_1286447236944_356634455000_160026000',\n",
       " '11originalFileJPG': 'G07_청도그레이스\\\\CU_근접촬영\\\\05_병해잔디\\\\86_(조류)남조류\\\\G07_CU_0586_DJI_20230823162145_0014_D.JPG',\n",
       " '11originalFileGrp': ['G07_청도그레이스\\\\CU_근접촬영\\\\05_병해잔디\\\\86_(조류)남조류\\\\G07_CU_0586_DJI_20230823162145_0014_MS_G.TIF',\n",
       "  'G07_청도그레이스\\\\CU_근접촬영\\\\05_병해잔디\\\\86_(조류)남조류\\\\G07_CU_0586_DJI_20230823162145_0014_MS_NIR.TIF',\n",
       "  'G07_청도그레이스\\\\CU_근접촬영\\\\05_병해잔디\\\\86_(조류)남조류\\\\G07_CU_0586_DJI_20230823162145_0014_MS_R.TIF',\n",
       "  'G07_청도그레이스\\\\CU_근접촬영\\\\05_병해잔디\\\\86_(조류)남조류\\\\G07_CU_0586_DJI_20230823162145_0014_MS_RE.TIF'],\n",
       " 'GeoTagInfo': {'coords': [128.64472369444442, 35.6634455],\n",
       "  'datetime_original': '2023:08:23 16:21:45',\n",
       "  'gps_altitude': 160.026,\n",
       "  'gps_altitude_ref': <GpsAltitudeRef.ABOVE_SEA_LEVEL: 0>},\n",
       " 'label': {'level1': '05_병해잔디',\n",
       "  'level2': '86_(조류)남조류',\n",
       "  'level3': '',\n",
       "  'TurfType': ''}}"
      ]
     },
     "execution_count": 71,
     "metadata": {},
     "output_type": "execute_result"
    }
   ],
   "source": [
    "InfoJsonArray[100]"
   ]
  },
  {
   "cell_type": "code",
   "execution_count": null,
   "metadata": {},
   "outputs": [],
   "source": [
    "20230823162127_1286447972500_356633918611_161213000"
   ]
  }
 ],
 "metadata": {
  "kernelspec": {
   "display_name": "Python 3.9.2 ('geo_James')",
   "language": "python",
   "name": "python3"
  },
  "language_info": {
   "codemirror_mode": {
    "name": "ipython",
    "version": 3
   },
   "file_extension": ".py",
   "mimetype": "text/x-python",
   "name": "python",
   "nbconvert_exporter": "python",
   "pygments_lexer": "ipython3",
   "version": "3.9.2"
  },
  "orig_nbformat": 4,
  "vscode": {
   "interpreter": {
    "hash": "af734be8ad55227f26227a3bb273225e8c732a9f6283c6f58fcb510615c38890"
   }
  }
 },
 "nbformat": 4,
 "nbformat_minor": 2
}
