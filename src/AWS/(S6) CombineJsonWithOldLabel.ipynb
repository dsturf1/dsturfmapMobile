{
 "cells": [
  {
   "cell_type": "code",
   "execution_count": 1,
   "metadata": {},
   "outputs": [],
   "source": [
    "import pandas as pd\n",
    "import re\n",
    "import os\n",
    "import numpy as np\n",
    "import glob\n",
    "from datetime import datetime\n",
    "import geopandas as gpd\n",
    "import json\n",
    "from shapely.geometry import shape, GeometryCollection\n",
    "from rasterio.plot import show\n",
    "import matplotlib.pyplot as plt\n",
    "from mpl_toolkits.mplot3d import Axes3D\n",
    "from matplotlib import cm\n",
    "from matplotlib import colors\n",
    "from utils import FeatureExtraction, feature_matching, decimal_coords\n",
    "from exif import Image as exifimg\n",
    "from PIL import Image\n",
    "\n",
    "import shutil\n",
    "import rasterio\n",
    "import cv2\n",
    "%matplotlib inline"
   ]
  },
  {
   "cell_type": "code",
   "execution_count": 2,
   "metadata": {},
   "outputs": [],
   "source": [
    "# 가능한 font list 확인\n",
    "import matplotlib.font_manager as fm\n",
    "f = [f.name for f in fm.fontManager.ttflist]\n",
    "# print(f)\n",
    "\n",
    "plt.rc('font', family='Malgun Gothic')"
   ]
  },
  {
   "cell_type": "code",
   "execution_count": 3,
   "metadata": {},
   "outputs": [
    {
     "data": {
      "text/plain": [
       "'c:\\\\Users\\\\yc463\\\\Documents\\\\JamesLocal\\\\DS\\\\Drone\\\\dsmapv2\\\\src\\\\AWS\\\\dataDownloaded'"
      ]
     },
     "execution_count": 3,
     "metadata": {},
     "output_type": "execute_result"
    }
   ],
   "source": [
    "AWS_folder = os.getcwd()\n",
    "\n",
    "b_folder = os.path.join(AWS_folder,'BACKUPS')\n",
    "b_folder\n",
    "\n",
    "src_folder = os.path.join(AWS_folder,'dataDownloaded')\n",
    "src_folder"
   ]
  },
  {
   "cell_type": "code",
   "execution_count": 4,
   "metadata": {},
   "outputs": [],
   "source": [
    "img_folder = r'D:\\original'\n",
    "out_folder = r'D:\\ToAWS2'\n",
    "\n",
    "course_list = ['청도','포항','중문','시흥','거창','속리산','춘천']\n",
    "\n",
    "course_ids = {\n",
    "  '포항':'MGC001',\n",
    "  '청도':'MGC002',\n",
    "  '중문':'MGC003',\n",
    "  '시흥':'MGC004',\n",
    "  '거창':'MGC005',\n",
    "  '속리산':'MGC006',\n",
    "  '춘천':'MGC007'\n",
    "}\n",
    "\n",
    "folder_type = ['rgb','ndvi','thumb']"
   ]
  },
  {
   "cell_type": "code",
   "execution_count": 5,
   "metadata": {},
   "outputs": [
    {
     "data": {
      "text/plain": [
       "'MGC002'"
      ]
     },
     "execution_count": 5,
     "metadata": {},
     "output_type": "execute_result"
    }
   ],
   "source": [
    "\n",
    "course_id = course_ids.get('청도')\n",
    "course_id"
   ]
  },
  {
   "cell_type": "code",
   "execution_count": 6,
   "metadata": {},
   "outputs": [
    {
     "data": {
      "text/plain": [
       "['D:\\\\ToAWS2\\\\MGC002\\\\20230823',\n",
       " 'D:\\\\ToAWS2\\\\MGC002\\\\20230907',\n",
       " 'D:\\\\ToAWS2\\\\MGC002\\\\20230919',\n",
       " 'D:\\\\ToAWS2\\\\MGC002\\\\20230927']"
      ]
     },
     "execution_count": 6,
     "metadata": {},
     "output_type": "execute_result"
    }
   ],
   "source": [
    "folders_candidate =glob.glob(os.path.join(out_folder,course_id,'*'))\n",
    "folders_candidate"
   ]
  },
  {
   "cell_type": "code",
   "execution_count": 7,
   "metadata": {},
   "outputs": [
    {
     "data": {
      "text/plain": [
       "'D:\\\\ToAWS2\\\\MGC002\\\\20230823'"
      ]
     },
     "execution_count": 7,
     "metadata": {},
     "output_type": "execute_result"
    }
   ],
   "source": [
    "target_folder = folders_candidate[0]\n",
    "target_folder"
   ]
  },
  {
   "cell_type": "code",
   "execution_count": 8,
   "metadata": {},
   "outputs": [
    {
     "data": {
      "text/plain": [
       "'20230823'"
      ]
     },
     "execution_count": 8,
     "metadata": {},
     "output_type": "execute_result"
    }
   ],
   "source": [
    "target_date = os.path.split(target_folder)[-1]\n",
    "target_date "
   ]
  },
  {
   "cell_type": "markdown",
   "metadata": {},
   "source": [
    "Gather all data json files from Output Folder"
   ]
  },
  {
   "cell_type": "code",
   "execution_count": 9,
   "metadata": {},
   "outputs": [
    {
     "data": {
      "text/plain": [
       "['D:\\\\ToAWS2\\\\MGC002\\\\20230823\\\\10_스타트퍼팅그린\\\\data2023082310_스타트퍼팅그린.json',\n",
       " 'D:\\\\ToAWS2\\\\MGC002\\\\20230823\\\\1_밸리6H\\\\data202308231_밸리6H.json',\n",
       " 'D:\\\\ToAWS2\\\\MGC002\\\\20230823\\\\2_밸리7H\\\\data202308232_밸리7H.json',\n",
       " 'D:\\\\ToAWS2\\\\MGC002\\\\20230823\\\\3_마운틴너스리포장\\\\data202308233_마운틴너스리포장.json',\n",
       " 'D:\\\\ToAWS2\\\\MGC002\\\\20230823\\\\4_마운틴1H\\\\data202308234_마운틴1H.json',\n",
       " 'D:\\\\ToAWS2\\\\MGC002\\\\20230823\\\\5_마운틴2H\\\\data202308235_마운틴2H.json',\n",
       " 'D:\\\\ToAWS2\\\\MGC002\\\\20230823\\\\6_마운틴3H\\\\data202308236_마운틴3H.json',\n",
       " 'D:\\\\ToAWS2\\\\MGC002\\\\20230823\\\\7_레이크2H\\\\data202308237_레이크2H.json',\n",
       " 'D:\\\\ToAWS2\\\\MGC002\\\\20230823\\\\8_레이크3H\\\\data202308238_레이크3H.json',\n",
       " 'D:\\\\ToAWS2\\\\MGC002\\\\20230823\\\\9_레이크4H\\\\data202308239_레이크4H.json']"
      ]
     },
     "execution_count": 9,
     "metadata": {},
     "output_type": "execute_result"
    }
   ],
   "source": [
    "dataJsonList = glob.glob(os.path.join(out_folder,course_id,target_date,'**/data*.json'), recursive=True)\n",
    "dataJsonList"
   ]
  },
  {
   "cell_type": "code",
   "execution_count": 10,
   "metadata": {},
   "outputs": [],
   "source": [
    "folderinDataJson = []\n",
    "totalPhotoJson = []\n",
    "\n",
    "for dataJson_ in dataJsonList:\n",
    "  with open(dataJson_, \"r\", encoding='utf-8') as _json:\n",
    "    dataJson= json.load(_json)\n",
    "\n",
    "\n",
    "  for data_ in dataJson:\n",
    "    # if data_['dest']['thumb'][0] !=\"M\" :\n",
    "      data_['dest']['thumb'] = os.path.join(course_id,target_date,data_['info']['area'],data_['info']['desc'],'thumb','thumbrgb{}.JPG'.format( data_['id']) )\n",
    "    # if data_['dest']['rgb'][0] !=\"M\" :\n",
    "      data_['dest']['rgb'] = os.path.join(course_id,target_date,data_['info']['area'],data_['info']['desc'],'rgb','rgb{}.JPG'.format( data_['id']) )\n",
    "    # if data_['dest']['ndvi'][0] !=\"M\" :\n",
    "      data_['dest']['ndvi'] = os.path.join(course_id,target_date,data_['info']['area'],data_['info']['desc'],'ndvi','ndvi{}.JPG'.format( data_['id']) )\n",
    "    \n",
    "  \n",
    "  totalPhotoJson.extend(dataJson)\n",
    "\n",
    "  for Json_ in dataJson:\n",
    "    if Json_['destFolder'] not in folderinDataJson:\n",
    "      folderinDataJson.append(Json_['destFolder'])\n",
    "\n",
    "\n"
   ]
  },
  {
   "cell_type": "code",
   "execution_count": 11,
   "metadata": {},
   "outputs": [
    {
     "data": {
      "text/plain": [
       "8319"
      ]
     },
     "execution_count": 11,
     "metadata": {},
     "output_type": "execute_result"
    }
   ],
   "source": [
    "len(totalPhotoJson)"
   ]
  },
  {
   "cell_type": "code",
   "execution_count": null,
   "metadata": {},
   "outputs": [],
   "source": []
  },
  {
   "cell_type": "code",
   "execution_count": 16,
   "metadata": {},
   "outputs": [
    {
     "data": {
      "text/plain": [
       "['c:\\\\Users\\\\yc463\\\\Documents\\\\JamesLocal\\\\DS\\\\Drone\\\\dsmapv2\\\\src\\\\AWS\\\\BACKUPS\\\\MGC002_20230823.json']"
      ]
     },
     "execution_count": 16,
     "metadata": {},
     "output_type": "execute_result"
    }
   ],
   "source": [
    "oldLabelList = glob.glob(os.path.join(b_folder,'*.json'), recursive=True)\n",
    "oldLabelList = [x for x in oldLabelList if course_id in x and target_date  in x]\n",
    "oldLabelList "
   ]
  },
  {
   "cell_type": "code",
   "execution_count": 18,
   "metadata": {},
   "outputs": [],
   "source": [
    "with open(oldLabelList[0], \"r\", encoding='utf-8') as _json:\n",
    "  oldlabel = json.load(_json)"
   ]
  },
  {
   "cell_type": "code",
   "execution_count": 40,
   "metadata": {},
   "outputs": [
    {
     "data": {
      "text/plain": [
       "(8320, 7)"
      ]
     },
     "execution_count": 40,
     "metadata": {},
     "output_type": "execute_result"
    }
   ],
   "source": [
    "old_df = pd.DataFrame(oldlabel)\n",
    "old_df.shape"
   ]
  },
  {
   "cell_type": "code",
   "execution_count": 41,
   "metadata": {},
   "outputs": [
    {
     "data": {
      "text/html": [
       "<div>\n",
       "<style scoped>\n",
       "    .dataframe tbody tr th:only-of-type {\n",
       "        vertical-align: middle;\n",
       "    }\n",
       "\n",
       "    .dataframe tbody tr th {\n",
       "        vertical-align: top;\n",
       "    }\n",
       "\n",
       "    .dataframe thead th {\n",
       "        text-align: right;\n",
       "    }\n",
       "</style>\n",
       "<table border=\"1\" class=\"dataframe\">\n",
       "  <thead>\n",
       "    <tr style=\"text-align: right;\">\n",
       "      <th></th>\n",
       "      <th>metadata</th>\n",
       "      <th>date</th>\n",
       "      <th>area</th>\n",
       "      <th>courseid</th>\n",
       "      <th>json</th>\n",
       "      <th>id</th>\n",
       "      <th>desc</th>\n",
       "    </tr>\n",
       "  </thead>\n",
       "  <tbody>\n",
       "    <tr>\n",
       "      <th>0</th>\n",
       "      <td>MGC002202308231_밸리6H건조,패취류,썸머패취,켄터키,티,답압,장비피해</td>\n",
       "      <td>20230823</td>\n",
       "      <td>1_밸리6H</td>\n",
       "      <td>MGC002</td>\n",
       "      <td>{'originalFileGrp': ['original\\2023_0823_청도그레이...</td>\n",
       "      <td>20230823103730_1286504149444_356546272778_1306...</td>\n",
       "      <td>건조,패취류,썸머패취,켄터키,티,답압,장비피해</td>\n",
       "    </tr>\n",
       "    <tr>\n",
       "      <th>1</th>\n",
       "      <td>MGC002202308231_밸리6H건조,패취류,썸머패취,켄터키,티,답압,장비피해</td>\n",
       "      <td>20230823</td>\n",
       "      <td>1_밸리6H</td>\n",
       "      <td>MGC002</td>\n",
       "      <td>{'originalFileGrp': ['original\\2023_0823_청도그레이...</td>\n",
       "      <td>20230823103732_1286504147222_356546285833_1306...</td>\n",
       "      <td>건조,패취류,썸머패취,켄터키,티,답압,장비피해</td>\n",
       "    </tr>\n",
       "  </tbody>\n",
       "</table>\n",
       "</div>"
      ],
      "text/plain": [
       "                                        metadata      date    area courseid  \\\n",
       "0  MGC002202308231_밸리6H건조,패취류,썸머패취,켄터키,티,답압,장비피해  20230823  1_밸리6H   MGC002   \n",
       "1  MGC002202308231_밸리6H건조,패취류,썸머패취,켄터키,티,답압,장비피해  20230823  1_밸리6H   MGC002   \n",
       "\n",
       "                                                json  \\\n",
       "0  {'originalFileGrp': ['original\\2023_0823_청도그레이...   \n",
       "1  {'originalFileGrp': ['original\\2023_0823_청도그레이...   \n",
       "\n",
       "                                                  id  \\\n",
       "0  20230823103730_1286504149444_356546272778_1306...   \n",
       "1  20230823103732_1286504147222_356546285833_1306...   \n",
       "\n",
       "                        desc  \n",
       "0  건조,패취류,썸머패취,켄터키,티,답압,장비피해  \n",
       "1  건조,패취류,썸머패취,켄터키,티,답압,장비피해  "
      ]
     },
     "execution_count": 41,
     "metadata": {},
     "output_type": "execute_result"
    }
   ],
   "source": [
    "old_df.head(2)"
   ]
  },
  {
   "cell_type": "code",
   "execution_count": 42,
   "metadata": {},
   "outputs": [],
   "source": [
    "old_df['newlabel'] = old_df.json.map(lambda x: x['label'])\n",
    "old_df = old_df[['id', 'newlabel']]"
   ]
  },
  {
   "cell_type": "code",
   "execution_count": null,
   "metadata": {},
   "outputs": [],
   "source": []
  },
  {
   "cell_type": "code",
   "execution_count": 43,
   "metadata": {},
   "outputs": [
    {
     "data": {
      "text/plain": [
       "(8319, 10)"
      ]
     },
     "execution_count": 43,
     "metadata": {},
     "output_type": "execute_result"
    }
   ],
   "source": [
    "df = pd.DataFrame(totalPhotoJson)\n",
    "df.shape\n",
    "\n"
   ]
  },
  {
   "cell_type": "code",
   "execution_count": 44,
   "metadata": {},
   "outputs": [
    {
     "data": {
      "text/plain": [
       "(8319, 11)"
      ]
     },
     "execution_count": 44,
     "metadata": {},
     "output_type": "execute_result"
    }
   ],
   "source": [
    "df= df.merge(old_df, on = ['id'], how = 'left')\n",
    "df.shape"
   ]
  },
  {
   "cell_type": "code",
   "execution_count": 45,
   "metadata": {},
   "outputs": [
    {
     "data": {
      "text/html": [
       "<div>\n",
       "<style scoped>\n",
       "    .dataframe tbody tr th:only-of-type {\n",
       "        vertical-align: middle;\n",
       "    }\n",
       "\n",
       "    .dataframe tbody tr th {\n",
       "        vertical-align: top;\n",
       "    }\n",
       "\n",
       "    .dataframe thead th {\n",
       "        text-align: right;\n",
       "    }\n",
       "</style>\n",
       "<table border=\"1\" class=\"dataframe\">\n",
       "  <thead>\n",
       "    <tr style=\"text-align: right;\">\n",
       "      <th></th>\n",
       "      <th>id</th>\n",
       "      <th>originalFileJPG</th>\n",
       "      <th>originalFileGrp</th>\n",
       "      <th>destFolder</th>\n",
       "      <th>GeoTagInfo</th>\n",
       "      <th>dest</th>\n",
       "      <th>info</th>\n",
       "      <th>label</th>\n",
       "      <th>annotation</th>\n",
       "      <th>labelBy</th>\n",
       "      <th>newlabel</th>\n",
       "    </tr>\n",
       "  </thead>\n",
       "  <tbody>\n",
       "    <tr>\n",
       "      <th>0</th>\n",
       "      <td>20230823162119_1286447212222_356634586944_1599...</td>\n",
       "      <td>NIA_2023_52_잔디\\10_원시데이터(3사_분류대상)\\2023_0823_청도그...</td>\n",
       "      <td>[NIA_2023_52_잔디\\10_원시데이터(3사_분류대상)\\2023_0823_청도...</td>\n",
       "      <td>20230823/10_스타트퍼팅그린/엽고성병,달라스팟,벤트,그린_0</td>\n",
       "      <td>{'coords': [128.64472122222222, 35.66345869444...</td>\n",
       "      <td>{'rgb': 'MGC002\\20230823\\10_스타트퍼팅그린\\엽고성병,달라스팟,...</td>\n",
       "      <td>{'course': '청도', 'area': '10_스타트퍼팅그린', 'desc':...</td>\n",
       "      <td>[]</td>\n",
       "      <td>[]</td>\n",
       "      <td></td>\n",
       "      <td>[{'level1': '물리피해', 'TurfType': '벤트그래스', 'leve...</td>\n",
       "    </tr>\n",
       "    <tr>\n",
       "      <th>1</th>\n",
       "      <td>20230823162121_1286447209722_356634581111_1599...</td>\n",
       "      <td>NIA_2023_52_잔디\\10_원시데이터(3사_분류대상)\\2023_0823_청도그...</td>\n",
       "      <td>[NIA_2023_52_잔디\\10_원시데이터(3사_분류대상)\\2023_0823_청도...</td>\n",
       "      <td>20230823/10_스타트퍼팅그린/엽고성병,달라스팟,벤트,그린_0</td>\n",
       "      <td>{'coords': [128.64472097222222, 35.66345811111...</td>\n",
       "      <td>{'rgb': 'MGC002\\20230823\\10_스타트퍼팅그린\\엽고성병,달라스팟,...</td>\n",
       "      <td>{'course': '청도', 'area': '10_스타트퍼팅그린', 'desc':...</td>\n",
       "      <td>[]</td>\n",
       "      <td>[]</td>\n",
       "      <td></td>\n",
       "      <td>[{'level1': '물리피해', 'TurfType': '벤트그래스', 'leve...</td>\n",
       "    </tr>\n",
       "  </tbody>\n",
       "</table>\n",
       "</div>"
      ],
      "text/plain": [
       "                                                  id  \\\n",
       "0  20230823162119_1286447212222_356634586944_1599...   \n",
       "1  20230823162121_1286447209722_356634581111_1599...   \n",
       "\n",
       "                                     originalFileJPG  \\\n",
       "0  NIA_2023_52_잔디\\10_원시데이터(3사_분류대상)\\2023_0823_청도그...   \n",
       "1  NIA_2023_52_잔디\\10_원시데이터(3사_분류대상)\\2023_0823_청도그...   \n",
       "\n",
       "                                     originalFileGrp  \\\n",
       "0  [NIA_2023_52_잔디\\10_원시데이터(3사_분류대상)\\2023_0823_청도...   \n",
       "1  [NIA_2023_52_잔디\\10_원시데이터(3사_분류대상)\\2023_0823_청도...   \n",
       "\n",
       "                              destFolder  \\\n",
       "0  20230823/10_스타트퍼팅그린/엽고성병,달라스팟,벤트,그린_0   \n",
       "1  20230823/10_스타트퍼팅그린/엽고성병,달라스팟,벤트,그린_0   \n",
       "\n",
       "                                          GeoTagInfo  \\\n",
       "0  {'coords': [128.64472122222222, 35.66345869444...   \n",
       "1  {'coords': [128.64472097222222, 35.66345811111...   \n",
       "\n",
       "                                                dest  \\\n",
       "0  {'rgb': 'MGC002\\20230823\\10_스타트퍼팅그린\\엽고성병,달라스팟,...   \n",
       "1  {'rgb': 'MGC002\\20230823\\10_스타트퍼팅그린\\엽고성병,달라스팟,...   \n",
       "\n",
       "                                                info label annotation labelBy  \\\n",
       "0  {'course': '청도', 'area': '10_스타트퍼팅그린', 'desc':...    []         []           \n",
       "1  {'course': '청도', 'area': '10_스타트퍼팅그린', 'desc':...    []         []           \n",
       "\n",
       "                                            newlabel  \n",
       "0  [{'level1': '물리피해', 'TurfType': '벤트그래스', 'leve...  \n",
       "1  [{'level1': '물리피해', 'TurfType': '벤트그래스', 'leve...  "
      ]
     },
     "execution_count": 45,
     "metadata": {},
     "output_type": "execute_result"
    }
   ],
   "source": [
    "df.head(2)"
   ]
  },
  {
   "cell_type": "code",
   "execution_count": 46,
   "metadata": {},
   "outputs": [
    {
     "data": {
      "text/html": [
       "<div>\n",
       "<style scoped>\n",
       "    .dataframe tbody tr th:only-of-type {\n",
       "        vertical-align: middle;\n",
       "    }\n",
       "\n",
       "    .dataframe tbody tr th {\n",
       "        vertical-align: top;\n",
       "    }\n",
       "\n",
       "    .dataframe thead th {\n",
       "        text-align: right;\n",
       "    }\n",
       "</style>\n",
       "<table border=\"1\" class=\"dataframe\">\n",
       "  <thead>\n",
       "    <tr style=\"text-align: right;\">\n",
       "      <th></th>\n",
       "      <th>id</th>\n",
       "      <th>originalFileJPG</th>\n",
       "      <th>originalFileGrp</th>\n",
       "      <th>destFolder</th>\n",
       "      <th>GeoTagInfo</th>\n",
       "      <th>dest</th>\n",
       "      <th>info</th>\n",
       "      <th>label</th>\n",
       "      <th>annotation</th>\n",
       "      <th>labelBy</th>\n",
       "    </tr>\n",
       "  </thead>\n",
       "  <tbody>\n",
       "    <tr>\n",
       "      <th>0</th>\n",
       "      <td>20230823162119_1286447212222_356634586944_1599...</td>\n",
       "      <td>NIA_2023_52_잔디\\10_원시데이터(3사_분류대상)\\2023_0823_청도그...</td>\n",
       "      <td>[NIA_2023_52_잔디\\10_원시데이터(3사_분류대상)\\2023_0823_청도...</td>\n",
       "      <td>20230823/10_스타트퍼팅그린/엽고성병,달라스팟,벤트,그린_0</td>\n",
       "      <td>{'coords': [128.64472122222222, 35.66345869444...</td>\n",
       "      <td>{'rgb': 'MGC002\\20230823\\10_스타트퍼팅그린\\엽고성병,달라스팟,...</td>\n",
       "      <td>{'course': '청도', 'area': '10_스타트퍼팅그린', 'desc':...</td>\n",
       "      <td>[{'level1': '물리피해', 'TurfType': '벤트그래스', 'leve...</td>\n",
       "      <td>[]</td>\n",
       "      <td></td>\n",
       "    </tr>\n",
       "    <tr>\n",
       "      <th>1</th>\n",
       "      <td>20230823162121_1286447209722_356634581111_1599...</td>\n",
       "      <td>NIA_2023_52_잔디\\10_원시데이터(3사_분류대상)\\2023_0823_청도그...</td>\n",
       "      <td>[NIA_2023_52_잔디\\10_원시데이터(3사_분류대상)\\2023_0823_청도...</td>\n",
       "      <td>20230823/10_스타트퍼팅그린/엽고성병,달라스팟,벤트,그린_0</td>\n",
       "      <td>{'coords': [128.64472097222222, 35.66345811111...</td>\n",
       "      <td>{'rgb': 'MGC002\\20230823\\10_스타트퍼팅그린\\엽고성병,달라스팟,...</td>\n",
       "      <td>{'course': '청도', 'area': '10_스타트퍼팅그린', 'desc':...</td>\n",
       "      <td>[{'level1': '물리피해', 'TurfType': '벤트그래스', 'leve...</td>\n",
       "      <td>[]</td>\n",
       "      <td></td>\n",
       "    </tr>\n",
       "  </tbody>\n",
       "</table>\n",
       "</div>"
      ],
      "text/plain": [
       "                                                  id  \\\n",
       "0  20230823162119_1286447212222_356634586944_1599...   \n",
       "1  20230823162121_1286447209722_356634581111_1599...   \n",
       "\n",
       "                                     originalFileJPG  \\\n",
       "0  NIA_2023_52_잔디\\10_원시데이터(3사_분류대상)\\2023_0823_청도그...   \n",
       "1  NIA_2023_52_잔디\\10_원시데이터(3사_분류대상)\\2023_0823_청도그...   \n",
       "\n",
       "                                     originalFileGrp  \\\n",
       "0  [NIA_2023_52_잔디\\10_원시데이터(3사_분류대상)\\2023_0823_청도...   \n",
       "1  [NIA_2023_52_잔디\\10_원시데이터(3사_분류대상)\\2023_0823_청도...   \n",
       "\n",
       "                              destFolder  \\\n",
       "0  20230823/10_스타트퍼팅그린/엽고성병,달라스팟,벤트,그린_0   \n",
       "1  20230823/10_스타트퍼팅그린/엽고성병,달라스팟,벤트,그린_0   \n",
       "\n",
       "                                          GeoTagInfo  \\\n",
       "0  {'coords': [128.64472122222222, 35.66345869444...   \n",
       "1  {'coords': [128.64472097222222, 35.66345811111...   \n",
       "\n",
       "                                                dest  \\\n",
       "0  {'rgb': 'MGC002\\20230823\\10_스타트퍼팅그린\\엽고성병,달라스팟,...   \n",
       "1  {'rgb': 'MGC002\\20230823\\10_스타트퍼팅그린\\엽고성병,달라스팟,...   \n",
       "\n",
       "                                                info  \\\n",
       "0  {'course': '청도', 'area': '10_스타트퍼팅그린', 'desc':...   \n",
       "1  {'course': '청도', 'area': '10_스타트퍼팅그린', 'desc':...   \n",
       "\n",
       "                                               label annotation labelBy  \n",
       "0  [{'level1': '물리피해', 'TurfType': '벤트그래스', 'leve...         []          \n",
       "1  [{'level1': '물리피해', 'TurfType': '벤트그래스', 'leve...         []          "
      ]
     },
     "execution_count": 46,
     "metadata": {},
     "output_type": "execute_result"
    }
   ],
   "source": [
    "df.label = df.newlabel\n",
    "df = df[df.columns[:-1]]\n",
    "df.head(2)"
   ]
  },
  {
   "cell_type": "code",
   "execution_count": 47,
   "metadata": {},
   "outputs": [],
   "source": [
    "save_name = os.path.join(out_folder,course_id,target_date, 'photo.json')\n",
    "with open(save_name, \"w\", encoding='utf-8') as f:\n",
    "   f.write(df.to_json(orient='records', force_ascii=False))"
   ]
  },
  {
   "cell_type": "code",
   "execution_count": 48,
   "metadata": {},
   "outputs": [],
   "source": [
    "filestructure = []\n",
    "\n",
    "\n",
    "for folder_ in folderinDataJson:\n",
    "  fileinfo = {}\n",
    "  fileinfo[\"path\"] = folder_\n",
    "  fileinfo[\"file_cnt\"] = len([ x for x in totalPhotoJson if x[\"destFolder\"] == folder_])\n",
    "  fileinfo[\"labeled_file_cnt\"] = 0\n",
    "  filestructure.append(fileinfo)\n",
    "  "
   ]
  },
  {
   "cell_type": "code",
   "execution_count": 49,
   "metadata": {},
   "outputs": [],
   "source": [
    "save_name = os.path.join(out_folder,course_id,target_date, 'filepath_'+course_id + '_'+target_date+'.json')\n",
    "with open(save_name, \"w\", encoding='utf-8') as final:\n",
    "   json.dump(filestructure, final , ensure_ascii=False)"
   ]
  },
  {
   "cell_type": "code",
   "execution_count": null,
   "metadata": {},
   "outputs": [],
   "source": []
  }
 ],
 "metadata": {
  "kernelspec": {
   "display_name": "Python 3.9.2 ('geo_James')",
   "language": "python",
   "name": "python3"
  },
  "language_info": {
   "codemirror_mode": {
    "name": "ipython",
    "version": 3
   },
   "file_extension": ".py",
   "mimetype": "text/x-python",
   "name": "python",
   "nbconvert_exporter": "python",
   "pygments_lexer": "ipython3",
   "version": "3.9.7"
  },
  "orig_nbformat": 4,
  "vscode": {
   "interpreter": {
    "hash": "af734be8ad55227f26227a3bb273225e8c732a9f6283c6f58fcb510615c38890"
   }
  }
 },
 "nbformat": 4,
 "nbformat_minor": 2
}
