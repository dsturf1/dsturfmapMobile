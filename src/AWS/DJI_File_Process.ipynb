{
 "cells": [
  {
   "cell_type": "code",
   "execution_count": 88,
   "metadata": {},
   "outputs": [],
   "source": [
    "import pandas as pd\n",
    "import re\n",
    "import os\n",
    "import numpy as np\n",
    "import glob\n",
    "from datetime import datetime\n",
    "import geopandas as gpd\n",
    "import json\n",
    "from shapely.geometry import shape, GeometryCollection\n",
    "from rasterio.plot import show\n",
    "import matplotlib.pyplot as plt\n",
    "from mpl_toolkits.mplot3d import Axes3D\n",
    "from matplotlib import cm\n",
    "from matplotlib import colors\n",
    "from utils import FeatureExtraction, feature_matching, decimal_coords\n",
    "from exif import Image as exifimg\n",
    "from PIL import Image\n",
    "\n",
    "import shutil\n",
    "import rasterio\n",
    "import cv2\n",
    "%matplotlib inline"
   ]
  },
  {
   "cell_type": "code",
   "execution_count": 89,
   "metadata": {},
   "outputs": [],
   "source": [
    "# 가능한 font list 확인\n",
    "import matplotlib.font_manager as fm\n",
    "f = [f.name for f in fm.fontManager.ttflist]\n",
    "# print(f)\n",
    "\n",
    "plt.rc('font', family='Malgun Gothic')"
   ]
  },
  {
   "cell_type": "code",
   "execution_count": 90,
   "metadata": {},
   "outputs": [],
   "source": [
    "def getInfo(filesGrp, img_path):\n",
    "\n",
    "  dslabel = {\n",
    "    \"id\":\"\",\n",
    "    \"originalFileJPG\":\"\",\n",
    "    \"originalFileGrp\":[],\n",
    "    \"GeoTagInfo\":{\n",
    "      \"coords\":[],\n",
    "      \"datetime_original\":\"\",\n",
    "      \"gps_altitude\":0,\n",
    "      \"gps_altitude_ref\":\"\"    \n",
    "    },\n",
    "    \"dest\":{\n",
    "      \"rgb\":\"\",\n",
    "      \"ndvi\":\"\",\n",
    "      \"thumb\":\"\",\n",
    "    },\n",
    "    \"info\":{\n",
    "      \"course\":\"\",\n",
    "      \"area\":\"\",\n",
    "      \"desc\":\"\",\n",
    "      \"alt\":\"\"\n",
    "    },\n",
    "    \"label\":[],\n",
    "    \"annotation\":[]\n",
    "  }\n",
    "\n",
    "  \n",
    "\n",
    "  dslabel['originalFileJPG'] = img_path[3:]\n",
    "  dslabel['originalFileGrp'] = [x[3:] for x in filesGrp  if ('.JPG' not in x)]\n",
    "\n",
    "  with open(img_path, 'rb') as src:\n",
    "    img = exifimg(src)\n",
    "\n",
    "  coords = [\n",
    "    decimal_coords(img.gps_longitude,\n",
    "    img.gps_longitude_ref),\n",
    "      decimal_coords(img.gps_latitude,\n",
    "    img.gps_latitude_ref)\n",
    "  ]\n",
    "\n",
    "  dslabel['id'] = img.datetime_original.replace(\" \",\"\").replace(\":\",\"\") + \"_{:f}\".format(coords[0]).replace(\".\",\"\") + \"_{:f}\".format(coords[1]).replace(\".\",\"\") + \"_{:f}\".format(img.gps_altitude).replace(\".\",\"\")\n",
    "  dslabel['GeoTagInfo']['coords'] = coords\n",
    "  dslabel['GeoTagInfo']['datetime_original'] = img.datetime_original\n",
    "  dslabel['GeoTagInfo']['gps_altitude'] = img.gps_altitude\n",
    "  dslabel['GeoTagInfo']['gps_altitude_ref'] = img.gps_altitude_ref\n",
    "  \n",
    "  return dslabel"
   ]
  },
  {
   "cell_type": "code",
   "execution_count": 91,
   "metadata": {},
   "outputs": [],
   "source": [
    "def getNDVIimg(filesGrp):\n",
    "\n",
    "\n",
    "  with rasterio.open([ x for x in filesGrp if ('_MS_R' in x) ][0]) as src:\n",
    "      band_red = src.read(1).astype(float)/65536.\n",
    "\n",
    "  with rasterio.open([ x for x in filesGrp if ('_MS_NIR' in x) ][0]) as src:\n",
    "      band_nir = src.read(1).astype(float)/65536.\n",
    "\n",
    "  np.seterr(divide='ignore', invalid='ignore')\n",
    "\n",
    "  # Calculate NDVI\n",
    "  ndvi = (band_nir.astype(float) - band_red.astype(float)) / (band_nir.astype(float) + band_red.astype(float))\n",
    "\n",
    "  ndvi -= ndvi.min() # ensure the minimal value is 0.0\n",
    "  ndvi /= ndvi.max() # maximum value in image is now 1.0\n",
    "\n",
    "  cm = plt.cm.get_cmap('RdYlGn')\n",
    "  ndvi_cm = cm(ndvi)\n",
    "\n",
    "  ndvi_img = cv2.normalize(ndvi_cm[:,:,:3], None, alpha = 0, beta = 255, norm_type = cv2.NORM_MINMAX, dtype = cv2.CV_32F).astype(np.uint8)\n",
    "\n",
    "  return ndvi_img"
   ]
  },
  {
   "cell_type": "code",
   "execution_count": 92,
   "metadata": {},
   "outputs": [],
   "source": [
    "def getalignedRGB(filesGrp_, ndvi_img):\n",
    "  RGBimg = np.asarray(Image.open(filesGrp_[0]))\n",
    "\n",
    "  # RGBimg = np.asarray(Image.open(filesGrp_[0]).resize((ndvi_img.shape[1],ndvi_img.shape[0])))\n",
    "  # features0 = FeatureExtraction(RGBimg)\n",
    "  # features1 = FeatureExtraction(ndvi_img)\n",
    "\n",
    "  # matches = feature_matching(features0, features1)\n",
    "\n",
    "  # print('{} number of matched has been found! in {}'.format(len(matches), filesGrp_[0]))\n",
    "\n",
    "  # if len(matches) < 10:\n",
    "  #    raise Exception(\"Not Enough Matches\")\n",
    "\n",
    "  # H, _ = cv2.findHomography( features0.matched_pts, features1.matched_pts, cv2.RANSAC, 5.0)\n",
    "\n",
    "  H = np.array([[ 5.93209530e-01, -8.35074813e-03, -2.21474434e+02],\n",
    "       [ 1.32198817e-02,  5.96460559e-01, -2.01042419e+02],\n",
    "       [ 1.58520522e-06,  1.69424781e-06,  1.00000000e+00]])\n",
    "\n",
    "  h, w, c = ndvi_img.shape\n",
    "  RGBimg_tuned = cv2.warpPerspective(RGBimg, H, (w, h), borderMode=cv2.BORDER_CONSTANT, borderValue=(0, 0, 0, 0))\n",
    "\n",
    "  return RGBimg_tuned "
   ]
  },
  {
   "cell_type": "code",
   "execution_count": 93,
   "metadata": {},
   "outputs": [],
   "source": [
    "img_folder = r'D:\\original'\n",
    "out_folder = r'D:\\ToAWS'\n",
    "\n",
    "course_list = ['청도','포항','중문']\n",
    "\n",
    "folder_type = ['rgb','ndvi','thumb']"
   ]
  },
  {
   "cell_type": "code",
   "execution_count": 94,
   "metadata": {},
   "outputs": [],
   "source": [
    "# subFolder = glob.glob(os.path.join(img_folder,'*'))\n",
    "# To_create_folder = [os.path.join(out_folder, list(filter(lambda y: y in x, course_list))[0],os.path.split(x)[-1][:9].replace('_','') ) for x in subFolder]"
   ]
  },
  {
   "cell_type": "code",
   "execution_count": 95,
   "metadata": {},
   "outputs": [],
   "source": [
    "# To_create_folder"
   ]
  },
  {
   "cell_type": "code",
   "execution_count": 96,
   "metadata": {},
   "outputs": [],
   "source": [
    "# import itertools\n",
    "\n",
    "# iterables = [ To_create_folder, folder_type]\n",
    "\n",
    "# paths_ = [os.path.join(x[0],x[1]) for x in list(itertools.product(*iterables))]\n",
    "\n",
    "# for path_ in paths_:\n",
    "#   if not os.path.exists(path_):\n",
    "#     os.makedirs(path_)"
   ]
  },
  {
   "cell_type": "code",
   "execution_count": 97,
   "metadata": {},
   "outputs": [
    {
     "data": {
      "text/plain": [
       "8320"
      ]
     },
     "execution_count": 97,
     "metadata": {},
     "output_type": "execute_result"
    }
   ],
   "source": [
    "files = glob.glob(os.path.join(img_folder,'**/DJI_*.JPG'), recursive=True)\n",
    "\n",
    "len(files)"
   ]
  },
  {
   "cell_type": "code",
   "execution_count": 98,
   "metadata": {},
   "outputs": [],
   "source": [
    "for idx, file_ in enumerate(files):\n",
    "\n",
    "  course = list(filter(lambda y: y in file_, course_list))[0]\n",
    "  target_date = os.path.split(file_)[-1].split('_')[1][:8]\n",
    "  path = os.path.normpath(file_)\n",
    "  info = path.split(os.sep)\n",
    "\n",
    "  area = info[3].split('_')[-1]\n",
    "  desc = info[5].split('_')[-1]\n",
    "  alt =  info[4].split('_')[-1]\n",
    "\n",
    "  # print(out_folder,course,target_date,area,desc,'rgb')\n",
    "  path_ = os.path.join(out_folder,course,target_date,area,'rgb')\n",
    "\n",
    "  if not os.path.exists(path_):\n",
    "    os.makedirs(path_)\n",
    "\n",
    "  path_ = os.path.join(out_folder,course,target_date,area,'ndvi')\n",
    "\n",
    "  if not os.path.exists(path_):\n",
    "    os.makedirs(path_)\n",
    "\n",
    "  path_ = os.path.join(out_folder,course,target_date,area,'thumb')\n",
    "\n",
    "  if not os.path.exists(path_):\n",
    "    os.makedirs(path_)\n"
   ]
  },
  {
   "cell_type": "code",
   "execution_count": 99,
   "metadata": {},
   "outputs": [],
   "source": [
    "filenameOnly = []\n",
    "for file_ in files:\n",
    "  filenameOnly.append(os.path.split(file_)[-1])"
   ]
  },
  {
   "cell_type": "code",
   "execution_count": 100,
   "metadata": {},
   "outputs": [],
   "source": [
    "unique, counts = np.unique(filenameOnly , return_counts=True)"
   ]
  },
  {
   "cell_type": "code",
   "execution_count": 101,
   "metadata": {},
   "outputs": [
    {
     "data": {
      "text/plain": [
       "8320"
      ]
     },
     "execution_count": 101,
     "metadata": {},
     "output_type": "execute_result"
    }
   ],
   "source": [
    "len(np.asarray((unique, counts)).T)"
   ]
  },
  {
   "cell_type": "code",
   "execution_count": 102,
   "metadata": {},
   "outputs": [
    {
     "data": {
      "text/plain": [
       "60"
      ]
     },
     "execution_count": 102,
     "metadata": {},
     "output_type": "execute_result"
    }
   ],
   "source": [
    "target_files = [ x for x in files if ('1.5m'in x or '1.5M'in x ) ][100:120] + [ x for x in files if ('0.5m'in x or '0.5M'in x) ][0:20] + [ x for x in files if ('30m' in x or '30M' in x) ][0:20]\n",
    "\n",
    "len(target_files)"
   ]
  },
  {
   "cell_type": "code",
   "execution_count": 103,
   "metadata": {},
   "outputs": [
    {
     "data": {
      "text/plain": [
       "['D:',\n",
       " 'original',\n",
       " '2023_0823_청도그레이스_맑고뭉게구름_데이터 1차 분류본',\n",
       " '9_레이크4H',\n",
       " '2023_0823_청도그레이스_레이크 4H_30m',\n",
       " '20230823_1607-1613',\n",
       " 'DJI_20230823161309_0320_D.JPG']"
      ]
     },
     "execution_count": 103,
     "metadata": {},
     "output_type": "execute_result"
    }
   ],
   "source": [
    "path = os.path.normpath(file_)\n",
    "path.split(os.sep)"
   ]
  },
  {
   "cell_type": "code",
   "execution_count": 104,
   "metadata": {},
   "outputs": [
    {
     "data": {
      "text/plain": [
       "'30m'"
      ]
     },
     "execution_count": 104,
     "metadata": {},
     "output_type": "execute_result"
    }
   ],
   "source": [
    "path.split(os.sep)[4].split('_')[-1]"
   ]
  },
  {
   "cell_type": "code",
   "execution_count": 105,
   "metadata": {},
   "outputs": [
    {
     "data": {
      "text/plain": [
       "'청도'"
      ]
     },
     "execution_count": 105,
     "metadata": {},
     "output_type": "execute_result"
    }
   ],
   "source": [
    "course = list(filter(lambda y: y in file_, course_list))[0]\n",
    "course"
   ]
  },
  {
   "cell_type": "code",
   "execution_count": 106,
   "metadata": {},
   "outputs": [
    {
     "data": {
      "text/plain": [
       "['D:\\\\original\\\\2023_0823_청도그레이스_맑고뭉게구름_데이터 1차 분류본\\\\9_레이크4H\\\\2023_0823_청도그레이스_레이크 4H_30m\\\\20230823_1607-1613\\\\DJI_20230823161309_0320_D.JPG',\n",
       " 'D:\\\\original\\\\2023_0823_청도그레이스_맑고뭉게구름_데이터 1차 분류본\\\\9_레이크4H\\\\2023_0823_청도그레이스_레이크 4H_30m\\\\20230823_1607-1613\\\\DJI_20230823161309_0320_MS_G.TIF',\n",
       " 'D:\\\\original\\\\2023_0823_청도그레이스_맑고뭉게구름_데이터 1차 분류본\\\\9_레이크4H\\\\2023_0823_청도그레이스_레이크 4H_30m\\\\20230823_1607-1613\\\\DJI_20230823161309_0320_MS_NIR.TIF',\n",
       " 'D:\\\\original\\\\2023_0823_청도그레이스_맑고뭉게구름_데이터 1차 분류본\\\\9_레이크4H\\\\2023_0823_청도그레이스_레이크 4H_30m\\\\20230823_1607-1613\\\\DJI_20230823161309_0320_MS_R.TIF',\n",
       " 'D:\\\\original\\\\2023_0823_청도그레이스_맑고뭉게구름_데이터 1차 분류본\\\\9_레이크4H\\\\2023_0823_청도그레이스_레이크 4H_30m\\\\20230823_1607-1613\\\\DJI_20230823161309_0320_MS_RE.TIF']"
      ]
     },
     "execution_count": 106,
     "metadata": {},
     "output_type": "execute_result"
    }
   ],
   "source": [
    "glob.glob(os.path.join(os.path.split(file_)[0],(os.path.split(file_)[1].split('_')[0]+'_'+ os.path.split(file_)[1].split('_')[1][:-2]+\"**_\" + os.path.split(file_)[1].split('_')[2]) + '*'), recursive=True)"
   ]
  },
  {
   "cell_type": "code",
   "execution_count": 112,
   "metadata": {},
   "outputs": [
    {
     "name": "stdout",
     "output_type": "stream",
     "text": [
      "D:\\ToAWS\\청도\\20230823\\스타트퍼팅그린\\thumb\\thumbrgb20230823162427_128644705_35663434_161268000.JPG\n",
      "0 out of 60 files Completed\n",
      "D:\\ToAWS\\청도\\20230823\\스타트퍼팅그린\\thumb\\thumbrgb20230823162429_128644705_35663434_161248000.JPG\n",
      "1 out of 60 files Completed\n",
      "D:\\ToAWS\\청도\\20230823\\스타트퍼팅그린\\thumb\\thumbrgb20230823162431_128644706_35663435_161240000.JPG\n",
      "2 out of 60 files Completed\n",
      "D:\\ToAWS\\청도\\20230823\\스타트퍼팅그린\\thumb\\thumbrgb20230823162433_128644706_35663437_161238000.JPG\n",
      "3 out of 60 files Completed\n",
      "D:\\ToAWS\\청도\\20230823\\스타트퍼팅그린\\thumb\\thumbrgb20230823162435_128644707_35663438_161229000.JPG\n",
      "4 out of 60 files Completed\n",
      "D:\\ToAWS\\청도\\20230823\\스타트퍼팅그린\\thumb\\thumbrgb20230823162437_128644707_35663440_161268000.JPG\n",
      "5 out of 60 files Completed\n",
      "D:\\ToAWS\\청도\\20230823\\스타트퍼팅그린\\thumb\\thumbrgb20230823162440_128644707_35663441_161249000.JPG\n",
      "6 out of 60 files Completed\n",
      "D:\\ToAWS\\청도\\20230823\\스타트퍼팅그린\\thumb\\thumbrgb20230823162441_128644707_35663444_161259000.JPG\n",
      "7 out of 60 files Completed\n",
      "D:\\ToAWS\\청도\\20230823\\스타트퍼팅그린\\thumb\\thumbrgb20230823162443_128644708_35663447_161241000.JPG\n",
      "8 out of 60 files Completed\n",
      "D:\\ToAWS\\청도\\20230823\\스타트퍼팅그린\\thumb\\thumbrgb20230823162446_128644708_35663450_161238000.JPG\n",
      "9 out of 60 files Completed\n",
      "D:\\ToAWS\\청도\\20230823\\스타트퍼팅그린\\thumb\\thumbrgb20230823162447_128644709_35663454_161241000.JPG\n",
      "10 out of 60 files Completed\n",
      "D:\\ToAWS\\청도\\20230823\\스타트퍼팅그린\\thumb\\thumbrgb20230823162449_128644709_35663458_161275000.JPG\n",
      "11 out of 60 files Completed\n",
      "D:\\ToAWS\\청도\\20230823\\스타트퍼팅그린\\thumb\\thumbrgb20230823162451_128644709_35663461_161264000.JPG\n",
      "12 out of 60 files Completed\n",
      "D:\\ToAWS\\청도\\20230823\\스타트퍼팅그린\\thumb\\thumbrgb20230823162454_128644710_35663465_161262000.JPG\n",
      "13 out of 60 files Completed\n",
      "D:\\ToAWS\\청도\\20230823\\스타트퍼팅그린\\thumb\\thumbrgb20230823162456_128644710_35663468_161248000.JPG\n",
      "14 out of 60 files Completed\n",
      "D:\\ToAWS\\청도\\20230823\\스타트퍼팅그린\\thumb\\thumbrgb20230823162458_128644710_35663471_161252000.JPG\n",
      "15 out of 60 files Completed\n",
      "D:\\ToAWS\\청도\\20230823\\스타트퍼팅그린\\thumb\\thumbrgb20230823162500_128644711_35663473_161257000.JPG\n",
      "16 out of 60 files Completed\n",
      "D:\\ToAWS\\청도\\20230823\\스타트퍼팅그린\\thumb\\thumbrgb20230823162502_128644711_35663475_161248000.JPG\n",
      "17 out of 60 files Completed\n",
      "D:\\ToAWS\\청도\\20230823\\스타트퍼팅그린\\thumb\\thumbrgb20230823162504_128644712_35663477_161242000.JPG\n",
      "18 out of 60 files Completed\n",
      "D:\\ToAWS\\청도\\20230823\\스타트퍼팅그린\\thumb\\thumbrgb20230823162506_128644713_35663479_161243000.JPG\n",
      "19 out of 60 files Completed\n",
      "D:\\ToAWS\\청도\\20230823\\스타트퍼팅그린\\thumb\\thumbrgb20230823162119_128644721_35663459_159912000.JPG\n",
      "20 out of 60 files Completed\n",
      "D:\\ToAWS\\청도\\20230823\\스타트퍼팅그린\\thumb\\thumbrgb20230823162121_128644721_35663458_159996000.JPG\n",
      "21 out of 60 files Completed\n",
      "D:\\ToAWS\\청도\\20230823\\스타트퍼팅그린\\thumb\\thumbrgb20230823162123_128644721_35663458_159939000.JPG\n",
      "22 out of 60 files Completed\n",
      "D:\\ToAWS\\청도\\20230823\\스타트퍼팅그린\\thumb\\thumbrgb20230823162125_128644721_35663455_159989000.JPG\n",
      "23 out of 60 files Completed\n",
      "D:\\ToAWS\\청도\\20230823\\스타트퍼팅그린\\thumb\\thumbrgb20230823162127_128644722_35663452_160034000.JPG\n",
      "24 out of 60 files Completed\n",
      "D:\\ToAWS\\청도\\20230823\\스타트퍼팅그린\\thumb\\thumbrgb20230823162129_128644722_35663449_160052000.JPG\n",
      "25 out of 60 files Completed\n",
      "D:\\ToAWS\\청도\\20230823\\스타트퍼팅그린\\thumb\\thumbrgb20230823162131_128644723_35663448_160059000.JPG\n",
      "26 out of 60 files Completed\n",
      "D:\\ToAWS\\청도\\20230823\\스타트퍼팅그린\\thumb\\thumbrgb20230823162133_128644724_35663446_160029000.JPG\n",
      "27 out of 60 files Completed\n",
      "D:\\ToAWS\\청도\\20230823\\스타트퍼팅그린\\thumb\\thumbrgb20230823162135_128644724_35663447_160015000.JPG\n",
      "28 out of 60 files Completed\n",
      "D:\\ToAWS\\청도\\20230823\\스타트퍼팅그린\\thumb\\thumbrgb20230823162137_128644724_35663446_160060000.JPG\n",
      "29 out of 60 files Completed\n",
      "D:\\ToAWS\\청도\\20230823\\스타트퍼팅그린\\thumb\\thumbrgb20230823162139_128644723_35663446_160009000.JPG\n",
      "30 out of 60 files Completed\n",
      "D:\\ToAWS\\청도\\20230823\\스타트퍼팅그린\\thumb\\thumbrgb20230823162141_128644723_35663446_159939000.JPG\n",
      "31 out of 60 files Completed\n",
      "D:\\ToAWS\\청도\\20230823\\스타트퍼팅그린\\thumb\\thumbrgb20230823162143_128644723_35663446_159961000.JPG\n",
      "32 out of 60 files Completed\n",
      "D:\\ToAWS\\청도\\20230823\\스타트퍼팅그린\\thumb\\thumbrgb20230823162145_128644724_35663446_160026000.JPG\n",
      "33 out of 60 files Completed\n",
      "D:\\ToAWS\\청도\\20230823\\스타트퍼팅그린\\thumb\\thumbrgb20230823162147_128644724_35663445_160081000.JPG\n",
      "34 out of 60 files Completed\n",
      "D:\\ToAWS\\청도\\20230823\\스타트퍼팅그린\\thumb\\thumbrgb20230823162149_128644724_35663445_160107000.JPG\n",
      "35 out of 60 files Completed\n",
      "D:\\ToAWS\\청도\\20230823\\스타트퍼팅그린\\thumb\\thumbrgb20230823162151_128644724_35663445_160034000.JPG\n",
      "36 out of 60 files Completed\n",
      "D:\\ToAWS\\청도\\20230823\\스타트퍼팅그린\\thumb\\thumbrgb20230823162153_128644728_35663433_159986000.JPG\n",
      "37 out of 60 files Completed\n",
      "D:\\ToAWS\\청도\\20230823\\스타트퍼팅그린\\thumb\\thumbrgb20230823162155_128644732_35663419_159978000.JPG\n",
      "38 out of 60 files Completed\n",
      "D:\\ToAWS\\청도\\20230823\\스타트퍼팅그린\\thumb\\thumbrgb20230823162157_128644735_35663410_159965000.JPG\n",
      "39 out of 60 files Completed\n",
      "D:\\ToAWS\\청도\\20230823\\밸리6H\\thumb\\thumbrgb20230823104803_128650429_35654668_139369000.JPG\n",
      "40 out of 60 files Completed\n",
      "D:\\ToAWS\\청도\\20230823\\밸리6H\\thumb\\thumbrgb20230823104805_128650428_35654666_139354000.JPG\n",
      "41 out of 60 files Completed\n",
      "D:\\ToAWS\\청도\\20230823\\밸리6H\\thumb\\thumbrgb20230823104807_128650421_35654656_139357000.JPG\n",
      "42 out of 60 files Completed\n",
      "D:\\ToAWS\\청도\\20230823\\밸리6H\\thumb\\thumbrgb20230823104809_128650406_35654645_139418000.JPG\n",
      "43 out of 60 files Completed\n",
      "D:\\ToAWS\\청도\\20230823\\밸리6H\\thumb\\thumbrgb20230823104811_128650385_35654634_139420000.JPG\n",
      "44 out of 60 files Completed\n",
      "D:\\ToAWS\\청도\\20230823\\밸리6H\\thumb\\thumbrgb20230823104813_128650365_35654624_139433000.JPG\n",
      "45 out of 60 files Completed\n",
      "D:\\ToAWS\\청도\\20230823\\밸리6H\\thumb\\thumbrgb20230823104815_128650352_35654614_139421000.JPG\n",
      "46 out of 60 files Completed\n",
      "D:\\ToAWS\\청도\\20230823\\밸리6H\\thumb\\thumbrgb20230823104817_128650341_35654603_139443000.JPG\n",
      "47 out of 60 files Completed\n",
      "D:\\ToAWS\\청도\\20230823\\밸리6H\\thumb\\thumbrgb20230823104819_128650330_35654588_139428000.JPG\n",
      "48 out of 60 files Completed\n",
      "D:\\ToAWS\\청도\\20230823\\밸리6H\\thumb\\thumbrgb20230823104821_128650319_35654574_139421000.JPG\n",
      "49 out of 60 files Completed\n",
      "D:\\ToAWS\\청도\\20230823\\밸리6H\\thumb\\thumbrgb20230823104823_128650310_35654562_139416000.JPG\n",
      "50 out of 60 files Completed\n",
      "D:\\ToAWS\\청도\\20230823\\밸리6H\\thumb\\thumbrgb20230823104825_128650301_35654551_139405000.JPG\n",
      "51 out of 60 files Completed\n",
      "D:\\ToAWS\\청도\\20230823\\밸리6H\\thumb\\thumbrgb20230823104827_128650292_35654542_139400000.JPG\n",
      "52 out of 60 files Completed\n",
      "D:\\ToAWS\\청도\\20230823\\밸리6H\\thumb\\thumbrgb20230823104829_128650283_35654536_139455000.JPG\n",
      "53 out of 60 files Completed\n",
      "D:\\ToAWS\\청도\\20230823\\밸리6H\\thumb\\thumbrgb20230823104831_128650274_35654529_139528000.JPG\n",
      "54 out of 60 files Completed\n",
      "D:\\ToAWS\\청도\\20230823\\밸리6H\\thumb\\thumbrgb20230823104833_128650262_35654519_139582000.JPG\n",
      "55 out of 60 files Completed\n",
      "D:\\ToAWS\\청도\\20230823\\밸리6H\\thumb\\thumbrgb20230823104835_128650250_35654508_139633000.JPG\n",
      "56 out of 60 files Completed\n",
      "D:\\ToAWS\\청도\\20230823\\밸리6H\\thumb\\thumbrgb20230823104837_128650238_35654496_139650000.JPG\n",
      "57 out of 60 files Completed\n",
      "D:\\ToAWS\\청도\\20230823\\밸리6H\\thumb\\thumbrgb20230823104839_128650225_35654484_139706000.JPG\n",
      "58 out of 60 files Completed\n",
      "D:\\ToAWS\\청도\\20230823\\밸리6H\\thumb\\thumbrgb20230823104841_128650214_35654471_139723000.JPG\n",
      "59 out of 60 files Completed\n"
     ]
    }
   ],
   "source": [
    "InfoJsonArray = []\n",
    "\n",
    "for idx, file_ in enumerate(target_files):\n",
    "\n",
    "  course = list(filter(lambda y: y in file_, course_list))[0]\n",
    "  target_date = os.path.split(file_)[-1].split('_')[1][:8]\n",
    "  path = os.path.normpath(file_)\n",
    "  info = path.split(os.sep)\n",
    "\n",
    "  area = info[3].split('_')[-1]\n",
    "  if len(info[5].split('_')) ==3 :\n",
    "    desc = info[5].split('_')[-1]\n",
    "  else:\n",
    "    desc = \"\"\n",
    "  alt =  info[4].split('_')[-1]\n",
    "\n",
    "  filesGrp = glob.glob(os.path.join(os.path.split(file_)[0],(os.path.split(file_)[1].split('_')[0]+'_'+ os.path.split(file_)[1].split('_')[1][:-2]+\"**_\" + os.path.split(file_)[1].split('_')[2]) + '*'), recursive=True)\n",
    "  # print(filesGrp)\n",
    "  file_info = getInfo(filesGrp, file_)\n",
    "\n",
    "  file_info['info']['course'] = course\n",
    "  file_info['info']['area'] = area\n",
    "  file_info['info']['alt'] = alt\n",
    "  file_info['info']['desc'] = desc\n",
    "\n",
    "\n",
    "  # try:\n",
    "  ndvi_img = getNDVIimg(filesGrp)\n",
    "  rgb_img = getalignedRGB(filesGrp, ndvi_img)\n",
    "  resized_ndvi = cv2.resize(ndvi_img, dsize=(ndvi_img.shape[1],ndvi_img.shape[0]), interpolation=cv2.INTER_CUBIC)\n",
    "  save_name = os.path.join(out_folder,course,target_date,area,'ndvi','ndvi{}.JPG'.format( file_info['id']) )\n",
    "  im = Image.fromarray(resized_ndvi)\n",
    "  im.save(save_name)\n",
    "  file_info['dest']['ndvi'] = save_name[9:]\n",
    "\n",
    "  resized_rgb = cv2.resize(rgb_img , dsize=(ndvi_img.shape[1],ndvi_img.shape[0]), interpolation=cv2.INTER_CUBIC)\n",
    "  save_name = os.path.join(out_folder,course,target_date,area,'rgb','rgb{}.JPG'.format( file_info['id']) )\n",
    "  im = Image.fromarray(resized_rgb)\n",
    "  im.save(save_name)\n",
    "  file_info['dest']['rgb'] = save_name[9:]\n",
    "\n",
    "\n",
    "  thumb_rgb = cv2.resize(rgb_img , dsize=(43,32), interpolation=cv2.INTER_CUBIC)\n",
    "  save_name = os.path.join(out_folder,course,target_date,area,'thumb','thumbrgb{}.JPG'.format( file_info['id']) )\n",
    "  im = Image.fromarray(thumb_rgb)\n",
    "  im.save(save_name)\n",
    "  file_info['dest']['thumb'] = save_name[9:]\n",
    "\n",
    "  # except Exception:\n",
    "  #   pass  # or you could use 'continue'\n",
    "\n",
    "\n",
    "\n",
    "\n",
    "\n",
    "  InfoJsonArray.append( file_info)\n",
    "\n",
    "  \n",
    "  print(save_name)\n",
    "\n",
    "  print('{} out of {} files Completed'.format(idx, len(target_files)))\n",
    "\n",
    "\n",
    "\n",
    "  "
   ]
  },
  {
   "cell_type": "code",
   "execution_count": 113,
   "metadata": {},
   "outputs": [
    {
     "data": {
      "text/plain": [
       "'D:\\\\ToAWS\\\\청도\\\\20230823\\\\밸리6H\\\\thumb\\\\thumbrgb20230823104841_128650214_35654471_139723000.JPG'"
      ]
     },
     "execution_count": 113,
     "metadata": {},
     "output_type": "execute_result"
    }
   ],
   "source": [
    "save_name"
   ]
  },
  {
   "cell_type": "code",
   "execution_count": 114,
   "metadata": {},
   "outputs": [
    {
     "data": {
      "text/plain": [
       "60"
      ]
     },
     "execution_count": 114,
     "metadata": {},
     "output_type": "execute_result"
    }
   ],
   "source": [
    "len(InfoJsonArray)"
   ]
  },
  {
   "cell_type": "code",
   "execution_count": 115,
   "metadata": {},
   "outputs": [],
   "source": [
    "save_name = os.path.join(out_folder,course,target_date, 'data.json')\n",
    "with open(save_name, \"w\", encoding='utf-8') as final:\n",
    "   json.dump(InfoJsonArray, final , ensure_ascii=False)"
   ]
  },
  {
   "cell_type": "code",
   "execution_count": 116,
   "metadata": {},
   "outputs": [],
   "source": [
    "with open('mydata.json', \"w\", encoding='utf-8') as final:\n",
    "   json.dump(InfoJsonArray, final , ensure_ascii=False)"
   ]
  },
  {
   "cell_type": "code",
   "execution_count": null,
   "metadata": {},
   "outputs": [],
   "source": []
  },
  {
   "cell_type": "code",
   "execution_count": null,
   "metadata": {},
   "outputs": [],
   "source": []
  }
 ],
 "metadata": {
  "kernelspec": {
   "display_name": "Python 3.9.2 ('geo_James')",
   "language": "python",
   "name": "python3"
  },
  "language_info": {
   "codemirror_mode": {
    "name": "ipython",
    "version": 3
   },
   "file_extension": ".py",
   "mimetype": "text/x-python",
   "name": "python",
   "nbconvert_exporter": "python",
   "pygments_lexer": "ipython3",
   "version": "3.9.2"
  },
  "orig_nbformat": 4,
  "vscode": {
   "interpreter": {
    "hash": "af734be8ad55227f26227a3bb273225e8c732a9f6283c6f58fcb510615c38890"
   }
  }
 },
 "nbformat": 4,
 "nbformat_minor": 2
}
