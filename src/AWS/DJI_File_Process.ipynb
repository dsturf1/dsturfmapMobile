{
 "cells": [
  {
   "cell_type": "code",
   "execution_count": 108,
   "metadata": {},
   "outputs": [],
   "source": [
    "import pandas as pd\n",
    "import re\n",
    "import os\n",
    "import numpy as np\n",
    "import glob\n",
    "from datetime import datetime\n",
    "import geopandas as gpd\n",
    "import json\n",
    "from shapely.geometry import shape, GeometryCollection\n",
    "from rasterio.plot import show\n",
    "import matplotlib.pyplot as plt\n",
    "from mpl_toolkits.mplot3d import Axes3D\n",
    "from matplotlib import cm\n",
    "from matplotlib import colors\n",
    "from utils import FeatureExtraction, feature_matching, decimal_coords\n",
    "from exif import Image as exifimg\n",
    "from PIL import Image\n",
    "\n",
    "import shutil\n",
    "import rasterio\n",
    "import cv2\n",
    "%matplotlib inline"
   ]
  },
  {
   "cell_type": "code",
   "execution_count": 109,
   "metadata": {},
   "outputs": [],
   "source": [
    "# 가능한 font list 확인\n",
    "import matplotlib.font_manager as fm\n",
    "f = [f.name for f in fm.fontManager.ttflist]\n",
    "# print(f)\n",
    "\n",
    "plt.rc('font', family='Malgun Gothic')"
   ]
  },
  {
   "cell_type": "code",
   "execution_count": 110,
   "metadata": {},
   "outputs": [],
   "source": [
    "def getInfo(filesGrp, img_path):\n",
    "\n",
    "  dslabel = {\n",
    "    \"id\":\"\",\n",
    "    \"originalFileJPG\":\"\",\n",
    "    \"originalFileGrp\":[],\n",
    "    \"GeoTagInfo\":{\n",
    "      \"coords\":[],\n",
    "      \"datetime_original\":\"\",\n",
    "      \"gps_altitude\":0,\n",
    "      \"gps_altitude_ref\":\"\"    \n",
    "    },\n",
    "    \"dest\":{\n",
    "      \"rgb\":\"\",\n",
    "      \"ndvi\":\"\",\n",
    "      \"thumb\":\"\",\n",
    "    },\n",
    "    \"info\":{\n",
    "      \"course\":\"\",\n",
    "      \"area\":\"\",\n",
    "      \"desc\":\"\",\n",
    "      \"alt\":\"\"\n",
    "    },\n",
    "    \"label\":[],\n",
    "    \"annotation\":[]\n",
    "  }\n",
    "\n",
    "  \n",
    "\n",
    "  dslabel['originalFileJPG'] = img_path[3:]\n",
    "  dslabel['originalFileGrp'] = [x[3:] for x in filesGrp  if ('.JPG' not in x)]\n",
    "\n",
    "  with open(img_path, 'rb') as src:\n",
    "    img = exifimg(src)\n",
    "\n",
    "  coords = [\n",
    "    decimal_coords(img.gps_longitude,\n",
    "    img.gps_longitude_ref),\n",
    "      decimal_coords(img.gps_latitude,\n",
    "    img.gps_latitude_ref)\n",
    "  ]\n",
    "\n",
    "  dslabel['id'] = img.datetime_original.replace(\" \",\"\").replace(\":\",\"\") + \"_{:.10f}\".format(coords[0]).replace(\".\",\"\") + \"_{:.10f}\".format(coords[1]).replace(\".\",\"\") + \"_{:f}\".format(img.gps_altitude).replace(\".\",\"\")\n",
    "  dslabel['GeoTagInfo']['coords'] = coords\n",
    "  dslabel['GeoTagInfo']['datetime_original'] = img.datetime_original\n",
    "  dslabel['GeoTagInfo']['gps_altitude'] = img.gps_altitude\n",
    "  dslabel['GeoTagInfo']['gps_altitude_ref'] = img.gps_altitude_ref\n",
    "  \n",
    "  return dslabel"
   ]
  },
  {
   "cell_type": "code",
   "execution_count": 111,
   "metadata": {},
   "outputs": [],
   "source": [
    "def getNDVIimg(filesGrp):\n",
    "\n",
    "\n",
    "  with rasterio.open([ x for x in filesGrp if ('_MS_R' in x) ][0]) as src:\n",
    "      band_red = src.read(1).astype(float)/65536.\n",
    "\n",
    "  with rasterio.open([ x for x in filesGrp if ('_MS_NIR' in x) ][0]) as src:\n",
    "      band_nir = src.read(1).astype(float)/65536.\n",
    "\n",
    "  np.seterr(divide='ignore', invalid='ignore')\n",
    "\n",
    "  # Calculate NDVI\n",
    "  ndvi = (band_nir.astype(float) - band_red.astype(float)) / (band_nir.astype(float) + band_red.astype(float))\n",
    "\n",
    "  ndvi -= ndvi.min() # ensure the minimal value is 0.0\n",
    "  ndvi /= ndvi.max() # maximum value in image is now 1.0\n",
    "\n",
    "  cm = plt.cm.get_cmap('RdYlGn')\n",
    "  ndvi_cm = cm(ndvi)\n",
    "\n",
    "  ndvi_img = cv2.normalize(ndvi_cm[:,:,:3], None, alpha = 0, beta = 255, norm_type = cv2.NORM_MINMAX, dtype = cv2.CV_32F).astype(np.uint8)\n",
    "\n",
    "  return ndvi_img"
   ]
  },
  {
   "cell_type": "code",
   "execution_count": 112,
   "metadata": {},
   "outputs": [],
   "source": [
    "def getalignedRGB(filesGrp_, ndvi_img):\n",
    "  RGBimg = np.asarray(Image.open(filesGrp_[0]))\n",
    "\n",
    "  # RGBimg = np.asarray(Image.open(filesGrp_[0]).resize((ndvi_img.shape[1],ndvi_img.shape[0])))\n",
    "  # features0 = FeatureExtraction(RGBimg)\n",
    "  # features1 = FeatureExtraction(ndvi_img)\n",
    "\n",
    "  # matches = feature_matching(features0, features1)\n",
    "\n",
    "  # print('{} number of matched has been found! in {}'.format(len(matches), filesGrp_[0]))\n",
    "\n",
    "  # if len(matches) < 10:\n",
    "  #    raise Exception(\"Not Enough Matches\")\n",
    "\n",
    "  # H, _ = cv2.findHomography( features0.matched_pts, features1.matched_pts, cv2.RANSAC, 5.0)\n",
    "\n",
    "  H = np.array([[ 5.93209530e-01, -8.35074813e-03, -2.21474434e+02],\n",
    "       [ 1.32198817e-02,  5.96460559e-01, -2.01042419e+02],\n",
    "       [ 1.58520522e-06,  1.69424781e-06,  1.00000000e+00]])\n",
    "\n",
    "  h, w, c = ndvi_img.shape\n",
    "  RGBimg_tuned = cv2.warpPerspective(RGBimg, H, (w, h), borderMode=cv2.BORDER_CONSTANT, borderValue=(0, 0, 0, 0))\n",
    "\n",
    "  return RGBimg_tuned "
   ]
  },
  {
   "cell_type": "code",
   "execution_count": 113,
   "metadata": {},
   "outputs": [],
   "source": [
    "img_folder = r'D:\\original'\n",
    "out_folder = r'D:\\ToAWS'\n",
    "\n",
    "course_list = ['청도','포항','중문']\n",
    "\n",
    "course_ids = {\n",
    "  '포항':'MGC001',\n",
    "  '청도':'MGC002',\n",
    "  '중문':'MGC003',\n",
    "}\n",
    "\n",
    "folder_type = ['rgb','ndvi','thumb']"
   ]
  },
  {
   "cell_type": "code",
   "execution_count": 114,
   "metadata": {},
   "outputs": [
    {
     "data": {
      "text/plain": [
       "'MGC002'"
      ]
     },
     "execution_count": 114,
     "metadata": {},
     "output_type": "execute_result"
    }
   ],
   "source": [
    "course_ids.get('청도')"
   ]
  },
  {
   "cell_type": "code",
   "execution_count": 115,
   "metadata": {},
   "outputs": [],
   "source": [
    "# subFolder = glob.glob(os.path.join(img_folder,'*'))\n",
    "# To_create_folder = [os.path.join(out_folder, list(filter(lambda y: y in x, course_list))[0],os.path.split(x)[-1][:9].replace('_','') ) for x in subFolder]"
   ]
  },
  {
   "cell_type": "code",
   "execution_count": 116,
   "metadata": {},
   "outputs": [],
   "source": [
    "# To_create_folder"
   ]
  },
  {
   "cell_type": "code",
   "execution_count": 117,
   "metadata": {},
   "outputs": [],
   "source": [
    "# import itertools\n",
    "\n",
    "# iterables = [ To_create_folder, folder_type]\n",
    "\n",
    "# paths_ = [os.path.join(x[0],x[1]) for x in list(itertools.product(*iterables))]\n",
    "\n",
    "# for path_ in paths_:\n",
    "#   if not os.path.exists(path_):\n",
    "#     os.makedirs(path_)"
   ]
  },
  {
   "cell_type": "code",
   "execution_count": 118,
   "metadata": {},
   "outputs": [
    {
     "data": {
      "text/plain": [
       "8320"
      ]
     },
     "execution_count": 118,
     "metadata": {},
     "output_type": "execute_result"
    }
   ],
   "source": [
    "files = glob.glob(os.path.join(img_folder,'**/DJI_*.JPG'), recursive=True)\n",
    "\n",
    "len(files)"
   ]
  },
  {
   "cell_type": "code",
   "execution_count": 119,
   "metadata": {},
   "outputs": [],
   "source": [
    "for idx, file_ in enumerate(files):\n",
    "\n",
    "  course = list(filter(lambda y: y in file_, course_list))[0]\n",
    "  course_id = course_ids.get(course)\n",
    "  target_date = os.path.split(file_)[-1].split('_')[1][:8]\n",
    "  path = os.path.normpath(file_)\n",
    "  info = path.split(os.sep)\n",
    "\n",
    "  area = info[3].split('_')[-1]\n",
    "  if len(info[5].split('_')) ==3 :\n",
    "    desc = info[5].split('_')[-1]\n",
    "  else:\n",
    "    desc = \"미기재\"\n",
    "  alt =  info[4].split('_')[-1]\n",
    "\n",
    "  # print(out_folder,course,target_date,area,desc,'rgb')\n",
    "  path_ = os.path.join(out_folder,course_id,target_date,area,desc,'rgb')\n",
    "\n",
    "  if not os.path.exists(path_):\n",
    "    os.makedirs(path_)\n",
    "\n",
    "  path_ = os.path.join(out_folder,course_id,target_date,area,desc,'ndvi')\n",
    "\n",
    "  if not os.path.exists(path_):\n",
    "    os.makedirs(path_)\n",
    "\n",
    "  path_ = os.path.join(out_folder,course_id,target_date,area,desc,'thumb')\n",
    "\n",
    "  if not os.path.exists(path_):\n",
    "    os.makedirs(path_)\n"
   ]
  },
  {
   "cell_type": "code",
   "execution_count": 120,
   "metadata": {},
   "outputs": [],
   "source": [
    "filenameOnly = []\n",
    "for file_ in files:\n",
    "  filenameOnly.append(os.path.split(file_)[-1])"
   ]
  },
  {
   "cell_type": "code",
   "execution_count": 121,
   "metadata": {},
   "outputs": [
    {
     "data": {
      "text/plain": [
       "80"
      ]
     },
     "execution_count": 121,
     "metadata": {},
     "output_type": "execute_result"
    }
   ],
   "source": [
    "target_files = [ x for x in files if ('1.5m'in x or '1.5M'in x ) ][100:140] + [ x for x in files if ('0.5m'in x or '0.5M'in x) ][100:120] + [ x for x in files if ('30m' in x or '30M' in x) ][0:20]\n",
    "\n",
    "len(target_files)"
   ]
  },
  {
   "cell_type": "code",
   "execution_count": 122,
   "metadata": {},
   "outputs": [
    {
     "data": {
      "text/plain": [
       "['D:',\n",
       " 'original',\n",
       " '2023_0823_청도그레이스_맑고뭉게구름_데이터 1차 분류본',\n",
       " '9_레이크4H',\n",
       " '2023_0823_청도그레이스_레이크 4H_30m',\n",
       " '20230823_1607-1613',\n",
       " 'DJI_20230823161309_0320_D.JPG']"
      ]
     },
     "execution_count": 122,
     "metadata": {},
     "output_type": "execute_result"
    }
   ],
   "source": [
    "path = os.path.normpath(file_)\n",
    "path.split(os.sep)"
   ]
  },
  {
   "cell_type": "code",
   "execution_count": 123,
   "metadata": {},
   "outputs": [
    {
     "data": {
      "text/plain": [
       "['D:\\\\original\\\\2023_0823_청도그레이스_맑고뭉게구름_데이터 1차 분류본\\\\9_레이크4H\\\\2023_0823_청도그레이스_레이크 4H_30m\\\\20230823_1607-1613\\\\DJI_20230823161309_0320_D.JPG',\n",
       " 'D:\\\\original\\\\2023_0823_청도그레이스_맑고뭉게구름_데이터 1차 분류본\\\\9_레이크4H\\\\2023_0823_청도그레이스_레이크 4H_30m\\\\20230823_1607-1613\\\\DJI_20230823161309_0320_MS_G.TIF',\n",
       " 'D:\\\\original\\\\2023_0823_청도그레이스_맑고뭉게구름_데이터 1차 분류본\\\\9_레이크4H\\\\2023_0823_청도그레이스_레이크 4H_30m\\\\20230823_1607-1613\\\\DJI_20230823161309_0320_MS_NIR.TIF',\n",
       " 'D:\\\\original\\\\2023_0823_청도그레이스_맑고뭉게구름_데이터 1차 분류본\\\\9_레이크4H\\\\2023_0823_청도그레이스_레이크 4H_30m\\\\20230823_1607-1613\\\\DJI_20230823161309_0320_MS_R.TIF',\n",
       " 'D:\\\\original\\\\2023_0823_청도그레이스_맑고뭉게구름_데이터 1차 분류본\\\\9_레이크4H\\\\2023_0823_청도그레이스_레이크 4H_30m\\\\20230823_1607-1613\\\\DJI_20230823161309_0320_MS_RE.TIF']"
      ]
     },
     "execution_count": 123,
     "metadata": {},
     "output_type": "execute_result"
    }
   ],
   "source": [
    "glob.glob(os.path.join(os.path.split(file_)[0],(os.path.split(file_)[1].split('_')[0]+'_'+ os.path.split(file_)[1].split('_')[1][:-2]+\"**_\" + os.path.split(file_)[1].split('_')[2]) + '*'), recursive=True)"
   ]
  },
  {
   "cell_type": "code",
   "execution_count": 124,
   "metadata": {},
   "outputs": [
    {
     "name": "stdout",
     "output_type": "stream",
     "text": [
      "D:\\ToAWS\\MGC002\\20230823\\스타트퍼팅그린\\엽고성병,달라스팟,벤트,그린\\thumb\\thumbrgb20230823162427_1286447050278_356634336667_161268000.JPG\n",
      "0 out of 80 files Completed\n",
      "D:\\ToAWS\\MGC002\\20230823\\스타트퍼팅그린\\엽고성병,달라스팟,벤트,그린\\thumb\\thumbrgb20230823162429_1286447053333_356634343333_161248000.JPG\n",
      "1 out of 80 files Completed\n",
      "D:\\ToAWS\\MGC002\\20230823\\스타트퍼팅그린\\엽고성병,달라스팟,벤트,그린\\thumb\\thumbrgb20230823162431_1286447061389_356634355000_161240000.JPG\n",
      "2 out of 80 files Completed\n",
      "D:\\ToAWS\\MGC002\\20230823\\스타트퍼팅그린\\엽고성병,달라스팟,벤트,그린\\thumb\\thumbrgb20230823162433_1286447062500_356634368056_161238000.JPG\n",
      "3 out of 80 files Completed\n",
      "D:\\ToAWS\\MGC002\\20230823\\스타트퍼팅그린\\엽고성병,달라스팟,벤트,그린\\thumb\\thumbrgb20230823162435_1286447066667_356634382222_161229000.JPG\n",
      "4 out of 80 files Completed\n",
      "D:\\ToAWS\\MGC002\\20230823\\스타트퍼팅그린\\엽고성병,달라스팟,벤트,그린\\thumb\\thumbrgb20230823162437_1286447070000_356634395278_161268000.JPG\n",
      "5 out of 80 files Completed\n",
      "D:\\ToAWS\\MGC002\\20230823\\스타트퍼팅그린\\엽고성병,달라스팟,벤트,그린\\thumb\\thumbrgb20230823162440_1286447073056_356634414722_161249000.JPG\n",
      "6 out of 80 files Completed\n",
      "D:\\ToAWS\\MGC002\\20230823\\스타트퍼팅그린\\엽고성병,달라스팟,벤트,그린\\thumb\\thumbrgb20230823162441_1286447075000_356634436944_161259000.JPG\n",
      "7 out of 80 files Completed\n",
      "D:\\ToAWS\\MGC002\\20230823\\스타트퍼팅그린\\엽고성병,달라스팟,벤트,그린\\thumb\\thumbrgb20230823162443_1286447076111_356634466944_161241000.JPG\n",
      "8 out of 80 files Completed\n",
      "D:\\ToAWS\\MGC002\\20230823\\스타트퍼팅그린\\엽고성병,달라스팟,벤트,그린\\thumb\\thumbrgb20230823162446_1286447081944_356634504167_161238000.JPG\n",
      "9 out of 80 files Completed\n",
      "D:\\ToAWS\\MGC002\\20230823\\스타트퍼팅그린\\엽고성병,달라스팟,벤트,그린\\thumb\\thumbrgb20230823162447_1286447087222_356634542222_161241000.JPG\n",
      "10 out of 80 files Completed\n",
      "D:\\ToAWS\\MGC002\\20230823\\스타트퍼팅그린\\엽고성병,달라스팟,벤트,그린\\thumb\\thumbrgb20230823162449_1286447091111_356634577500_161275000.JPG\n",
      "11 out of 80 files Completed\n",
      "D:\\ToAWS\\MGC002\\20230823\\스타트퍼팅그린\\엽고성병,달라스팟,벤트,그린\\thumb\\thumbrgb20230823162451_1286447093056_356634613889_161264000.JPG\n",
      "12 out of 80 files Completed\n",
      "D:\\ToAWS\\MGC002\\20230823\\스타트퍼팅그린\\엽고성병,달라스팟,벤트,그린\\thumb\\thumbrgb20230823162454_1286447097222_356634649444_161262000.JPG\n",
      "13 out of 80 files Completed\n",
      "D:\\ToAWS\\MGC002\\20230823\\스타트퍼팅그린\\엽고성병,달라스팟,벤트,그린\\thumb\\thumbrgb20230823162456_1286447101111_356634684167_161248000.JPG\n",
      "14 out of 80 files Completed\n",
      "D:\\ToAWS\\MGC002\\20230823\\스타트퍼팅그린\\엽고성병,달라스팟,벤트,그린\\thumb\\thumbrgb20230823162458_1286447097222_356634712500_161252000.JPG\n",
      "15 out of 80 files Completed\n",
      "D:\\ToAWS\\MGC002\\20230823\\스타트퍼팅그린\\엽고성병,달라스팟,벤트,그린\\thumb\\thumbrgb20230823162500_1286447106111_356634733889_161257000.JPG\n",
      "16 out of 80 files Completed\n",
      "D:\\ToAWS\\MGC002\\20230823\\스타트퍼팅그린\\엽고성병,달라스팟,벤트,그린\\thumb\\thumbrgb20230823162502_1286447114722_356634751944_161248000.JPG\n",
      "17 out of 80 files Completed\n",
      "D:\\ToAWS\\MGC002\\20230823\\스타트퍼팅그린\\엽고성병,달라스팟,벤트,그린\\thumb\\thumbrgb20230823162504_1286447121389_356634768056_161242000.JPG\n",
      "18 out of 80 files Completed\n",
      "D:\\ToAWS\\MGC002\\20230823\\스타트퍼팅그린\\엽고성병,달라스팟,벤트,그린\\thumb\\thumbrgb20230823162506_1286447132500_356634788056_161243000.JPG\n",
      "19 out of 80 files Completed\n",
      "D:\\ToAWS\\MGC002\\20230823\\스타트퍼팅그린\\엽고성병,달라스팟,벤트,그린\\thumb\\thumbrgb20230823162508_1286447140833_356634807500_161244000.JPG\n",
      "20 out of 80 files Completed\n",
      "D:\\ToAWS\\MGC002\\20230823\\스타트퍼팅그린\\엽고성병,달라스팟,벤트,그린\\thumb\\thumbrgb20230823162510_1286447151389_356634838889_161237000.JPG\n",
      "21 out of 80 files Completed\n",
      "D:\\ToAWS\\MGC002\\20230823\\스타트퍼팅그린\\엽고성병,달라스팟,벤트,그린\\thumb\\thumbrgb20230823162512_1286447163056_356634866389_161236000.JPG\n",
      "22 out of 80 files Completed\n",
      "D:\\ToAWS\\MGC002\\20230823\\스타트퍼팅그린\\엽고성병,달라스팟,벤트,그린\\thumb\\thumbrgb20230823162514_1286447175000_356634875000_161242000.JPG\n",
      "23 out of 80 files Completed\n",
      "D:\\ToAWS\\MGC002\\20230823\\스타트퍼팅그린\\엽고성병,달라스팟,벤트,그린\\thumb\\thumbrgb20230823162516_1286447196667_356634910556_161245000.JPG\n",
      "24 out of 80 files Completed\n",
      "D:\\ToAWS\\MGC002\\20230823\\스타트퍼팅그린\\엽고성병,달라스팟,벤트,그린\\thumb\\thumbrgb20230823162518_1286447226944_356634956389_161246000.JPG\n",
      "25 out of 80 files Completed\n",
      "D:\\ToAWS\\MGC002\\20230823\\스타트퍼팅그린\\엽고성병,달라스팟,벤트,그린\\thumb\\thumbrgb20230823162520_1286447260278_356634994444_161225000.JPG\n",
      "26 out of 80 files Completed\n",
      "D:\\ToAWS\\MGC002\\20230823\\스타트퍼팅그린\\엽고성병,달라스팟,벤트,그린\\thumb\\thumbrgb20230823162522_1286447278611_356635017500_161205000.JPG\n",
      "27 out of 80 files Completed\n",
      "D:\\ToAWS\\MGC002\\20230823\\스타트퍼팅그린\\엽고성병,달라스팟,벤트,그린\\thumb\\thumbrgb20230823162524_1286447296389_356635045000_161210000.JPG\n",
      "28 out of 80 files Completed\n",
      "D:\\ToAWS\\MGC002\\20230823\\스타트퍼팅그린\\엽고성병,달라스팟,벤트,그린\\thumb\\thumbrgb20230823162526_1286447311944_356635070000_161212000.JPG\n",
      "29 out of 80 files Completed\n",
      "D:\\ToAWS\\MGC002\\20230823\\스타트퍼팅그린\\엽고성병,달라스팟,벤트,그린\\thumb\\thumbrgb20230823162528_1286447325556_356635084167_161217000.JPG\n",
      "30 out of 80 files Completed\n",
      "D:\\ToAWS\\MGC002\\20230823\\스타트퍼팅그린\\엽고성병,달라스팟,벤트,그린\\thumb\\thumbrgb20230823162530_1286447336944_356635080556_161221000.JPG\n",
      "31 out of 80 files Completed\n",
      "D:\\ToAWS\\MGC002\\20230823\\스타트퍼팅그린\\엽고성병,달라스팟,벤트,그린\\thumb\\thumbrgb20230823162532_1286447357778_356635081111_161228000.JPG\n",
      "32 out of 80 files Completed\n",
      "D:\\ToAWS\\MGC002\\20230823\\스타트퍼팅그린\\엽고성병,달라스팟,벤트,그린\\thumb\\thumbrgb20230823162534_1286447381944_356635069444_161233000.JPG\n",
      "33 out of 80 files Completed\n",
      "D:\\ToAWS\\MGC002\\20230823\\스타트퍼팅그린\\엽고성병,달라스팟,벤트,그린\\thumb\\thumbrgb20230823162536_1286447413056_356635054722_161236000.JPG\n",
      "34 out of 80 files Completed\n",
      "D:\\ToAWS\\MGC002\\20230823\\스타트퍼팅그린\\엽고성병,달라스팟,벤트,그린\\thumb\\thumbrgb20230823162538_1286447418056_356635045833_161249000.JPG\n",
      "35 out of 80 files Completed\n",
      "D:\\ToAWS\\MGC002\\20230823\\스타트퍼팅그린\\엽고성병,달라스팟,벤트,그린\\thumb\\thumbrgb20230823162540_1286447415556_356635029722_161246000.JPG\n",
      "36 out of 80 files Completed\n",
      "D:\\ToAWS\\MGC002\\20230823\\스타트퍼팅그린\\엽고성병,달라스팟,벤트,그린\\thumb\\thumbrgb20230823162542_1286447404444_356635003611_161251000.JPG\n",
      "37 out of 80 files Completed\n",
      "D:\\ToAWS\\MGC002\\20230823\\스타트퍼팅그린\\엽고성병,달라스팟,벤트,그린\\thumb\\thumbrgb20230823162544_1286447395833_356634976389_161243000.JPG\n",
      "38 out of 80 files Completed\n",
      "D:\\ToAWS\\MGC002\\20230823\\스타트퍼팅그린\\엽고성병,달라스팟,벤트,그린\\thumb\\thumbrgb20230823162546_1286447385278_356634952500_161234000.JPG\n",
      "39 out of 80 files Completed\n",
      "D:\\ToAWS\\MGC002\\20230823\\스타트퍼팅그린\\엽고성병,달라스팟,벤트,그린\\thumb\\thumbrgb20230823162508_1286447160278_356634183056_160366000.JPG\n",
      "40 out of 80 files Completed\n",
      "D:\\ToAWS\\MGC002\\20230823\\스타트퍼팅그린\\엽고성병,달라스팟,벤트,그린\\thumb\\thumbrgb20230823162510_1286447229444_356634165000_160346000.JPG\n",
      "41 out of 80 files Completed\n",
      "D:\\ToAWS\\MGC002\\20230823\\스타트퍼팅그린\\엽고성병,달라스팟,벤트,그린\\thumb\\thumbrgb20230823162512_1286447278333_356634133889_160328000.JPG\n",
      "42 out of 80 files Completed\n",
      "D:\\ToAWS\\MGC002\\20230823\\스타트퍼팅그린\\엽고성병,달라스팟,벤트,그린\\thumb\\thumbrgb20230823162514_1286447322778_356634108889_160322000.JPG\n",
      "43 out of 80 files Completed\n",
      "D:\\ToAWS\\MGC002\\20230823\\스타트퍼팅그린\\엽고성병,달라스팟,벤트,그린\\thumb\\thumbrgb20230823162516_1286447349444_356634076667_160336000.JPG\n",
      "44 out of 80 files Completed\n",
      "D:\\ToAWS\\MGC002\\20230823\\스타트퍼팅그린\\엽고성병,달라스팟,벤트,그린\\thumb\\thumbrgb20230823162519_1286447363333_356634019167_160322000.JPG\n",
      "45 out of 80 files Completed\n",
      "D:\\ToAWS\\MGC002\\20230823\\스타트퍼팅그린\\엽고성병,달라스팟,벤트,그린\\thumb\\thumbrgb20230823162521_1286447376667_356633980278_160372000.JPG\n",
      "46 out of 80 files Completed\n",
      "D:\\ToAWS\\MGC002\\20230823\\스타트퍼팅그린\\엽고성병,달라스팟,벤트,그린\\thumb\\thumbrgb20230823162522_1286447372222_356633930833_160408000.JPG\n",
      "47 out of 80 files Completed\n",
      "D:\\ToAWS\\MGC002\\20230823\\스타트퍼팅그린\\엽고성병,달라스팟,벤트,그린\\thumb\\thumbrgb20230823162524_1286447326111_356633904444_160407000.JPG\n",
      "48 out of 80 files Completed\n",
      "D:\\ToAWS\\MGC002\\20230823\\스타트퍼팅그린\\엽고성병,달라스팟,벤트,그린\\thumb\\thumbrgb20230823162526_1286447288056_356633900278_160364000.JPG\n",
      "49 out of 80 files Completed\n",
      "D:\\ToAWS\\MGC002\\20230823\\스타트퍼팅그린\\엽고성병,달라스팟,벤트,그린\\thumb\\thumbrgb20230823162528_1286447250833_356633880278_160399000.JPG\n",
      "50 out of 80 files Completed\n",
      "D:\\ToAWS\\MGC002\\20230823\\스타트퍼팅그린\\엽고성병,달라스팟,벤트,그린\\thumb\\thumbrgb20230823162530_1286447253333_356633874444_160434000.JPG\n",
      "51 out of 80 files Completed\n",
      "D:\\ToAWS\\MGC002\\20230823\\스타트퍼팅그린\\엽고성병,달라스팟,벤트,그린\\thumb\\thumbrgb20230823162533_1286447254167_356633874444_160430000.JPG\n",
      "52 out of 80 files Completed\n",
      "D:\\ToAWS\\MGC002\\20230823\\스타트퍼팅그린\\엽고성병,달라스팟,벤트,그린\\thumb\\thumbrgb20230823162534_1286447238889_356633851944_160355000.JPG\n",
      "53 out of 80 files Completed\n",
      "D:\\ToAWS\\MGC002\\20230823\\스타트퍼팅그린\\엽고성병,달라스팟,벤트,그린\\thumb\\thumbrgb20230823162537_1286447214722_356633836667_160423000.JPG\n",
      "54 out of 80 files Completed\n",
      "D:\\ToAWS\\MGC002\\20230823\\스타트퍼팅그린\\엽고성병,달라스팟,벤트,그린\\thumb\\thumbrgb20230823162538_1286447222222_356633837222_160454000.JPG\n",
      "55 out of 80 files Completed\n",
      "D:\\ToAWS\\MGC002\\20230823\\스타트퍼팅그린\\엽고성병,달라스팟,벤트,그린\\thumb\\thumbrgb20230823162540_1286447214167_356633838611_160435000.JPG\n",
      "56 out of 80 files Completed\n",
      "D:\\ToAWS\\MGC002\\20230823\\스타트퍼팅그린\\엽고성병,달라스팟,벤트,그린\\thumb\\thumbrgb20230823162542_1286447202778_356633841389_160379000.JPG\n",
      "57 out of 80 files Completed\n",
      "D:\\ToAWS\\MGC002\\20230823\\스타트퍼팅그린\\엽고성병,달라스팟,벤트,그린\\thumb\\thumbrgb20230823162545_1286447210278_356633861111_160429000.JPG\n",
      "58 out of 80 files Completed\n",
      "D:\\ToAWS\\MGC002\\20230823\\스타트퍼팅그린\\엽고성병,달라스팟,벤트,그린\\thumb\\thumbrgb20230823162547_1286447213889_356633867778_160444000.JPG\n",
      "59 out of 80 files Completed\n",
      "D:\\ToAWS\\MGC002\\20230823\\밸리6H\\미기재\\thumb\\thumbrgb20230823104803_1286504285278_356546679167_139369000.JPG\n",
      "60 out of 80 files Completed\n",
      "D:\\ToAWS\\MGC002\\20230823\\밸리6H\\미기재\\thumb\\thumbrgb20230823104805_1286504280556_356546655556_139354000.JPG\n",
      "61 out of 80 files Completed\n",
      "D:\\ToAWS\\MGC002\\20230823\\밸리6H\\미기재\\thumb\\thumbrgb20230823104807_1286504213611_356546563611_139357000.JPG\n",
      "62 out of 80 files Completed\n",
      "D:\\ToAWS\\MGC002\\20230823\\밸리6H\\미기재\\thumb\\thumbrgb20230823104809_1286504064722_356546450556_139418000.JPG\n",
      "63 out of 80 files Completed\n",
      "D:\\ToAWS\\MGC002\\20230823\\밸리6H\\미기재\\thumb\\thumbrgb20230823104811_1286503855000_356546340833_139420000.JPG\n",
      "64 out of 80 files Completed\n",
      "D:\\ToAWS\\MGC002\\20230823\\밸리6H\\미기재\\thumb\\thumbrgb20230823104813_1286503653611_356546243056_139433000.JPG\n",
      "65 out of 80 files Completed\n",
      "D:\\ToAWS\\MGC002\\20230823\\밸리6H\\미기재\\thumb\\thumbrgb20230823104815_1286503522222_356546143333_139421000.JPG\n",
      "66 out of 80 files Completed\n",
      "D:\\ToAWS\\MGC002\\20230823\\밸리6H\\미기재\\thumb\\thumbrgb20230823104817_1286503410556_356546025556_139443000.JPG\n",
      "67 out of 80 files Completed\n",
      "D:\\ToAWS\\MGC002\\20230823\\밸리6H\\미기재\\thumb\\thumbrgb20230823104819_1286503298056_356545883056_139428000.JPG\n",
      "68 out of 80 files Completed\n",
      "D:\\ToAWS\\MGC002\\20230823\\밸리6H\\미기재\\thumb\\thumbrgb20230823104821_1286503194167_356545741111_139421000.JPG\n",
      "69 out of 80 files Completed\n",
      "D:\\ToAWS\\MGC002\\20230823\\밸리6H\\미기재\\thumb\\thumbrgb20230823104823_1286503102778_356545619722_139416000.JPG\n",
      "70 out of 80 files Completed\n",
      "D:\\ToAWS\\MGC002\\20230823\\밸리6H\\미기재\\thumb\\thumbrgb20230823104825_1286503005000_356545506389_139405000.JPG\n",
      "71 out of 80 files Completed\n",
      "D:\\ToAWS\\MGC002\\20230823\\밸리6H\\미기재\\thumb\\thumbrgb20230823104827_1286502916389_356545422500_139400000.JPG\n",
      "72 out of 80 files Completed\n",
      "D:\\ToAWS\\MGC002\\20230823\\밸리6H\\미기재\\thumb\\thumbrgb20230823104829_1286502829444_356545361111_139455000.JPG\n",
      "73 out of 80 files Completed\n",
      "D:\\ToAWS\\MGC002\\20230823\\밸리6H\\미기재\\thumb\\thumbrgb20230823104831_1286502742500_356545292778_139528000.JPG\n",
      "74 out of 80 files Completed\n",
      "D:\\ToAWS\\MGC002\\20230823\\밸리6H\\미기재\\thumb\\thumbrgb20230823104833_1286502615833_356545188056_139582000.JPG\n",
      "75 out of 80 files Completed\n",
      "D:\\ToAWS\\MGC002\\20230823\\밸리6H\\미기재\\thumb\\thumbrgb20230823104835_1286502496667_356545075556_139633000.JPG\n",
      "76 out of 80 files Completed\n",
      "D:\\ToAWS\\MGC002\\20230823\\밸리6H\\미기재\\thumb\\thumbrgb20230823104837_1286502378889_356544956389_139650000.JPG\n",
      "77 out of 80 files Completed\n",
      "D:\\ToAWS\\MGC002\\20230823\\밸리6H\\미기재\\thumb\\thumbrgb20230823104839_1286502250000_356544842500_139706000.JPG\n",
      "78 out of 80 files Completed\n",
      "D:\\ToAWS\\MGC002\\20230823\\밸리6H\\미기재\\thumb\\thumbrgb20230823104841_1286502136667_356544710278_139723000.JPG\n",
      "79 out of 80 files Completed\n"
     ]
    }
   ],
   "source": [
    "InfoJsonArray = []\n",
    "\n",
    "for idx, file_ in enumerate(target_files):\n",
    "\n",
    "  course = list(filter(lambda y: y in file_, course_list))[0]\n",
    "  target_date = os.path.split(file_)[-1].split('_')[1][:8]\n",
    "  path = os.path.normpath(file_)\n",
    "  info = path.split(os.sep)\n",
    "\n",
    "  area = info[3].split('_')[-1]\n",
    "  if len(info[5].split('_')) ==3 :\n",
    "    desc = info[5].split('_')[-1]\n",
    "  else:\n",
    "    desc = \"미기재\"\n",
    "  alt =  info[4].split('_')[-1]\n",
    "\n",
    "  filesGrp = glob.glob(os.path.join(os.path.split(file_)[0],(os.path.split(file_)[1].split('_')[0]+'_'+ os.path.split(file_)[1].split('_')[1][:-2]+\"**_\" + os.path.split(file_)[1].split('_')[2]) + '*'), recursive=True)\n",
    "  # print(filesGrp)\n",
    "  file_info = getInfo(filesGrp, file_)\n",
    "\n",
    "  file_info['info']['course'] = course\n",
    "  file_info['info']['area'] = area\n",
    "  file_info['info']['alt'] = alt\n",
    "  file_info['info']['desc'] = desc\n",
    "  file_info['info']['date'] = target_date\n",
    "\n",
    "\n",
    "  # try:\n",
    "  ndvi_img = getNDVIimg(filesGrp)\n",
    "  rgb_img = getalignedRGB(filesGrp, ndvi_img)\n",
    "  resized_ndvi = cv2.resize(ndvi_img, dsize=(2592,1944), interpolation=cv2.INTER_CUBIC)\n",
    "  save_name = os.path.join(out_folder,course_id,target_date,area,desc,'ndvi','ndvi{}.JPG'.format( file_info['id']) )\n",
    "  im = Image.fromarray(resized_ndvi)\n",
    "  im.save(save_name)\n",
    "  file_info['dest']['ndvi'] = save_name[9:]\n",
    "\n",
    "  resized_rgb = cv2.resize(rgb_img , dsize=(648,486), interpolation=cv2.INTER_CUBIC)\n",
    "  save_name = os.path.join(out_folder,course_id,target_date,area,desc,'rgb','rgb{}.JPG'.format( file_info['id']) )\n",
    "  im = Image.fromarray(resized_rgb)\n",
    "  im.save(save_name)\n",
    "  file_info['dest']['rgb'] = save_name[9:]\n",
    "\n",
    "\n",
    "  thumb_rgb = cv2.resize(rgb_img , dsize=(324,243), interpolation=cv2.INTER_CUBIC)\n",
    "  save_name = os.path.join(out_folder,course_id,target_date,area,desc,'thumb','thumbrgb{}.JPG'.format( file_info['id']) )\n",
    "  im = Image.fromarray(thumb_rgb)\n",
    "  im.save(save_name)\n",
    "  file_info['dest']['thumb'] = save_name[9:]\n",
    "\n",
    "  # except Exception:\n",
    "  #   pass  # or you could use 'continue'\n",
    "\n",
    "\n",
    "\n",
    "\n",
    "\n",
    "  InfoJsonArray.append( file_info)\n",
    "\n",
    "  \n",
    "  print(save_name)\n",
    "\n",
    "  print('{} out of {} files Completed'.format(idx, len(target_files)))\n",
    "\n",
    "\n",
    "\n",
    "  "
   ]
  },
  {
   "cell_type": "code",
   "execution_count": 125,
   "metadata": {},
   "outputs": [
    {
     "data": {
      "text/plain": [
       "'D:\\\\ToAWS\\\\MGC002\\\\20230823\\\\밸리6H\\\\미기재\\\\thumb\\\\thumbrgb20230823104841_1286502136667_356544710278_139723000.JPG'"
      ]
     },
     "execution_count": 125,
     "metadata": {},
     "output_type": "execute_result"
    }
   ],
   "source": [
    "save_name"
   ]
  },
  {
   "cell_type": "code",
   "execution_count": 126,
   "metadata": {},
   "outputs": [
    {
     "data": {
      "text/plain": [
       "80"
      ]
     },
     "execution_count": 126,
     "metadata": {},
     "output_type": "execute_result"
    }
   ],
   "source": [
    "len(InfoJsonArray)"
   ]
  },
  {
   "cell_type": "code",
   "execution_count": 127,
   "metadata": {},
   "outputs": [],
   "source": [
    "save_name = os.path.join(out_folder,course_id,target_date, 'data.json')\n",
    "with open(save_name, \"w\", encoding='utf-8') as final:\n",
    "   json.dump(InfoJsonArray, final , ensure_ascii=False)"
   ]
  },
  {
   "cell_type": "code",
   "execution_count": 128,
   "metadata": {},
   "outputs": [],
   "source": [
    "with open('mydata.json', \"w\", encoding='utf-8') as final:\n",
    "   json.dump(InfoJsonArray, final , ensure_ascii=False)"
   ]
  },
  {
   "cell_type": "code",
   "execution_count": null,
   "metadata": {},
   "outputs": [],
   "source": []
  },
  {
   "cell_type": "code",
   "execution_count": null,
   "metadata": {},
   "outputs": [],
   "source": []
  }
 ],
 "metadata": {
  "kernelspec": {
   "display_name": "Python 3.9.2 ('geo_James')",
   "language": "python",
   "name": "python3"
  },
  "language_info": {
   "codemirror_mode": {
    "name": "ipython",
    "version": 3
   },
   "file_extension": ".py",
   "mimetype": "text/x-python",
   "name": "python",
   "nbconvert_exporter": "python",
   "pygments_lexer": "ipython3",
   "version": "3.9.2"
  },
  "orig_nbformat": 4,
  "vscode": {
   "interpreter": {
    "hash": "af734be8ad55227f26227a3bb273225e8c732a9f6283c6f58fcb510615c38890"
   }
  }
 },
 "nbformat": 4,
 "nbformat_minor": 2
}
