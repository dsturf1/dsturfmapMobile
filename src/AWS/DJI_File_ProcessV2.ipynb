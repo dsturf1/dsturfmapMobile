{
 "cells": [
  {
   "cell_type": "code",
   "execution_count": 2,
   "metadata": {},
   "outputs": [],
   "source": [
    "import pandas as pd\n",
    "import re\n",
    "import os\n",
    "import numpy as np\n",
    "import glob\n",
    "from datetime import datetime\n",
    "import geopandas as gpd\n",
    "import json\n",
    "from shapely.geometry import shape, GeometryCollection\n",
    "from rasterio.plot import show\n",
    "import matplotlib.pyplot as plt\n",
    "from mpl_toolkits.mplot3d import Axes3D\n",
    "from matplotlib import cm\n",
    "from matplotlib import colors\n",
    "from utils import FeatureExtraction, feature_matching, decimal_coords\n",
    "from exif import Image as exifimg\n",
    "from PIL import Image\n",
    "\n",
    "import shutil\n",
    "import rasterio\n",
    "import cv2\n",
    "%matplotlib inline"
   ]
  },
  {
   "cell_type": "code",
   "execution_count": 3,
   "metadata": {},
   "outputs": [],
   "source": [
    "# 가능한 font list 확인\n",
    "import matplotlib.font_manager as fm\n",
    "f = [f.name for f in fm.fontManager.ttflist]\n",
    "# print(f)\n",
    "\n",
    "plt.rc('font', family='Malgun Gothic')"
   ]
  },
  {
   "cell_type": "code",
   "execution_count": 4,
   "metadata": {},
   "outputs": [],
   "source": [
    "def getInfo(filesGrp, img_path):\n",
    "\n",
    "  dslabel = {\n",
    "    \"id\":\"\",\n",
    "    \"originalFileJPG\":\"\",\n",
    "    \"originalFileGrp\":[],\n",
    "    \"destFolder\":\"\",\n",
    "    \"GeoTagInfo\":{\n",
    "      \"coords\":[],\n",
    "      \"datetime_original\":\"\",\n",
    "      \"gps_altitude\":0,\n",
    "      \"gps_altitude_ref\":\"\"    \n",
    "    },\n",
    "    \"dest\":{\n",
    "      \"rgb\":\"\",\n",
    "      \"ndvi\":\"\",\n",
    "      \"thumb\":\"\",\n",
    "    },\n",
    "    \"info\":{\n",
    "      \"course\":\"\",\n",
    "      \"area\":\"\",\n",
    "      \"desc\":\"\",\n",
    "      \"alt\":\"\"\n",
    "    },\n",
    "    \"label\":[],\n",
    "    \"annotation\":[]\n",
    "  }\n",
    "\n",
    "# Remove Drive letter with root path\n",
    "  dslabel['originalFileJPG'] = img_path[3:]\n",
    "  dslabel['originalFileGrp'] = [x[3:] for x in filesGrp  if ('.JPG' not in x)]\n",
    "\n",
    "  with open(img_path, 'rb') as src:\n",
    "    img = exifimg(src)\n",
    "\n",
    "  coords = [\n",
    "    decimal_coords(img.gps_longitude,\n",
    "    img.gps_longitude_ref),\n",
    "      decimal_coords(img.gps_latitude,\n",
    "    img.gps_latitude_ref)\n",
    "  ]\n",
    "\n",
    "  dslabel['id'] = img.datetime_original.replace(\" \",\"\").replace(\":\",\"\") + \"_{:.10f}\".format(coords[0]).replace(\".\",\"\") + \"_{:.10f}\".format(coords[1]).replace(\".\",\"\") + \"_{:f}\".format(img.gps_altitude).replace(\".\",\"\")\n",
    "  dslabel['GeoTagInfo']['coords'] = coords\n",
    "  dslabel['GeoTagInfo']['datetime_original'] = img.datetime_original\n",
    "  dslabel['GeoTagInfo']['gps_altitude'] = img.gps_altitude\n",
    "  dslabel['GeoTagInfo']['gps_altitude_ref'] = img.gps_altitude_ref\n",
    "  \n",
    "  return dslabel"
   ]
  },
  {
   "cell_type": "code",
   "execution_count": 5,
   "metadata": {},
   "outputs": [],
   "source": [
    "def getNDVIimg(filesGrp):\n",
    "\n",
    "\n",
    "  with rasterio.open([ x for x in filesGrp if ('_MS_R' in x) ][0]) as src:\n",
    "      band_red = src.read(1).astype(float)/65536.\n",
    "\n",
    "  with rasterio.open([ x for x in filesGrp if ('_MS_NIR' in x) ][0]) as src:\n",
    "      band_nir = src.read(1).astype(float)/65536.\n",
    "\n",
    "  np.seterr(divide='ignore', invalid='ignore')\n",
    "\n",
    "  # Calculate NDVI\n",
    "  ndvi = (band_nir.astype(float) - band_red.astype(float)) / (band_nir.astype(float) + band_red.astype(float))\n",
    "\n",
    "  ndvi -= ndvi.min() # ensure the minimal value is 0.0\n",
    "  ndvi /= ndvi.max() # maximum value in image is now 1.0\n",
    "\n",
    "  cm = plt.cm.get_cmap('RdYlGn')\n",
    "  ndvi_cm = cm(ndvi)\n",
    "\n",
    "  ndvi_img = cv2.normalize(ndvi_cm[:,:,:3], None, alpha = 0, beta = 255, norm_type = cv2.NORM_MINMAX, dtype = cv2.CV_32F).astype(np.uint8)\n",
    "\n",
    "  return ndvi_img"
   ]
  },
  {
   "cell_type": "code",
   "execution_count": 6,
   "metadata": {},
   "outputs": [],
   "source": [
    "def getalignedRGB(filesGrp_, ndvi_img):\n",
    "  RGBimg = np.asarray(Image.open(filesGrp_[0]))\n",
    "\n",
    "  # RGBimg = np.asarray(Image.open(filesGrp_[0]).resize((ndvi_img.shape[1],ndvi_img.shape[0])))\n",
    "  # features0 = FeatureExtraction(RGBimg)\n",
    "  # features1 = FeatureExtraction(ndvi_img)\n",
    "\n",
    "  # matches = feature_matching(features0, features1)\n",
    "\n",
    "  # print('{} number of matched has been found! in {}'.format(len(matches), filesGrp_[0]))\n",
    "\n",
    "  # if len(matches) < 10:\n",
    "  #    raise Exception(\"Not Enough Matches\")\n",
    "\n",
    "  # H, _ = cv2.findHomography( features0.matched_pts, features1.matched_pts, cv2.RANSAC, 5.0)\n",
    "\n",
    "  H = np.array([[ 5.93209530e-01, -8.35074813e-03, -2.21474434e+02],\n",
    "       [ 1.32198817e-02,  5.96460559e-01, -2.01042419e+02],\n",
    "       [ 1.58520522e-06,  1.69424781e-06,  1.00000000e+00]])\n",
    "\n",
    "  h, w, c = ndvi_img.shape\n",
    "  RGBimg_tuned = cv2.warpPerspective(RGBimg, H, (w, h), borderMode=cv2.BORDER_CONSTANT, borderValue=(0, 0, 0, 0))\n",
    "\n",
    "  return RGBimg_tuned "
   ]
  },
  {
   "cell_type": "code",
   "execution_count": 7,
   "metadata": {},
   "outputs": [],
   "source": [
    "img_folder = r'D:\\original'\n",
    "out_folder = r'D:\\ToAWS'\n",
    "\n",
    "course_list = ['청도','포항','중문']\n",
    "\n",
    "course_ids = {\n",
    "  '포항':'MGC001',\n",
    "  '청도':'MGC002',\n",
    "  '중문':'MGC003',\n",
    "}\n",
    "\n",
    "folder_type = ['rgb','ndvi','thumb']"
   ]
  },
  {
   "cell_type": "code",
   "execution_count": 8,
   "metadata": {},
   "outputs": [
    {
     "data": {
      "text/plain": [
       "'MGC002'"
      ]
     },
     "execution_count": 8,
     "metadata": {},
     "output_type": "execute_result"
    }
   ],
   "source": [
    "course_ids.get('청도')"
   ]
  },
  {
   "cell_type": "code",
   "execution_count": 9,
   "metadata": {},
   "outputs": [
    {
     "data": {
      "text/plain": [
       "['D:\\\\original\\\\2023_0823_청도그레이스_맑고뭉게구름_데이터 1차 분류본',\n",
       " 'D:\\\\original\\\\2023_0811_포항CC_비온다음날_데이터 1차 분류_완',\n",
       " 'D:\\\\original\\\\2023_0816_포항CC_오전맑음오후구름가득_데이터 1차 분류본_완']"
      ]
     },
     "execution_count": 9,
     "metadata": {},
     "output_type": "execute_result"
    }
   ],
   "source": [
    "img_folders_candidate =glob.glob(os.path.join(img_folder,'*'))\n",
    "img_folders_candidate"
   ]
  },
  {
   "cell_type": "code",
   "execution_count": 10,
   "metadata": {},
   "outputs": [],
   "source": [
    "img_folder = img_folders_candidate[0]"
   ]
  },
  {
   "cell_type": "code",
   "execution_count": 11,
   "metadata": {},
   "outputs": [
    {
     "data": {
      "text/plain": [
       "8320"
      ]
     },
     "execution_count": 11,
     "metadata": {},
     "output_type": "execute_result"
    }
   ],
   "source": [
    "files = glob.glob(os.path.join(img_folder,'**/DJI_*.JPG'), recursive=True)\n",
    "\n",
    "len(files)"
   ]
  },
  {
   "cell_type": "code",
   "execution_count": 12,
   "metadata": {},
   "outputs": [],
   "source": [
    "\n",
    "\n",
    "for idx, file_ in enumerate(files):\n",
    "\n",
    "  course = list(filter(lambda y: y in file_, course_list))[0]\n",
    "  course_id = course_ids.get(course)\n",
    "  target_date = os.path.split(file_)[-1].split('_')[1][:8]\n",
    "\n",
    "  path = os.path.normpath(file_)\n",
    "  info = path.split(os.sep)\n",
    "\n",
    "  area = info[3]\n",
    "\n",
    "  if len(info[5].split('_')) ==3 :\n",
    "    desc = info[5].split('_')[-1]\n",
    "  else:\n",
    "    desc = \"미기재\"\n",
    "    \n",
    "  alt =  info[4].split('_')[-1]\n",
    "\n",
    "  # print(out_folder,course,target_date,area,desc,'rgb')\n",
    "  path_ = os.path.join(out_folder,course_id,target_date,area,desc,'rgb')\n",
    "\n",
    "  if not os.path.exists(path_):\n",
    "    os.makedirs(path_)\n",
    "\n",
    "  path_ = os.path.join(out_folder,course_id,target_date,area,desc,'ndvi')\n",
    "\n",
    "  if not os.path.exists(path_):\n",
    "    os.makedirs(path_)\n",
    "\n",
    "  path_ = os.path.join(out_folder,course_id,target_date,area,desc,'thumb')\n",
    "\n",
    "  if not os.path.exists(path_):\n",
    "    os.makedirs(path_)\n",
    "\n",
    "  \n",
    "  # path_ = os.path.split(file_)[0]\n",
    "\n",
    "  # if path_ not in original_folder:\n",
    "  #   original_folder.append(path_)"
   ]
  },
  {
   "cell_type": "code",
   "execution_count": 13,
   "metadata": {},
   "outputs": [],
   "source": [
    "original_folder = []\n",
    "\n",
    "for file_ in files:\n",
    "  path_ = os.path.normpath(file_)\n",
    "  paths_ = path_.split(os.sep)\n",
    "  path_ = (os.sep).join(paths_[0:4])\n",
    "\n",
    "  if path_ not in original_folder:\n",
    "    original_folder.append(path_)"
   ]
  },
  {
   "cell_type": "code",
   "execution_count": 14,
   "metadata": {},
   "outputs": [
    {
     "data": {
      "text/plain": [
       "['D:\\\\original\\\\2023_0823_청도그레이스_맑고뭉게구름_데이터 1차 분류본\\\\10_스타트퍼팅그린',\n",
       " 'D:\\\\original\\\\2023_0823_청도그레이스_맑고뭉게구름_데이터 1차 분류본\\\\1_밸리6H',\n",
       " 'D:\\\\original\\\\2023_0823_청도그레이스_맑고뭉게구름_데이터 1차 분류본\\\\2_밸리7H',\n",
       " 'D:\\\\original\\\\2023_0823_청도그레이스_맑고뭉게구름_데이터 1차 분류본\\\\3_마운틴너스리포장',\n",
       " 'D:\\\\original\\\\2023_0823_청도그레이스_맑고뭉게구름_데이터 1차 분류본\\\\4_마운틴1H',\n",
       " 'D:\\\\original\\\\2023_0823_청도그레이스_맑고뭉게구름_데이터 1차 분류본\\\\5_마운틴2H',\n",
       " 'D:\\\\original\\\\2023_0823_청도그레이스_맑고뭉게구름_데이터 1차 분류본\\\\6_마운틴3H',\n",
       " 'D:\\\\original\\\\2023_0823_청도그레이스_맑고뭉게구름_데이터 1차 분류본\\\\7_레이크2H',\n",
       " 'D:\\\\original\\\\2023_0823_청도그레이스_맑고뭉게구름_데이터 1차 분류본\\\\8_레이크3H',\n",
       " 'D:\\\\original\\\\2023_0823_청도그레이스_맑고뭉게구름_데이터 1차 분류본\\\\9_레이크4H']"
      ]
     },
     "execution_count": 14,
     "metadata": {},
     "output_type": "execute_result"
    }
   ],
   "source": [
    "original_folder"
   ]
  },
  {
   "cell_type": "code",
   "execution_count": 15,
   "metadata": {},
   "outputs": [
    {
     "data": {
      "text/plain": [
       "618"
      ]
     },
     "execution_count": 15,
     "metadata": {},
     "output_type": "execute_result"
    }
   ],
   "source": [
    "target_files = glob.glob(os.path.join(original_folder[3],'**/DJI_*.JPG'), recursive=True)\n",
    "len(target_files)"
   ]
  },
  {
   "cell_type": "code",
   "execution_count": 1,
   "metadata": {},
   "outputs": [
    {
     "ename": "NameError",
     "evalue": "name 'target_files' is not defined",
     "output_type": "error",
     "traceback": [
      "\u001b[1;31m---------------------------------------------------------------------------\u001b[0m",
      "\u001b[1;31mNameError\u001b[0m                                 Traceback (most recent call last)",
      "\u001b[1;32mc:\\Users\\yc463\\Documents\\JamesLocal\\DS\\Drone\\dsmapv2\\src\\AWS\\DJI_File_ProcessV2.ipynb Cell 15\u001b[0m line \u001b[0;36m3\n\u001b[0;32m      <a href='vscode-notebook-cell:/c%3A/Users/yc463/Documents/JamesLocal/DS/Drone/dsmapv2/src/AWS/DJI_File_ProcessV2.ipynb#X20sZmlsZQ%3D%3D?line=0'>1</a>\u001b[0m InfoJsonArray \u001b[39m=\u001b[39m []\n\u001b[1;32m----> <a href='vscode-notebook-cell:/c%3A/Users/yc463/Documents/JamesLocal/DS/Drone/dsmapv2/src/AWS/DJI_File_ProcessV2.ipynb#X20sZmlsZQ%3D%3D?line=2'>3</a>\u001b[0m \u001b[39mfor\u001b[39;00m idx, file_ \u001b[39min\u001b[39;00m \u001b[39menumerate\u001b[39m(target_files):\n\u001b[0;32m      <a href='vscode-notebook-cell:/c%3A/Users/yc463/Documents/JamesLocal/DS/Drone/dsmapv2/src/AWS/DJI_File_ProcessV2.ipynb#X20sZmlsZQ%3D%3D?line=4'>5</a>\u001b[0m   course \u001b[39m=\u001b[39m \u001b[39mlist\u001b[39m(\u001b[39mfilter\u001b[39m(\u001b[39mlambda\u001b[39;00m y: y \u001b[39min\u001b[39;00m file_, course_list))[\u001b[39m0\u001b[39m]\n\u001b[0;32m      <a href='vscode-notebook-cell:/c%3A/Users/yc463/Documents/JamesLocal/DS/Drone/dsmapv2/src/AWS/DJI_File_ProcessV2.ipynb#X20sZmlsZQ%3D%3D?line=5'>6</a>\u001b[0m   target_date \u001b[39m=\u001b[39m os\u001b[39m.\u001b[39mpath\u001b[39m.\u001b[39msplit(file_)[\u001b[39m-\u001b[39m\u001b[39m1\u001b[39m]\u001b[39m.\u001b[39msplit(\u001b[39m'\u001b[39m\u001b[39m_\u001b[39m\u001b[39m'\u001b[39m)[\u001b[39m1\u001b[39m][:\u001b[39m8\u001b[39m]\n",
      "\u001b[1;31mNameError\u001b[0m: name 'target_files' is not defined"
     ]
    }
   ],
   "source": [
    "InfoJsonArray = []\n",
    "\n",
    "for idx, file_ in enumerate(target_files):\n",
    "\n",
    "  course = list(filter(lambda y: y in file_, course_list))[0]\n",
    "  target_date = os.path.split(file_)[-1].split('_')[1][:8]\n",
    "  path = os.path.normpath(file_)\n",
    "  info = path.split(os.sep)\n",
    "\n",
    "  area = info[3]\n",
    "  \n",
    "  if len(info[5].split('_')) ==3 :\n",
    "    desc = info[5].split('_')[-1]\n",
    "  else:\n",
    "    desc = \"미기재\"\n",
    "  alt =  info[4].split('_')[-1]\n",
    "\n",
    "  filesGrp = glob.glob(os.path.join(os.path.split(file_)[0],(os.path.split(file_)[1].split('_')[0]+'_'+ os.path.split(file_)[1].split('_')[1][:-2]+\"**_\" + os.path.split(file_)[1].split('_')[2]) + '*'), recursive=True)\n",
    "  # print(filesGrp)\n",
    "  file_info = getInfo(filesGrp, file_)\n",
    "\n",
    "  file_info['info']['course'] = course\n",
    "  file_info['info']['area'] = area\n",
    "  file_info['info']['alt'] = alt\n",
    "  file_info['info']['desc'] = desc\n",
    "  file_info['info']['date'] = target_date\n",
    "\n",
    "\n",
    "  # try:\n",
    "  ndvi_img = getNDVIimg(filesGrp)\n",
    "  rgb_img = getalignedRGB(filesGrp, ndvi_img)\n",
    "  resized_ndvi = cv2.resize(ndvi_img, dsize=(648,486), interpolation=cv2.INTER_CUBIC)\n",
    "  save_name = os.path.join(out_folder,course_id,target_date,area,desc,'ndvi','ndvi{}.JPG'.format( file_info['id']) )\n",
    "  im = Image.fromarray(resized_ndvi)\n",
    "  im.save(save_name)\n",
    "  file_info['dest']['ndvi'] = save_name[9:]\n",
    "\n",
    "  resized_rgb = cv2.resize(rgb_img , dsize=(2592,1944), interpolation=cv2.INTER_CUBIC)\n",
    "  save_name = os.path.join(out_folder,course_id,target_date,area,desc,'rgb','rgb{}.JPG'.format( file_info['id']) )\n",
    "  im = Image.fromarray(resized_rgb)\n",
    "  im.save(save_name)\n",
    "  file_info['dest']['rgb'] = save_name[9:]\n",
    "\n",
    "\n",
    "  thumb_rgb = cv2.resize(rgb_img , dsize=(324,243), interpolation=cv2.INTER_CUBIC)\n",
    "  save_name = os.path.join(out_folder,course_id,target_date,area,desc,'thumb','thumbrgb{}.JPG'.format( file_info['id']) )\n",
    "  im = Image.fromarray(thumb_rgb)\n",
    "  im.save(save_name)\n",
    "  file_info['dest']['thumb'] = save_name[9:]\n",
    "\n",
    "\n",
    "  file_info['destFolder'] = ('/').join([target_date,area,desc])\n",
    "\n",
    "  InfoJsonArray.append( file_info)\n",
    "\n",
    "\n",
    "\n",
    "  \n",
    "  print(save_name)\n",
    "\n",
    "  print('{} out of {} files Completed'.format(idx, len(target_files)))\n",
    "\n",
    "save_name = os.path.join(out_folder,course_id,target_date,area, 'data'+target_date+area+'.json')\n",
    "with open(save_name, \"w\", encoding='utf-8') as final:\n",
    "   json.dump(InfoJsonArray, final , ensure_ascii=False)\n",
    "\n",
    "\n",
    "\n",
    "  "
   ]
  },
  {
   "cell_type": "code",
   "execution_count": null,
   "metadata": {},
   "outputs": [],
   "source": []
  },
  {
   "cell_type": "markdown",
   "metadata": {},
   "source": [
    "Gather all data json files from Output Folder"
   ]
  },
  {
   "cell_type": "code",
   "execution_count": 21,
   "metadata": {},
   "outputs": [
    {
     "data": {
      "text/plain": [
       "['D:\\\\ToAWS\\\\MGC002\\\\20230823\\\\10_스타트퍼팅그린\\\\data2023082310_스타트퍼팅그린.json',\n",
       " 'D:\\\\ToAWS\\\\MGC002\\\\20230823\\\\3_마운틴너스리포장\\\\data202308233_마운틴너스리포장.json']"
      ]
     },
     "execution_count": 21,
     "metadata": {},
     "output_type": "execute_result"
    }
   ],
   "source": [
    "dataJsonList = glob.glob(os.path.join(out_folder,course_id,target_date,'**/data*.json'), recursive=True)\n",
    "dataJsonList"
   ]
  },
  {
   "cell_type": "code",
   "execution_count": 23,
   "metadata": {},
   "outputs": [],
   "source": [
    "folderinDataJson = []\n",
    "totalPhotoJson = []\n",
    "\n",
    "for dataJson_ in dataJsonList:\n",
    "  with open(dataJson_, \"r\") as _json:\n",
    "    dataJson= json.load(_json)\n",
    "  \n",
    "  totalPhotoJson.extend(dataJson)\n",
    "\n",
    "  for Json_ in dataJson:\n",
    "    if Json_['destFolder'] not in folderinDataJson:\n",
    "      folderinDataJson.append(Json_['destFolder'])\n",
    "\n",
    "\n"
   ]
  },
  {
   "cell_type": "code",
   "execution_count": 26,
   "metadata": {},
   "outputs": [],
   "source": [
    "save_name = os.path.join(out_folder,course_id,target_date, 'photo.json')\n",
    "with open(save_name, \"w\", encoding='utf-8') as final:\n",
    "   json.dump(totalPhotoJson, final , ensure_ascii=False)"
   ]
  },
  {
   "cell_type": "code",
   "execution_count": 27,
   "metadata": {},
   "outputs": [],
   "source": [
    "filestructure = []\n",
    "\n",
    "\n",
    "for folder_ in folderinDataJson:\n",
    "  fileinfo = {}\n",
    "  fileinfo[\"path\"] = folder_\n",
    "  fileinfo[\"file_cnt\"] = len([ x for x in totalPhotoJson if x[\"destFolder\"] == folder_])\n",
    "  fileinfo[\"labeled_file_cnt\"] = 0\n",
    "  filestructure.append(fileinfo)\n",
    "  "
   ]
  },
  {
   "cell_type": "code",
   "execution_count": 28,
   "metadata": {},
   "outputs": [],
   "source": [
    "save_name = os.path.join(out_folder,course_id,target_date, 'filepath_'+course_id + '_'+target_date+'.json')\n",
    "with open(save_name, \"w\", encoding='utf-8') as final:\n",
    "   json.dump(filestructure, final , ensure_ascii=False)"
   ]
  },
  {
   "cell_type": "code",
   "execution_count": null,
   "metadata": {},
   "outputs": [],
   "source": []
  }
 ],
 "metadata": {
  "kernelspec": {
   "display_name": "Python 3.9.2 ('geo_James')",
   "language": "python",
   "name": "python3"
  },
  "language_info": {
   "codemirror_mode": {
    "name": "ipython",
    "version": 3
   },
   "file_extension": ".py",
   "mimetype": "text/x-python",
   "name": "python",
   "nbconvert_exporter": "python",
   "pygments_lexer": "ipython3",
   "version": "3.9.7"
  },
  "orig_nbformat": 4,
  "vscode": {
   "interpreter": {
    "hash": "af734be8ad55227f26227a3bb273225e8c732a9f6283c6f58fcb510615c38890"
   }
  }
 },
 "nbformat": 4,
 "nbformat_minor": 2
}
