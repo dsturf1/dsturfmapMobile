{
 "cells": [
  {
   "cell_type": "code",
   "execution_count": 1,
   "metadata": {},
   "outputs": [],
   "source": [
    "import pandas as pd\n",
    "import re\n",
    "import os\n",
    "import numpy as np\n",
    "import glob\n",
    "from datetime import datetime\n",
    "import geopandas as gpd\n",
    "import json\n",
    "from shapely.geometry import shape, GeometryCollection\n",
    "from rasterio.plot import show\n",
    "import matplotlib.pyplot as plt\n",
    "from mpl_toolkits.mplot3d import Axes3D\n",
    "from matplotlib import cm\n",
    "from matplotlib import colors\n",
    "from utils import FeatureExtraction, feature_matching, decimal_coords\n",
    "from exif import Image as exifimg\n",
    "from PIL import Image\n",
    "\n",
    "import shutil\n",
    "import rasterio\n",
    "import cv2\n",
    "%matplotlib inline"
   ]
  },
  {
   "cell_type": "code",
   "execution_count": 2,
   "metadata": {},
   "outputs": [],
   "source": [
    "# 가능한 font list 확인\n",
    "import matplotlib.font_manager as fm\n",
    "f = [f.name for f in fm.fontManager.ttflist]\n",
    "# print(f)\n",
    "\n",
    "plt.rc('font', family='Malgun Gothic')"
   ]
  },
  {
   "cell_type": "code",
   "execution_count": 3,
   "metadata": {},
   "outputs": [],
   "source": [
    "img_folder = r'D:\\original'\n",
    "out_folder = r'D:\\ToAWS2'\n",
    "\n",
    "course_list = ['청도','포항','중문','시흥','거창','속리산','춘천']\n",
    "\n",
    "course_ids = {\n",
    "  '포항':'MGC001',\n",
    "  '청도':'MGC002',\n",
    "  '중문':'MGC003',\n",
    "  '시흥':'MGC004',\n",
    "  '거창':'MGC005',\n",
    "  '속리산':'MGC006',\n",
    "  '춘천':'MGC007'\n",
    "}\n",
    "\n",
    "folder_type = ['rgb','ndvi','thumb']"
   ]
  },
  {
   "cell_type": "code",
   "execution_count": 4,
   "metadata": {},
   "outputs": [
    {
     "data": {
      "text/plain": [
       "'MGC005'"
      ]
     },
     "execution_count": 4,
     "metadata": {},
     "output_type": "execute_result"
    }
   ],
   "source": [
    "course_id = course_ids.get('거창')\n",
    "course_id"
   ]
  },
  {
   "cell_type": "code",
   "execution_count": 5,
   "metadata": {},
   "outputs": [
    {
     "data": {
      "text/plain": [
       "['D:\\\\ToAWS2\\\\MGC005\\\\20230809',\n",
       " 'D:\\\\ToAWS2\\\\MGC005\\\\20230817',\n",
       " 'D:\\\\ToAWS2\\\\MGC005\\\\20230906',\n",
       " 'D:\\\\ToAWS2\\\\MGC005\\\\20230927']"
      ]
     },
     "execution_count": 5,
     "metadata": {},
     "output_type": "execute_result"
    }
   ],
   "source": [
    "target_folders = glob.glob(os.path.join(out_folder,'**/*'))\n",
    "target_folders = [x for x in target_folders if course_id in x]\n",
    "target_folders"
   ]
  },
  {
   "cell_type": "code",
   "execution_count": 6,
   "metadata": {},
   "outputs": [],
   "source": [
    "target_folder = target_folders[0]"
   ]
  },
  {
   "cell_type": "code",
   "execution_count": 39,
   "metadata": {},
   "outputs": [
    {
     "data": {
      "text/plain": [
       "('MGC005', '20230906')"
      ]
     },
     "execution_count": 39,
     "metadata": {},
     "output_type": "execute_result"
    }
   ],
   "source": [
    "target_date = os.path.split(target_folder)[-1]\n",
    "course_id, target_date"
   ]
  },
  {
   "cell_type": "code",
   "execution_count": 62,
   "metadata": {},
   "outputs": [
    {
     "data": {
      "text/plain": [
       "'D:\\\\ToAWS2\\\\MGC005\\\\20230906\\\\photo.json'"
      ]
     },
     "execution_count": 62,
     "metadata": {},
     "output_type": "execute_result"
    }
   ],
   "source": [
    "dataJson_ = glob.glob(os.path.join(out_folder,course_id,target_date,'**/photo*.json'), recursive=True)[0]\n",
    "dataJson_ "
   ]
  },
  {
   "cell_type": "code",
   "execution_count": 63,
   "metadata": {},
   "outputs": [],
   "source": [
    "with open(dataJson_, \"r\") as _json:\n",
    "  dataJson= json.load(_json)"
   ]
  },
  {
   "cell_type": "code",
   "execution_count": 64,
   "metadata": {},
   "outputs": [
    {
     "data": {
      "text/plain": [
       "8866"
      ]
     },
     "execution_count": 64,
     "metadata": {},
     "output_type": "execute_result"
    }
   ],
   "source": [
    "len(dataJson)"
   ]
  },
  {
   "cell_type": "code",
   "execution_count": 65,
   "metadata": {},
   "outputs": [],
   "source": [
    "DataJson4Test = []\n",
    "\n",
    "for index_, row_ in enumerate(dataJson):\n",
    "  newrow = {}\n",
    "  newrow ['id'] = row_['id']\n",
    "  newrow ['metadata'] = course_id+target_date+row_['info']['area']+row_['info']['desc']\n",
    "  newrow ['date'] = target_date\n",
    "  newrow ['area'] = row_['info']['area']\n",
    "  newrow ['desc'] = row_['info']['desc']\n",
    "  newrow ['json'] = json.loads(json.dumps(row_), parse_float=Decimal)\n",
    "  DataJson4Test.append(newrow)"
   ]
  },
  {
   "cell_type": "code",
   "execution_count": null,
   "metadata": {},
   "outputs": [],
   "source": []
  },
  {
   "cell_type": "code",
   "execution_count": 66,
   "metadata": {},
   "outputs": [],
   "source": [
    "df = pd.DataFrame(DataJson4Test)"
   ]
  },
  {
   "cell_type": "code",
   "execution_count": 67,
   "metadata": {},
   "outputs": [
    {
     "data": {
      "text/html": [
       "<div>\n",
       "<style scoped>\n",
       "    .dataframe tbody tr th:only-of-type {\n",
       "        vertical-align: middle;\n",
       "    }\n",
       "\n",
       "    .dataframe tbody tr th {\n",
       "        vertical-align: top;\n",
       "    }\n",
       "\n",
       "    .dataframe thead th {\n",
       "        text-align: right;\n",
       "    }\n",
       "</style>\n",
       "<table border=\"1\" class=\"dataframe\">\n",
       "  <thead>\n",
       "    <tr style=\"text-align: right;\">\n",
       "      <th></th>\n",
       "      <th>date</th>\n",
       "      <th>area</th>\n",
       "      <th>desc</th>\n",
       "      <th>metadata</th>\n",
       "      <th>id</th>\n",
       "    </tr>\n",
       "  </thead>\n",
       "  <tbody>\n",
       "    <tr>\n",
       "      <th>0</th>\n",
       "      <td>20230906</td>\n",
       "      <td>거창 클럽디 EAST 1</td>\n",
       "      <td>미기재_0</td>\n",
       "      <td>MGC00520230906거창 클럽디 EAST 1미기재_0</td>\n",
       "      <td>78</td>\n",
       "    </tr>\n",
       "    <tr>\n",
       "      <th>1</th>\n",
       "      <td>20230906</td>\n",
       "      <td>거창 클럽디 EAST 1</td>\n",
       "      <td>티,켄터키,KB블루그래스_0</td>\n",
       "      <td>MGC00520230906거창 클럽디 EAST 1티,켄터키,KB블루그래스_0</td>\n",
       "      <td>501</td>\n",
       "    </tr>\n",
       "    <tr>\n",
       "      <th>2</th>\n",
       "      <td>20230906</td>\n",
       "      <td>거창 클럽디 EAST 1</td>\n",
       "      <td>티,켄터키,KB블루그래스_1</td>\n",
       "      <td>MGC00520230906거창 클럽디 EAST 1티,켄터키,KB블루그래스_1</td>\n",
       "      <td>501</td>\n",
       "    </tr>\n",
       "    <tr>\n",
       "      <th>3</th>\n",
       "      <td>20230906</td>\n",
       "      <td>거창 클럽디 EAST 1</td>\n",
       "      <td>티,켄터키,KB블루그래스_2</td>\n",
       "      <td>MGC00520230906거창 클럽디 EAST 1티,켄터키,KB블루그래스_2</td>\n",
       "      <td>501</td>\n",
       "    </tr>\n",
       "    <tr>\n",
       "      <th>4</th>\n",
       "      <td>20230906</td>\n",
       "      <td>거창 클럽디 EAST 1</td>\n",
       "      <td>티,켄터키,KB블루그래스_3</td>\n",
       "      <td>MGC00520230906거창 클럽디 EAST 1티,켄터키,KB블루그래스_3</td>\n",
       "      <td>163</td>\n",
       "    </tr>\n",
       "    <tr>\n",
       "      <th>5</th>\n",
       "      <td>20230906</td>\n",
       "      <td>거창 클럽디 EAST 2</td>\n",
       "      <td>미기재_0</td>\n",
       "      <td>MGC00520230906거창 클럽디 EAST 2미기재_0</td>\n",
       "      <td>95</td>\n",
       "    </tr>\n",
       "    <tr>\n",
       "      <th>6</th>\n",
       "      <td>20230906</td>\n",
       "      <td>거창 클럽디 EAST 2</td>\n",
       "      <td>이종잔디,톨페스큐_0</td>\n",
       "      <td>MGC00520230906거창 클럽디 EAST 2이종잔디,톨페스큐_0</td>\n",
       "      <td>377</td>\n",
       "    </tr>\n",
       "    <tr>\n",
       "      <th>7</th>\n",
       "      <td>20230906</td>\n",
       "      <td>거창 클럽디 EAST 2</td>\n",
       "      <td>이종잔디,페레니얼라이그래스_0</td>\n",
       "      <td>MGC00520230906거창 클럽디 EAST 2이종잔디,페레니얼라이그래스_0</td>\n",
       "      <td>501</td>\n",
       "    </tr>\n",
       "    <tr>\n",
       "      <th>8</th>\n",
       "      <td>20230906</td>\n",
       "      <td>거창 클럽디 EAST 2</td>\n",
       "      <td>이종잔디,페레니얼라이그래스_1</td>\n",
       "      <td>MGC00520230906거창 클럽디 EAST 2이종잔디,페레니얼라이그래스_1</td>\n",
       "      <td>501</td>\n",
       "    </tr>\n",
       "    <tr>\n",
       "      <th>9</th>\n",
       "      <td>20230906</td>\n",
       "      <td>거창 클럽디 EAST 2</td>\n",
       "      <td>이종잔디,페레니얼라이그래스_2</td>\n",
       "      <td>MGC00520230906거창 클럽디 EAST 2이종잔디,페레니얼라이그래스_2</td>\n",
       "      <td>101</td>\n",
       "    </tr>\n",
       "    <tr>\n",
       "      <th>10</th>\n",
       "      <td>20230906</td>\n",
       "      <td>거창 클럽디 EAST 3</td>\n",
       "      <td>디봇피해_0</td>\n",
       "      <td>MGC00520230906거창 클럽디 EAST 3디봇피해_0</td>\n",
       "      <td>327</td>\n",
       "    </tr>\n",
       "    <tr>\n",
       "      <th>11</th>\n",
       "      <td>20230906</td>\n",
       "      <td>거창 클럽디 EAST 3</td>\n",
       "      <td>미기재_0</td>\n",
       "      <td>MGC00520230906거창 클럽디 EAST 3미기재_0</td>\n",
       "      <td>87</td>\n",
       "    </tr>\n",
       "    <tr>\n",
       "      <th>12</th>\n",
       "      <td>20230906</td>\n",
       "      <td>거창 클럽디 EAST 3</td>\n",
       "      <td>이종잔디,라이그래스_0</td>\n",
       "      <td>MGC00520230906거창 클럽디 EAST 3이종잔디,라이그래스_0</td>\n",
       "      <td>501</td>\n",
       "    </tr>\n",
       "    <tr>\n",
       "      <th>13</th>\n",
       "      <td>20230906</td>\n",
       "      <td>거창 클럽디 EAST 3</td>\n",
       "      <td>이종잔디,라이그래스_1</td>\n",
       "      <td>MGC00520230906거창 클럽디 EAST 3이종잔디,라이그래스_1</td>\n",
       "      <td>501</td>\n",
       "    </tr>\n",
       "    <tr>\n",
       "      <th>14</th>\n",
       "      <td>20230906</td>\n",
       "      <td>거창 클럽디 EAST 3</td>\n",
       "      <td>이종잔디,라이그래스_2</td>\n",
       "      <td>MGC00520230906거창 클럽디 EAST 3이종잔디,라이그래스_2</td>\n",
       "      <td>70</td>\n",
       "    </tr>\n",
       "    <tr>\n",
       "      <th>15</th>\n",
       "      <td>20230906</td>\n",
       "      <td>거창 클럽디 EAST 4</td>\n",
       "      <td>건조피해_0</td>\n",
       "      <td>MGC00520230906거창 클럽디 EAST 4건조피해_0</td>\n",
       "      <td>501</td>\n",
       "    </tr>\n",
       "    <tr>\n",
       "      <th>16</th>\n",
       "      <td>20230906</td>\n",
       "      <td>거창 클럽디 EAST 4</td>\n",
       "      <td>건조피해_1</td>\n",
       "      <td>MGC00520230906거창 클럽디 EAST 4건조피해_1</td>\n",
       "      <td>501</td>\n",
       "    </tr>\n",
       "    <tr>\n",
       "      <th>17</th>\n",
       "      <td>20230906</td>\n",
       "      <td>거창 클럽디 EAST 4</td>\n",
       "      <td>건조피해_2</td>\n",
       "      <td>MGC00520230906거창 클럽디 EAST 4건조피해_2</td>\n",
       "      <td>501</td>\n",
       "    </tr>\n",
       "    <tr>\n",
       "      <th>18</th>\n",
       "      <td>20230906</td>\n",
       "      <td>거창 클럽디 EAST 4</td>\n",
       "      <td>건조피해_3</td>\n",
       "      <td>MGC00520230906거창 클럽디 EAST 4건조피해_3</td>\n",
       "      <td>42</td>\n",
       "    </tr>\n",
       "    <tr>\n",
       "      <th>19</th>\n",
       "      <td>20230906</td>\n",
       "      <td>거창 클럽디 EAST 4</td>\n",
       "      <td>미기재_0</td>\n",
       "      <td>MGC00520230906거창 클럽디 EAST 4미기재_0</td>\n",
       "      <td>104</td>\n",
       "    </tr>\n",
       "    <tr>\n",
       "      <th>20</th>\n",
       "      <td>20230906</td>\n",
       "      <td>거창 클럽디 EAST 4</td>\n",
       "      <td>패취병, 라지패취,춘고병_0</td>\n",
       "      <td>MGC00520230906거창 클럽디 EAST 4패취병, 라지패취,춘고병_0</td>\n",
       "      <td>501</td>\n",
       "    </tr>\n",
       "    <tr>\n",
       "      <th>21</th>\n",
       "      <td>20230906</td>\n",
       "      <td>거창 클럽디 EAST 4</td>\n",
       "      <td>패취병, 라지패취,춘고병_1</td>\n",
       "      <td>MGC00520230906거창 클럽디 EAST 4패취병, 라지패취,춘고병_1</td>\n",
       "      <td>501</td>\n",
       "    </tr>\n",
       "    <tr>\n",
       "      <th>22</th>\n",
       "      <td>20230906</td>\n",
       "      <td>거창 클럽디 EAST 4</td>\n",
       "      <td>패취병, 라지패취,춘고병_2</td>\n",
       "      <td>MGC00520230906거창 클럽디 EAST 4패취병, 라지패취,춘고병_2</td>\n",
       "      <td>501</td>\n",
       "    </tr>\n",
       "    <tr>\n",
       "      <th>23</th>\n",
       "      <td>20230906</td>\n",
       "      <td>거창 클럽디 EAST 4</td>\n",
       "      <td>패취병, 라지패취,춘고병_3</td>\n",
       "      <td>MGC00520230906거창 클럽디 EAST 4패취병, 라지패취,춘고병_3</td>\n",
       "      <td>62</td>\n",
       "    </tr>\n",
       "    <tr>\n",
       "      <th>24</th>\n",
       "      <td>20230906</td>\n",
       "      <td>거창 클럽디 EAST 4</td>\n",
       "      <td>패취병,라지패취_0</td>\n",
       "      <td>MGC00520230906거창 클럽디 EAST 4패취병,라지패취_0</td>\n",
       "      <td>408</td>\n",
       "    </tr>\n",
       "    <tr>\n",
       "      <th>25</th>\n",
       "      <td>20230906</td>\n",
       "      <td>거창 클럽디 EAST 4</td>\n",
       "      <td>패취병,춘고병_0</td>\n",
       "      <td>MGC00520230906거창 클럽디 EAST 4패취병,춘고병_0</td>\n",
       "      <td>439</td>\n",
       "    </tr>\n",
       "  </tbody>\n",
       "</table>\n",
       "</div>"
      ],
      "text/plain": [
       "        date           area              desc  \\\n",
       "0   20230906  거창 클럽디 EAST 1             미기재_0   \n",
       "1   20230906  거창 클럽디 EAST 1   티,켄터키,KB블루그래스_0   \n",
       "2   20230906  거창 클럽디 EAST 1   티,켄터키,KB블루그래스_1   \n",
       "3   20230906  거창 클럽디 EAST 1   티,켄터키,KB블루그래스_2   \n",
       "4   20230906  거창 클럽디 EAST 1   티,켄터키,KB블루그래스_3   \n",
       "5   20230906  거창 클럽디 EAST 2             미기재_0   \n",
       "6   20230906  거창 클럽디 EAST 2       이종잔디,톨페스큐_0   \n",
       "7   20230906  거창 클럽디 EAST 2  이종잔디,페레니얼라이그래스_0   \n",
       "8   20230906  거창 클럽디 EAST 2  이종잔디,페레니얼라이그래스_1   \n",
       "9   20230906  거창 클럽디 EAST 2  이종잔디,페레니얼라이그래스_2   \n",
       "10  20230906  거창 클럽디 EAST 3            디봇피해_0   \n",
       "11  20230906  거창 클럽디 EAST 3             미기재_0   \n",
       "12  20230906  거창 클럽디 EAST 3      이종잔디,라이그래스_0   \n",
       "13  20230906  거창 클럽디 EAST 3      이종잔디,라이그래스_1   \n",
       "14  20230906  거창 클럽디 EAST 3      이종잔디,라이그래스_2   \n",
       "15  20230906  거창 클럽디 EAST 4            건조피해_0   \n",
       "16  20230906  거창 클럽디 EAST 4            건조피해_1   \n",
       "17  20230906  거창 클럽디 EAST 4            건조피해_2   \n",
       "18  20230906  거창 클럽디 EAST 4            건조피해_3   \n",
       "19  20230906  거창 클럽디 EAST 4             미기재_0   \n",
       "20  20230906  거창 클럽디 EAST 4   패취병, 라지패취,춘고병_0   \n",
       "21  20230906  거창 클럽디 EAST 4   패취병, 라지패취,춘고병_1   \n",
       "22  20230906  거창 클럽디 EAST 4   패취병, 라지패취,춘고병_2   \n",
       "23  20230906  거창 클럽디 EAST 4   패취병, 라지패취,춘고병_3   \n",
       "24  20230906  거창 클럽디 EAST 4        패취병,라지패취_0   \n",
       "25  20230906  거창 클럽디 EAST 4         패취병,춘고병_0   \n",
       "\n",
       "                                       metadata   id  \n",
       "0              MGC00520230906거창 클럽디 EAST 1미기재_0   78  \n",
       "1    MGC00520230906거창 클럽디 EAST 1티,켄터키,KB블루그래스_0  501  \n",
       "2    MGC00520230906거창 클럽디 EAST 1티,켄터키,KB블루그래스_1  501  \n",
       "3    MGC00520230906거창 클럽디 EAST 1티,켄터키,KB블루그래스_2  501  \n",
       "4    MGC00520230906거창 클럽디 EAST 1티,켄터키,KB블루그래스_3  163  \n",
       "5              MGC00520230906거창 클럽디 EAST 2미기재_0   95  \n",
       "6        MGC00520230906거창 클럽디 EAST 2이종잔디,톨페스큐_0  377  \n",
       "7   MGC00520230906거창 클럽디 EAST 2이종잔디,페레니얼라이그래스_0  501  \n",
       "8   MGC00520230906거창 클럽디 EAST 2이종잔디,페레니얼라이그래스_1  501  \n",
       "9   MGC00520230906거창 클럽디 EAST 2이종잔디,페레니얼라이그래스_2  101  \n",
       "10            MGC00520230906거창 클럽디 EAST 3디봇피해_0  327  \n",
       "11             MGC00520230906거창 클럽디 EAST 3미기재_0   87  \n",
       "12      MGC00520230906거창 클럽디 EAST 3이종잔디,라이그래스_0  501  \n",
       "13      MGC00520230906거창 클럽디 EAST 3이종잔디,라이그래스_1  501  \n",
       "14      MGC00520230906거창 클럽디 EAST 3이종잔디,라이그래스_2   70  \n",
       "15            MGC00520230906거창 클럽디 EAST 4건조피해_0  501  \n",
       "16            MGC00520230906거창 클럽디 EAST 4건조피해_1  501  \n",
       "17            MGC00520230906거창 클럽디 EAST 4건조피해_2  501  \n",
       "18            MGC00520230906거창 클럽디 EAST 4건조피해_3   42  \n",
       "19             MGC00520230906거창 클럽디 EAST 4미기재_0  104  \n",
       "20   MGC00520230906거창 클럽디 EAST 4패취병, 라지패취,춘고병_0  501  \n",
       "21   MGC00520230906거창 클럽디 EAST 4패취병, 라지패취,춘고병_1  501  \n",
       "22   MGC00520230906거창 클럽디 EAST 4패취병, 라지패취,춘고병_2  501  \n",
       "23   MGC00520230906거창 클럽디 EAST 4패취병, 라지패취,춘고병_3   62  \n",
       "24        MGC00520230906거창 클럽디 EAST 4패취병,라지패취_0  408  \n",
       "25         MGC00520230906거창 클럽디 EAST 4패취병,춘고병_0  439  "
      ]
     },
     "execution_count": 67,
     "metadata": {},
     "output_type": "execute_result"
    }
   ],
   "source": [
    "df.groupby(['date','area','desc','metadata']).agg({'id':\"nunique\"}).reset_index()"
   ]
  },
  {
   "cell_type": "code",
   "execution_count": 68,
   "metadata": {},
   "outputs": [],
   "source": [
    "import boto3\n",
    "from decimal import Decimal\n",
    "# Get the service resource.\n",
    "dynamodb = boto3.resource('dynamodb', region_name='ap-northeast-2')\n",
    "table = dynamodb.Table('dsnia_imagelabelsV2')\n",
    "# table = dynamodb.Table('dsnia_imagelabels')"
   ]
  },
  {
   "cell_type": "code",
   "execution_count": 75,
   "metadata": {},
   "outputs": [
    {
     "data": {
      "text/plain": [
       "501"
      ]
     },
     "execution_count": 75,
     "metadata": {},
     "output_type": "execute_result"
    }
   ],
   "source": [
    "target_jsons = [x for x in DataJson4Test if x['metadata'] == \"MGC00520230906거창 클럽디 EAST 1티,켄터키,KB블루그래스_0\"]\n",
    "len(target_jsons)"
   ]
  },
  {
   "cell_type": "code",
   "execution_count": 76,
   "metadata": {},
   "outputs": [],
   "source": [
    "with table.batch_writer(overwrite_by_pkeys=['metadata', 'id']) as batch:\n",
    "  for index_, row_ in enumerate(target_jsons):\n",
    "    # print(index_, row_['id'], end='\\r')\n",
    "    batch.put_item(\n",
    "      Item= row_\n",
    "    )"
   ]
  },
  {
   "cell_type": "code",
   "execution_count": 105,
   "metadata": {},
   "outputs": [
    {
     "name": "stdout",
     "output_type": "stream",
     "text": [
      "501\n"
     ]
    }
   ],
   "source": [
    "from boto3.dynamodb.conditions import Key, Attr\n",
    "from botocore.exceptions import ClientError\n",
    "\n",
    "lastEvaluatedKey = None\n",
    "items = [] # Result Array\n",
    "\n",
    "while True:\n",
    "    if lastEvaluatedKey == None:\n",
    "        response = table.scan(FilterExpression=Attr('metadata').eq(\"MGC00520230906거창 클럽디 EAST 1티,켄터키,KB블루그래스_0\")) # This only runs the first time - provide no ExclusiveStartKey initially\n",
    "    else:\n",
    "        response = table.scan(\n",
    "        FilterExpression=Attr('metadata').eq(\"MGC00520230906거창 클럽디 EAST 1티,켄터키,KB블루그래스_0\"),\n",
    "        ExclusiveStartKey=lastEvaluatedKey # In subsequent calls, provide the ExclusiveStartKey\n",
    "    )\n",
    "\n",
    "    items.extend(response['Items']) # Appending to our resultset list\n",
    "    \n",
    "\n",
    "    # Set our lastEvlauatedKey to the value for next operation,\n",
    "    # else, there's no more results and we can exit\n",
    "    if 'LastEvaluatedKey' in response:\n",
    "        lastEvaluatedKey = response['LastEvaluatedKey']\n",
    "    else:\n",
    "        break\n",
    "\n",
    "print(len(items)) # Return Value: 6"
   ]
  },
  {
   "cell_type": "code",
   "execution_count": 10,
   "metadata": {},
   "outputs": [],
   "source": [
    "from boto3.dynamodb.conditions import Key, Attr\n",
    "from botocore.exceptions import ClientError\n",
    "\n",
    "courseid = \"MGC005\"\n",
    "date = \"20230906\"\n",
    "\n",
    "area = \"거창 클럽디 EAST 1\"\n",
    "\n",
    "desc = \"티,켄터키,KB블루그래스_0\"\n",
    "\n",
    "response = table.query(KeyConditionExpression=Key('metadata').eq(\"MGC00520230906거창 클럽디 EAST 1티,켄터키,KB블루그래스_1\"))\n",
    "data =  response['Items']\n",
    "\n",
    "while 'LastEvaluatedKey' in response:\n",
    "    response = table.query(KeyConditionExpression=Key('metadata').eq(\"MGC00520230906거창 클럽디 EAST 1티,켄터키,KB블루그래스_1\"),  ExclusiveStartKey=response['LastEvaluatedKey']  )    \n",
    "    # response_ = table.scan(ExclusiveStartKey=response['LastEvaluatedKey'])\n",
    "    data.extend(response['Items'])"
   ]
  },
  {
   "cell_type": "code",
   "execution_count": 39,
   "metadata": {},
   "outputs": [],
   "source": [
    "from boto3.dynamodb.conditions import Key, Attr\n",
    "from botocore.exceptions import ClientError\n",
    "\n",
    "courseid = \"MGC005\"\n",
    "date = \"20230906\"\n",
    "\n",
    "area = \"거창 클럽디 EAST 1\"\n",
    "\n",
    "desc = \"티,켄터키,KB블루그래스_0\"\n",
    "\n",
    "response = table.query(KeyConditionExpression=Key('metadata').eq(courseid+date+area+desc))\n",
    "data =  response['Items']\n",
    "\n",
    "while 'LastEvaluatedKey' in response:\n",
    "    response = table.query(KeyConditionExpression=Key('metadata').eq(courseid+date+area+desc),  ExclusiveStartKey=response['LastEvaluatedKey']  )    \n",
    "    # response_ = table.scan(ExclusiveStartKey=response['LastEvaluatedKey'])\n",
    "    data.extend(response['Items'])"
   ]
  },
  {
   "cell_type": "code",
   "execution_count": 40,
   "metadata": {},
   "outputs": [
    {
     "data": {
      "text/plain": [
       "501"
      ]
     },
     "execution_count": 40,
     "metadata": {},
     "output_type": "execute_result"
    }
   ],
   "source": [
    "len(data)"
   ]
  },
  {
   "cell_type": "code",
   "execution_count": 41,
   "metadata": {},
   "outputs": [],
   "source": [
    "response = table.query(\n",
    "    KeyConditionExpression=Key('metadata').eq(courseid+date+area+desc),    \n",
    ")\n",
    "data = response['Items']\n",
    "\n",
    "while 'LastEvaluatedKey' in response:\n",
    "    response = table.scan(ExclusiveStartKey=response['LastEvaluatedKey'])\n",
    "    data.extend(response['Items'])"
   ]
  },
  {
   "cell_type": "code",
   "execution_count": 42,
   "metadata": {},
   "outputs": [
    {
     "data": {
      "text/plain": [
       "59777"
      ]
     },
     "execution_count": 42,
     "metadata": {},
     "output_type": "execute_result"
    }
   ],
   "source": [
    "len(data)"
   ]
  },
  {
   "cell_type": "code",
   "execution_count": 12,
   "metadata": {},
   "outputs": [],
   "source": [
    "from boto3.dynamodb.conditions import Key, Attr\n",
    "from botocore.exceptions import ClientError\n",
    "\n",
    "\n",
    "\n",
    "response = table.scan()\n",
    "data = response['Items']\n",
    "\n",
    "while 'LastEvaluatedKey' in response:\n",
    "    response = table.scan(ExclusiveStartKey=response['LastEvaluatedKey'])\n",
    "    data.extend(response['Items'])"
   ]
  },
  {
   "cell_type": "code",
   "execution_count": 13,
   "metadata": {},
   "outputs": [
    {
     "data": {
      "text/plain": [
       "168870"
      ]
     },
     "execution_count": 13,
     "metadata": {},
     "output_type": "execute_result"
    }
   ],
   "source": [
    "len(data)"
   ]
  },
  {
   "cell_type": "code",
   "execution_count": 7,
   "metadata": {},
   "outputs": [],
   "source": [
    "import boto3\n",
    "from decimal import Decimal\n",
    "# Get the service resource.\n",
    "dynamodb = boto3.resource('dynamodb', region_name='ap-northeast-2')\n",
    "table = dynamodb.Table('dsnia_imagelabelsV2')\n",
    "# table = dynamodb.Table('dsnia_imagelabels')"
   ]
  },
  {
   "cell_type": "code",
   "execution_count": 45,
   "metadata": {},
   "outputs": [],
   "source": [
    "from boto3.dynamodb.conditions import Key, Attr\n",
    "from botocore.exceptions import ClientError\n",
    "\n",
    "courseid = \"MGC001\"\n",
    "date = \"20230906\"\n",
    "\n",
    "area = \"거창 클럽디 EAST 1\"\n",
    "\n",
    "desc = \"티,켄터키,KB블루그래스_0\"\n",
    "\n",
    "response = table.scan(\n",
    "    IndexName='id-courseid-index',\n",
    "    FilterExpression=Attr('courseid').eq(courseid)\n",
    ")\n",
    "\n",
    "data = response['Items']\n",
    "\n",
    "while 'LastEvaluatedKey' in response:\n",
    "    response = table.scan(\n",
    "      # IndexName='id-courseid-index',\n",
    "      # FilterExpression=Attr('courseid').eq(courseid),\n",
    "      ExclusiveStartKey=response['LastEvaluatedKey'])\n",
    "    data.extend(response['Items'])"
   ]
  },
  {
   "cell_type": "code",
   "execution_count": 46,
   "metadata": {},
   "outputs": [
    {
     "data": {
      "text/plain": [
       "0"
      ]
     },
     "execution_count": 46,
     "metadata": {},
     "output_type": "execute_result"
    }
   ],
   "source": [
    "len(data)"
   ]
  },
  {
   "cell_type": "code",
   "execution_count": null,
   "metadata": {},
   "outputs": [],
   "source": []
  }
 ],
 "metadata": {
  "kernelspec": {
   "display_name": "Python 3.9.2 ('geo_James')",
   "language": "python",
   "name": "python3"
  },
  "language_info": {
   "codemirror_mode": {
    "name": "ipython",
    "version": 3
   },
   "file_extension": ".py",
   "mimetype": "text/x-python",
   "name": "python",
   "nbconvert_exporter": "python",
   "pygments_lexer": "ipython3",
   "version": "3.9.7"
  },
  "orig_nbformat": 4,
  "vscode": {
   "interpreter": {
    "hash": "af734be8ad55227f26227a3bb273225e8c732a9f6283c6f58fcb510615c38890"
   }
  }
 },
 "nbformat": 4,
 "nbformat_minor": 2
}
