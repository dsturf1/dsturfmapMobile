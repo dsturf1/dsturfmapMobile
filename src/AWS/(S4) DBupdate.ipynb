{
 "cells": [
  {
   "cell_type": "code",
   "execution_count": 1,
   "metadata": {},
   "outputs": [],
   "source": [
    "import pandas as pd\n",
    "import re\n",
    "import os\n",
    "import numpy as np\n",
    "import glob\n",
    "from datetime import datetime\n",
    "import geopandas as gpd\n",
    "import json\n",
    "from shapely.geometry import shape, GeometryCollection\n",
    "from rasterio.plot import show\n",
    "import matplotlib.pyplot as plt\n",
    "from mpl_toolkits.mplot3d import Axes3D\n",
    "from matplotlib import cm\n",
    "from matplotlib import colors\n",
    "from utils import FeatureExtraction, feature_matching, decimal_coords\n",
    "from exif import Image as exifimg\n",
    "from PIL import Image\n",
    "\n",
    "import shutil\n",
    "import rasterio\n",
    "import cv2\n",
    "%matplotlib inline"
   ]
  },
  {
   "cell_type": "code",
   "execution_count": 2,
   "metadata": {},
   "outputs": [],
   "source": [
    "# 가능한 font list 확인\n",
    "import matplotlib.font_manager as fm\n",
    "f = [f.name for f in fm.fontManager.ttflist]\n",
    "# print(f)\n",
    "\n",
    "plt.rc('font', family='Malgun Gothic')"
   ]
  },
  {
   "cell_type": "code",
   "execution_count": 3,
   "metadata": {},
   "outputs": [],
   "source": [
    "import boto3\n",
    "from decimal import Decimal\n",
    "# Get the service resource.\n",
    "dynamodb = boto3.resource('dynamodb', region_name='ap-northeast-2')\n",
    "table = dynamodb.Table('dsnia_imagelabelsV2')\n",
    "# table = dynamodb.Table('dsnia_imagelabels')"
   ]
  },
  {
   "cell_type": "code",
   "execution_count": 4,
   "metadata": {},
   "outputs": [
    {
     "data": {
      "text/plain": [
       "'c:\\\\Users\\\\yc463\\\\Documents\\\\JamesLocal\\\\DS\\\\Drone\\\\dsmapv2\\\\src\\\\AWS\\\\filepathBackUp'"
      ]
     },
     "execution_count": 4,
     "metadata": {},
     "output_type": "execute_result"
    }
   ],
   "source": [
    "AWS_folder = os.getcwd()\n",
    "\n",
    "b_folder = os.path.join(AWS_folder,'BACKUPS')\n",
    "b_folder\n",
    "\n",
    "src_folder = os.path.join(AWS_folder,'dataDownloaded')\n",
    "src_folder\n",
    "\n",
    "out_folder = os.path.join(AWS_folder,'filepathBackUp')\n",
    "out_folder"
   ]
  },
  {
   "cell_type": "code",
   "execution_count": 5,
   "metadata": {},
   "outputs": [],
   "source": [
    "from boto3.dynamodb.conditions import Key, Attr\n",
    "from botocore.exceptions import ClientError\n",
    "\n",
    "\n",
    "\n",
    "response = table.scan()\n",
    "alldata = response['Items']\n",
    "\n",
    "while 'LastEvaluatedKey' in response:\n",
    "    response = table.scan(ExclusiveStartKey=response['LastEvaluatedKey'])\n",
    "    alldata.extend(response['Items'])"
   ]
  },
  {
   "cell_type": "code",
   "execution_count": 6,
   "metadata": {},
   "outputs": [
    {
     "data": {
      "text/plain": [
       "176305"
      ]
     },
     "execution_count": 6,
     "metadata": {},
     "output_type": "execute_result"
    }
   ],
   "source": [
    "len(alldata)"
   ]
  },
  {
   "cell_type": "code",
   "execution_count": 7,
   "metadata": {},
   "outputs": [
    {
     "data": {
      "text/plain": [
       "'20231015_230811'"
      ]
     },
     "execution_count": 7,
     "metadata": {},
     "output_type": "execute_result"
    }
   ],
   "source": [
    "\n",
    "from datetime import datetime\n",
    " \n",
    "datetime.now().strftime(\"%Y%m%d_%H%M%S\")"
   ]
  },
  {
   "cell_type": "code",
   "execution_count": 8,
   "metadata": {},
   "outputs": [],
   "source": [
    "# alldata[0]"
   ]
  },
  {
   "cell_type": "code",
   "execution_count": 9,
   "metadata": {},
   "outputs": [],
   "source": [
    "df = pd.DataFrame(alldata)\n",
    "\n",
    "file_to_save = os.path.join(b_folder ,'Total'+datetime.now().strftime(\"%Y%m%d_%H%M%S\")+'.pickle')\n",
    "df.to_pickle(file_to_save)"
   ]
  },
  {
   "cell_type": "code",
   "execution_count": 10,
   "metadata": {},
   "outputs": [
    {
     "data": {
      "text/html": [
       "<div>\n",
       "<style scoped>\n",
       "    .dataframe tbody tr th:only-of-type {\n",
       "        vertical-align: middle;\n",
       "    }\n",
       "\n",
       "    .dataframe tbody tr th {\n",
       "        vertical-align: top;\n",
       "    }\n",
       "\n",
       "    .dataframe thead th {\n",
       "        text-align: right;\n",
       "    }\n",
       "</style>\n",
       "<table border=\"1\" class=\"dataframe\">\n",
       "  <thead>\n",
       "    <tr style=\"text-align: right;\">\n",
       "      <th></th>\n",
       "      <th>metadata</th>\n",
       "      <th>date</th>\n",
       "      <th>area</th>\n",
       "      <th>courseid</th>\n",
       "      <th>json</th>\n",
       "      <th>id</th>\n",
       "      <th>desc</th>\n",
       "    </tr>\n",
       "  </thead>\n",
       "  <tbody>\n",
       "    <tr>\n",
       "      <th>0</th>\n",
       "      <td>MGC004202309197H브라운패취(그린),조류(그린),볼마크(그린)_0</td>\n",
       "      <td>20230919</td>\n",
       "      <td>7H</td>\n",
       "      <td>MGC004</td>\n",
       "      <td>{'originalFileGrp': ['ta/nas/10_원시데이터(3사_분류대상)...</td>\n",
       "      <td>20230919114349_1267681724167_373693833056_4798...</td>\n",
       "      <td>브라운패취(그린),조류(그린),볼마크(그린)_0</td>\n",
       "    </tr>\n",
       "    <tr>\n",
       "      <th>1</th>\n",
       "      <td>MGC004202309197H브라운패취(그린),조류(그린),볼마크(그린)_0</td>\n",
       "      <td>20230919</td>\n",
       "      <td>7H</td>\n",
       "      <td>MGC004</td>\n",
       "      <td>{'originalFileGrp': ['ta/nas/10_원시데이터(3사_분류대상)...</td>\n",
       "      <td>20230919114350_1267681720833_373693834444_4797...</td>\n",
       "      <td>브라운패취(그린),조류(그린),볼마크(그린)_0</td>\n",
       "    </tr>\n",
       "  </tbody>\n",
       "</table>\n",
       "</div>"
      ],
      "text/plain": [
       "                                     metadata      date area courseid  \\\n",
       "0  MGC004202309197H브라운패취(그린),조류(그린),볼마크(그린)_0  20230919   7H   MGC004   \n",
       "1  MGC004202309197H브라운패취(그린),조류(그린),볼마크(그린)_0  20230919   7H   MGC004   \n",
       "\n",
       "                                                json  \\\n",
       "0  {'originalFileGrp': ['ta/nas/10_원시데이터(3사_분류대상)...   \n",
       "1  {'originalFileGrp': ['ta/nas/10_원시데이터(3사_분류대상)...   \n",
       "\n",
       "                                                  id  \\\n",
       "0  20230919114349_1267681724167_373693833056_4798...   \n",
       "1  20230919114350_1267681720833_373693834444_4797...   \n",
       "\n",
       "                         desc  \n",
       "0  브라운패취(그린),조류(그린),볼마크(그린)_0  \n",
       "1  브라운패취(그린),조류(그린),볼마크(그린)_0  "
      ]
     },
     "execution_count": 10,
     "metadata": {},
     "output_type": "execute_result"
    }
   ],
   "source": [
    "df.head(2)"
   ]
  },
  {
   "cell_type": "code",
   "execution_count": 116,
   "metadata": {},
   "outputs": [],
   "source": [
    "df['path'] = df.json.map(lambda x: x.get('destFolder'))\n",
    "df['NumLabel'] = df.json.map(lambda x: len(x.get('label')))\n",
    "df['NumTBDLabel'] = df.json.map(lambda x: len([label_ for label_ in x.get('label') if label_.get('level1') == \"TBD\"]))\n"
   ]
  },
  {
   "cell_type": "code",
   "execution_count": 117,
   "metadata": {},
   "outputs": [],
   "source": [
    "df.loc[:,'LabelType'] = 'NoLabel'\n",
    "df.loc[df['NumLabel']>0,'LabelType'] = 'Label'\n",
    "df.loc[df['NumTBDLabel']>0,'LabelType'] = 'TBD'"
   ]
  },
  {
   "cell_type": "code",
   "execution_count": 139,
   "metadata": {},
   "outputs": [],
   "source": [
    "sum_df = df.groupby(['courseid','date','path','LabelType']).agg({'id':'count'}).reset_index().rename(columns = {'id':'file_cnt'})"
   ]
  },
  {
   "cell_type": "code",
   "execution_count": 140,
   "metadata": {},
   "outputs": [],
   "source": [
    "sum_df = sum_df.pivot_table('file_cnt', ['courseid','date','path'], 'LabelType').fillna(0).reset_index()\n",
    "sum_df['filepath'] = sum_df['courseid'] +'/' + sum_df['date'] +'/'+ 'filepath_'+sum_df['courseid'] + '_'+sum_df['date']+'.json'\n",
    "sum_df['file_cnt'] = sum_df['Label'] + sum_df['NoLabel'] + sum_df['TBD']\n",
    "sum_df['labeled_file_cnt'] = sum_df['Label']\n",
    "sum_df['TBD_file_cnt'] = sum_df['TBD']\n",
    "report_df = sum_df[['filepath','courseid','date','path','file_cnt', 'labeled_file_cnt', 'TBD_file_cnt']]"
   ]
  },
  {
   "cell_type": "code",
   "execution_count": 141,
   "metadata": {},
   "outputs": [
    {
     "data": {
      "text/html": [
       "<div>\n",
       "<style scoped>\n",
       "    .dataframe tbody tr th:only-of-type {\n",
       "        vertical-align: middle;\n",
       "    }\n",
       "\n",
       "    .dataframe tbody tr th {\n",
       "        vertical-align: top;\n",
       "    }\n",
       "\n",
       "    .dataframe thead th {\n",
       "        text-align: right;\n",
       "    }\n",
       "</style>\n",
       "<table border=\"1\" class=\"dataframe\">\n",
       "  <thead>\n",
       "    <tr style=\"text-align: right;\">\n",
       "      <th>LabelType</th>\n",
       "      <th>filepath</th>\n",
       "      <th>courseid</th>\n",
       "      <th>date</th>\n",
       "      <th>path</th>\n",
       "      <th>file_cnt</th>\n",
       "      <th>labeled_file_cnt</th>\n",
       "      <th>TBD_file_cnt</th>\n",
       "    </tr>\n",
       "  </thead>\n",
       "  <tbody>\n",
       "    <tr>\n",
       "      <th>0</th>\n",
       "      <td>MGC001/20230811/filepath_MGC001_20230811.json</td>\n",
       "      <td>MGC001</td>\n",
       "      <td>20230811</td>\n",
       "      <td>20230811/동해 4H/물리적피해,과습피해,플레이어답압,토양병,페어리링</td>\n",
       "      <td>130.0</td>\n",
       "      <td>130.0</td>\n",
       "      <td>0.0</td>\n",
       "    </tr>\n",
       "    <tr>\n",
       "      <th>1</th>\n",
       "      <td>MGC001/20230811/filepath_MGC001_20230811.json</td>\n",
       "      <td>MGC001</td>\n",
       "      <td>20230811</td>\n",
       "      <td>20230811/동해 4H/물리적피해,음지피해,잡초,이종잔디,패취류,썸머패취</td>\n",
       "      <td>205.0</td>\n",
       "      <td>0.0</td>\n",
       "      <td>0.0</td>\n",
       "    </tr>\n",
       "    <tr>\n",
       "      <th>2</th>\n",
       "      <td>MGC001/20230811/filepath_MGC001_20230811.json</td>\n",
       "      <td>MGC001</td>\n",
       "      <td>20230811</td>\n",
       "      <td>20230811/동해 4H/물리적피해,음지피해,켄터키,티,잡초,이종잔디,켄터키,패취...</td>\n",
       "      <td>174.0</td>\n",
       "      <td>1.0</td>\n",
       "      <td>0.0</td>\n",
       "    </tr>\n",
       "    <tr>\n",
       "      <th>3</th>\n",
       "      <td>MGC001/20230811/filepath_MGC001_20230811.json</td>\n",
       "      <td>MGC001</td>\n",
       "      <td>20230811</td>\n",
       "      <td>20230811/동해 4H/물리적피해,플레이어답압</td>\n",
       "      <td>42.0</td>\n",
       "      <td>1.0</td>\n",
       "      <td>0.0</td>\n",
       "    </tr>\n",
       "    <tr>\n",
       "      <th>4</th>\n",
       "      <td>MGC001/20230811/filepath_MGC001_20230811.json</td>\n",
       "      <td>MGC001</td>\n",
       "      <td>20230811</td>\n",
       "      <td>20230811/동해 4H/미기재</td>\n",
       "      <td>136.0</td>\n",
       "      <td>0.0</td>\n",
       "      <td>0.0</td>\n",
       "    </tr>\n",
       "  </tbody>\n",
       "</table>\n",
       "</div>"
      ],
      "text/plain": [
       "LabelType                                       filepath courseid      date  \\\n",
       "0          MGC001/20230811/filepath_MGC001_20230811.json   MGC001  20230811   \n",
       "1          MGC001/20230811/filepath_MGC001_20230811.json   MGC001  20230811   \n",
       "2          MGC001/20230811/filepath_MGC001_20230811.json   MGC001  20230811   \n",
       "3          MGC001/20230811/filepath_MGC001_20230811.json   MGC001  20230811   \n",
       "4          MGC001/20230811/filepath_MGC001_20230811.json   MGC001  20230811   \n",
       "\n",
       "LabelType                                               path  file_cnt  \\\n",
       "0                  20230811/동해 4H/물리적피해,과습피해,플레이어답압,토양병,페어리링     130.0   \n",
       "1                 20230811/동해 4H/물리적피해,음지피해,잡초,이종잔디,패취류,썸머패취     205.0   \n",
       "2          20230811/동해 4H/물리적피해,음지피해,켄터키,티,잡초,이종잔디,켄터키,패취...     174.0   \n",
       "3                                20230811/동해 4H/물리적피해,플레이어답압      42.0   \n",
       "4                                         20230811/동해 4H/미기재     136.0   \n",
       "\n",
       "LabelType  labeled_file_cnt  TBD_file_cnt  \n",
       "0                     130.0           0.0  \n",
       "1                       0.0           0.0  \n",
       "2                       1.0           0.0  \n",
       "3                       1.0           0.0  \n",
       "4                       0.0           0.0  "
      ]
     },
     "execution_count": 141,
     "metadata": {},
     "output_type": "execute_result"
    }
   ],
   "source": [
    "report_df.head(5)"
   ]
  },
  {
   "cell_type": "code",
   "execution_count": 147,
   "metadata": {},
   "outputs": [],
   "source": [
    "for filepath_ in list(report_df.filepath.unique()):\n",
    "  file2save = os.path.join(out_folder, 'filepath_'+filepath_[:6] + '_' + filepath_[7:15]+'.json')\n",
    "  jsonFile = report_df.loc[report_df.filepath == filepath_,['path','file_cnt', 'labeled_file_cnt', 'TBD_file_cnt']].to_json(orient='records', force_ascii=False)\n",
    "  \n",
    "  with open(file2save, 'w', encoding=\"utf-8\") as f:\n",
    "    f.write(jsonFile)\n",
    "\n",
    "  s3.put_object(\n",
    "  Body=jsonFile,\n",
    "  Bucket='ds-niaimageskor',\n",
    "  Key= 'public/'+filepath_\n",
    "  )"
   ]
  },
  {
   "cell_type": "code",
   "execution_count": 148,
   "metadata": {},
   "outputs": [
    {
     "data": {
      "text/plain": [
       "'[{\"path\":\"20230907\\\\/1.힐코스_1H\\\\/그린칼라,파습,조류,러프 이종-벤트_0\",\"file_cnt\":282.0,\"labeled_file_cnt\":0.0,\"TBD_file_cnt\":0.0},{\"path\":\"20230907\\\\/1.힐코스_1H\\\\/답압, 피슘피해지,썸머패치, 이종잔디-중지, 벤트,중지황화, 잡초-파대가리, 바랭이,벤트고사지_0\",\"file_cnt\":501.0,\"labeled_file_cnt\":0.0,\"TBD_file_cnt\":0.0},{\"path\":\"20230907\\\\/1.힐코스_1H\\\\/답압, 피슘피해지,썸머패치, 이종잔디-중지, 벤트,중지황화, 잡초-파대가리, 바랭이,벤트고사지_1\",\"file_cnt\":501.0,\"labeled_file_cnt\":0.0,\"TBD_file_cnt\":0.0},{\"path\":\"20230907\\\\/1.힐코스_1H\\\\/답압, 피슘피해지,썸머패치, 이종잔디-중지, 벤트,중지황화, 잡초-파대가리, 바랭이,벤트고사지_2\",\"file_cnt\":4.0,\"labeled_file_cnt\":0.0,\"TBD_file_cnt\":0.0},{\"path\":\"20230907\\\\/2.힐코스_2H\\\\/잡초, 그린촬영_0\",\"file_cnt\":109.0,\"labeled_file_cnt\":0.0,\"TBD_file_cnt\":0.0},{\"path\":\"20230907\\\\/2.힐코스_2H\\\\/잡초,그린촬영_0\",\"file_cnt\":223.0,\"labeled_file_cnt\":0.0,\"TBD_file_cnt\":0.0},{\"path\":\"20230907\\\\/3.힐코스_6H\\\\/중지러프, 잡초-방동사니,매듭풀, 참수지.바퀴자국_0\",\"file_cnt\":366.0,\"labeled_file_cnt\":0.0,\"TBD_file_cnt\":0.0},{\"path\":\"20230907\\\\/3.힐코스_6H\\\\/티노리, 경사면, 잡초,이끼_0\",\"file_cnt\":371.0,\"labeled_file_cnt\":107.0,\"TBD_file_cnt\":0.0},{\"path\":\"20230907\\\\/4.힐코스_9H\\\\/썸머 피슘, 황화,답압,배토,두더지_0\",\"file_cnt\":501.0,\"labeled_file_cnt\":0.0,\"TBD_file_cnt\":0.0},{\"path\":\"20230907\\\\/4.힐코스_9H\\\\/썸머 피슘, 황화,답압,배토,두더지_1\",\"file_cnt\":43.0,\"labeled_file_cnt\":0.0,\"TBD_file_cnt\":0.0},{\"path\":\"20230907\\\\/5.레이크코스_11H\\\\/썸머,피슘,브라운_0\",\"file_cnt\":353.0,\"labeled_file_cnt\":0.0,\"TBD_file_cnt\":0.0},{\"path\":\"20230907\\\\/5.레이크코스_11H\\\\/잡초, 이종잔디, 너스리 중지_0\",\"file_cnt\":501.0,\"labeled_file_cnt\":0.0,\"TBD_file_cnt\":0.0},{\"path\":\"20230907\\\\/5.레이크코스_11H\\\\/잡초, 이종잔디, 너스리 중지_1\",\"file_cnt\":54.0,\"labeled_file_cnt\":0.0,\"TBD_file_cnt\":0.0},{\"path\":\"20230907\\\\/6.레이크코스_13H\\\\/분류이름 확인필요_0\",\"file_cnt\":5.0,\"labeled_file_cnt\":0.0,\"TBD_file_cnt\":0.0},{\"path\":\"20230907\\\\/6.레이크코스_13H\\\\/포충나방 피해지,티노리,브라운패치,페어리링,티,에어레이션,배토_0\",\"file_cnt\":501.0,\"labeled_file_cnt\":0.0,\"TBD_file_cnt\":0.0},{\"path\":\"20230907\\\\/6.레이크코스_13H\\\\/포충나방 피해지,티노리,브라운패치,페어리링,티,에어레이션,배토_1\",\"file_cnt\":317.0,\"labeled_file_cnt\":0.0,\"TBD_file_cnt\":0.0},{\"path\":\"20230907\\\\/7.레이크코스_16H\\\\/달라스팟,엽고병_0\",\"file_cnt\":412.0,\"labeled_file_cnt\":0.0,\"TBD_file_cnt\":0.0},{\"path\":\"20230907\\\\/8.레이크코스_18H\\\\/그린 보식지(건조지), 그린칼라 이종잔디(벤트),잡초(파대가리),배수불량지,그린(건강한잔디)_0\",\"file_cnt\":501.0,\"labeled_file_cnt\":0.0,\"TBD_file_cnt\":0.0},{\"path\":\"20230907\\\\/8.레이크코스_18H\\\\/그린 보식지(건조지), 그린칼라 이종잔디(벤트),잡초(파대가리),배수불량지,그린(건강한잔디)_1\",\"file_cnt\":501.0,\"labeled_file_cnt\":0.0,\"TBD_file_cnt\":0.0},{\"path\":\"20230907\\\\/8.레이크코스_18H\\\\/그린 보식지(건조지), 그린칼라 이종잔디(벤트),잡초(파대가리),배수불량지,그린(건강한잔디)_2\",\"file_cnt\":115.0,\"labeled_file_cnt\":0.0,\"TBD_file_cnt\":0.0},{\"path\":\"20230907\\\\/8.레이크코스_18H\\\\/바퀴자국,디봇,습윤지_0\",\"file_cnt\":501.0,\"labeled_file_cnt\":0.0,\"TBD_file_cnt\":0.0},{\"path\":\"20230907\\\\/8.레이크코스_18H\\\\/바퀴자국,디봇,습윤지_1\",\"file_cnt\":158.0,\"labeled_file_cnt\":0.0,\"TBD_file_cnt\":0.0}]'"
      ]
     },
     "execution_count": 148,
     "metadata": {},
     "output_type": "execute_result"
    }
   ],
   "source": [
    "jsonFile"
   ]
  },
  {
   "cell_type": "code",
   "execution_count": 143,
   "metadata": {},
   "outputs": [
    {
     "data": {
      "text/plain": [
       "['c:\\\\Users\\\\yc463\\\\Documents\\\\JamesLocal\\\\DS\\\\Drone\\\\dsmapv2\\\\src\\\\AWS\\\\filepathBackUp\\\\filepath_MGC001_20230811.json',\n",
       " 'c:\\\\Users\\\\yc463\\\\Documents\\\\JamesLocal\\\\DS\\\\Drone\\\\dsmapv2\\\\src\\\\AWS\\\\filepathBackUp\\\\filepath_MGC001_20230816.json',\n",
       " 'c:\\\\Users\\\\yc463\\\\Documents\\\\JamesLocal\\\\DS\\\\Drone\\\\dsmapv2\\\\src\\\\AWS\\\\filepathBackUp\\\\filepath_MGC001_20230908.json',\n",
       " 'c:\\\\Users\\\\yc463\\\\Documents\\\\JamesLocal\\\\DS\\\\Drone\\\\dsmapv2\\\\src\\\\AWS\\\\filepathBackUp\\\\filepath_MGC002_20230823.json',\n",
       " 'c:\\\\Users\\\\yc463\\\\Documents\\\\JamesLocal\\\\DS\\\\Drone\\\\dsmapv2\\\\src\\\\AWS\\\\filepathBackUp\\\\filepath_MGC002_20230907.json',\n",
       " 'c:\\\\Users\\\\yc463\\\\Documents\\\\JamesLocal\\\\DS\\\\Drone\\\\dsmapv2\\\\src\\\\AWS\\\\filepathBackUp\\\\filepath_MGC002_20230919.json',\n",
       " 'c:\\\\Users\\\\yc463\\\\Documents\\\\JamesLocal\\\\DS\\\\Drone\\\\dsmapv2\\\\src\\\\AWS\\\\filepathBackUp\\\\filepath_MGC002_20230927.json',\n",
       " 'c:\\\\Users\\\\yc463\\\\Documents\\\\JamesLocal\\\\DS\\\\Drone\\\\dsmapv2\\\\src\\\\AWS\\\\filepathBackUp\\\\filepath_MGC003_20230909.json',\n",
       " 'c:\\\\Users\\\\yc463\\\\Documents\\\\JamesLocal\\\\DS\\\\Drone\\\\dsmapv2\\\\src\\\\AWS\\\\filepathBackUp\\\\filepath_MGC004_20230807.json',\n",
       " 'c:\\\\Users\\\\yc463\\\\Documents\\\\JamesLocal\\\\DS\\\\Drone\\\\dsmapv2\\\\src\\\\AWS\\\\filepathBackUp\\\\filepath_MGC004_20230815.json',\n",
       " 'c:\\\\Users\\\\yc463\\\\Documents\\\\JamesLocal\\\\DS\\\\Drone\\\\dsmapv2\\\\src\\\\AWS\\\\filepathBackUp\\\\filepath_MGC004_20230822.json',\n",
       " 'c:\\\\Users\\\\yc463\\\\Documents\\\\JamesLocal\\\\DS\\\\Drone\\\\dsmapv2\\\\src\\\\AWS\\\\filepathBackUp\\\\filepath_MGC004_20230902.json',\n",
       " 'c:\\\\Users\\\\yc463\\\\Documents\\\\JamesLocal\\\\DS\\\\Drone\\\\dsmapv2\\\\src\\\\AWS\\\\filepathBackUp\\\\filepath_MGC004_20230905.json',\n",
       " 'c:\\\\Users\\\\yc463\\\\Documents\\\\JamesLocal\\\\DS\\\\Drone\\\\dsmapv2\\\\src\\\\AWS\\\\filepathBackUp\\\\filepath_MGC004_20230912.json',\n",
       " 'c:\\\\Users\\\\yc463\\\\Documents\\\\JamesLocal\\\\DS\\\\Drone\\\\dsmapv2\\\\src\\\\AWS\\\\filepathBackUp\\\\filepath_MGC004_20230919.json',\n",
       " 'c:\\\\Users\\\\yc463\\\\Documents\\\\JamesLocal\\\\DS\\\\Drone\\\\dsmapv2\\\\src\\\\AWS\\\\filepathBackUp\\\\filepath_MGC005_20230809.json',\n",
       " 'c:\\\\Users\\\\yc463\\\\Documents\\\\JamesLocal\\\\DS\\\\Drone\\\\dsmapv2\\\\src\\\\AWS\\\\filepathBackUp\\\\filepath_MGC005_20230817.json',\n",
       " 'c:\\\\Users\\\\yc463\\\\Documents\\\\JamesLocal\\\\DS\\\\Drone\\\\dsmapv2\\\\src\\\\AWS\\\\filepathBackUp\\\\filepath_MGC005_20230906.json',\n",
       " 'c:\\\\Users\\\\yc463\\\\Documents\\\\JamesLocal\\\\DS\\\\Drone\\\\dsmapv2\\\\src\\\\AWS\\\\filepathBackUp\\\\filepath_MGC005_20230927.json',\n",
       " 'c:\\\\Users\\\\yc463\\\\Documents\\\\JamesLocal\\\\DS\\\\Drone\\\\dsmapv2\\\\src\\\\AWS\\\\filepathBackUp\\\\filepath_MGC006_20230825.json',\n",
       " 'c:\\\\Users\\\\yc463\\\\Documents\\\\JamesLocal\\\\DS\\\\Drone\\\\dsmapv2\\\\src\\\\AWS\\\\filepathBackUp\\\\filepath_MGC006_20230911.json',\n",
       " 'c:\\\\Users\\\\yc463\\\\Documents\\\\JamesLocal\\\\DS\\\\Drone\\\\dsmapv2\\\\src\\\\AWS\\\\filepathBackUp\\\\filepath_MGC007_20230826.json',\n",
       " 'c:\\\\Users\\\\yc463\\\\Documents\\\\JamesLocal\\\\DS\\\\Drone\\\\dsmapv2\\\\src\\\\AWS\\\\filepathBackUp\\\\filepath_MGC007_20230907.json']"
      ]
     },
     "execution_count": 143,
     "metadata": {},
     "output_type": "execute_result"
    }
   ],
   "source": [
    "fileList = glob.glob(os.path.join(out_folder,'filepath*.json'), recursive=True)\n",
    "fileList"
   ]
  },
  {
   "cell_type": "code",
   "execution_count": 144,
   "metadata": {},
   "outputs": [
    {
     "data": {
      "text/plain": [
       "'c:\\\\Users\\\\yc463\\\\Documents\\\\JamesLocal\\\\DS\\\\Drone\\\\dsmapv2\\\\src\\\\AWS\\\\filepathBackUp\\\\filepath_MGC002_20230823.json'"
      ]
     },
     "execution_count": 144,
     "metadata": {},
     "output_type": "execute_result"
    }
   ],
   "source": [
    "course_id = \"MGC002\"\n",
    "target_date = '20230823'\n",
    "file_ = [x for x in fileList if course_id in x and target_date in x][0]\n",
    "file_"
   ]
  },
  {
   "cell_type": "code",
   "execution_count": null,
   "metadata": {},
   "outputs": [],
   "source": []
  },
  {
   "cell_type": "code",
   "execution_count": 145,
   "metadata": {},
   "outputs": [
    {
     "data": {
      "text/plain": [
       "'MGC002/20230823/filepath_MGC002_20230823.json'"
      ]
     },
     "execution_count": 145,
     "metadata": {},
     "output_type": "execute_result"
    }
   ],
   "source": [
    "filepath_  = list(report_df.filepath.unique())[3]\n",
    "filepath_"
   ]
  },
  {
   "cell_type": "code",
   "execution_count": 146,
   "metadata": {},
   "outputs": [
    {
     "data": {
      "text/plain": [
       "{'ResponseMetadata': {'RequestId': '98YGXDG8CZHKRMPR',\n",
       "  'HostId': 'HJDIRCdTz2xDSUTGj6YK1iTofev9mGVIq1q+srxD0Z+6TrPt381HKWlI9ihD7N/90g8OcLTvtdg=',\n",
       "  'HTTPStatusCode': 200,\n",
       "  'HTTPHeaders': {'x-amz-id-2': 'HJDIRCdTz2xDSUTGj6YK1iTofev9mGVIq1q+srxD0Z+6TrPt381HKWlI9ihD7N/90g8OcLTvtdg=',\n",
       "   'x-amz-request-id': '98YGXDG8CZHKRMPR',\n",
       "   'date': 'Sat, 14 Oct 2023 11:42:48 GMT',\n",
       "   'x-amz-server-side-encryption': 'AES256',\n",
       "   'etag': '\"a5f50d0edfa44f0f0d4cd1a7a17c5529\"',\n",
       "   'server': 'AmazonS3',\n",
       "   'content-length': '0'},\n",
       "  'RetryAttempts': 1},\n",
       " 'ETag': '\"a5f50d0edfa44f0f0d4cd1a7a17c5529\"',\n",
       " 'ServerSideEncryption': 'AES256'}"
      ]
     },
     "execution_count": 146,
     "metadata": {},
     "output_type": "execute_result"
    }
   ],
   "source": [
    "s3 = boto3.client('s3')\n",
    "\n",
    "with open(file_, \"r\", encoding='utf-8') as _json:\n",
    "  pathInfo= json.load(_json)\n",
    "\n",
    "s3.put_object(\n",
    "  Body=json.dumps(pathInfo).encode('utf-8'),\n",
    "  Bucket='ds-niaimageskor',\n",
    "  Key= 'public/'+filepath_\n",
    "  )\n",
    "\n"
   ]
  },
  {
   "cell_type": "code",
   "execution_count": null,
   "metadata": {},
   "outputs": [],
   "source": []
  },
  {
   "cell_type": "code",
   "execution_count": null,
   "metadata": {},
   "outputs": [],
   "source": []
  },
  {
   "cell_type": "code",
   "execution_count": 147,
   "metadata": {},
   "outputs": [],
   "source": [
    "for index_, row_ in enumerate(alldata):\n",
    "  row_['courseid'] = row_['metadata'][:6]\n"
   ]
  },
  {
   "cell_type": "code",
   "execution_count": null,
   "metadata": {},
   "outputs": [],
   "source": []
  },
  {
   "cell_type": "code",
   "execution_count": 148,
   "metadata": {},
   "outputs": [
    {
     "name": "stdout",
     "output_type": "stream",
     "text": [
      "168869 20230816160453_1293353578056_362254769444_155272000\r"
     ]
    }
   ],
   "source": [
    "with table.batch_writer(overwrite_by_pkeys=['metadata', 'id']) as batch:\n",
    "  for index_, row_ in enumerate(alldata):\n",
    "    print(index_, row_['id'], end='\\r')\n",
    "    batch.put_item(\n",
    "      Item= row_\n",
    "    )"
   ]
  },
  {
   "cell_type": "code",
   "execution_count": 149,
   "metadata": {},
   "outputs": [],
   "source": [
    "from boto3.dynamodb.conditions import Key, Attr\n",
    "from botocore.exceptions import ClientError\n",
    "\n",
    "courseid = \"MGC004\"\n",
    "date = \"20230919\"\n",
    "\n",
    "\n",
    "response = table.scan(\n",
    "    # IndexName='id-courseid-index',\n",
    "    FilterExpression=Attr('metadata').begins_with(courseid)&Attr('date').eq(date)\n",
    ")\n",
    "\n",
    "data = response['Items']\n",
    "\n",
    "while 'LastEvaluatedKey' in response:\n",
    "    response = table.scan(\n",
    "      # IndexName='id-courseid-index',\n",
    "      FilterExpression=Attr('metadata').begins_with(courseid)&Attr('date').eq(date),\n",
    "      ExclusiveStartKey=response['LastEvaluatedKey'])\n",
    "    data.extend(response['Items'])"
   ]
  },
  {
   "cell_type": "code",
   "execution_count": 150,
   "metadata": {},
   "outputs": [
    {
     "data": {
      "text/plain": [
       "8635"
      ]
     },
     "execution_count": 150,
     "metadata": {},
     "output_type": "execute_result"
    }
   ],
   "source": [
    "len(data)"
   ]
  },
  {
   "cell_type": "code",
   "execution_count": 153,
   "metadata": {},
   "outputs": [],
   "source": [
    "courseid = \"MGC004\"\n",
    "date = \"20230919\"\n",
    "\n",
    "\n",
    "response = table.query(IndexName='courseid-id-index', KeyConditionExpression=Key('courseid').eq(courseid),  FilterExpression=Attr('date').eq(date))\n",
    "data =  response['Items']\n",
    "\n",
    "while 'LastEvaluatedKey' in response:\n",
    "    response = table.query(IndexName='courseid-id-index', KeyConditionExpression=Key('courseid').eq(courseid),  ExclusiveStartKey=response['LastEvaluatedKey'] ,FilterExpression=Attr('date').eq(date) )    \n",
    "    # response_ = table.scan(ExclusiveStartKey=response['LastEvaluatedKey'])\n",
    "    data.extend(response['Items'])"
   ]
  },
  {
   "cell_type": "code",
   "execution_count": 154,
   "metadata": {},
   "outputs": [
    {
     "data": {
      "text/plain": [
       "8635"
      ]
     },
     "execution_count": 154,
     "metadata": {},
     "output_type": "execute_result"
    }
   ],
   "source": [
    "len(data)"
   ]
  },
  {
   "cell_type": "code",
   "execution_count": null,
   "metadata": {},
   "outputs": [],
   "source": []
  }
 ],
 "metadata": {
  "kernelspec": {
   "display_name": "Python 3.9.2 ('geo_James')",
   "language": "python",
   "name": "python3"
  },
  "language_info": {
   "codemirror_mode": {
    "name": "ipython",
    "version": 3
   },
   "file_extension": ".py",
   "mimetype": "text/x-python",
   "name": "python",
   "nbconvert_exporter": "python",
   "pygments_lexer": "ipython3",
   "version": "3.9.7"
  },
  "orig_nbformat": 4,
  "vscode": {
   "interpreter": {
    "hash": "af734be8ad55227f26227a3bb273225e8c732a9f6283c6f58fcb510615c38890"
   }
  }
 },
 "nbformat": 4,
 "nbformat_minor": 2
}
