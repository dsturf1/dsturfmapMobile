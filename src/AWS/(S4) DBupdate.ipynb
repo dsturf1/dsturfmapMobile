{
 "cells": [
  {
   "cell_type": "code",
   "execution_count": 138,
   "metadata": {},
   "outputs": [],
   "source": [
    "import pandas as pd\n",
    "import re\n",
    "import os\n",
    "import numpy as np\n",
    "import glob\n",
    "from datetime import datetime\n",
    "import geopandas as gpd\n",
    "import json\n",
    "from shapely.geometry import shape, GeometryCollection\n",
    "from rasterio.plot import show\n",
    "import matplotlib.pyplot as plt\n",
    "from mpl_toolkits.mplot3d import Axes3D\n",
    "from matplotlib import cm\n",
    "from matplotlib import colors\n",
    "from utils import FeatureExtraction, feature_matching, decimal_coords\n",
    "from exif import Image as exifimg\n",
    "from PIL import Image\n",
    "\n",
    "import shutil\n",
    "import rasterio\n",
    "import cv2\n",
    "%matplotlib inline"
   ]
  },
  {
   "cell_type": "code",
   "execution_count": 139,
   "metadata": {},
   "outputs": [],
   "source": [
    "# 가능한 font list 확인\n",
    "import matplotlib.font_manager as fm\n",
    "f = [f.name for f in fm.fontManager.ttflist]\n",
    "# print(f)\n",
    "\n",
    "plt.rc('font', family='Malgun Gothic')"
   ]
  },
  {
   "cell_type": "code",
   "execution_count": 140,
   "metadata": {},
   "outputs": [],
   "source": [
    "import boto3\n",
    "from decimal import Decimal\n",
    "# Get the service resource.\n",
    "dynamodb = boto3.resource('dynamodb', region_name='ap-northeast-2')\n",
    "table = dynamodb.Table('dsnia_imagelabelsV2')\n",
    "# table = dynamodb.Table('dsnia_imagelabels')"
   ]
  },
  {
   "cell_type": "code",
   "execution_count": null,
   "metadata": {},
   "outputs": [],
   "source": []
  },
  {
   "cell_type": "code",
   "execution_count": 141,
   "metadata": {},
   "outputs": [],
   "source": [
    "from boto3.dynamodb.conditions import Key, Attr\n",
    "from botocore.exceptions import ClientError\n",
    "\n",
    "\n",
    "\n",
    "response = table.scan()\n",
    "alldata = response['Items']\n",
    "\n",
    "while 'LastEvaluatedKey' in response:\n",
    "    response = table.scan(ExclusiveStartKey=response['LastEvaluatedKey'])\n",
    "    alldata.extend(response['Items'])"
   ]
  },
  {
   "cell_type": "code",
   "execution_count": 146,
   "metadata": {},
   "outputs": [
    {
     "data": {
      "text/plain": [
       "168870"
      ]
     },
     "execution_count": 146,
     "metadata": {},
     "output_type": "execute_result"
    }
   ],
   "source": [
    "len(alldata)"
   ]
  },
  {
   "cell_type": "code",
   "execution_count": 147,
   "metadata": {},
   "outputs": [],
   "source": [
    "for index_, row_ in enumerate(alldata):\n",
    "  row_['courseid'] = row_['metadata'][:6]\n"
   ]
  },
  {
   "cell_type": "code",
   "execution_count": 148,
   "metadata": {},
   "outputs": [
    {
     "name": "stdout",
     "output_type": "stream",
     "text": [
      "168869 20230816160453_1293353578056_362254769444_155272000\r"
     ]
    }
   ],
   "source": [
    "with table.batch_writer(overwrite_by_pkeys=['metadata', 'id']) as batch:\n",
    "  for index_, row_ in enumerate(alldata):\n",
    "    print(index_, row_['id'], end='\\r')\n",
    "    batch.put_item(\n",
    "      Item= row_\n",
    "    )"
   ]
  },
  {
   "cell_type": "code",
   "execution_count": 149,
   "metadata": {},
   "outputs": [],
   "source": [
    "from boto3.dynamodb.conditions import Key, Attr\n",
    "from botocore.exceptions import ClientError\n",
    "\n",
    "courseid = \"MGC004\"\n",
    "date = \"20230919\"\n",
    "\n",
    "\n",
    "response = table.scan(\n",
    "    # IndexName='id-courseid-index',\n",
    "    FilterExpression=Attr('metadata').begins_with(courseid)&Attr('date').eq(date)\n",
    ")\n",
    "\n",
    "data = response['Items']\n",
    "\n",
    "while 'LastEvaluatedKey' in response:\n",
    "    response = table.scan(\n",
    "      # IndexName='id-courseid-index',\n",
    "      FilterExpression=Attr('metadata').begins_with(courseid)&Attr('date').eq(date),\n",
    "      ExclusiveStartKey=response['LastEvaluatedKey'])\n",
    "    data.extend(response['Items'])"
   ]
  },
  {
   "cell_type": "code",
   "execution_count": 150,
   "metadata": {},
   "outputs": [
    {
     "data": {
      "text/plain": [
       "8635"
      ]
     },
     "execution_count": 150,
     "metadata": {},
     "output_type": "execute_result"
    }
   ],
   "source": [
    "len(data)"
   ]
  },
  {
   "cell_type": "code",
   "execution_count": 153,
   "metadata": {},
   "outputs": [],
   "source": [
    "courseid = \"MGC004\"\n",
    "date = \"20230919\"\n",
    "\n",
    "\n",
    "response = table.query(IndexName='courseid-id-index', KeyConditionExpression=Key('courseid').eq(courseid),  FilterExpression=Attr('date').eq(date))\n",
    "data =  response['Items']\n",
    "\n",
    "while 'LastEvaluatedKey' in response:\n",
    "    response = table.query(IndexName='courseid-id-index', KeyConditionExpression=Key('courseid').eq(courseid),  ExclusiveStartKey=response['LastEvaluatedKey'] ,FilterExpression=Attr('date').eq(date) )    \n",
    "    # response_ = table.scan(ExclusiveStartKey=response['LastEvaluatedKey'])\n",
    "    data.extend(response['Items'])"
   ]
  },
  {
   "cell_type": "code",
   "execution_count": 154,
   "metadata": {},
   "outputs": [
    {
     "data": {
      "text/plain": [
       "8635"
      ]
     },
     "execution_count": 154,
     "metadata": {},
     "output_type": "execute_result"
    }
   ],
   "source": [
    "len(data)"
   ]
  },
  {
   "cell_type": "code",
   "execution_count": null,
   "metadata": {},
   "outputs": [],
   "source": []
  }
 ],
 "metadata": {
  "kernelspec": {
   "display_name": "Python 3.9.2 ('geo_James')",
   "language": "python",
   "name": "python3"
  },
  "language_info": {
   "codemirror_mode": {
    "name": "ipython",
    "version": 3
   },
   "file_extension": ".py",
   "mimetype": "text/x-python",
   "name": "python",
   "nbconvert_exporter": "python",
   "pygments_lexer": "ipython3",
   "version": "3.9.7"
  },
  "orig_nbformat": 4,
  "vscode": {
   "interpreter": {
    "hash": "af734be8ad55227f26227a3bb273225e8c732a9f6283c6f58fcb510615c38890"
   }
  }
 },
 "nbformat": 4,
 "nbformat_minor": 2
}
