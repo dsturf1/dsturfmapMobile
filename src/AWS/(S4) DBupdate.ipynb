{
 "cells": [
  {
   "cell_type": "code",
   "execution_count": 33,
   "metadata": {},
   "outputs": [],
   "source": [
    "import pandas as pd\n",
    "import re\n",
    "import os\n",
    "import numpy as np\n",
    "import glob\n",
    "from datetime import datetime\n",
    "import geopandas as gpd\n",
    "import json\n",
    "from shapely.geometry import shape, GeometryCollection\n",
    "from rasterio.plot import show\n",
    "import matplotlib.pyplot as plt\n",
    "from mpl_toolkits.mplot3d import Axes3D\n",
    "from matplotlib import cm\n",
    "from matplotlib import colors\n",
    "from utils import FeatureExtraction, feature_matching, decimal_coords\n",
    "from exif import Image as exifimg\n",
    "from PIL import Image\n",
    "\n",
    "import shutil\n",
    "import rasterio\n",
    "import cv2\n",
    "%matplotlib inline"
   ]
  },
  {
   "cell_type": "code",
   "execution_count": 34,
   "metadata": {},
   "outputs": [],
   "source": [
    "# 가능한 font list 확인\n",
    "import matplotlib.font_manager as fm\n",
    "f = [f.name for f in fm.fontManager.ttflist]\n",
    "# print(f)\n",
    "\n",
    "plt.rc('font', family='Malgun Gothic')"
   ]
  },
  {
   "cell_type": "code",
   "execution_count": 35,
   "metadata": {},
   "outputs": [],
   "source": [
    "img_folder = r'D:\\original'\n",
    "out_folder = r'D:\\ToAWS2'\n",
    "\n",
    "course_list = ['청도','포항','중문','시흥','거창','속리산','춘천']\n",
    "\n",
    "course_ids = {\n",
    "  '포항':'MGC001',\n",
    "  '청도':'MGC002',\n",
    "  '중문':'MGC003',\n",
    "  '시흥':'MGC004',\n",
    "  '거창':'MGC005',\n",
    "  '속리산':'MGC006',\n",
    "  '춘천':'MGC007'\n",
    "}\n",
    "\n",
    "folder_type = ['rgb','ndvi','thumb']"
   ]
  },
  {
   "cell_type": "code",
   "execution_count": 36,
   "metadata": {},
   "outputs": [
    {
     "data": {
      "text/plain": [
       "'MGC005'"
      ]
     },
     "execution_count": 36,
     "metadata": {},
     "output_type": "execute_result"
    }
   ],
   "source": [
    "course_id = course_ids.get('거창')\n",
    "course_id"
   ]
  },
  {
   "cell_type": "code",
   "execution_count": 37,
   "metadata": {},
   "outputs": [
    {
     "data": {
      "text/plain": [
       "['D:\\\\ToAWS2\\\\MGC005\\\\20230906']"
      ]
     },
     "execution_count": 37,
     "metadata": {},
     "output_type": "execute_result"
    }
   ],
   "source": [
    "target_folders = glob.glob(os.path.join(out_folder,'**/*'))\n",
    "target_folders = [x for x in target_folders if course_id in x]\n",
    "target_folders"
   ]
  },
  {
   "cell_type": "code",
   "execution_count": 38,
   "metadata": {},
   "outputs": [],
   "source": [
    "target_folder = target_folders[0]"
   ]
  },
  {
   "cell_type": "code",
   "execution_count": 39,
   "metadata": {},
   "outputs": [
    {
     "data": {
      "text/plain": [
       "('MGC005', '20230906')"
      ]
     },
     "execution_count": 39,
     "metadata": {},
     "output_type": "execute_result"
    }
   ],
   "source": [
    "target_date = os.path.split(target_folder)[-1]\n",
    "course_id, target_date"
   ]
  },
  {
   "cell_type": "code",
   "execution_count": 62,
   "metadata": {},
   "outputs": [
    {
     "data": {
      "text/plain": [
       "'D:\\\\ToAWS2\\\\MGC005\\\\20230906\\\\photo.json'"
      ]
     },
     "execution_count": 62,
     "metadata": {},
     "output_type": "execute_result"
    }
   ],
   "source": [
    "dataJson_ = glob.glob(os.path.join(out_folder,course_id,target_date,'**/photo*.json'), recursive=True)[0]\n",
    "dataJson_ "
   ]
  },
  {
   "cell_type": "code",
   "execution_count": 63,
   "metadata": {},
   "outputs": [],
   "source": [
    "with open(dataJson_, \"r\") as _json:\n",
    "  dataJson= json.load(_json)"
   ]
  },
  {
   "cell_type": "code",
   "execution_count": 64,
   "metadata": {},
   "outputs": [
    {
     "data": {
      "text/plain": [
       "8866"
      ]
     },
     "execution_count": 64,
     "metadata": {},
     "output_type": "execute_result"
    }
   ],
   "source": [
    "len(dataJson)"
   ]
  },
  {
   "cell_type": "code",
   "execution_count": 65,
   "metadata": {},
   "outputs": [],
   "source": [
    "DataJson4Test = []\n",
    "\n",
    "for index_, row_ in enumerate(dataJson):\n",
    "  newrow = {}\n",
    "  newrow ['id'] = row_['id']\n",
    "  newrow ['metadata'] = course_id+target_date+row_['info']['area']+row_['info']['desc']\n",
    "  newrow ['date'] = target_date\n",
    "  newrow ['area'] = row_['info']['area']\n",
    "  newrow ['desc'] = row_['info']['desc']\n",
    "  newrow ['json'] = json.loads(json.dumps(row_), parse_float=Decimal)\n",
    "  DataJson4Test.append(newrow)"
   ]
  },
  {
   "cell_type": "code",
   "execution_count": null,
   "metadata": {},
   "outputs": [],
   "source": []
  },
  {
   "cell_type": "code",
   "execution_count": 66,
   "metadata": {},
   "outputs": [],
   "source": [
    "df = pd.DataFrame(DataJson4Test)"
   ]
  },
  {
   "cell_type": "code",
   "execution_count": 67,
   "metadata": {},
   "outputs": [
    {
     "data": {
      "text/html": [
       "<div>\n",
       "<style scoped>\n",
       "    .dataframe tbody tr th:only-of-type {\n",
       "        vertical-align: middle;\n",
       "    }\n",
       "\n",
       "    .dataframe tbody tr th {\n",
       "        vertical-align: top;\n",
       "    }\n",
       "\n",
       "    .dataframe thead th {\n",
       "        text-align: right;\n",
       "    }\n",
       "</style>\n",
       "<table border=\"1\" class=\"dataframe\">\n",
       "  <thead>\n",
       "    <tr style=\"text-align: right;\">\n",
       "      <th></th>\n",
       "      <th>date</th>\n",
       "      <th>area</th>\n",
       "      <th>desc</th>\n",
       "      <th>metadata</th>\n",
       "      <th>id</th>\n",
       "    </tr>\n",
       "  </thead>\n",
       "  <tbody>\n",
       "    <tr>\n",
       "      <th>0</th>\n",
       "      <td>20230906</td>\n",
       "      <td>거창 클럽디 EAST 1</td>\n",
       "      <td>미기재_0</td>\n",
       "      <td>MGC00520230906거창 클럽디 EAST 1미기재_0</td>\n",
       "      <td>78</td>\n",
       "    </tr>\n",
       "    <tr>\n",
       "      <th>1</th>\n",
       "      <td>20230906</td>\n",
       "      <td>거창 클럽디 EAST 1</td>\n",
       "      <td>티,켄터키,KB블루그래스_0</td>\n",
       "      <td>MGC00520230906거창 클럽디 EAST 1티,켄터키,KB블루그래스_0</td>\n",
       "      <td>501</td>\n",
       "    </tr>\n",
       "    <tr>\n",
       "      <th>2</th>\n",
       "      <td>20230906</td>\n",
       "      <td>거창 클럽디 EAST 1</td>\n",
       "      <td>티,켄터키,KB블루그래스_1</td>\n",
       "      <td>MGC00520230906거창 클럽디 EAST 1티,켄터키,KB블루그래스_1</td>\n",
       "      <td>501</td>\n",
       "    </tr>\n",
       "    <tr>\n",
       "      <th>3</th>\n",
       "      <td>20230906</td>\n",
       "      <td>거창 클럽디 EAST 1</td>\n",
       "      <td>티,켄터키,KB블루그래스_2</td>\n",
       "      <td>MGC00520230906거창 클럽디 EAST 1티,켄터키,KB블루그래스_2</td>\n",
       "      <td>501</td>\n",
       "    </tr>\n",
       "    <tr>\n",
       "      <th>4</th>\n",
       "      <td>20230906</td>\n",
       "      <td>거창 클럽디 EAST 1</td>\n",
       "      <td>티,켄터키,KB블루그래스_3</td>\n",
       "      <td>MGC00520230906거창 클럽디 EAST 1티,켄터키,KB블루그래스_3</td>\n",
       "      <td>163</td>\n",
       "    </tr>\n",
       "    <tr>\n",
       "      <th>5</th>\n",
       "      <td>20230906</td>\n",
       "      <td>거창 클럽디 EAST 2</td>\n",
       "      <td>미기재_0</td>\n",
       "      <td>MGC00520230906거창 클럽디 EAST 2미기재_0</td>\n",
       "      <td>95</td>\n",
       "    </tr>\n",
       "    <tr>\n",
       "      <th>6</th>\n",
       "      <td>20230906</td>\n",
       "      <td>거창 클럽디 EAST 2</td>\n",
       "      <td>이종잔디,톨페스큐_0</td>\n",
       "      <td>MGC00520230906거창 클럽디 EAST 2이종잔디,톨페스큐_0</td>\n",
       "      <td>377</td>\n",
       "    </tr>\n",
       "    <tr>\n",
       "      <th>7</th>\n",
       "      <td>20230906</td>\n",
       "      <td>거창 클럽디 EAST 2</td>\n",
       "      <td>이종잔디,페레니얼라이그래스_0</td>\n",
       "      <td>MGC00520230906거창 클럽디 EAST 2이종잔디,페레니얼라이그래스_0</td>\n",
       "      <td>501</td>\n",
       "    </tr>\n",
       "    <tr>\n",
       "      <th>8</th>\n",
       "      <td>20230906</td>\n",
       "      <td>거창 클럽디 EAST 2</td>\n",
       "      <td>이종잔디,페레니얼라이그래스_1</td>\n",
       "      <td>MGC00520230906거창 클럽디 EAST 2이종잔디,페레니얼라이그래스_1</td>\n",
       "      <td>501</td>\n",
       "    </tr>\n",
       "    <tr>\n",
       "      <th>9</th>\n",
       "      <td>20230906</td>\n",
       "      <td>거창 클럽디 EAST 2</td>\n",
       "      <td>이종잔디,페레니얼라이그래스_2</td>\n",
       "      <td>MGC00520230906거창 클럽디 EAST 2이종잔디,페레니얼라이그래스_2</td>\n",
       "      <td>101</td>\n",
       "    </tr>\n",
       "    <tr>\n",
       "      <th>10</th>\n",
       "      <td>20230906</td>\n",
       "      <td>거창 클럽디 EAST 3</td>\n",
       "      <td>디봇피해_0</td>\n",
       "      <td>MGC00520230906거창 클럽디 EAST 3디봇피해_0</td>\n",
       "      <td>327</td>\n",
       "    </tr>\n",
       "    <tr>\n",
       "      <th>11</th>\n",
       "      <td>20230906</td>\n",
       "      <td>거창 클럽디 EAST 3</td>\n",
       "      <td>미기재_0</td>\n",
       "      <td>MGC00520230906거창 클럽디 EAST 3미기재_0</td>\n",
       "      <td>87</td>\n",
       "    </tr>\n",
       "    <tr>\n",
       "      <th>12</th>\n",
       "      <td>20230906</td>\n",
       "      <td>거창 클럽디 EAST 3</td>\n",
       "      <td>이종잔디,라이그래스_0</td>\n",
       "      <td>MGC00520230906거창 클럽디 EAST 3이종잔디,라이그래스_0</td>\n",
       "      <td>501</td>\n",
       "    </tr>\n",
       "    <tr>\n",
       "      <th>13</th>\n",
       "      <td>20230906</td>\n",
       "      <td>거창 클럽디 EAST 3</td>\n",
       "      <td>이종잔디,라이그래스_1</td>\n",
       "      <td>MGC00520230906거창 클럽디 EAST 3이종잔디,라이그래스_1</td>\n",
       "      <td>501</td>\n",
       "    </tr>\n",
       "    <tr>\n",
       "      <th>14</th>\n",
       "      <td>20230906</td>\n",
       "      <td>거창 클럽디 EAST 3</td>\n",
       "      <td>이종잔디,라이그래스_2</td>\n",
       "      <td>MGC00520230906거창 클럽디 EAST 3이종잔디,라이그래스_2</td>\n",
       "      <td>70</td>\n",
       "    </tr>\n",
       "    <tr>\n",
       "      <th>15</th>\n",
       "      <td>20230906</td>\n",
       "      <td>거창 클럽디 EAST 4</td>\n",
       "      <td>건조피해_0</td>\n",
       "      <td>MGC00520230906거창 클럽디 EAST 4건조피해_0</td>\n",
       "      <td>501</td>\n",
       "    </tr>\n",
       "    <tr>\n",
       "      <th>16</th>\n",
       "      <td>20230906</td>\n",
       "      <td>거창 클럽디 EAST 4</td>\n",
       "      <td>건조피해_1</td>\n",
       "      <td>MGC00520230906거창 클럽디 EAST 4건조피해_1</td>\n",
       "      <td>501</td>\n",
       "    </tr>\n",
       "    <tr>\n",
       "      <th>17</th>\n",
       "      <td>20230906</td>\n",
       "      <td>거창 클럽디 EAST 4</td>\n",
       "      <td>건조피해_2</td>\n",
       "      <td>MGC00520230906거창 클럽디 EAST 4건조피해_2</td>\n",
       "      <td>501</td>\n",
       "    </tr>\n",
       "    <tr>\n",
       "      <th>18</th>\n",
       "      <td>20230906</td>\n",
       "      <td>거창 클럽디 EAST 4</td>\n",
       "      <td>건조피해_3</td>\n",
       "      <td>MGC00520230906거창 클럽디 EAST 4건조피해_3</td>\n",
       "      <td>42</td>\n",
       "    </tr>\n",
       "    <tr>\n",
       "      <th>19</th>\n",
       "      <td>20230906</td>\n",
       "      <td>거창 클럽디 EAST 4</td>\n",
       "      <td>미기재_0</td>\n",
       "      <td>MGC00520230906거창 클럽디 EAST 4미기재_0</td>\n",
       "      <td>104</td>\n",
       "    </tr>\n",
       "    <tr>\n",
       "      <th>20</th>\n",
       "      <td>20230906</td>\n",
       "      <td>거창 클럽디 EAST 4</td>\n",
       "      <td>패취병, 라지패취,춘고병_0</td>\n",
       "      <td>MGC00520230906거창 클럽디 EAST 4패취병, 라지패취,춘고병_0</td>\n",
       "      <td>501</td>\n",
       "    </tr>\n",
       "    <tr>\n",
       "      <th>21</th>\n",
       "      <td>20230906</td>\n",
       "      <td>거창 클럽디 EAST 4</td>\n",
       "      <td>패취병, 라지패취,춘고병_1</td>\n",
       "      <td>MGC00520230906거창 클럽디 EAST 4패취병, 라지패취,춘고병_1</td>\n",
       "      <td>501</td>\n",
       "    </tr>\n",
       "    <tr>\n",
       "      <th>22</th>\n",
       "      <td>20230906</td>\n",
       "      <td>거창 클럽디 EAST 4</td>\n",
       "      <td>패취병, 라지패취,춘고병_2</td>\n",
       "      <td>MGC00520230906거창 클럽디 EAST 4패취병, 라지패취,춘고병_2</td>\n",
       "      <td>501</td>\n",
       "    </tr>\n",
       "    <tr>\n",
       "      <th>23</th>\n",
       "      <td>20230906</td>\n",
       "      <td>거창 클럽디 EAST 4</td>\n",
       "      <td>패취병, 라지패취,춘고병_3</td>\n",
       "      <td>MGC00520230906거창 클럽디 EAST 4패취병, 라지패취,춘고병_3</td>\n",
       "      <td>62</td>\n",
       "    </tr>\n",
       "    <tr>\n",
       "      <th>24</th>\n",
       "      <td>20230906</td>\n",
       "      <td>거창 클럽디 EAST 4</td>\n",
       "      <td>패취병,라지패취_0</td>\n",
       "      <td>MGC00520230906거창 클럽디 EAST 4패취병,라지패취_0</td>\n",
       "      <td>408</td>\n",
       "    </tr>\n",
       "    <tr>\n",
       "      <th>25</th>\n",
       "      <td>20230906</td>\n",
       "      <td>거창 클럽디 EAST 4</td>\n",
       "      <td>패취병,춘고병_0</td>\n",
       "      <td>MGC00520230906거창 클럽디 EAST 4패취병,춘고병_0</td>\n",
       "      <td>439</td>\n",
       "    </tr>\n",
       "  </tbody>\n",
       "</table>\n",
       "</div>"
      ],
      "text/plain": [
       "        date           area              desc  \\\n",
       "0   20230906  거창 클럽디 EAST 1             미기재_0   \n",
       "1   20230906  거창 클럽디 EAST 1   티,켄터키,KB블루그래스_0   \n",
       "2   20230906  거창 클럽디 EAST 1   티,켄터키,KB블루그래스_1   \n",
       "3   20230906  거창 클럽디 EAST 1   티,켄터키,KB블루그래스_2   \n",
       "4   20230906  거창 클럽디 EAST 1   티,켄터키,KB블루그래스_3   \n",
       "5   20230906  거창 클럽디 EAST 2             미기재_0   \n",
       "6   20230906  거창 클럽디 EAST 2       이종잔디,톨페스큐_0   \n",
       "7   20230906  거창 클럽디 EAST 2  이종잔디,페레니얼라이그래스_0   \n",
       "8   20230906  거창 클럽디 EAST 2  이종잔디,페레니얼라이그래스_1   \n",
       "9   20230906  거창 클럽디 EAST 2  이종잔디,페레니얼라이그래스_2   \n",
       "10  20230906  거창 클럽디 EAST 3            디봇피해_0   \n",
       "11  20230906  거창 클럽디 EAST 3             미기재_0   \n",
       "12  20230906  거창 클럽디 EAST 3      이종잔디,라이그래스_0   \n",
       "13  20230906  거창 클럽디 EAST 3      이종잔디,라이그래스_1   \n",
       "14  20230906  거창 클럽디 EAST 3      이종잔디,라이그래스_2   \n",
       "15  20230906  거창 클럽디 EAST 4            건조피해_0   \n",
       "16  20230906  거창 클럽디 EAST 4            건조피해_1   \n",
       "17  20230906  거창 클럽디 EAST 4            건조피해_2   \n",
       "18  20230906  거창 클럽디 EAST 4            건조피해_3   \n",
       "19  20230906  거창 클럽디 EAST 4             미기재_0   \n",
       "20  20230906  거창 클럽디 EAST 4   패취병, 라지패취,춘고병_0   \n",
       "21  20230906  거창 클럽디 EAST 4   패취병, 라지패취,춘고병_1   \n",
       "22  20230906  거창 클럽디 EAST 4   패취병, 라지패취,춘고병_2   \n",
       "23  20230906  거창 클럽디 EAST 4   패취병, 라지패취,춘고병_3   \n",
       "24  20230906  거창 클럽디 EAST 4        패취병,라지패취_0   \n",
       "25  20230906  거창 클럽디 EAST 4         패취병,춘고병_0   \n",
       "\n",
       "                                       metadata   id  \n",
       "0              MGC00520230906거창 클럽디 EAST 1미기재_0   78  \n",
       "1    MGC00520230906거창 클럽디 EAST 1티,켄터키,KB블루그래스_0  501  \n",
       "2    MGC00520230906거창 클럽디 EAST 1티,켄터키,KB블루그래스_1  501  \n",
       "3    MGC00520230906거창 클럽디 EAST 1티,켄터키,KB블루그래스_2  501  \n",
       "4    MGC00520230906거창 클럽디 EAST 1티,켄터키,KB블루그래스_3  163  \n",
       "5              MGC00520230906거창 클럽디 EAST 2미기재_0   95  \n",
       "6        MGC00520230906거창 클럽디 EAST 2이종잔디,톨페스큐_0  377  \n",
       "7   MGC00520230906거창 클럽디 EAST 2이종잔디,페레니얼라이그래스_0  501  \n",
       "8   MGC00520230906거창 클럽디 EAST 2이종잔디,페레니얼라이그래스_1  501  \n",
       "9   MGC00520230906거창 클럽디 EAST 2이종잔디,페레니얼라이그래스_2  101  \n",
       "10            MGC00520230906거창 클럽디 EAST 3디봇피해_0  327  \n",
       "11             MGC00520230906거창 클럽디 EAST 3미기재_0   87  \n",
       "12      MGC00520230906거창 클럽디 EAST 3이종잔디,라이그래스_0  501  \n",
       "13      MGC00520230906거창 클럽디 EAST 3이종잔디,라이그래스_1  501  \n",
       "14      MGC00520230906거창 클럽디 EAST 3이종잔디,라이그래스_2   70  \n",
       "15            MGC00520230906거창 클럽디 EAST 4건조피해_0  501  \n",
       "16            MGC00520230906거창 클럽디 EAST 4건조피해_1  501  \n",
       "17            MGC00520230906거창 클럽디 EAST 4건조피해_2  501  \n",
       "18            MGC00520230906거창 클럽디 EAST 4건조피해_3   42  \n",
       "19             MGC00520230906거창 클럽디 EAST 4미기재_0  104  \n",
       "20   MGC00520230906거창 클럽디 EAST 4패취병, 라지패취,춘고병_0  501  \n",
       "21   MGC00520230906거창 클럽디 EAST 4패취병, 라지패취,춘고병_1  501  \n",
       "22   MGC00520230906거창 클럽디 EAST 4패취병, 라지패취,춘고병_2  501  \n",
       "23   MGC00520230906거창 클럽디 EAST 4패취병, 라지패취,춘고병_3   62  \n",
       "24        MGC00520230906거창 클럽디 EAST 4패취병,라지패취_0  408  \n",
       "25         MGC00520230906거창 클럽디 EAST 4패취병,춘고병_0  439  "
      ]
     },
     "execution_count": 67,
     "metadata": {},
     "output_type": "execute_result"
    }
   ],
   "source": [
    "df.groupby(['date','area','desc','metadata']).agg({'id':\"nunique\"}).reset_index()"
   ]
  },
  {
   "cell_type": "code",
   "execution_count": 68,
   "metadata": {},
   "outputs": [],
   "source": [
    "import boto3\n",
    "from decimal import Decimal\n",
    "# Get the service resource.\n",
    "dynamodb = boto3.resource('dynamodb', region_name='ap-northeast-2')\n",
    "table = dynamodb.Table('dsnia_imagelabelsV2')\n",
    "# table = dynamodb.Table('dsnia_imagelabels')"
   ]
  },
  {
   "cell_type": "code",
   "execution_count": 75,
   "metadata": {},
   "outputs": [
    {
     "data": {
      "text/plain": [
       "501"
      ]
     },
     "execution_count": 75,
     "metadata": {},
     "output_type": "execute_result"
    }
   ],
   "source": [
    "target_jsons = [x for x in DataJson4Test if x['metadata'] == \"MGC00520230906거창 클럽디 EAST 1티,켄터키,KB블루그래스_0\"]\n",
    "len(target_jsons)"
   ]
  },
  {
   "cell_type": "code",
   "execution_count": 76,
   "metadata": {},
   "outputs": [],
   "source": [
    "with table.batch_writer(overwrite_by_pkeys=['metadata', 'id']) as batch:\n",
    "  for index_, row_ in enumerate(target_jsons):\n",
    "    # print(index_, row_['id'], end='\\r')\n",
    "    batch.put_item(\n",
    "      Item= row_\n",
    "    )"
   ]
  },
  {
   "cell_type": "code",
   "execution_count": 105,
   "metadata": {},
   "outputs": [
    {
     "name": "stdout",
     "output_type": "stream",
     "text": [
      "501\n"
     ]
    }
   ],
   "source": [
    "from boto3.dynamodb.conditions import Key, Attr\n",
    "from botocore.exceptions import ClientError\n",
    "\n",
    "lastEvaluatedKey = None\n",
    "items = [] # Result Array\n",
    "\n",
    "while True:\n",
    "    if lastEvaluatedKey == None:\n",
    "        response = table.scan(FilterExpression=Attr('metadata').eq(\"MGC00520230906거창 클럽디 EAST 1티,켄터키,KB블루그래스_0\")) # This only runs the first time - provide no ExclusiveStartKey initially\n",
    "    else:\n",
    "        response = table.scan(\n",
    "        FilterExpression=Attr('metadata').eq(\"MGC00520230906거창 클럽디 EAST 1티,켄터키,KB블루그래스_0\"),\n",
    "        ExclusiveStartKey=lastEvaluatedKey # In subsequent calls, provide the ExclusiveStartKey\n",
    "    )\n",
    "\n",
    "    items.extend(response['Items']) # Appending to our resultset list\n",
    "    \n",
    "\n",
    "    # Set our lastEvlauatedKey to the value for next operation,\n",
    "    # else, there's no more results and we can exit\n",
    "    if 'LastEvaluatedKey' in response:\n",
    "        lastEvaluatedKey = response['LastEvaluatedKey']\n",
    "    else:\n",
    "        break\n",
    "\n",
    "print(len(items)) # Return Value: 6"
   ]
  },
  {
   "cell_type": "code",
   "execution_count": 112,
   "metadata": {},
   "outputs": [],
   "source": [
    "from boto3.dynamodb.conditions import Key, Attr\n",
    "from botocore.exceptions import ClientError\n",
    "\n",
    "courseid = \"MGC005\"\n",
    "date = \"20230906\"\n",
    "\n",
    "area = \"거창 클럽디 EAST 1\"\n",
    "\n",
    "desc = \"티,켄터키,KB블루그래스_0\"\n",
    "\n",
    "response = table.query(KeyConditionExpression=Key('metadata').eq(\"MGC00520230906거창 클럽디 EAST 1티,켄터키,KB블루그래스_1\"))\n",
    "data =  response['Items']\n",
    "\n",
    "while 'LastEvaluatedKey' in response:\n",
    "    response = table.query(KeyConditionExpression=Key('metadata').eq(\"MGC00520230906거창 클럽디 EAST 1티,켄터키,KB블루그래스_1\"),  ExclusiveStartKey=response['LastEvaluatedKey']  )    \n",
    "    # response_ = table.scan(ExclusiveStartKey=response['LastEvaluatedKey'])\n",
    "    data.extend(response['Items'])"
   ]
  },
  {
   "cell_type": "code",
   "execution_count": 113,
   "metadata": {},
   "outputs": [
    {
     "data": {
      "text/plain": [
       "501"
      ]
     },
     "execution_count": 113,
     "metadata": {},
     "output_type": "execute_result"
    }
   ],
   "source": [
    "len(data)"
   ]
  },
  {
   "cell_type": "code",
   "execution_count": 90,
   "metadata": {},
   "outputs": [
    {
     "name": "stdout",
     "output_type": "stream",
     "text": [
      "8865\r"
     ]
    }
   ],
   "source": [
    "for index_, row_ in enumerate(dataJson):\n",
    "  newrow = {}\n",
    "  newrow ['id'] = row_['id']\n",
    "  newrow ['metadata'] = course_id+target_date+row_['info']['area']+row_['info']['desc']\n",
    "  newrow ['date'] = target_date\n",
    "  newrow ['area'] = row_['info']['area']\n",
    "  newrow ['desc'] = row_['info']['desc']\n",
    "  newrow ['json'] = json.loads(json.dumps(row_), parse_float=Decimal)\n",
    "  print(index_, end='\\r')\n",
    "  table.put_item(\n",
    "    Item= newrow\n",
    "  )"
   ]
  },
  {
   "cell_type": "code",
   "execution_count": 101,
   "metadata": {},
   "outputs": [
    {
     "data": {
      "text/plain": [
       "'20230906'"
      ]
     },
     "execution_count": 101,
     "metadata": {},
     "output_type": "execute_result"
    }
   ],
   "source": [
    "target_date"
   ]
  },
  {
   "cell_type": "code",
   "execution_count": 32,
   "metadata": {},
   "outputs": [
    {
     "ename": "ProvisionedThroughputExceededException",
     "evalue": "An error occurred (ProvisionedThroughputExceededException) when calling the Scan operation (reached max retries: 9): The level of configured provisioned throughput for the table was exceeded. Consider increasing your provisioning level with the UpdateTable API.",
     "output_type": "error",
     "traceback": [
      "\u001b[1;31m---------------------------------------------------------------------------\u001b[0m",
      "\u001b[1;31mProvisionedThroughputExceededException\u001b[0m    Traceback (most recent call last)",
      "\u001b[1;32mc:\\Users\\yc463\\Documents\\JamesLocal\\DS\\Drone\\dsmapv2\\src\\AWS\\(S9) TestDB.ipynb Cell 19\u001b[0m line \u001b[0;36m1\n\u001b[0;32m      <a href='vscode-notebook-cell:/c%3A/Users/yc463/Documents/JamesLocal/DS/Drone/dsmapv2/src/AWS/%28S9%29%20TestDB.ipynb#X45sZmlsZQ%3D%3D?line=6'>7</a>\u001b[0m data \u001b[39m=\u001b[39m response[\u001b[39m'\u001b[39m\u001b[39mItems\u001b[39m\u001b[39m'\u001b[39m]\n\u001b[0;32m      <a href='vscode-notebook-cell:/c%3A/Users/yc463/Documents/JamesLocal/DS/Drone/dsmapv2/src/AWS/%28S9%29%20TestDB.ipynb#X45sZmlsZQ%3D%3D?line=8'>9</a>\u001b[0m \u001b[39mwhile\u001b[39;00m \u001b[39m'\u001b[39m\u001b[39mLastEvaluatedKey\u001b[39m\u001b[39m'\u001b[39m \u001b[39min\u001b[39;00m response:\n\u001b[1;32m---> <a href='vscode-notebook-cell:/c%3A/Users/yc463/Documents/JamesLocal/DS/Drone/dsmapv2/src/AWS/%28S9%29%20TestDB.ipynb#X45sZmlsZQ%3D%3D?line=9'>10</a>\u001b[0m     response \u001b[39m=\u001b[39m table\u001b[39m.\u001b[39;49mscan(ExclusiveStartKey\u001b[39m=\u001b[39;49mresponse[\u001b[39m'\u001b[39;49m\u001b[39mLastEvaluatedKey\u001b[39;49m\u001b[39m'\u001b[39;49m])\n\u001b[0;32m     <a href='vscode-notebook-cell:/c%3A/Users/yc463/Documents/JamesLocal/DS/Drone/dsmapv2/src/AWS/%28S9%29%20TestDB.ipynb#X45sZmlsZQ%3D%3D?line=10'>11</a>\u001b[0m     data\u001b[39m.\u001b[39mextend(response[\u001b[39m'\u001b[39m\u001b[39mItems\u001b[39m\u001b[39m'\u001b[39m])\n",
      "File \u001b[1;32mc:\\anaconda3\\envs\\geo_James\\lib\\site-packages\\boto3\\resources\\factory.py:580\u001b[0m, in \u001b[0;36mResourceFactory._create_action.<locals>.do_action\u001b[1;34m(self, *args, **kwargs)\u001b[0m\n\u001b[0;32m    579\u001b[0m \u001b[39mdef\u001b[39;00m \u001b[39mdo_action\u001b[39m(\u001b[39mself\u001b[39m, \u001b[39m*\u001b[39margs, \u001b[39m*\u001b[39m\u001b[39m*\u001b[39mkwargs):\n\u001b[1;32m--> 580\u001b[0m     response \u001b[39m=\u001b[39m action(\u001b[39mself\u001b[39m, \u001b[39m*\u001b[39margs, \u001b[39m*\u001b[39m\u001b[39m*\u001b[39mkwargs)\n\u001b[0;32m    582\u001b[0m     \u001b[39mif\u001b[39;00m \u001b[39mhasattr\u001b[39m(\u001b[39mself\u001b[39m, \u001b[39m'\u001b[39m\u001b[39mload\u001b[39m\u001b[39m'\u001b[39m):\n\u001b[0;32m    583\u001b[0m         \u001b[39m# Clear cached data. It will be reloaded the next\u001b[39;00m\n\u001b[0;32m    584\u001b[0m         \u001b[39m# time that an attribute is accessed.\u001b[39;00m\n\u001b[0;32m    585\u001b[0m         \u001b[39m# TODO: Make this configurable in the future?\u001b[39;00m\n\u001b[0;32m    586\u001b[0m         \u001b[39mself\u001b[39m\u001b[39m.\u001b[39mmeta\u001b[39m.\u001b[39mdata \u001b[39m=\u001b[39m \u001b[39mNone\u001b[39;00m\n",
      "File \u001b[1;32mc:\\anaconda3\\envs\\geo_James\\lib\\site-packages\\boto3\\resources\\action.py:88\u001b[0m, in \u001b[0;36mServiceAction.__call__\u001b[1;34m(self, parent, *args, **kwargs)\u001b[0m\n\u001b[0;32m     79\u001b[0m params\u001b[39m.\u001b[39mupdate(kwargs)\n\u001b[0;32m     81\u001b[0m logger\u001b[39m.\u001b[39mdebug(\n\u001b[0;32m     82\u001b[0m     \u001b[39m'\u001b[39m\u001b[39mCalling \u001b[39m\u001b[39m%s\u001b[39;00m\u001b[39m:\u001b[39m\u001b[39m%s\u001b[39;00m\u001b[39m with \u001b[39m\u001b[39m%r\u001b[39;00m\u001b[39m'\u001b[39m,\n\u001b[0;32m     83\u001b[0m     parent\u001b[39m.\u001b[39mmeta\u001b[39m.\u001b[39mservice_name,\n\u001b[0;32m     84\u001b[0m     operation_name,\n\u001b[0;32m     85\u001b[0m     params,\n\u001b[0;32m     86\u001b[0m )\n\u001b[1;32m---> 88\u001b[0m response \u001b[39m=\u001b[39m \u001b[39mgetattr\u001b[39m(parent\u001b[39m.\u001b[39mmeta\u001b[39m.\u001b[39mclient, operation_name)(\u001b[39m*\u001b[39margs, \u001b[39m*\u001b[39m\u001b[39m*\u001b[39mparams)\n\u001b[0;32m     90\u001b[0m logger\u001b[39m.\u001b[39mdebug(\u001b[39m'\u001b[39m\u001b[39mResponse: \u001b[39m\u001b[39m%r\u001b[39;00m\u001b[39m'\u001b[39m, response)\n\u001b[0;32m     92\u001b[0m \u001b[39mreturn\u001b[39;00m \u001b[39mself\u001b[39m\u001b[39m.\u001b[39m_response_handler(parent, params, response)\n",
      "File \u001b[1;32mc:\\anaconda3\\envs\\geo_James\\lib\\site-packages\\botocore\\client.py:508\u001b[0m, in \u001b[0;36mClientCreator._create_api_method.<locals>._api_call\u001b[1;34m(self, *args, **kwargs)\u001b[0m\n\u001b[0;32m    504\u001b[0m     \u001b[39mraise\u001b[39;00m \u001b[39mTypeError\u001b[39;00m(\n\u001b[0;32m    505\u001b[0m         \u001b[39mf\u001b[39m\u001b[39m\"\u001b[39m\u001b[39m{\u001b[39;00mpy_operation_name\u001b[39m}\u001b[39;00m\u001b[39m() only accepts keyword arguments.\u001b[39m\u001b[39m\"\u001b[39m\n\u001b[0;32m    506\u001b[0m     )\n\u001b[0;32m    507\u001b[0m \u001b[39m# The \"self\" in this scope is referring to the BaseClient.\u001b[39;00m\n\u001b[1;32m--> 508\u001b[0m \u001b[39mreturn\u001b[39;00m \u001b[39mself\u001b[39;49m\u001b[39m.\u001b[39;49m_make_api_call(operation_name, kwargs)\n",
      "File \u001b[1;32mc:\\anaconda3\\envs\\geo_James\\lib\\site-packages\\botocore\\client.py:915\u001b[0m, in \u001b[0;36mBaseClient._make_api_call\u001b[1;34m(self, operation_name, api_params)\u001b[0m\n\u001b[0;32m    913\u001b[0m     error_code \u001b[39m=\u001b[39m parsed_response\u001b[39m.\u001b[39mget(\u001b[39m\"\u001b[39m\u001b[39mError\u001b[39m\u001b[39m\"\u001b[39m, {})\u001b[39m.\u001b[39mget(\u001b[39m\"\u001b[39m\u001b[39mCode\u001b[39m\u001b[39m\"\u001b[39m)\n\u001b[0;32m    914\u001b[0m     error_class \u001b[39m=\u001b[39m \u001b[39mself\u001b[39m\u001b[39m.\u001b[39mexceptions\u001b[39m.\u001b[39mfrom_code(error_code)\n\u001b[1;32m--> 915\u001b[0m     \u001b[39mraise\u001b[39;00m error_class(parsed_response, operation_name)\n\u001b[0;32m    916\u001b[0m \u001b[39melse\u001b[39;00m:\n\u001b[0;32m    917\u001b[0m     \u001b[39mreturn\u001b[39;00m parsed_response\n",
      "\u001b[1;31mProvisionedThroughputExceededException\u001b[0m: An error occurred (ProvisionedThroughputExceededException) when calling the Scan operation (reached max retries: 9): The level of configured provisioned throughput for the table was exceeded. Consider increasing your provisioning level with the UpdateTable API."
     ]
    }
   ],
   "source": [
    "from boto3.dynamodb.conditions import Key, Attr\n",
    "from botocore.exceptions import ClientError\n",
    "\n",
    "\n",
    "\n",
    "response = table.scan()\n",
    "data = response['Items']\n",
    "\n",
    "while 'LastEvaluatedKey' in response:\n",
    "    response = table.scan(ExclusiveStartKey=response['LastEvaluatedKey'])\n",
    "    data.extend(response['Items'])"
   ]
  },
  {
   "cell_type": "code",
   "execution_count": 31,
   "metadata": {},
   "outputs": [
    {
     "data": {
      "text/plain": [
       "4"
      ]
     },
     "execution_count": 31,
     "metadata": {},
     "output_type": "execute_result"
    }
   ],
   "source": [
    "len(response)"
   ]
  },
  {
   "cell_type": "code",
   "execution_count": 27,
   "metadata": {},
   "outputs": [],
   "source": [
    "from boto3.dynamodb.conditions import Key, Attr\n",
    "from botocore.exceptions import ClientError\n",
    "\n",
    "courseid = \"MGC005\"\n",
    "date = \"20230906\"\n",
    "\n",
    "area = \"거창 클럽디 EAST 1\"\n",
    "\n",
    "desc = \"티,켄터키,KB블루그래스_0\"\n",
    "\n",
    "response = table.query(\n",
    "    KeyConditionExpression=Key('metadata').eq(courseid+date+area+desc),    \n",
    ")['Items']\n",
    "\n",
    "while 'LastEvaluatedKey' in response:\n",
    "    response_ = table.scan(ExclusiveStartKey=response_['LastEvaluatedKey'])\n",
    "    response.extend(response_['Items'])"
   ]
  },
  {
   "cell_type": "code",
   "execution_count": 28,
   "metadata": {},
   "outputs": [
    {
     "data": {
      "text/plain": [
       "426"
      ]
     },
     "execution_count": 28,
     "metadata": {},
     "output_type": "execute_result"
    }
   ],
   "source": [
    "len(response)"
   ]
  },
  {
   "cell_type": "code",
   "execution_count": null,
   "metadata": {},
   "outputs": [],
   "source": []
  }
 ],
 "metadata": {
  "kernelspec": {
   "display_name": "Python 3.9.2 ('geo_James')",
   "language": "python",
   "name": "python3"
  },
  "language_info": {
   "codemirror_mode": {
    "name": "ipython",
    "version": 3
   },
   "file_extension": ".py",
   "mimetype": "text/x-python",
   "name": "python",
   "nbconvert_exporter": "python",
   "pygments_lexer": "ipython3",
   "version": "3.9.7"
  },
  "orig_nbformat": 4,
  "vscode": {
   "interpreter": {
    "hash": "af734be8ad55227f26227a3bb273225e8c732a9f6283c6f58fcb510615c38890"
   }
  }
 },
 "nbformat": 4,
 "nbformat_minor": 2
}
