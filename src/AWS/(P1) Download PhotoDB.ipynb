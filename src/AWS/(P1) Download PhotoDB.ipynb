{
 "cells": [
  {
   "cell_type": "code",
   "execution_count": 7,
   "metadata": {},
   "outputs": [],
   "source": [
    "import pandas as pd\n",
    "import re\n",
    "import os\n",
    "import numpy as np\n",
    "import glob\n",
    "from datetime import datetime\n",
    "import boto3\n",
    "import json"
   ]
  },
  {
   "cell_type": "markdown",
   "metadata": {},
   "source": []
  },
  {
   "cell_type": "code",
   "execution_count": 8,
   "metadata": {},
   "outputs": [],
   "source": [
    "Target_year = 2023\n",
    "\n",
    "pd.set_option('display.max_rows', 20)\n",
    "pd.options.display.float_format = '{:,.1f}'.format\n",
    "\n",
    "User_Name = 'dsmapadmin'\n",
    "\n",
    "\n",
    "AWS_folder = \"./\"\n",
    "\n",
    "src_folder = os.path.join(AWS_folder,'Downloaded',User_Name)\n",
    "out_folder = os.path.join(AWS_folder,'ToUpload',User_Name)"
   ]
  },
  {
   "cell_type": "code",
   "execution_count": 9,
   "metadata": {},
   "outputs": [],
   "source": [
    "# Create Out folder if not exists\n",
    "if not os.path.exists(out_folder):\n",
    "    os.makedirs(out_folder)"
   ]
  },
  {
   "cell_type": "code",
   "execution_count": 10,
   "metadata": {},
   "outputs": [],
   "source": [
    "s3 = boto3.client('s3')\n",
    "content_object = s3.get_object(Bucket = 'dsmap-photo', Key = 'public/'+User_Name + '/photo.json')\n",
    "file_content = content_object['Body'].read().decode('utf-8')\n",
    "json_content = json.loads(file_content)"
   ]
  },
  {
   "cell_type": "code",
   "execution_count": 11,
   "metadata": {},
   "outputs": [
    {
     "data": {
      "text/plain": [
       "{'id': '2023090702382512863640600003566782586111803580000000',\n",
       " 'name': '2023090702382512863640600003566782586111803580000000.jpg',\n",
       " 'imgsrc': 'dsmapadmin/rgb/2023090702382512863640600003566782586111803580000000.jpg',\n",
       " 'thumbsrc': 'dsmapadmin/thumb/2023090702382512863640600003566782586111803580000000.jpg',\n",
       " 'ndvisrc': 'dsmapadmin/ndvi2023090702382512863640600003566782586111803580000000.jpg',\n",
       " 'gps': {'longitude': 128.636406,\n",
       "  'latitude': 35.66782586111111,\n",
       "  'altitude': 180.358},\n",
       " 'date': '20230907 023825',\n",
       " 'info': {'type': 'TBD',\n",
       "  'typeId': 0,\n",
       "  'label': {'level1': '', 'level2': '', 'level3': '', 'TurfType': ''},\n",
       "  'desc': '',\n",
       "  'value': 0,\n",
       "  'ndvi_avg': 0,\n",
       "  'temp_avg': 0},\n",
       " 'location': {'Client': '그레이스CC', 'Course': 'MOUNTAIN', 'Hole': 4},\n",
       " 'by': 'dsmapadmin'}"
      ]
     },
     "execution_count": 11,
     "metadata": {},
     "output_type": "execute_result"
    }
   ],
   "source": [
    "json_content[0]"
   ]
  },
  {
   "cell_type": "code",
   "execution_count": 12,
   "metadata": {},
   "outputs": [],
   "source": [
    "file_to_save = os.path.join(src_folder ,'photo.json')\n",
    "with open(file_to_save, \"w\", encoding=\"utf-8\") as file:\n",
    "  file.write(json.dumps(json_content, ensure_ascii=False))"
   ]
  },
  {
   "cell_type": "code",
   "execution_count": null,
   "metadata": {},
   "outputs": [],
   "source": []
  }
 ],
 "metadata": {
  "kernelspec": {
   "display_name": "Python 3.9.2 ('geo_James')",
   "language": "python",
   "name": "python3"
  },
  "language_info": {
   "codemirror_mode": {
    "name": "ipython",
    "version": 3
   },
   "file_extension": ".py",
   "mimetype": "text/x-python",
   "name": "python",
   "nbconvert_exporter": "python",
   "pygments_lexer": "ipython3",
   "version": "3.9.18"
  },
  "orig_nbformat": 4,
  "vscode": {
   "interpreter": {
    "hash": "af734be8ad55227f26227a3bb273225e8c732a9f6283c6f58fcb510615c38890"
   }
  }
 },
 "nbformat": 4,
 "nbformat_minor": 2
}
