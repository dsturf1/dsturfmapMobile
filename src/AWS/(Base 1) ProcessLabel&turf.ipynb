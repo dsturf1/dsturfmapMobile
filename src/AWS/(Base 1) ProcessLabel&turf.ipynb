{
 "cells": [
  {
   "cell_type": "code",
   "execution_count": 1,
   "metadata": {},
   "outputs": [],
   "source": [
    "import pandas as pd\n",
    "import re\n",
    "import os\n",
    "import numpy as np\n",
    "import glob\n",
    "from datetime import datetime\n",
    "import geopandas as gpd\n",
    "import json\n",
    "from shapely.geometry import shape, GeometryCollection\n",
    "from rasterio.plot import show\n",
    "import matplotlib.pyplot as plt\n",
    "from mpl_toolkits.mplot3d import Axes3D\n",
    "from matplotlib import cm\n",
    "from matplotlib import colors\n",
    "from utils import FeatureExtraction, feature_matching, decimal_coords\n",
    "from exif import Image as exifimg\n",
    "from PIL import Image\n",
    "\n",
    "import shutil\n",
    "import rasterio\n",
    "import cv2\n",
    "%matplotlib inline"
   ]
  },
  {
   "cell_type": "code",
   "execution_count": 2,
   "metadata": {},
   "outputs": [],
   "source": [
    "# 가능한 font list 확인\n",
    "import matplotlib.font_manager as fm\n",
    "f = [f.name for f in fm.fontManager.ttflist]\n",
    "# print(f)\n",
    "\n",
    "plt.rc('font', family='Malgun Gothic')"
   ]
  },
  {
   "cell_type": "code",
   "execution_count": 3,
   "metadata": {},
   "outputs": [],
   "source": [
    "Target_year = 2023\n",
    "\n",
    "pd.set_option('display.max_rows', 20)\n",
    "pd.options.display.float_format = '{:,.1f}'.format\n",
    "\n",
    "User_Name = 'dsadmin'\n",
    "AWS_folder = os.getcwd()\n",
    "\n",
    "src_folder = os.path.join(AWS_folder,'ToUpload', 'Label')\n"
   ]
  },
  {
   "cell_type": "code",
   "execution_count": 4,
   "metadata": {},
   "outputs": [
    {
     "data": {
      "text/plain": [
       "'c:\\\\Users\\\\yc463\\\\Documents\\\\JamesLocal\\\\DS\\\\Drone\\\\dsmapv2\\\\src\\\\AWS'"
      ]
     },
     "execution_count": 4,
     "metadata": {},
     "output_type": "execute_result"
    }
   ],
   "source": [
    "os.getcwd()"
   ]
  },
  {
   "cell_type": "code",
   "execution_count": 5,
   "metadata": {},
   "outputs": [
    {
     "data": {
      "text/plain": [
       "['c:\\\\Users\\\\yc463\\\\Documents\\\\JamesLocal\\\\DS\\\\Drone\\\\dsmapv2\\\\src\\\\AWS\\\\ToUpload\\\\Label\\\\label_info.xlsx',\n",
       " 'c:\\\\Users\\\\yc463\\\\Documents\\\\JamesLocal\\\\DS\\\\Drone\\\\dsmapv2\\\\src\\\\AWS\\\\ToUpload\\\\Label\\\\turf_type.xlsx']"
      ]
     },
     "execution_count": 5,
     "metadata": {},
     "output_type": "execute_result"
    }
   ],
   "source": [
    "target_files = glob.glob(os.path.join(src_folder,'**/*.xlsx'), recursive=True)\n",
    "target_files"
   ]
  },
  {
   "cell_type": "code",
   "execution_count": 14,
   "metadata": {},
   "outputs": [
    {
     "data": {
      "text/plain": [
       "['simplified']"
      ]
     },
     "execution_count": 14,
     "metadata": {},
     "output_type": "execute_result"
    }
   ],
   "source": [
    "file_ = [x for x in target_files if 'label' in x][0]\n",
    "pd.ExcelFile(file_ ).sheet_names"
   ]
  },
  {
   "cell_type": "code",
   "execution_count": 15,
   "metadata": {},
   "outputs": [
    {
     "data": {
      "text/html": [
       "<div>\n",
       "<style scoped>\n",
       "    .dataframe tbody tr th:only-of-type {\n",
       "        vertical-align: middle;\n",
       "    }\n",
       "\n",
       "    .dataframe tbody tr th {\n",
       "        vertical-align: top;\n",
       "    }\n",
       "\n",
       "    .dataframe thead th {\n",
       "        text-align: right;\n",
       "    }\n",
       "</style>\n",
       "<table border=\"1\" class=\"dataframe\">\n",
       "  <thead>\n",
       "    <tr style=\"text-align: right;\">\n",
       "      <th></th>\n",
       "      <th>TypeId</th>\n",
       "      <th>L1</th>\n",
       "      <th>L2</th>\n",
       "    </tr>\n",
       "  </thead>\n",
       "  <tbody>\n",
       "    <tr>\n",
       "      <th>0</th>\n",
       "      <td>101</td>\n",
       "      <td>건강한잔디</td>\n",
       "      <td>일반</td>\n",
       "    </tr>\n",
       "    <tr>\n",
       "      <th>1</th>\n",
       "      <td>102</td>\n",
       "      <td>건강한잔디</td>\n",
       "      <td>배토</td>\n",
       "    </tr>\n",
       "    <tr>\n",
       "      <th>2</th>\n",
       "      <td>103</td>\n",
       "      <td>건강한잔디</td>\n",
       "      <td>통기 (유공)</td>\n",
       "    </tr>\n",
       "    <tr>\n",
       "      <th>3</th>\n",
       "      <td>104</td>\n",
       "      <td>건강한잔디</td>\n",
       "      <td>통기 (무공)</td>\n",
       "    </tr>\n",
       "    <tr>\n",
       "      <th>4</th>\n",
       "      <td>105</td>\n",
       "      <td>건강한잔디</td>\n",
       "      <td>시비 (알비)</td>\n",
       "    </tr>\n",
       "  </tbody>\n",
       "</table>\n",
       "</div>"
      ],
      "text/plain": [
       "   TypeId     L1       L2\n",
       "0     101  건강한잔디       일반\n",
       "1     102  건강한잔디       배토\n",
       "2     103  건강한잔디  통기 (유공)\n",
       "3     104  건강한잔디  통기 (무공)\n",
       "4     105  건강한잔디  시비 (알비)"
      ]
     },
     "execution_count": 15,
     "metadata": {},
     "output_type": "execute_result"
    }
   ],
   "source": [
    "label_df = pd.read_excel(pd.ExcelFile(file_ ), pd.ExcelFile(file_ ).sheet_names[0])\n",
    "label_df.head(5)"
   ]
  },
  {
   "cell_type": "code",
   "execution_count": 9,
   "metadata": {},
   "outputs": [],
   "source": [
    "file_to_save = os.path.join(os.path.split(file_)[0],os.path.split(file_)[1].replace('.xlsx','.json'))\n",
    "with open(file_to_save, \"w\", encoding=\"utf-8\") as file:\n",
    "    file.write(json.dumps(json.loads(label_df.fillna(\"\").to_json(orient=\"records\", force_ascii=False)), ensure_ascii=False))"
   ]
  },
  {
   "cell_type": "code",
   "execution_count": 16,
   "metadata": {},
   "outputs": [
    {
     "data": {
      "text/plain": [
       "['simplified']"
      ]
     },
     "execution_count": 16,
     "metadata": {},
     "output_type": "execute_result"
    }
   ],
   "source": [
    "file_ = [x for x in target_files if 'turf' in x][0]\n",
    "pd.ExcelFile(file_ ).sheet_names"
   ]
  },
  {
   "cell_type": "code",
   "execution_count": 17,
   "metadata": {},
   "outputs": [
    {
     "data": {
      "text/html": [
       "<div>\n",
       "<style scoped>\n",
       "    .dataframe tbody tr th:only-of-type {\n",
       "        vertical-align: middle;\n",
       "    }\n",
       "\n",
       "    .dataframe tbody tr th {\n",
       "        vertical-align: top;\n",
       "    }\n",
       "\n",
       "    .dataframe thead th {\n",
       "        text-align: right;\n",
       "    }\n",
       "</style>\n",
       "<table border=\"1\" class=\"dataframe\">\n",
       "  <thead>\n",
       "    <tr style=\"text-align: right;\">\n",
       "      <th></th>\n",
       "      <th>TypeId</th>\n",
       "      <th>turf_type</th>\n",
       "    </tr>\n",
       "  </thead>\n",
       "  <tbody>\n",
       "    <tr>\n",
       "      <th>0</th>\n",
       "      <td>1</td>\n",
       "      <td>한국잔디</td>\n",
       "    </tr>\n",
       "    <tr>\n",
       "      <th>1</th>\n",
       "      <td>2</td>\n",
       "      <td>벤트그래스</td>\n",
       "    </tr>\n",
       "    <tr>\n",
       "      <th>2</th>\n",
       "      <td>3</td>\n",
       "      <td>켄터키블루그래스</td>\n",
       "    </tr>\n",
       "    <tr>\n",
       "      <th>3</th>\n",
       "      <td>4</td>\n",
       "      <td>라이그래스</td>\n",
       "    </tr>\n",
       "    <tr>\n",
       "      <th>4</th>\n",
       "      <td>5</td>\n",
       "      <td>버뮤다그래스</td>\n",
       "    </tr>\n",
       "  </tbody>\n",
       "</table>\n",
       "</div>"
      ],
      "text/plain": [
       "   TypeId turf_type\n",
       "0       1      한국잔디\n",
       "1       2     벤트그래스\n",
       "2       3  켄터키블루그래스\n",
       "3       4     라이그래스\n",
       "4       5    버뮤다그래스"
      ]
     },
     "execution_count": 17,
     "metadata": {},
     "output_type": "execute_result"
    }
   ],
   "source": [
    "label_df = pd.read_excel(pd.ExcelFile(file_ ), pd.ExcelFile(file_ ).sheet_names[0])\n",
    "label_df.head(5)"
   ]
  },
  {
   "cell_type": "code",
   "execution_count": 18,
   "metadata": {},
   "outputs": [],
   "source": [
    "file_to_save = os.path.join(os.path.split(file_)[0],os.path.split(file_)[1].replace('.xlsx','.json'))\n",
    "with open(file_to_save, \"w\", encoding=\"utf-8\") as file:\n",
    "    file.write(json.dumps(json.loads(label_df.fillna(\"\").to_json(orient=\"records\", force_ascii=False)), ensure_ascii=False))"
   ]
  },
  {
   "cell_type": "code",
   "execution_count": null,
   "metadata": {},
   "outputs": [],
   "source": []
  }
 ],
 "metadata": {
  "kernelspec": {
   "display_name": "Python 3.9.2 ('geo_James')",
   "language": "python",
   "name": "python3"
  },
  "language_info": {
   "codemirror_mode": {
    "name": "ipython",
    "version": 3
   },
   "file_extension": ".py",
   "mimetype": "text/x-python",
   "name": "python",
   "nbconvert_exporter": "python",
   "pygments_lexer": "ipython3",
   "version": "3.9.2"
  },
  "orig_nbformat": 4,
  "vscode": {
   "interpreter": {
    "hash": "af734be8ad55227f26227a3bb273225e8c732a9f6283c6f58fcb510615c38890"
   }
  }
 },
 "nbformat": 4,
 "nbformat_minor": 2
}
