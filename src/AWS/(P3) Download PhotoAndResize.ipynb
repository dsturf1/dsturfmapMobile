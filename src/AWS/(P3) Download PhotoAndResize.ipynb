{
 "cells": [
  {
   "cell_type": "code",
   "execution_count": 1,
   "metadata": {},
   "outputs": [],
   "source": [
    "import pandas as pd\n",
    "import re\n",
    "import os\n",
    "import numpy as np\n",
    "import glob\n",
    "from datetime import datetime\n",
    "import boto3\n",
    "import json"
   ]
  },
  {
   "cell_type": "markdown",
   "metadata": {},
   "source": []
  },
  {
   "cell_type": "code",
   "execution_count": 2,
   "metadata": {},
   "outputs": [],
   "source": [
    "Target_year = 2023\n",
    "\n",
    "pd.set_option('display.max_rows', 20)\n",
    "pd.options.display.float_format = '{:,.1f}'.format\n",
    "\n",
    "User_Name = 'dsmapadmin'\n",
    "\n",
    "\n",
    "AWS_folder = \"./\"\n",
    "\n",
    "src_folder = os.path.join(AWS_folder,'Downloaded',User_Name)\n",
    "out_folder = os.path.join(AWS_folder,'ToUpload',User_Name)"
   ]
  },
  {
   "cell_type": "code",
   "execution_count": 3,
   "metadata": {},
   "outputs": [],
   "source": [
    "# Create Out folder if not exists\n",
    "if not os.path.exists(out_folder):\n",
    "    os.makedirs(out_folder)"
   ]
  },
  {
   "cell_type": "code",
   "execution_count": 4,
   "metadata": {},
   "outputs": [],
   "source": [
    "# s3 = boto3.client('s3')\n",
    "# content_object = s3.get_object(Bucket = 'dsmap-photo', Key = 'public/'+User_Name + '/photo.json')\n",
    "# file_content = content_object['Body'].read().decode('utf-8')\n",
    "# json_content = json.loads(file_content)"
   ]
  },
  {
   "cell_type": "code",
   "execution_count": 10,
   "metadata": {},
   "outputs": [
    {
     "name": "stdout",
     "output_type": "stream",
     "text": [
      "file_name: public/MGC002/rgb/2023090702381912863642494443566783027781808340000000.jpg, size: 7782400\n",
      "file_name: public/MGC002/rgb/2023090702382112863641405563566782905561807940000000.jpg, size: 10514432\n",
      "file_name: public/MGC002/rgb/2023090702382512863640600003566782586111803580000000.jpg, size: 10620928\n",
      "file_name: public/MGC002/rgb/2023090702382712863639888893566782794441802630000000.jpg, size: 10608640\n",
      "file_name: public/MGC002/rgb/2023090702403112863643708333566785025001804010000000.jpg, size: 8564736\n",
      "file_name: public/MGC002/rgb/2023090702553712863655372223566566927782147010000000.jpg, size: 10657792\n",
      "file_name: public/MGC002/rgb/2023090702554712863654738893566567030562147080000000.jpg, size: 10891264\n",
      "file_name: public/MGC002/rgb/2023090706061612864475211113566296427781570130000000.jpg, size: 11415552\n",
      "file_name: public/MGC002/rgb/2023090706061812864474977783566296377781569800000000.jpg, size: 11513856\n",
      "file_name: public/MGC002/rgb/2023090706064012864469938893566302347221570790000000.jpg, size: 11628544\n",
      "file_name: public/MGC002/rgb/2023091906120812863894127783566805666671987330000000.jpg, size: 11042816\n",
      "file_name: public/MGC002/rgb/2023091906142212863840980563566827041672032090000000.jpg, size: 9211904\n",
      "file_name: public/MGC002/rgb/2023102802344312863971494443566712319442185110000000.jpg, size: 7286784\n",
      "file_name: public/MGC002/rgb/2023102903032012864525683333565802944441598660000000.jpg, size: 7589888\n",
      "file_name: public/MGC002/rgb/2023102903190812864375600003566158247221480700000000.jpg, size: 11694080\n",
      "file_name: public/MGC002/rgb/2023102903233412864372083333566171061111573900000000.jpg, size: 10256384\n",
      "file_name: public/MGC002/rgb/2023112304563412864049505563566425963891836600000000.jpg, size: 10330112\n",
      "file_name: public/MGC002/rgb/20231129003649127031670300037491966800000000000000.jpg, size: 311307\n",
      "file_name: public/MGC002/rgb/20231129224814127031699100037491957400000000000000.jpg, size: 1101971\n",
      "file_name: public/MGC002/rgb/20231130011330127031686100037491951600000000000000.jpg, size: 311307\n"
     ]
    }
   ],
   "source": [
    "s3_client = boto3.client(\"s3\")\n",
    "\n",
    "response = s3_client.list_objects_v2(Bucket='dsmap-photo',Prefix=\"public/MGC002/rgb\")\n",
    "files = response.get(\"Contents\")\n",
    "for file in files:\n",
    "    print(f\"file_name: {file['Key']}, size: {file['Size']}\")"
   ]
  },
  {
   "cell_type": "code",
   "execution_count": 13,
   "metadata": {},
   "outputs": [
    {
     "data": {
      "text/plain": [
       "'public/MGC002/rgb/2023090702381912863642494443566783027781808340000000.jpg'"
      ]
     },
     "execution_count": 13,
     "metadata": {},
     "output_type": "execute_result"
    }
   ],
   "source": [
    "file['Key']"
   ]
  },
  {
   "cell_type": "code",
   "execution_count": 28,
   "metadata": {},
   "outputs": [
    {
     "name": "stdout",
     "output_type": "stream",
     "text": [
      "file_name: public/MGC002/rgb/2023090702381912863642494443566783027781808340000000.jpg, size: 7782400\n",
      "1320 989\n",
      "1320 989\n",
      "file_name: public/MGC002/rgb/2023090702382112863641405563566782905561807940000000.jpg, size: 10514432\n",
      "5280 3956\n",
      "1320 989\n",
      "file_name: public/MGC002/rgb/2023090702382512863640600003566782586111803580000000.jpg, size: 10620928\n",
      "5280 3956\n",
      "1320 989\n",
      "file_name: public/MGC002/rgb/2023090702382712863639888893566782794441802630000000.jpg, size: 10608640\n",
      "5280 3956\n",
      "1320 989\n",
      "file_name: public/MGC002/rgb/2023090702403112863643708333566785025001804010000000.jpg, size: 8564736\n",
      "5280 3956\n",
      "1320 989\n",
      "file_name: public/MGC002/rgb/2023090702553712863655372223566566927782147010000000.jpg, size: 10657792\n",
      "5280 3956\n",
      "1320 989\n",
      "file_name: public/MGC002/rgb/2023090702554712863654738893566567030562147080000000.jpg, size: 10891264\n",
      "5280 3956\n",
      "1320 989\n",
      "file_name: public/MGC002/rgb/2023090706061612864475211113566296427781570130000000.jpg, size: 11415552\n",
      "5280 3956\n",
      "1320 989\n",
      "file_name: public/MGC002/rgb/2023090706061812864474977783566296377781569800000000.jpg, size: 11513856\n",
      "5280 3956\n",
      "1320 989\n",
      "file_name: public/MGC002/rgb/2023090706064012864469938893566302347221570790000000.jpg, size: 11628544\n",
      "5280 3956\n",
      "1320 989\n",
      "file_name: public/MGC002/rgb/2023091906120812863894127783566805666671987330000000.jpg, size: 11042816\n",
      "5280 3956\n",
      "1320 989\n",
      "file_name: public/MGC002/rgb/2023091906142212863840980563566827041672032090000000.jpg, size: 9211904\n",
      "5280 3956\n",
      "1320 989\n",
      "file_name: public/MGC002/rgb/2023102802344312863971494443566712319442185110000000.jpg, size: 7286784\n",
      "5280 3956\n",
      "1320 989\n",
      "file_name: public/MGC002/rgb/2023102903032012864525683333565802944441598660000000.jpg, size: 7589888\n",
      "5280 3956\n",
      "1320 989\n",
      "file_name: public/MGC002/rgb/2023102903190812864375600003566158247221480700000000.jpg, size: 11694080\n",
      "5280 3956\n",
      "1320 989\n",
      "file_name: public/MGC002/rgb/2023102903233412864372083333566171061111573900000000.jpg, size: 10256384\n",
      "5280 3956\n",
      "1320 989\n",
      "file_name: public/MGC002/rgb/2023112304563412864049505563566425963891836600000000.jpg, size: 10330112\n",
      "5280 3956\n",
      "1320 989\n",
      "file_name: public/MGC002/rgb/20231129003649127031670300037491966800000000000000.jpg, size: 311307\n",
      "1278 719\n",
      "1320 989\n",
      "file_name: public/MGC002/rgb/20231129224814127031699100037491957400000000000000.jpg, size: 1101971\n",
      "901 1600\n",
      "1320 989\n",
      "file_name: public/MGC002/rgb/20231130011330127031686100037491951600000000000000.jpg, size: 311307\n",
      "1278 719\n",
      "1320 989\n"
     ]
    }
   ],
   "source": [
    "from PIL import Image\n",
    "from io import BytesIO\n",
    "\n",
    "bucket = 'dsmap-photo'\n",
    "\n",
    "s3 = boto3.client(\"s3\")\n",
    "\n",
    "for file in files:\n",
    "  print(f\"file_name: {file['Key']}, size: {file['Size']}\")\n",
    "  new_obj = s3.get_object(Bucket=bucket, Key=file['Key'])\n",
    "  image_dl = new_obj['Body'].read()\n",
    "  image = Image.open(BytesIO(image_dl))\n",
    "\n",
    "  print(image.width, image.height)\n",
    "\n",
    "  image = image.resize((1320,989))\n",
    "  print(image.width, image.height)\n",
    "\n",
    "  in_mem_file = BytesIO()\n",
    "  image.save(in_mem_file, format='jpeg')\n",
    "  in_mem_file.seek(0)\n",
    "\n",
    "  # Upload image to s3\n",
    "  s3.upload_fileobj(\n",
    "      in_mem_file, # This is what i am trying to upload\n",
    "      bucket,\n",
    "      file['Key']\n",
    "  )"
   ]
  },
  {
   "cell_type": "code",
   "execution_count": 24,
   "metadata": {},
   "outputs": [
    {
     "name": "stdout",
     "output_type": "stream",
     "text": [
      "None\n"
     ]
    }
   ],
   "source": [
    "print(image.format)"
   ]
  },
  {
   "cell_type": "code",
   "execution_count": 12,
   "metadata": {},
   "outputs": [],
   "source": [
    "file_to_save = os.path.join(src_folder ,'photo.json')\n",
    "with open(file_to_save, \"w\", encoding=\"utf-8\") as file:\n",
    "  file.write(json.dumps(json_content, ensure_ascii=False))"
   ]
  },
  {
   "cell_type": "code",
   "execution_count": null,
   "metadata": {},
   "outputs": [],
   "source": []
  }
 ],
 "metadata": {
  "kernelspec": {
   "display_name": "Python 3.9.2 ('geo_James')",
   "language": "python",
   "name": "python3"
  },
  "language_info": {
   "codemirror_mode": {
    "name": "ipython",
    "version": 3
   },
   "file_extension": ".py",
   "mimetype": "text/x-python",
   "name": "python",
   "nbconvert_exporter": "python",
   "pygments_lexer": "ipython3",
   "version": "3.9.18"
  },
  "orig_nbformat": 4,
  "vscode": {
   "interpreter": {
    "hash": "af734be8ad55227f26227a3bb273225e8c732a9f6283c6f58fcb510615c38890"
   }
  }
 },
 "nbformat": 4,
 "nbformat_minor": 2
}
