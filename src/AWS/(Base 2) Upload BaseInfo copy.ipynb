{
 "cells": [
  {
   "cell_type": "code",
   "execution_count": 1,
   "metadata": {},
   "outputs": [],
   "source": [
    "import pandas as pd\n",
    "import re\n",
    "import os\n",
    "import numpy as np\n",
    "import glob\n",
    "from datetime import datetime\n",
    "import boto3\n",
    "import json"
   ]
  },
  {
   "cell_type": "code",
   "execution_count": 3,
   "metadata": {},
   "outputs": [],
   "source": [
    "Target_year = 2023\n",
    "\n",
    "pd.set_option('display.max_rows', 20)\n",
    "pd.options.display.float_format = '{:,.1f}'.format\n",
    "\n",
    "User_Name = 'dsadmin'\n",
    "\n",
    "\n",
    "AWS_folder = \"./\"\n",
    "\n",
    "src_folder = os.path.join(AWS_folder,'Downloaded',User_Name)\n",
    "out_folder = os.path.join(AWS_folder,'ToUpload',User_Name)"
   ]
  },
  {
   "cell_type": "code",
   "execution_count": 8,
   "metadata": {},
   "outputs": [
    {
     "data": {
      "text/plain": [
       "['./ToUpload\\\\dsadmin\\\\area_def.json',\n",
       " './ToUpload\\\\dsadmin\\\\course_info.json',\n",
       " './ToUpload\\\\dsadmin\\\\label_info.json',\n",
       " './ToUpload\\\\dsadmin\\\\turf_type.json']"
      ]
     },
     "execution_count": 8,
     "metadata": {},
     "output_type": "execute_result"
    }
   ],
   "source": [
    "files = glob.glob(os.path.join(out_folder,'*.json'))\n",
    "target_files = [ x for x in files if ('~$' not in x) ]\n",
    "target_files"
   ]
  },
  {
   "cell_type": "markdown",
   "metadata": {},
   "source": [
    "각 화일을 base.json으로 통합, 그후 가가 화일과 통합화일을 Upload"
   ]
  },
  {
   "cell_type": "code",
   "execution_count": 9,
   "metadata": {},
   "outputs": [
    {
     "data": {
      "text/plain": [
       "{'ResponseMetadata': {'RequestId': 'G3X3J8GZR4FFKARJ',\n",
       "  'HostId': 'MhqOoB5imf38EXkGgT+Od5AetgPUEpxbIPuEtgXatMi14BYO0aOtLi45+uy5mhKV5Htf/oyBuTg=',\n",
       "  'HTTPStatusCode': 200,\n",
       "  'HTTPHeaders': {'x-amz-id-2': 'MhqOoB5imf38EXkGgT+Od5AetgPUEpxbIPuEtgXatMi14BYO0aOtLi45+uy5mhKV5Htf/oyBuTg=',\n",
       "   'x-amz-request-id': 'G3X3J8GZR4FFKARJ',\n",
       "   'date': 'Thu, 21 Sep 2023 12:31:16 GMT',\n",
       "   'x-amz-server-side-encryption': 'AES256',\n",
       "   'etag': '\"9d8890c8ce5abb481d17c4bc1545787f\"',\n",
       "   'server': 'AmazonS3',\n",
       "   'content-length': '0'},\n",
       "  'RetryAttempts': 0},\n",
       " 'ETag': '\"9d8890c8ce5abb481d17c4bc1545787f\"',\n",
       " 'ServerSideEncryption': 'AES256'}"
      ]
     },
     "execution_count": 9,
     "metadata": {},
     "output_type": "execute_result"
    }
   ],
   "source": [
    "Total_json = {}\n",
    "\n",
    "s3 = boto3.client('s3')\n",
    "\n",
    "for _file in target_files:\n",
    "  f_ = os.path.splitext(os.path.basename(_file))[0]\n",
    "  json_content_ = json.load(open(_file, encoding=\"utf8\"))\n",
    "  Total_json[f_] = json_content_\n",
    "  s3.put_object(Body=json.dumps(json_content_).encode('utf-8'),Bucket='dsmapdata',Key='baseinfo/{}.json'.format(f_))\n",
    "  \n",
    "s3.put_object(\n",
    "  Body=json.dumps(Total_json).encode('utf-8'),\n",
    "  Bucket='dsmapdata',\n",
    "  Key=User_Name + '/base.json'\n",
    "  )"
   ]
  },
  {
   "cell_type": "code",
   "execution_count": 10,
   "metadata": {},
   "outputs": [
    {
     "data": {
      "text/plain": [
       "dict_keys(['area_def', 'course_info', 'label_info', 'turf_type'])"
      ]
     },
     "execution_count": 10,
     "metadata": {},
     "output_type": "execute_result"
    }
   ],
   "source": [
    "Total_json.keys()"
   ]
  },
  {
   "cell_type": "code",
   "execution_count": 11,
   "metadata": {},
   "outputs": [
    {
     "data": {
      "text/plain": [
       "[{'TypeId': 110, 'L1': '건강한 잔디', 'L2': '일반'},\n",
       " {'TypeId': 210, 'L1': '물리 피해', 'L2': '볼마크'},\n",
       " {'TypeId': 220, 'L1': '물리 피해', 'L2': '디봇'},\n",
       " {'TypeId': 230, 'L1': '물리 피해', 'L2': '장비 피해'},\n",
       " {'TypeId': 240, 'L1': '물리 피해', 'L2': '기타 물리'},\n",
       " {'TypeId': 310, 'L1': '충해 ', 'L2': '나방류'},\n",
       " {'TypeId': 320, 'L1': '충해 ', 'L2': '굼벵이류'},\n",
       " {'TypeId': 330, 'L1': '충해 ', 'L2': '응애류'},\n",
       " {'TypeId': 340, 'L1': '충해 ', 'L2': '기타 충해'},\n",
       " {'TypeId': 410, 'L1': '병해', 'L2': '엽고성'},\n",
       " {'TypeId': 420, 'L1': '병해', 'L2': '패취'},\n",
       " {'TypeId': 430, 'L1': '병해', 'L2': '페어리링'},\n",
       " {'TypeId': 440, 'L1': '병해', 'L2': '기타 병해'},\n",
       " {'TypeId': 510, 'L1': '잡초', 'L2': '화본과'},\n",
       " {'TypeId': 520, 'L1': '잡초', 'L2': '사초과'},\n",
       " {'TypeId': 530, 'L1': '잡초', 'L2': '광엽'},\n",
       " {'TypeId': 540, 'L1': '잡초', 'L2': '이끼'},\n",
       " {'TypeId': 0, 'L1': 'TBD', 'L2': 'TBD'}]"
      ]
     },
     "execution_count": 11,
     "metadata": {},
     "output_type": "execute_result"
    }
   ],
   "source": [
    "Total_json['label_info']"
   ]
  },
  {
   "cell_type": "code",
   "execution_count": null,
   "metadata": {},
   "outputs": [],
   "source": []
  }
 ],
 "metadata": {
  "kernelspec": {
   "display_name": "Python 3.9.2 ('geo_James')",
   "language": "python",
   "name": "python3"
  },
  "language_info": {
   "codemirror_mode": {
    "name": "ipython",
    "version": 3
   },
   "file_extension": ".py",
   "mimetype": "text/x-python",
   "name": "python",
   "nbconvert_exporter": "python",
   "pygments_lexer": "ipython3",
   "version": "3.9.7"
  },
  "orig_nbformat": 4,
  "vscode": {
   "interpreter": {
    "hash": "af734be8ad55227f26227a3bb273225e8c732a9f6283c6f58fcb510615c38890"
   }
  }
 },
 "nbformat": 4,
 "nbformat_minor": 2
}
