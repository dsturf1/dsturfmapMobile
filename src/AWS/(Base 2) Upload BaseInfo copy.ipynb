{
 "cells": [
  {
   "cell_type": "code",
   "execution_count": 1,
   "metadata": {},
   "outputs": [],
   "source": [
    "import pandas as pd\n",
    "import re\n",
    "import os\n",
    "import numpy as np\n",
    "import glob\n",
    "from datetime import datetime\n",
    "import boto3\n",
    "import json"
   ]
  },
  {
   "cell_type": "markdown",
   "metadata": {},
   "source": []
  },
  {
   "cell_type": "code",
   "execution_count": 2,
   "metadata": {},
   "outputs": [],
   "source": [
    "Target_year = 2023\n",
    "\n",
    "pd.set_option('display.max_rows', 20)\n",
    "pd.options.display.float_format = '{:,.1f}'.format\n",
    "\n",
    "User_Name = 'dsmapadmin'\n",
    "\n",
    "\n",
    "AWS_folder = \"./\"\n",
    "\n",
    "src_folder = os.path.join(AWS_folder,'Downloaded',User_Name)\n",
    "out_folder = os.path.join(AWS_folder,'ToUpload',User_Name)"
   ]
  },
  {
   "cell_type": "code",
   "execution_count": 3,
   "metadata": {},
   "outputs": [
    {
     "data": {
      "text/plain": [
       "['./ToUpload\\\\dsmapadmin\\\\area_def.json',\n",
       " './ToUpload\\\\dsmapadmin\\\\area_label_info.json',\n",
       " './ToUpload\\\\dsmapadmin\\\\course_info.json',\n",
       " './ToUpload\\\\dsmapadmin\\\\label_info.json',\n",
       " './ToUpload\\\\dsmapadmin\\\\turf_type.json']"
      ]
     },
     "execution_count": 3,
     "metadata": {},
     "output_type": "execute_result"
    }
   ],
   "source": [
    "files = glob.glob(os.path.join(out_folder,'*.json'))\n",
    "target_files = [ x for x in files if ('~$' not in x) ]\n",
    "target_files"
   ]
  },
  {
   "cell_type": "markdown",
   "metadata": {},
   "source": [
    "각 화일을 base.json으로 통합, 그후 가가 화일과 통합화일을 Upload"
   ]
  },
  {
   "cell_type": "code",
   "execution_count": 4,
   "metadata": {},
   "outputs": [
    {
     "data": {
      "text/plain": [
       "{'ResponseMetadata': {'RequestId': 'W8Y623PKPMD3XRT7',\n",
       "  'HostId': 'l+BStypjcDJFcoWrcQm0HBe+m3tpb+amhks2B4W6t1XMdyKzrSUDq9kHjjha5RMJ109ypT3g0Fk=',\n",
       "  'HTTPStatusCode': 200,\n",
       "  'HTTPHeaders': {'x-amz-id-2': 'l+BStypjcDJFcoWrcQm0HBe+m3tpb+amhks2B4W6t1XMdyKzrSUDq9kHjjha5RMJ109ypT3g0Fk=',\n",
       "   'x-amz-request-id': 'W8Y623PKPMD3XRT7',\n",
       "   'date': 'Wed, 15 Nov 2023 20:03:59 GMT',\n",
       "   'x-amz-server-side-encryption': 'AES256',\n",
       "   'etag': '\"2aa6b98b897cce1ee0b827673cff84bb\"',\n",
       "   'server': 'AmazonS3',\n",
       "   'content-length': '0'},\n",
       "  'RetryAttempts': 0},\n",
       " 'ETag': '\"2aa6b98b897cce1ee0b827673cff84bb\"',\n",
       " 'ServerSideEncryption': 'AES256'}"
      ]
     },
     "execution_count": 4,
     "metadata": {},
     "output_type": "execute_result"
    }
   ],
   "source": [
    "Total_json = {}\n",
    "\n",
    "s3 = boto3.client('s3')\n",
    "\n",
    "for _file in target_files:\n",
    "  f_ = os.path.splitext(os.path.basename(_file))[0]\n",
    "  json_content_ = json.load(open(_file, encoding=\"utf8\"))\n",
    "  Total_json[f_] = json_content_\n",
    "  s3.put_object(Body=json.dumps(json_content_).encode('utf-8'),Bucket='dsmapdata',Key='baseinfo/{}.json'.format(f_))\n",
    "  \n",
    "s3.put_object(\n",
    "  Body=json.dumps(Total_json).encode('utf-8'),\n",
    "  Bucket='dsmapdata',\n",
    "  Key=User_Name + '/base.json'\n",
    "  )"
   ]
  },
  {
   "cell_type": "code",
   "execution_count": 5,
   "metadata": {},
   "outputs": [
    {
     "data": {
      "text/plain": [
       "dict_keys(['area_def', 'area_label_info', 'course_info', 'label_info', 'turf_type'])"
      ]
     },
     "execution_count": 5,
     "metadata": {},
     "output_type": "execute_result"
    }
   ],
   "source": [
    "Total_json.keys()"
   ]
  },
  {
   "cell_type": "code",
   "execution_count": 6,
   "metadata": {},
   "outputs": [
    {
     "data": {
      "text/plain": [
       "[{'TypeId': 110, 'L1': '건강한잔디', 'L2': '일반'},\n",
       " {'TypeId': 210, 'L1': '물리피해', 'L2': '볼마크/디봇'},\n",
       " {'TypeId': 220, 'L1': '물리피해', 'L2': '과습'},\n",
       " {'TypeId': 230, 'L1': '물리피해', 'L2': '건조'},\n",
       " {'TypeId': 240, 'L1': '물리피해', 'L2': '기타물리'},\n",
       " {'TypeId': 310, 'L1': '충해', 'L2': '나방류'},\n",
       " {'TypeId': 320, 'L1': '충해', 'L2': '굼벵이류'},\n",
       " {'TypeId': 330, 'L1': '충해', 'L2': '응애류'},\n",
       " {'TypeId': 340, 'L1': '충해', 'L2': '기타충해'},\n",
       " {'TypeId': 410, 'L1': '병해', 'L2': '탄저병'},\n",
       " {'TypeId': 411, 'L1': '병해', 'L2': '엽고병'},\n",
       " {'TypeId': 412, 'L1': '병해', 'L2': '동전마름병'},\n",
       " {'TypeId': 413, 'L1': '병해', 'L2': '피티움블라이트'},\n",
       " {'TypeId': 414, 'L1': '병해', 'L2': '노균병'},\n",
       " {'TypeId': 420, 'L1': '병해', 'L2': '브라운패취'},\n",
       " {'TypeId': 421, 'L1': '병해', 'L2': '라지패취'},\n",
       " {'TypeId': 422, 'L1': '병해', 'L2': '섬머패취'},\n",
       " {'TypeId': 430, 'L1': '병해', 'L2': '페어리링'},\n",
       " {'TypeId': 431, 'L1': '병해', 'L2': '루트피티움'},\n",
       " {'TypeId': 440, 'L1': '병해', 'L2': '남조류'},\n",
       " {'TypeId': 441, 'L1': '병해', 'L2': ''},\n",
       " {'TypeId': 501, 'L1': '잡초', 'L2': '강아지풀'},\n",
       " {'TypeId': 502, 'L1': '잡초', 'L2': '기타'},\n",
       " {'TypeId': 503, 'L1': '잡초', 'L2': '돌피'},\n",
       " {'TypeId': 504, 'L1': '잡초', 'L2': '뚝새풀'},\n",
       " {'TypeId': 505, 'L1': '잡초', 'L2': '띠'},\n",
       " {'TypeId': 506, 'L1': '잡초', 'L2': '바랭이'},\n",
       " {'TypeId': 507, 'L1': '잡초', 'L2': '새포아풀'},\n",
       " {'TypeId': 508, 'L1': '잡초', 'L2': '수크령'},\n",
       " {'TypeId': 509, 'L1': '잡초', 'L2': '왕바랭이'},\n",
       " {'TypeId': 510, 'L1': '잡초', 'L2': '괭이사초'},\n",
       " {'TypeId': 511, 'L1': '잡초', 'L2': '기타'},\n",
       " {'TypeId': 512, 'L1': '잡초', 'L2': '방동사니'},\n",
       " {'TypeId': 513, 'L1': '잡초', 'L2': '파대가리'},\n",
       " {'TypeId': 514, 'L1': '잡초', 'L2': '개망초'},\n",
       " {'TypeId': 515, 'L1': '잡초', 'L2': '개여뀌'},\n",
       " {'TypeId': 516, 'L1': '잡초', 'L2': '괭이밥'},\n",
       " {'TypeId': 517, 'L1': '잡초', 'L2': '기타'},\n",
       " {'TypeId': 518, 'L1': '잡초', 'L2': '깨풀'},\n",
       " {'TypeId': 519, 'L1': '잡초', 'L2': '마디풀'},\n",
       " {'TypeId': 520, 'L1': '잡초', 'L2': '망초'},\n",
       " {'TypeId': 521, 'L1': '잡초', 'L2': '매듭풀'},\n",
       " {'TypeId': 522, 'L1': '잡초', 'L2': '명아주'},\n",
       " {'TypeId': 523, 'L1': '잡초', 'L2': '민들레'},\n",
       " {'TypeId': 524, 'L1': '잡초', 'L2': '밭둑외풀'},\n",
       " {'TypeId': 525, 'L1': '잡초', 'L2': '소리쟁이'},\n",
       " {'TypeId': 526, 'L1': '잡초', 'L2': '선피막이'},\n",
       " {'TypeId': 527, 'L1': '잡초', 'L2': '쇠비름'},\n",
       " {'TypeId': 528, 'L1': '잡초', 'L2': '쇠뜨기'},\n",
       " {'TypeId': 529, 'L1': '잡초', 'L2': '애기땅빈대'},\n",
       " {'TypeId': 530, 'L1': '잡초', 'L2': '애기수영'},\n",
       " {'TypeId': 531, 'L1': '잡초', 'L2': '여뀌'},\n",
       " {'TypeId': 532, 'L1': '잡초', 'L2': '제비꽃'},\n",
       " {'TypeId': 533, 'L1': '잡초', 'L2': '질경이'},\n",
       " {'TypeId': 534, 'L1': '잡초', 'L2': '차풀'},\n",
       " {'TypeId': 535, 'L1': '잡초', 'L2': '토끼풀'},\n",
       " {'TypeId': 536, 'L1': '잡초', 'L2': '쑥'},\n",
       " {'TypeId': 537, 'L1': '잡초', 'L2': '은이끼'},\n",
       " {'TypeId': 538, 'L1': '잡초', 'L2': '기타잡초'},\n",
       " {'TypeId': 0, 'L1': 'TBD', 'L2': ''}]"
      ]
     },
     "execution_count": 6,
     "metadata": {},
     "output_type": "execute_result"
    }
   ],
   "source": [
    "Total_json['area_label_info']"
   ]
  },
  {
   "cell_type": "code",
   "execution_count": null,
   "metadata": {},
   "outputs": [],
   "source": []
  },
  {
   "cell_type": "code",
   "execution_count": null,
   "metadata": {},
   "outputs": [],
   "source": []
  }
 ],
 "metadata": {
  "kernelspec": {
   "display_name": "Python 3.9.2 ('geo_James')",
   "language": "python",
   "name": "python3"
  },
  "language_info": {
   "codemirror_mode": {
    "name": "ipython",
    "version": 3
   },
   "file_extension": ".py",
   "mimetype": "text/x-python",
   "name": "python",
   "nbconvert_exporter": "python",
   "pygments_lexer": "ipython3",
   "version": "3.9.18"
  },
  "orig_nbformat": 4,
  "vscode": {
   "interpreter": {
    "hash": "af734be8ad55227f26227a3bb273225e8c732a9f6283c6f58fcb510615c38890"
   }
  }
 },
 "nbformat": 4,
 "nbformat_minor": 2
}
