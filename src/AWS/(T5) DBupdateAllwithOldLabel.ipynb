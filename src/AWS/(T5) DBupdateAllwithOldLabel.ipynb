{
 "cells": [
  {
   "cell_type": "code",
   "execution_count": 1,
   "metadata": {},
   "outputs": [],
   "source": [
    "import pandas as pd\n",
    "import re\n",
    "import os\n",
    "import numpy as np\n",
    "import glob\n",
    "from datetime import datetime\n",
    "import geopandas as gpd\n",
    "import json\n",
    "from shapely.geometry import shape, GeometryCollection\n",
    "from rasterio.plot import show\n",
    "import matplotlib.pyplot as plt\n",
    "from mpl_toolkits.mplot3d import Axes3D\n",
    "from matplotlib import cm\n",
    "from matplotlib import colors\n",
    "from utils import FeatureExtraction, feature_matching, decimal_coords\n",
    "from exif import Image as exifimg\n",
    "from PIL import Image\n",
    "\n",
    "import shutil\n",
    "import rasterio\n",
    "import cv2\n",
    "%matplotlib inline"
   ]
  },
  {
   "cell_type": "code",
   "execution_count": 2,
   "metadata": {},
   "outputs": [],
   "source": [
    "# 가능한 font list 확인\n",
    "import matplotlib.font_manager as fm\n",
    "f = [f.name for f in fm.fontManager.ttflist]\n",
    "# print(f)\n",
    "\n",
    "plt.rc('font', family='Malgun Gothic')"
   ]
  },
  {
   "cell_type": "code",
   "execution_count": 3,
   "metadata": {},
   "outputs": [],
   "source": [
    "import boto3\n",
    "from decimal import Decimal\n",
    "# Get the service resource.\n",
    "dynamodb = boto3.resource('dynamodb', region_name='ap-northeast-2')\n",
    "table = dynamodb.Table('dsnia_imagelabelsV2')\n",
    "# table = dynamodb.Table('dsnia_imagelabels')"
   ]
  },
  {
   "cell_type": "code",
   "execution_count": 4,
   "metadata": {},
   "outputs": [],
   "source": [
    "course_list = ['청도','포항','중문','시흥','거창','속리산','춘천']\n",
    "\n",
    "course_ids = {\n",
    "  '포항':'MGC001',\n",
    "  '청도':'MGC002',\n",
    "  '중문':'MGC003',\n",
    "  '시흥':'MGC004',\n",
    "  '거창':'MGC005',\n",
    "  '속리산':'MGC006',\n",
    "  '춘천':'MGC007'\n",
    "}\n",
    "\n",
    "folder_type = ['rgb','ndvi','thumb']"
   ]
  },
  {
   "cell_type": "code",
   "execution_count": 5,
   "metadata": {},
   "outputs": [
    {
     "data": {
      "text/plain": [
       "'c:\\\\Users\\\\yc463\\\\Documents\\\\JamesLocal\\\\DS\\\\Drone\\\\dsmapv2\\\\src\\\\AWS\\\\filepathBackUp'"
      ]
     },
     "execution_count": 5,
     "metadata": {},
     "output_type": "execute_result"
    }
   ],
   "source": [
    "AWS_folder = os.getcwd()\n",
    "\n",
    "b_folder = os.path.join(AWS_folder,'BACKUPS')\n",
    "b_folder\n",
    "\n",
    "src_folder = \"D:\\ToAWS2\\ds_labelinfo\"\n",
    "src_folder\n",
    "\n",
    "out_folder = os.path.join(AWS_folder,'filepathBackUp')\n",
    "out_folder"
   ]
  },
  {
   "cell_type": "code",
   "execution_count": 6,
   "metadata": {},
   "outputs": [],
   "source": [
    "from boto3.dynamodb.conditions import Key, Attr\n",
    "from botocore.exceptions import ClientError\n",
    "\n",
    "\n",
    "\n",
    "recentDB = glob.glob(os.path.join(b_folder ,'Total*.pickle'), recursive=True)[-1]\n",
    "df = pd.read_pickle(recentDB)"
   ]
  },
  {
   "cell_type": "code",
   "execution_count": 7,
   "metadata": {},
   "outputs": [
    {
     "data": {
      "text/plain": [
       "(184082, 7)"
      ]
     },
     "execution_count": 7,
     "metadata": {},
     "output_type": "execute_result"
    }
   ],
   "source": [
    "df.shape"
   ]
  },
  {
   "cell_type": "code",
   "execution_count": 8,
   "metadata": {},
   "outputs": [],
   "source": [
    "maxLabel = glob.glob(os.path.join(src_folder,'**/MGC*.json'), recursive=True)"
   ]
  },
  {
   "cell_type": "code",
   "execution_count": 9,
   "metadata": {},
   "outputs": [],
   "source": [
    "oldLabels = []\n",
    "\n",
    "for dataJson_ in maxLabel:\n",
    "  with open(dataJson_, \"r\", encoding='utf-8') as _json:\n",
    "    oldLabels.extend(json.load(_json))\n"
   ]
  },
  {
   "cell_type": "code",
   "execution_count": 10,
   "metadata": {},
   "outputs": [
    {
     "data": {
      "text/plain": [
       "48587"
      ]
     },
     "execution_count": 10,
     "metadata": {},
     "output_type": "execute_result"
    }
   ],
   "source": [
    "len(oldLabels)"
   ]
  },
  {
   "cell_type": "code",
   "execution_count": 11,
   "metadata": {},
   "outputs": [
    {
     "data": {
      "text/plain": [
       "{'id': '20230811142508_1293396509722_362175400556_117497000',\n",
       " '11originalFileJPG': 'ta/nas/11_원천데이터/G05_포항CC/CU_근접촬영/05_병해잔디/84_(토양병)페어리링/G05_CU_0584_DJI_20230811142508_0023_D.JPG',\n",
       " '11originalFileGrp': ['ta/nas/11_원천데이터/G05_포항CC/CU_근접촬영/05_병해잔디/84_(토양병)페어리링/G05_CU_0584_DJI_20230811142508_0023_MS_G.TIF',\n",
       "  'ta/nas/11_원천데이터/G05_포항CC/CU_근접촬영/05_병해잔디/84_(토양병)페어리링/G05_CU_0584_DJI_20230811142508_0023_MS_NIR.TIF',\n",
       "  'ta/nas/11_원천데이터/G05_포항CC/CU_근접촬영/05_병해잔디/84_(토양병)페어리링/G05_CU_0584_DJI_20230811142508_0023_MS_R.TIF',\n",
       "  'ta/nas/11_원천데이터/G05_포항CC/CU_근접촬영/05_병해잔디/84_(토양병)페어리링/G05_CU_0584_DJI_20230811142508_0023_MS_RE.TIF'],\n",
       " 'GeoTagInfo': {'coords': [129.33965097222224, 36.21754005555556],\n",
       "  'datetime_original': '2023:08:11 14:25:08',\n",
       "  'gps_altitude': 117.497,\n",
       "  'gps_altitude_ref': 0},\n",
       " 'label': {'level1': '05_병해잔디',\n",
       "  'level2': '84_(토양병)페어리링',\n",
       "  'level3': '',\n",
       "  'TurfType': ''}}"
      ]
     },
     "execution_count": 11,
     "metadata": {},
     "output_type": "execute_result"
    }
   ],
   "source": [
    "oldLabels[1]"
   ]
  },
  {
   "cell_type": "code",
   "execution_count": 12,
   "metadata": {},
   "outputs": [
    {
     "data": {
      "text/html": [
       "<div>\n",
       "<style scoped>\n",
       "    .dataframe tbody tr th:only-of-type {\n",
       "        vertical-align: middle;\n",
       "    }\n",
       "\n",
       "    .dataframe tbody tr th {\n",
       "        vertical-align: top;\n",
       "    }\n",
       "\n",
       "    .dataframe thead th {\n",
       "        text-align: right;\n",
       "    }\n",
       "</style>\n",
       "<table border=\"1\" class=\"dataframe\">\n",
       "  <thead>\n",
       "    <tr style=\"text-align: right;\">\n",
       "      <th></th>\n",
       "      <th>id</th>\n",
       "      <th>11originalFileJPG</th>\n",
       "      <th>11originalFileGrp</th>\n",
       "      <th>GeoTagInfo</th>\n",
       "      <th>label</th>\n",
       "    </tr>\n",
       "  </thead>\n",
       "  <tbody>\n",
       "    <tr>\n",
       "      <th>0</th>\n",
       "      <td>20230811155905_1293381201667_362176992778_1471...</td>\n",
       "      <td>ta/nas/11_원천데이터/G05_포항CC/CU_근접촬영/05_병해잔디/84_(토...</td>\n",
       "      <td>[ta/nas/11_원천데이터/G05_포항CC/CU_근접촬영/05_병해잔디/84_(...</td>\n",
       "      <td>{'coords': [129.33812016666667, 36.21769927777...</td>\n",
       "      <td>{'level1': '05_병해잔디', 'level2': '84_(토양병)페어리링'...</td>\n",
       "    </tr>\n",
       "    <tr>\n",
       "      <th>1</th>\n",
       "      <td>20230811142508_1293396509722_362175400556_1174...</td>\n",
       "      <td>ta/nas/11_원천데이터/G05_포항CC/CU_근접촬영/05_병해잔디/84_(토...</td>\n",
       "      <td>[ta/nas/11_원천데이터/G05_포항CC/CU_근접촬영/05_병해잔디/84_(...</td>\n",
       "      <td>{'coords': [129.33965097222224, 36.21754005555...</td>\n",
       "      <td>{'level1': '05_병해잔디', 'level2': '84_(토양병)페어리링'...</td>\n",
       "    </tr>\n",
       "  </tbody>\n",
       "</table>\n",
       "</div>"
      ],
      "text/plain": [
       "                                                  id  \\\n",
       "0  20230811155905_1293381201667_362176992778_1471...   \n",
       "1  20230811142508_1293396509722_362175400556_1174...   \n",
       "\n",
       "                                   11originalFileJPG  \\\n",
       "0  ta/nas/11_원천데이터/G05_포항CC/CU_근접촬영/05_병해잔디/84_(토...   \n",
       "1  ta/nas/11_원천데이터/G05_포항CC/CU_근접촬영/05_병해잔디/84_(토...   \n",
       "\n",
       "                                   11originalFileGrp  \\\n",
       "0  [ta/nas/11_원천데이터/G05_포항CC/CU_근접촬영/05_병해잔디/84_(...   \n",
       "1  [ta/nas/11_원천데이터/G05_포항CC/CU_근접촬영/05_병해잔디/84_(...   \n",
       "\n",
       "                                          GeoTagInfo  \\\n",
       "0  {'coords': [129.33812016666667, 36.21769927777...   \n",
       "1  {'coords': [129.33965097222224, 36.21754005555...   \n",
       "\n",
       "                                               label  \n",
       "0  {'level1': '05_병해잔디', 'level2': '84_(토양병)페어리링'...  \n",
       "1  {'level1': '05_병해잔디', 'level2': '84_(토양병)페어리링'...  "
      ]
     },
     "execution_count": 12,
     "metadata": {},
     "output_type": "execute_result"
    }
   ],
   "source": [
    "maxdf = pd.DataFrame(oldLabels)\n",
    "maxdf.head(2)"
   ]
  },
  {
   "cell_type": "code",
   "execution_count": null,
   "metadata": {},
   "outputs": [],
   "source": []
  },
  {
   "cell_type": "code",
   "execution_count": 13,
   "metadata": {},
   "outputs": [],
   "source": [
    "maxdf['oldlabelL1'] = maxdf['label'].map(lambda x: x.get('level1',np.nan))\n",
    "maxdf['oldlabelL2'] = maxdf['label'].map(lambda x: x.get('level2',np.nan))\n",
    "maxdf['oldlabelL3'] = maxdf['label'].map(lambda x: x.get('level3',np.nan))\n",
    "maxdf['oldlabelType'] = maxdf['label'].map(lambda x: x.get('TurfType',np.nan))\n",
    "\n",
    "maxdf = maxdf.replace('', np.nan, regex=True)"
   ]
  },
  {
   "cell_type": "code",
   "execution_count": 14,
   "metadata": {},
   "outputs": [
    {
     "data": {
      "text/plain": [
       "(array(['05_병해잔디', '02_물리적손상잔디', '01_건강한잔디', '04_잡초', '03_충해잔디', '31_기타충해',\n",
       "        '01_일반', '18_건조피해', '21_디봇'], dtype=object),\n",
       " array(['84_(토양병)페어리링', '79_(엽고성병)피티움블라이트', '77_(엽고성병)엽고병', '87_기타병해',\n",
       "        '86_(조류)남조류', '76_(엽고성병)탄저병', '83_(패취류)섬머패취', '81_패취류', '17_볼마크',\n",
       "        '19_플레이어답압', '21_디봇', '18_건조피해', '20_고온피해', '25_장비피해', '22_과습피해',\n",
       "        '27_기타피해', '27_기타물리피해', '01_일반', '16_기타', '71_(이종잔디)기타',\n",
       "        '56_(광엽)민들레', '72_(이종잔디)이종잔디(벤트)', '73_(이종잔디)이종잔디(켄터키)',\n",
       "        '54_(광엽)매듭풀', '37_(화본과)새포아풀', '36_(화본과)바랭이', '32_화본과', '40_사초과',\n",
       "        '28_나방류', '85_(토양병)루트피티움', '02_배토', '78_(엽고성병)동전마름병',\n",
       "        '38_(화본과)왕바랭이', '63_(광엽)애기땅빈대', '43_(광엽)개갓냉이', '47_(광엽)기타',\n",
       "        '74_(이끼)은이끼', '69_(광엽)토끼풀', '34_(화본과)기타', '53_(광엽)망초',\n",
       "        '41_(사초과)방동사니', '46_(광엽)괭이밥', '58_(광엽)벼룩이자리', '62_(광엽)쇠비름',\n",
       "        '68_(광엽)질경이', '66_(광엽)제비꽃', '35_(화본과)띠', '32_(화본과)강아지풀',\n",
       "        '44_(광엽)개망초', '42_(사초과)파대가리', '75_(기타잡초)기타잡초', '61_(광엽)선피막이',\n",
       "        '70_(광엽)피막이', '55_(광엽)명아주', '67_(광엽)중대가리풀', '40_(사초과)기타', '43_광엽',\n",
       "        '74_이끼', '81_(패취류)브라운패취', '82_(패취류)라지패취', '76_엽고성병', '24_음지피해',\n",
       "        '07_깎기', '08_보식', '31_기타충해', '52_(광엽)마디풀', '30_응애',\n",
       "        'G01_CU_0331_NIR없은이미지', '84_(토양병)페어리링_NIR없는이미지(96)',\n",
       "        'NIR없는이미지_G01_CU_0101', 'G01_CU_0218_NIR없는이미지_208건',\n",
       "        'G01_CU_0221_ NIR파일없는이미지_740건'], dtype=object),\n",
       " array([nan]),\n",
       " array([nan]))"
      ]
     },
     "execution_count": 14,
     "metadata": {},
     "output_type": "execute_result"
    }
   ],
   "source": [
    "maxdf['oldlabelL1'].unique(), maxdf['oldlabelL2'].unique(), maxdf['oldlabelL3'].unique(), maxdf['oldlabelType'].unique()"
   ]
  },
  {
   "cell_type": "code",
   "execution_count": 15,
   "metadata": {},
   "outputs": [],
   "source": [
    "L1MAP = {\n",
    "  '05_병해잔디':'병해',\n",
    "  '02_물리적손상잔디':'물리피해',\n",
    "  '01_건강한잔디':'건강한잔디',\n",
    "  '04_잡초':'잡초',\n",
    "  '03_충해잔디':'충해',\n",
    "  '31_기타충해':'충해',\n",
    "  '01_일반':'건강한잔디',\n",
    "  '18_건조피해':'물리피해',\n",
    "  '21_디봇':'물리피해'\n",
    "}\n",
    "\n",
    "L2MAP = {\n",
    "'토양병':'토양병',\n",
    "'엽고성병':'엽고성',\n",
    "'조류':'조류',\n",
    "'패취류':'패취',\n",
    "'이종잔디':'이종잔디',\n",
    "'광엽':'광엽',\n",
    "'화본과':'화본과',\n",
    "'이끼':'이끼',\n",
    "'사초과':'사초과',\n",
    "'기타잡초':'기타잡초',\n",
    "'87_기타병해':'기타병해',\n",
    "'81_패취류':'패취',\n",
    "'17_볼마크':'볼마크',\n",
    "'19_플레이어답압':'기타물리',\n",
    "'21_디봇':'디봇',\n",
    "'18_건조피해':'기타물리',\n",
    "'20_고온피해':'기타물리',\n",
    "'25_장비피해':'장비피해',\n",
    "'22_과습피해':'기타물리',\n",
    "'27_기타피해':'기타물리',\n",
    "'27_기타물리피해':'기타물리',\n",
    "'01_일반':'일반',\n",
    "'16_기타':'일반',\n",
    "'32_화본과':'화본과',\n",
    "'40_사초과':'사초과',\n",
    "'28_나방류':'기타물리',\n",
    "'02_배토':'일반',\n",
    "'43_광엽':'광엽',\n",
    "'74_이끼':'이끼',\n",
    "'76_엽고성병':'엽고성',\n",
    "'24_음지피해':'기타물리',\n",
    "'07_깎기':'일반',\n",
    "'08_보식':'일반',\n",
    "'31_기타충해':'기타충해',\n",
    "'30_응애':'기타물리',\n",
    "'G01_CU_0331_NIR없은이미지':'NIRERROR',\n",
    "'NIR없는이미지_G01_CU_0101':'NIRERROR',\n",
    "'G01_CU_0218_NIR없는이미지_208건':'NIRERROR',\n",
    "'G01_CU_0221_ NIR파일없는이미지_740건':'NIRERROR'\n",
    "}"
   ]
  },
  {
   "cell_type": "code",
   "execution_count": 16,
   "metadata": {},
   "outputs": [],
   "source": [
    "maxdf['oldlabelL1'] = maxdf['oldlabelL1'].map(L1MAP)"
   ]
  },
  {
   "cell_type": "code",
   "execution_count": 17,
   "metadata": {},
   "outputs": [],
   "source": [
    "def findL3(x):\n",
    "  t_ = x.split(')') if ')' in x else None\n",
    "  if t_:\n",
    "    ans = t_[-1]\n",
    "  else:\n",
    "    ans = np.nan\n",
    "  return ans\n",
    "\n",
    "\n",
    "maxdf['oldlabelL3'] = maxdf['oldlabelL2'].map(lambda x: findL3(x))"
   ]
  },
  {
   "cell_type": "code",
   "execution_count": 18,
   "metadata": {},
   "outputs": [],
   "source": [
    "def findL2(x):\n",
    "  if '(' not in x:\n",
    "    return x\n",
    "  t_ = re.search(r\"\\((\\w+)\\)\", x)\n",
    "  if t_:\n",
    "    ans = t_.groups()[0]\n",
    "  else:\n",
    "    ans = np.nan\n",
    "  return ans\n",
    "\n",
    "\n",
    "maxdf['oldlabelL2'] = maxdf['oldlabelL2'].map(lambda x: findL2(x))\n",
    "maxdf['oldlabelL2'] = maxdf['oldlabelL2'].map(L2MAP)"
   ]
  },
  {
   "cell_type": "code",
   "execution_count": 19,
   "metadata": {},
   "outputs": [
    {
     "data": {
      "text/plain": [
       "(array(['병해', '물리피해', '건강한잔디', '잡초', '충해'], dtype=object),\n",
       " array(['토양병', '엽고성', '기타병해', '조류', '패취', '볼마크', '기타물리', '디봇', '장비피해',\n",
       "        '일반', '이종잔디', '광엽', '화본과', '사초과', '이끼', '기타잡초', '기타충해', 'NIRERROR'],\n",
       "       dtype=object),\n",
       " array(['페어리링', '피티움블라이트', '엽고병', nan, '남조류', '탄저병', '섬머패취', '기타', '민들레',\n",
       "        '', '매듭풀', '새포아풀', '바랭이', '루트피티움', '동전마름병', '왕바랭이', '애기땅빈대',\n",
       "        '개갓냉이', '은이끼', '토끼풀', '망초', '방동사니', '괭이밥', '벼룩이자리', '쇠비름', '질경이',\n",
       "        '제비꽃', '띠', '강아지풀', '개망초', '파대가리', '기타잡초', '선피막이', '피막이', '명아주',\n",
       "        '중대가리풀', '브라운패취', '라지패취', '마디풀'], dtype=object),\n",
       " array([nan]))"
      ]
     },
     "execution_count": 19,
     "metadata": {},
     "output_type": "execute_result"
    }
   ],
   "source": [
    "maxdf['oldlabelL1'].unique(), maxdf['oldlabelL2'].unique(), maxdf['oldlabelL3'].unique(), maxdf['oldlabelType'].unique()"
   ]
  },
  {
   "cell_type": "code",
   "execution_count": 20,
   "metadata": {},
   "outputs": [
    {
     "data": {
      "text/html": [
       "<div>\n",
       "<style scoped>\n",
       "    .dataframe tbody tr th:only-of-type {\n",
       "        vertical-align: middle;\n",
       "    }\n",
       "\n",
       "    .dataframe tbody tr th {\n",
       "        vertical-align: top;\n",
       "    }\n",
       "\n",
       "    .dataframe thead th {\n",
       "        text-align: right;\n",
       "    }\n",
       "</style>\n",
       "<table border=\"1\" class=\"dataframe\">\n",
       "  <thead>\n",
       "    <tr style=\"text-align: right;\">\n",
       "      <th></th>\n",
       "      <th>id</th>\n",
       "      <th>11originalFileJPG</th>\n",
       "      <th>11originalFileGrp</th>\n",
       "      <th>GeoTagInfo</th>\n",
       "      <th>label</th>\n",
       "      <th>oldlabelL1</th>\n",
       "      <th>oldlabelL2</th>\n",
       "      <th>oldlabelL3</th>\n",
       "      <th>oldlabelType</th>\n",
       "    </tr>\n",
       "  </thead>\n",
       "  <tbody>\n",
       "  </tbody>\n",
       "</table>\n",
       "</div>"
      ],
      "text/plain": [
       "Empty DataFrame\n",
       "Columns: [id, 11originalFileJPG, 11originalFileGrp, GeoTagInfo, label, oldlabelL1, oldlabelL2, oldlabelL3, oldlabelType]\n",
       "Index: []"
      ]
     },
     "execution_count": 20,
     "metadata": {},
     "output_type": "execute_result"
    }
   ],
   "source": [
    "maxdf[maxdf['oldlabelL2'].isna()]"
   ]
  },
  {
   "cell_type": "code",
   "execution_count": 21,
   "metadata": {},
   "outputs": [],
   "source": [
    "maxdf = maxdf.fillna('')"
   ]
  },
  {
   "cell_type": "code",
   "execution_count": 22,
   "metadata": {},
   "outputs": [],
   "source": [
    "def createNewLabel(L1,L2,L3,Type):\n",
    "  return {\n",
    "    'level1':L1,\n",
    "    'level2':L2,\n",
    "    'level3':L3,\n",
    "    'TurfType':Type\n",
    "  }"
   ]
  },
  {
   "cell_type": "code",
   "execution_count": 23,
   "metadata": {},
   "outputs": [],
   "source": [
    "maxdf['newLabel'] = maxdf.apply(lambda x : createNewLabel(x['oldlabelL1'],x['oldlabelL2'],x['oldlabelL3'],x['oldlabelType']), axis=1)"
   ]
  },
  {
   "cell_type": "code",
   "execution_count": 24,
   "metadata": {},
   "outputs": [],
   "source": [
    "maxdf = maxdf[['id','label','newLabel']]"
   ]
  },
  {
   "cell_type": "code",
   "execution_count": 25,
   "metadata": {},
   "outputs": [],
   "source": [
    "out_folder = r\"D:\\NewDB\""
   ]
  },
  {
   "cell_type": "code",
   "execution_count": 26,
   "metadata": {},
   "outputs": [],
   "source": [
    "maxdf.groupby(['id']).agg({'label':list,'newLabel':list}).reset_index().to_excel(os.path.join(out_folder,'MAXLABEL_{}.xlsx'.format(datetime.now().strftime(\"%Y%m%d_%H%M%S\"))))"
   ]
  },
  {
   "cell_type": "code",
   "execution_count": 27,
   "metadata": {},
   "outputs": [],
   "source": [
    "maxdf = maxdf.groupby(['id']).agg({'label':list,'newLabel':list}).reset_index()"
   ]
  },
  {
   "cell_type": "code",
   "execution_count": 28,
   "metadata": {},
   "outputs": [
    {
     "data": {
      "text/plain": [
       "[{'level1': '병해', 'level2': '토양병', 'level3': '페어리링', 'TurfType': ''}]"
      ]
     },
     "execution_count": 28,
     "metadata": {},
     "output_type": "execute_result"
    }
   ],
   "source": [
    "maxdf.iloc[0,:].newLabel"
   ]
  },
  {
   "cell_type": "code",
   "execution_count": 29,
   "metadata": {},
   "outputs": [],
   "source": [
    "def addTBD(x):\n",
    "  x.append({'level1': 'TBD', 'level2': '', 'level3': '', 'TurfType': ''})\n",
    "  return x\n",
    "maxdf.newLabel = maxdf.newLabel.map(lambda x: addTBD(x))"
   ]
  },
  {
   "cell_type": "code",
   "execution_count": 30,
   "metadata": {},
   "outputs": [
    {
     "data": {
      "text/plain": [
       "[{'level1': '병해', 'level2': '토양병', 'level3': '페어리링', 'TurfType': ''},\n",
       " {'level1': 'TBD', 'level2': '', 'level3': '', 'TurfType': ''}]"
      ]
     },
     "execution_count": 30,
     "metadata": {},
     "output_type": "execute_result"
    }
   ],
   "source": [
    "maxdf.iloc[0,:].newLabel"
   ]
  },
  {
   "cell_type": "code",
   "execution_count": 31,
   "metadata": {},
   "outputs": [],
   "source": [
    "sumdf = df.groupby(['id']).agg({'id':'count','metadata':list}).rename(columns = {'id':'idcnt'}).reset_index()"
   ]
  },
  {
   "cell_type": "code",
   "execution_count": 32,
   "metadata": {},
   "outputs": [],
   "source": [
    "sumdf[sumdf.idcnt>1].to_excel(os.path.join(out_folder,'DuplicatedFile{}.xlsx'.format(datetime.now().strftime(\"%Y%m%d_%H%M%S\"))))"
   ]
  },
  {
   "cell_type": "code",
   "execution_count": 33,
   "metadata": {},
   "outputs": [
    {
     "data": {
      "text/plain": [
       "((184082, 7), (184082, 8))"
      ]
     },
     "execution_count": 33,
     "metadata": {},
     "output_type": "execute_result"
    }
   ],
   "source": [
    "newdf = df.merge(maxdf[['id', 'newLabel']], on = ['id'], how = 'left')\n",
    "df.shape, newdf.shape"
   ]
  },
  {
   "cell_type": "code",
   "execution_count": 34,
   "metadata": {},
   "outputs": [
    {
     "data": {
      "text/html": [
       "<div>\n",
       "<style scoped>\n",
       "    .dataframe tbody tr th:only-of-type {\n",
       "        vertical-align: middle;\n",
       "    }\n",
       "\n",
       "    .dataframe tbody tr th {\n",
       "        vertical-align: top;\n",
       "    }\n",
       "\n",
       "    .dataframe thead th {\n",
       "        text-align: right;\n",
       "    }\n",
       "</style>\n",
       "<table border=\"1\" class=\"dataframe\">\n",
       "  <thead>\n",
       "    <tr style=\"text-align: right;\">\n",
       "      <th></th>\n",
       "      <th>metadata</th>\n",
       "      <th>date</th>\n",
       "      <th>area</th>\n",
       "      <th>courseid</th>\n",
       "      <th>json</th>\n",
       "      <th>id</th>\n",
       "      <th>desc</th>\n",
       "      <th>newLabel</th>\n",
       "    </tr>\n",
       "  </thead>\n",
       "  <tbody>\n",
       "    <tr>\n",
       "      <th>0</th>\n",
       "      <td>MGC00320230910해안 1H물리적피해,디봇,충해,땅강아지,기타,버뮤다그래스,...</td>\n",
       "      <td>20230910</td>\n",
       "      <td>해안 1H</td>\n",
       "      <td>MGC003</td>\n",
       "      <td>{'originalFileGrp': ['ta/nas/10_원시데이터(3사_분류대상)...</td>\n",
       "      <td>20230910155330_1264016413333_332480451667_8602...</td>\n",
       "      <td>물리적피해,디봇,충해,땅강아지,기타,버뮤다그래스,페어웨이,러프,화본과,잡초,띠_3</td>\n",
       "      <td>NaN</td>\n",
       "    </tr>\n",
       "    <tr>\n",
       "      <th>1</th>\n",
       "      <td>MGC00320230910해안 1H물리적피해,디봇,충해,땅강아지,기타,버뮤다그래스,...</td>\n",
       "      <td>20230910</td>\n",
       "      <td>해안 1H</td>\n",
       "      <td>MGC003</td>\n",
       "      <td>{'originalFileGrp': ['ta/nas/10_원시데이터(3사_분류대상)...</td>\n",
       "      <td>20230910155332_1264016348611_332480353889_8615...</td>\n",
       "      <td>물리적피해,디봇,충해,땅강아지,기타,버뮤다그래스,페어웨이,러프,화본과,잡초,띠_3</td>\n",
       "      <td>NaN</td>\n",
       "    </tr>\n",
       "  </tbody>\n",
       "</table>\n",
       "</div>"
      ],
      "text/plain": [
       "                                            metadata      date   area  \\\n",
       "0  MGC00320230910해안 1H물리적피해,디봇,충해,땅강아지,기타,버뮤다그래스,...  20230910  해안 1H   \n",
       "1  MGC00320230910해안 1H물리적피해,디봇,충해,땅강아지,기타,버뮤다그래스,...  20230910  해안 1H   \n",
       "\n",
       "  courseid                                               json  \\\n",
       "0   MGC003  {'originalFileGrp': ['ta/nas/10_원시데이터(3사_분류대상)...   \n",
       "1   MGC003  {'originalFileGrp': ['ta/nas/10_원시데이터(3사_분류대상)...   \n",
       "\n",
       "                                                  id  \\\n",
       "0  20230910155330_1264016413333_332480451667_8602...   \n",
       "1  20230910155332_1264016348611_332480353889_8615...   \n",
       "\n",
       "                                            desc newLabel  \n",
       "0  물리적피해,디봇,충해,땅강아지,기타,버뮤다그래스,페어웨이,러프,화본과,잡초,띠_3      NaN  \n",
       "1  물리적피해,디봇,충해,땅강아지,기타,버뮤다그래스,페어웨이,러프,화본과,잡초,띠_3      NaN  "
      ]
     },
     "execution_count": 34,
     "metadata": {},
     "output_type": "execute_result"
    }
   ],
   "source": [
    "newdf.head(2)"
   ]
  },
  {
   "cell_type": "code",
   "execution_count": 35,
   "metadata": {},
   "outputs": [],
   "source": [
    "newdf = newdf[~newdf.newLabel.isna()]\n",
    "newdf['numLabel'] = newdf.json.map(lambda x: len(x.get('label',[])))\n"
   ]
  },
  {
   "cell_type": "code",
   "execution_count": 36,
   "metadata": {},
   "outputs": [
    {
     "data": {
      "text/html": [
       "<div>\n",
       "<style scoped>\n",
       "    .dataframe tbody tr th:only-of-type {\n",
       "        vertical-align: middle;\n",
       "    }\n",
       "\n",
       "    .dataframe tbody tr th {\n",
       "        vertical-align: top;\n",
       "    }\n",
       "\n",
       "    .dataframe thead th {\n",
       "        text-align: right;\n",
       "    }\n",
       "</style>\n",
       "<table border=\"1\" class=\"dataframe\">\n",
       "  <thead>\n",
       "    <tr style=\"text-align: right;\">\n",
       "      <th></th>\n",
       "      <th>metadata</th>\n",
       "      <th>date</th>\n",
       "      <th>area</th>\n",
       "      <th>courseid</th>\n",
       "      <th>json</th>\n",
       "      <th>id</th>\n",
       "      <th>desc</th>\n",
       "      <th>newLabel</th>\n",
       "      <th>numLabel</th>\n",
       "    </tr>\n",
       "  </thead>\n",
       "  <tbody>\n",
       "    <tr>\n",
       "      <th>2465</th>\n",
       "      <td>MGC00520230817거창 EAST_1H미기재_1</td>\n",
       "      <td>20230817</td>\n",
       "      <td>거창 EAST_1H</td>\n",
       "      <td>MGC005</td>\n",
       "      <td>{'originalFileGrp': ['NIA_2023_52_잔디\\10_원시데이터(...</td>\n",
       "      <td>20230817141639_1279075913333_355935636389_6999...</td>\n",
       "      <td>미기재_1</td>\n",
       "      <td>[{'level1': '물리피해', 'level2': '디봇', 'level3': ...</td>\n",
       "      <td>0</td>\n",
       "    </tr>\n",
       "    <tr>\n",
       "      <th>2466</th>\n",
       "      <td>MGC00520230817거창 EAST_1H미기재_1</td>\n",
       "      <td>20230817</td>\n",
       "      <td>거창 EAST_1H</td>\n",
       "      <td>MGC005</td>\n",
       "      <td>{'originalFileGrp': ['NIA_2023_52_잔디\\10_원시데이터(...</td>\n",
       "      <td>20230817141641_1279075915000_355935639722_6999...</td>\n",
       "      <td>미기재_1</td>\n",
       "      <td>[{'level1': '물리피해', 'level2': '디봇', 'level3': ...</td>\n",
       "      <td>0</td>\n",
       "    </tr>\n",
       "    <tr>\n",
       "      <th>2467</th>\n",
       "      <td>MGC00520230817거창 EAST_1H미기재_1</td>\n",
       "      <td>20230817</td>\n",
       "      <td>거창 EAST_1H</td>\n",
       "      <td>MGC005</td>\n",
       "      <td>{'originalFileGrp': ['NIA_2023_52_잔디\\10_원시데이터(...</td>\n",
       "      <td>20230817141643_1279075916111_355935647222_6998...</td>\n",
       "      <td>미기재_1</td>\n",
       "      <td>[{'level1': '물리피해', 'level2': '디봇', 'level3': ...</td>\n",
       "      <td>0</td>\n",
       "    </tr>\n",
       "    <tr>\n",
       "      <th>2468</th>\n",
       "      <td>MGC00520230817거창 EAST_1H미기재_1</td>\n",
       "      <td>20230817</td>\n",
       "      <td>거창 EAST_1H</td>\n",
       "      <td>MGC005</td>\n",
       "      <td>{'originalFileGrp': ['NIA_2023_52_잔디\\10_원시데이터(...</td>\n",
       "      <td>20230817141645_1279076533056_355936205000_6997...</td>\n",
       "      <td>미기재_1</td>\n",
       "      <td>[{'level1': '물리피해', 'level2': '디봇', 'level3': ...</td>\n",
       "      <td>0</td>\n",
       "    </tr>\n",
       "    <tr>\n",
       "      <th>2469</th>\n",
       "      <td>MGC00520230817거창 EAST_1H미기재_1</td>\n",
       "      <td>20230817</td>\n",
       "      <td>거창 EAST_1H</td>\n",
       "      <td>MGC005</td>\n",
       "      <td>{'originalFileGrp': ['NIA_2023_52_잔디\\10_원시데이터(...</td>\n",
       "      <td>20230817141647_1279077807778_355937316944_6998...</td>\n",
       "      <td>미기재_1</td>\n",
       "      <td>[{'level1': '물리피해', 'level2': '디봇', 'level3': ...</td>\n",
       "      <td>0</td>\n",
       "    </tr>\n",
       "    <tr>\n",
       "      <th>...</th>\n",
       "      <td>...</td>\n",
       "      <td>...</td>\n",
       "      <td>...</td>\n",
       "      <td>...</td>\n",
       "      <td>...</td>\n",
       "      <td>...</td>\n",
       "      <td>...</td>\n",
       "      <td>...</td>\n",
       "      <td>...</td>\n",
       "    </tr>\n",
       "    <tr>\n",
       "      <th>182932</th>\n",
       "      <td>MGC00420230822아세코벨리 1H칼라켄터키블루그래스지역,패취병,옐로우패취,이...</td>\n",
       "      <td>20230822</td>\n",
       "      <td>아세코벨리 1H</td>\n",
       "      <td>MGC004</td>\n",
       "      <td>{'originalFileGrp': ['NIA_2023_52_잔디\\10_원시데이터(...</td>\n",
       "      <td>20230822133938_1267709378889_373703389722_6686...</td>\n",
       "      <td>칼라켄터키블루그래스지역,패취병,옐로우패취,이종잔디,로이시아,크리핑벤트,화본과,바랭이_0</td>\n",
       "      <td>[{'level1': '잡초', 'level2': '화본과', 'level3': '...</td>\n",
       "      <td>0</td>\n",
       "    </tr>\n",
       "    <tr>\n",
       "      <th>182937</th>\n",
       "      <td>MGC00420230822아세코벨리 1H칼라켄터키블루그래스지역,패취병,옐로우패취,이...</td>\n",
       "      <td>20230822</td>\n",
       "      <td>아세코벨리 1H</td>\n",
       "      <td>MGC004</td>\n",
       "      <td>{'originalFileGrp': ['NIA_2023_52_잔디\\10_원시데이터(...</td>\n",
       "      <td>20230822133948_1267709457222_373703283333_6688...</td>\n",
       "      <td>칼라켄터키블루그래스지역,패취병,옐로우패취,이종잔디,로이시아,크리핑벤트,화본과,바랭이_0</td>\n",
       "      <td>[{'level1': '잡초', 'level2': '화본과', 'level3': '...</td>\n",
       "      <td>0</td>\n",
       "    </tr>\n",
       "    <tr>\n",
       "      <th>182940</th>\n",
       "      <td>MGC00420230822아세코벨리 1H칼라켄터키블루그래스지역,패취병,옐로우패취,이...</td>\n",
       "      <td>20230822</td>\n",
       "      <td>아세코벨리 1H</td>\n",
       "      <td>MGC004</td>\n",
       "      <td>{'originalFileGrp': ['NIA_2023_52_잔디\\10_원시데이터(...</td>\n",
       "      <td>20230822133954_1267709556667_373703235833_6689...</td>\n",
       "      <td>칼라켄터키블루그래스지역,패취병,옐로우패취,이종잔디,로이시아,크리핑벤트,화본과,바랭이_0</td>\n",
       "      <td>[{'level1': '잡초', 'level2': '화본과', 'level3': '...</td>\n",
       "      <td>0</td>\n",
       "    </tr>\n",
       "    <tr>\n",
       "      <th>182941</th>\n",
       "      <td>MGC00420230822아세코벨리 1H칼라켄터키블루그래스지역,패취병,옐로우패취,이...</td>\n",
       "      <td>20230822</td>\n",
       "      <td>아세코벨리 1H</td>\n",
       "      <td>MGC004</td>\n",
       "      <td>{'originalFileGrp': ['NIA_2023_52_잔디\\10_원시데이터(...</td>\n",
       "      <td>20230822133956_1267709578611_373703225833_6688...</td>\n",
       "      <td>칼라켄터키블루그래스지역,패취병,옐로우패취,이종잔디,로이시아,크리핑벤트,화본과,바랭이_0</td>\n",
       "      <td>[{'level1': '잡초', 'level2': '화본과', 'level3': '...</td>\n",
       "      <td>0</td>\n",
       "    </tr>\n",
       "    <tr>\n",
       "      <th>182942</th>\n",
       "      <td>MGC00420230822아세코벨리 1H칼라켄터키블루그래스지역,패취병,옐로우패취,이...</td>\n",
       "      <td>20230822</td>\n",
       "      <td>아세코벨리 1H</td>\n",
       "      <td>MGC004</td>\n",
       "      <td>{'originalFileGrp': ['NIA_2023_52_잔디\\10_원시데이터(...</td>\n",
       "      <td>20230822133958_1267709639444_373703219722_6692...</td>\n",
       "      <td>칼라켄터키블루그래스지역,패취병,옐로우패취,이종잔디,로이시아,크리핑벤트,화본과,바랭이_0</td>\n",
       "      <td>[{'level1': '잡초', 'level2': '화본과', 'level3': '...</td>\n",
       "      <td>0</td>\n",
       "    </tr>\n",
       "  </tbody>\n",
       "</table>\n",
       "<p>29717 rows × 9 columns</p>\n",
       "</div>"
      ],
      "text/plain": [
       "                                                 metadata      date  \\\n",
       "2465                        MGC00520230817거창 EAST_1H미기재_1  20230817   \n",
       "2466                        MGC00520230817거창 EAST_1H미기재_1  20230817   \n",
       "2467                        MGC00520230817거창 EAST_1H미기재_1  20230817   \n",
       "2468                        MGC00520230817거창 EAST_1H미기재_1  20230817   \n",
       "2469                        MGC00520230817거창 EAST_1H미기재_1  20230817   \n",
       "...                                                   ...       ...   \n",
       "182932  MGC00420230822아세코벨리 1H칼라켄터키블루그래스지역,패취병,옐로우패취,이...  20230822   \n",
       "182937  MGC00420230822아세코벨리 1H칼라켄터키블루그래스지역,패취병,옐로우패취,이...  20230822   \n",
       "182940  MGC00420230822아세코벨리 1H칼라켄터키블루그래스지역,패취병,옐로우패취,이...  20230822   \n",
       "182941  MGC00420230822아세코벨리 1H칼라켄터키블루그래스지역,패취병,옐로우패취,이...  20230822   \n",
       "182942  MGC00420230822아세코벨리 1H칼라켄터키블루그래스지역,패취병,옐로우패취,이...  20230822   \n",
       "\n",
       "              area courseid  \\\n",
       "2465    거창 EAST_1H   MGC005   \n",
       "2466    거창 EAST_1H   MGC005   \n",
       "2467    거창 EAST_1H   MGC005   \n",
       "2468    거창 EAST_1H   MGC005   \n",
       "2469    거창 EAST_1H   MGC005   \n",
       "...            ...      ...   \n",
       "182932    아세코벨리 1H   MGC004   \n",
       "182937    아세코벨리 1H   MGC004   \n",
       "182940    아세코벨리 1H   MGC004   \n",
       "182941    아세코벨리 1H   MGC004   \n",
       "182942    아세코벨리 1H   MGC004   \n",
       "\n",
       "                                                     json  \\\n",
       "2465    {'originalFileGrp': ['NIA_2023_52_잔디\\10_원시데이터(...   \n",
       "2466    {'originalFileGrp': ['NIA_2023_52_잔디\\10_원시데이터(...   \n",
       "2467    {'originalFileGrp': ['NIA_2023_52_잔디\\10_원시데이터(...   \n",
       "2468    {'originalFileGrp': ['NIA_2023_52_잔디\\10_원시데이터(...   \n",
       "2469    {'originalFileGrp': ['NIA_2023_52_잔디\\10_원시데이터(...   \n",
       "...                                                   ...   \n",
       "182932  {'originalFileGrp': ['NIA_2023_52_잔디\\10_원시데이터(...   \n",
       "182937  {'originalFileGrp': ['NIA_2023_52_잔디\\10_원시데이터(...   \n",
       "182940  {'originalFileGrp': ['NIA_2023_52_잔디\\10_원시데이터(...   \n",
       "182941  {'originalFileGrp': ['NIA_2023_52_잔디\\10_원시데이터(...   \n",
       "182942  {'originalFileGrp': ['NIA_2023_52_잔디\\10_원시데이터(...   \n",
       "\n",
       "                                                       id  \\\n",
       "2465    20230817141639_1279075913333_355935636389_6999...   \n",
       "2466    20230817141641_1279075915000_355935639722_6999...   \n",
       "2467    20230817141643_1279075916111_355935647222_6998...   \n",
       "2468    20230817141645_1279076533056_355936205000_6997...   \n",
       "2469    20230817141647_1279077807778_355937316944_6998...   \n",
       "...                                                   ...   \n",
       "182932  20230822133938_1267709378889_373703389722_6686...   \n",
       "182937  20230822133948_1267709457222_373703283333_6688...   \n",
       "182940  20230822133954_1267709556667_373703235833_6689...   \n",
       "182941  20230822133956_1267709578611_373703225833_6688...   \n",
       "182942  20230822133958_1267709639444_373703219722_6692...   \n",
       "\n",
       "                                                    desc  \\\n",
       "2465                                               미기재_1   \n",
       "2466                                               미기재_1   \n",
       "2467                                               미기재_1   \n",
       "2468                                               미기재_1   \n",
       "2469                                               미기재_1   \n",
       "...                                                  ...   \n",
       "182932  칼라켄터키블루그래스지역,패취병,옐로우패취,이종잔디,로이시아,크리핑벤트,화본과,바랭이_0   \n",
       "182937  칼라켄터키블루그래스지역,패취병,옐로우패취,이종잔디,로이시아,크리핑벤트,화본과,바랭이_0   \n",
       "182940  칼라켄터키블루그래스지역,패취병,옐로우패취,이종잔디,로이시아,크리핑벤트,화본과,바랭이_0   \n",
       "182941  칼라켄터키블루그래스지역,패취병,옐로우패취,이종잔디,로이시아,크리핑벤트,화본과,바랭이_0   \n",
       "182942  칼라켄터키블루그래스지역,패취병,옐로우패취,이종잔디,로이시아,크리핑벤트,화본과,바랭이_0   \n",
       "\n",
       "                                                 newLabel  numLabel  \n",
       "2465    [{'level1': '물리피해', 'level2': '디봇', 'level3': ...         0  \n",
       "2466    [{'level1': '물리피해', 'level2': '디봇', 'level3': ...         0  \n",
       "2467    [{'level1': '물리피해', 'level2': '디봇', 'level3': ...         0  \n",
       "2468    [{'level1': '물리피해', 'level2': '디봇', 'level3': ...         0  \n",
       "2469    [{'level1': '물리피해', 'level2': '디봇', 'level3': ...         0  \n",
       "...                                                   ...       ...  \n",
       "182932  [{'level1': '잡초', 'level2': '화본과', 'level3': '...         0  \n",
       "182937  [{'level1': '잡초', 'level2': '화본과', 'level3': '...         0  \n",
       "182940  [{'level1': '잡초', 'level2': '화본과', 'level3': '...         0  \n",
       "182941  [{'level1': '잡초', 'level2': '화본과', 'level3': '...         0  \n",
       "182942  [{'level1': '잡초', 'level2': '화본과', 'level3': '...         0  \n",
       "\n",
       "[29717 rows x 9 columns]"
      ]
     },
     "execution_count": 36,
     "metadata": {},
     "output_type": "execute_result"
    }
   ],
   "source": [
    "newdf"
   ]
  },
  {
   "cell_type": "code",
   "execution_count": 37,
   "metadata": {},
   "outputs": [
    {
     "data": {
      "text/plain": [
       "(28309, 9)"
      ]
     },
     "execution_count": 37,
     "metadata": {},
     "output_type": "execute_result"
    }
   ],
   "source": [
    "newdf= newdf[newdf.numLabel ==0]\n",
    "newdf.shape"
   ]
  },
  {
   "cell_type": "code",
   "execution_count": 38,
   "metadata": {},
   "outputs": [
    {
     "name": "stderr",
     "output_type": "stream",
     "text": [
      "C:\\Users\\yc463\\AppData\\Local\\Temp\\ipykernel_34604\\3455004601.py:5: SettingWithCopyWarning: \n",
      "A value is trying to be set on a copy of a slice from a DataFrame.\n",
      "Try using .loc[row_indexer,col_indexer] = value instead\n",
      "\n",
      "See the caveats in the documentation: https://pandas.pydata.org/pandas-docs/stable/user_guide/indexing.html#returning-a-view-versus-a-copy\n",
      "  newdf['json'] = newdf.apply(lambda x: replaceLabel(x.json, x.newLabel), axis = 1)\n"
     ]
    }
   ],
   "source": [
    "def replaceLabel(x,y):\n",
    "  x['label'] = y\n",
    "  return x\n",
    "\n",
    "newdf['json'] = newdf.apply(lambda x: replaceLabel(x.json, x.newLabel), axis = 1)"
   ]
  },
  {
   "cell_type": "code",
   "execution_count": 39,
   "metadata": {},
   "outputs": [],
   "source": [
    "finaldf = newdf[['metadata', 'date', 'area', 'courseid', 'json', 'id', 'desc']]"
   ]
  },
  {
   "cell_type": "code",
   "execution_count": 40,
   "metadata": {},
   "outputs": [
    {
     "data": {
      "text/plain": [
       "(28309, 7)"
      ]
     },
     "execution_count": 40,
     "metadata": {},
     "output_type": "execute_result"
    }
   ],
   "source": [
    "finaldf.shape"
   ]
  },
  {
   "cell_type": "code",
   "execution_count": 41,
   "metadata": {},
   "outputs": [],
   "source": [
    "finalJson = finaldf.to_dict('records')"
   ]
  },
  {
   "cell_type": "code",
   "execution_count": 42,
   "metadata": {},
   "outputs": [
    {
     "data": {
      "text/plain": [
       "{'metadata': 'MGC00520230817거창 EAST_1H미기재_1',\n",
       " 'date': '20230817',\n",
       " 'area': '거창 EAST_1H',\n",
       " 'courseid': 'MGC005',\n",
       " 'json': {'originalFileGrp': ['NIA_2023_52_잔디\\\\10_원시데이터(3사_분류대상)\\\\2023_0817_거창클럽디_오전구름많이오후구름반햇빛반_데이터 1차 분류본_완\\\\거창 EAST_1H\\\\2023_0817_클럽디거창_EAST 1H_30m\\\\20230817_1415\\\\DJI_20230817141639_0046_MS_G.TIF',\n",
       "   'NIA_2023_52_잔디\\\\10_원시데이터(3사_분류대상)\\\\2023_0817_거창클럽디_오전구름많이오후구름반햇빛반_데이터 1차 분류본_완\\\\거창 EAST_1H\\\\2023_0817_클럽디거창_EAST 1H_30m\\\\20230817_1415\\\\DJI_20230817141639_0046_MS_NIR.TIF',\n",
       "   'NIA_2023_52_잔디\\\\10_원시데이터(3사_분류대상)\\\\2023_0817_거창클럽디_오전구름많이오후구름반햇빛반_데이터 1차 분류본_완\\\\거창 EAST_1H\\\\2023_0817_클럽디거창_EAST 1H_30m\\\\20230817_1415\\\\DJI_20230817141639_0046_MS_R.TIF',\n",
       "   'NIA_2023_52_잔디\\\\10_원시데이터(3사_분류대상)\\\\2023_0817_거창클럽디_오전구름많이오후구름반햇빛반_데이터 1차 분류본_완\\\\거창 EAST_1H\\\\2023_0817_클럽디거창_EAST 1H_30m\\\\20230817_1415\\\\DJI_20230817141639_0046_MS_RE.TIF'],\n",
       "  'annotation': [],\n",
       "  'labelBy': '',\n",
       "  'GeoTagInfo': {'gps_altitude': Decimal('699.912'),\n",
       "   'datetime_original': '2023:08:17 14:16:39',\n",
       "   'coords': [Decimal('127.90759133333334'), Decimal('35.59356363888889')],\n",
       "   'gps_altitude_ref': Decimal('0')},\n",
       "  'id': '20230817141639_1279075913333_355935636389_699912000',\n",
       "  'label': [{'level1': '물리피해', 'level2': '디봇', 'level3': '', 'TurfType': ''},\n",
       "   {'level1': 'TBD', 'level2': '', 'level3': '', 'TurfType': ''}],\n",
       "  'originalFileJPG': 'NIA_2023_52_잔디\\\\10_원시데이터(3사_분류대상)\\\\2023_0817_거창클럽디_오전구름많이오후구름반햇빛반_데이터 1차 분류본_완\\\\거창 EAST_1H\\\\2023_0817_클럽디거창_EAST 1H_30m\\\\20230817_1415\\\\DJI_20230817141639_0046_D.JPG',\n",
       "  'destFolder': '20230817/거창 EAST_1H/미기재_1',\n",
       "  'dest': {'rgb': 'MGC005\\\\20230817\\\\거창 EAST_1H\\\\미기재_1\\\\rgb\\\\rgb20230817141639_1279075913333_355935636389_699912000.JPG',\n",
       "   'thumb': 'MGC005\\\\20230817\\\\거창 EAST_1H\\\\미기재_1\\\\thumb\\\\thumbrgb20230817141639_1279075913333_355935636389_699912000.JPG',\n",
       "   'ndvi': 'MGC005\\\\20230817\\\\거창 EAST_1H\\\\미기재_1\\\\ndvi\\\\ndvi20230817141639_1279075913333_355935636389_699912000.JPG'},\n",
       "  'info': {'area': '거창 EAST_1H',\n",
       "   'date': '20230817',\n",
       "   'alt': '30m',\n",
       "   'course': '거창',\n",
       "   'desc': '미기재_1'}},\n",
       " 'id': '20230817141639_1279075913333_355935636389_699912000',\n",
       " 'desc': '미기재_1'}"
      ]
     },
     "execution_count": 42,
     "metadata": {},
     "output_type": "execute_result"
    }
   ],
   "source": [
    "finalJson[0]"
   ]
  },
  {
   "cell_type": "code",
   "execution_count": null,
   "metadata": {},
   "outputs": [],
   "source": []
  },
  {
   "cell_type": "code",
   "execution_count": null,
   "metadata": {},
   "outputs": [],
   "source": [
    "with table.batch_writer(overwrite_by_pkeys=['metadata', 'id']) as batch:\n",
    "  for index_, row_ in enumerate(finalJson):\n",
    "    print(index_, row_['id'], end='\\r')\n",
    "    batch.put_item(\n",
    "      Item= row_\n",
    "    )"
   ]
  }
 ],
 "metadata": {
  "kernelspec": {
   "display_name": "Python 3.9.2 ('geo_James')",
   "language": "python",
   "name": "python3"
  },
  "language_info": {
   "codemirror_mode": {
    "name": "ipython",
    "version": 3
   },
   "file_extension": ".py",
   "mimetype": "text/x-python",
   "name": "python",
   "nbconvert_exporter": "python",
   "pygments_lexer": "ipython3",
   "version": "3.9.7"
  },
  "orig_nbformat": 4,
  "vscode": {
   "interpreter": {
    "hash": "af734be8ad55227f26227a3bb273225e8c732a9f6283c6f58fcb510615c38890"
   }
  }
 },
 "nbformat": 4,
 "nbformat_minor": 2
}
