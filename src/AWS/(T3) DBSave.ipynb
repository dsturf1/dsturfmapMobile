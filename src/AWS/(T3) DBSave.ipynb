{
 "cells": [
  {
   "cell_type": "code",
   "execution_count": 1,
   "metadata": {},
   "outputs": [],
   "source": [
    "import pandas as pd\n",
    "import re\n",
    "import os\n",
    "import numpy as np\n",
    "import glob\n",
    "from datetime import datetime\n",
    "import geopandas as gpd\n",
    "import json\n",
    "from shapely.geometry import shape, GeometryCollection\n",
    "from rasterio.plot import show\n",
    "import matplotlib.pyplot as plt\n",
    "from mpl_toolkits.mplot3d import Axes3D\n",
    "from matplotlib import cm\n",
    "from matplotlib import colors\n",
    "from utils import FeatureExtraction, feature_matching, decimal_coords\n",
    "from exif import Image as exifimg\n",
    "from PIL import Image\n",
    "\n",
    "import shutil\n",
    "import rasterio\n",
    "import cv2\n",
    "%matplotlib inline"
   ]
  },
  {
   "cell_type": "code",
   "execution_count": 2,
   "metadata": {},
   "outputs": [],
   "source": [
    "# 가능한 font list 확인\n",
    "import matplotlib.font_manager as fm\n",
    "f = [f.name for f in fm.fontManager.ttflist]\n",
    "# print(f)\n",
    "\n",
    "plt.rc('font', family='Malgun Gothic')"
   ]
  },
  {
   "cell_type": "code",
   "execution_count": 3,
   "metadata": {},
   "outputs": [],
   "source": [
    "import boto3\n",
    "from decimal import Decimal\n",
    "# Get the service resource.\n",
    "dynamodb = boto3.resource('dynamodb', region_name='ap-northeast-2')\n",
    "table = dynamodb.Table('dsnia_imagelabelsV2')\n",
    "# table = dynamodb.Table('dsnia_imagelabels')"
   ]
  },
  {
   "cell_type": "code",
   "execution_count": 4,
   "metadata": {},
   "outputs": [
    {
     "data": {
      "text/plain": [
       "'c:\\\\Users\\\\yc463\\\\Documents\\\\JamesLocal\\\\DS\\\\Drone\\\\dsmapv2\\\\src\\\\AWS\\\\filepathBackUp'"
      ]
     },
     "execution_count": 4,
     "metadata": {},
     "output_type": "execute_result"
    }
   ],
   "source": [
    "AWS_folder = os.getcwd()\n",
    "\n",
    "b_folder = os.path.join(AWS_folder,'BACKUPS')\n",
    "b_folder\n",
    "\n",
    "src_folder = os.path.join(AWS_folder,'dataDownloaded')\n",
    "src_folder\n",
    "\n",
    "out_folder = os.path.join(AWS_folder,'filepathBackUp')\n",
    "out_folder"
   ]
  },
  {
   "cell_type": "code",
   "execution_count": 5,
   "metadata": {},
   "outputs": [],
   "source": [
    "from boto3.dynamodb.conditions import Key, Attr\n",
    "from botocore.exceptions import ClientError\n",
    "\n",
    "\n",
    "\n",
    "response = table.scan()\n",
    "alldata = response['Items']\n",
    "\n",
    "while 'LastEvaluatedKey' in response:\n",
    "    response = table.scan(ExclusiveStartKey=response['LastEvaluatedKey'])\n",
    "    alldata.extend(response['Items'])"
   ]
  },
  {
   "cell_type": "code",
   "execution_count": 6,
   "metadata": {},
   "outputs": [
    {
     "data": {
      "text/plain": [
       "184082"
      ]
     },
     "execution_count": 6,
     "metadata": {},
     "output_type": "execute_result"
    }
   ],
   "source": [
    "len(alldata)"
   ]
  },
  {
   "cell_type": "code",
   "execution_count": 7,
   "metadata": {},
   "outputs": [
    {
     "data": {
      "text/plain": [
       "'20231018_005221'"
      ]
     },
     "execution_count": 7,
     "metadata": {},
     "output_type": "execute_result"
    }
   ],
   "source": [
    "\n",
    "from datetime import datetime\n",
    " \n",
    "datetime.now().strftime(\"%Y%m%d_%H%M%S\")"
   ]
  },
  {
   "cell_type": "code",
   "execution_count": 8,
   "metadata": {},
   "outputs": [
    {
     "data": {
      "text/plain": [
       "{'metadata': 'MGC00320230910해안 1H물리적피해,디봇,충해,땅강아지,기타,버뮤다그래스,페어웨이,러프,화본과,잡초,띠_3',\n",
       " 'date': '20230910',\n",
       " 'area': '해안 1H',\n",
       " 'courseid': 'MGC003',\n",
       " 'json': {'originalFileGrp': ['ta/nas/10_원시데이터(3사_분류대상)/2023_0910_중문골프클럽_데이터 1차 분류_완/해안 1H/2023_0910_중문골프클럽_해안1H_1.5m/20230910_1553-1605_물리적피해,디봇,충해,땅강아지,기타,버뮤다그래스,페어웨이,러프,화본과,잡초,띠/DJI_20230910155330_0001_MS_G.TIF',\n",
       "   'ta/nas/10_원시데이터(3사_분류대상)/2023_0910_중문골프클럽_데이터 1차 분류_완/해안 1H/2023_0910_중문골프클럽_해안1H_1.5m/20230910_1553-1605_물리적피해,디봇,충해,땅강아지,기타,버뮤다그래스,페어웨이,러프,화본과,잡초,띠/DJI_20230910155330_0001_MS_NIR.TIF',\n",
       "   'ta/nas/10_원시데이터(3사_분류대상)/2023_0910_중문골프클럽_데이터 1차 분류_완/해안 1H/2023_0910_중문골프클럽_해안1H_1.5m/20230910_1553-1605_물리적피해,디봇,충해,땅강아지,기타,버뮤다그래스,페어웨이,러프,화본과,잡초,띠/DJI_20230910155330_0001_MS_R.TIF',\n",
       "   'ta/nas/10_원시데이터(3사_분류대상)/2023_0910_중문골프클럽_데이터 1차 분류_완/해안 1H/2023_0910_중문골프클럽_해안1H_1.5m/20230910_1553-1605_물리적피해,디봇,충해,땅강아지,기타,버뮤다그래스,페어웨이,러프,화본과,잡초,띠/DJI_20230910155330_0001_MS_RE.TIF'],\n",
       "  'annotation': [],\n",
       "  'labelBy': '',\n",
       "  'GeoTagInfo': {'gps_altitude': Decimal('86.028'),\n",
       "   'datetime_original': '2023:09:10 15:53:30',\n",
       "   'coords': [Decimal('126.40164133333334'), Decimal('33.24804516666667')],\n",
       "   'gps_altitude_ref': Decimal('0')},\n",
       "  'id': '20230910155330_1264016413333_332480451667_86028000',\n",
       "  'label': [],\n",
       "  'originalFileJPG': 'ta/nas/10_원시데이터(3사_분류대상)/2023_0910_중문골프클럽_데이터 1차 분류_완/해안 1H/2023_0910_중문골프클럽_해안1H_1.5m/20230910_1553-1605_물리적피해,디봇,충해,땅강아지,기타,버뮤다그래스,페어웨이,러프,화본과,잡초,띠/DJI_20230910155330_0001_D.JPG',\n",
       "  'destFolder': '20230910/해안 1H/물리적피해,디봇,충해,땅강아지,기타,버뮤다그래스,페어웨이,러프,화본과,잡초,띠_3',\n",
       "  'dest': {'rgb': 'MGC003\\\\20230910\\\\해안 1H\\\\물리적피해,디봇,충해,땅강아지,기타,버뮤다그래스,페어웨이,러프,화본과,잡초,띠_3\\\\rgb\\\\rgb20230910155330_1264016413333_332480451667_86028000.JPG',\n",
       "   'thumb': 'MGC003\\\\20230910\\\\해안 1H\\\\물리적피해,디봇,충해,땅강아지,기타,버뮤다그래스,페어웨이,러프,화본과,잡초,띠_3\\\\thumb\\\\thumbrgb20230910155330_1264016413333_332480451667_86028000.JPG',\n",
       "   'ndvi': 'MGC003\\\\20230910\\\\해안 1H\\\\물리적피해,디봇,충해,땅강아지,기타,버뮤다그래스,페어웨이,러프,화본과,잡초,띠_3\\\\ndvi\\\\ndvi20230910155330_1264016413333_332480451667_86028000.JPG'},\n",
       "  'info': {'area': '해안 1H',\n",
       "   'alt': '1.5m',\n",
       "   'date': '20230910',\n",
       "   'course': '중문',\n",
       "   'desc': '물리적피해,디봇,충해,땅강아지,기타,버뮤다그래스,페어웨이,러프,화본과,잡초,띠_3'}},\n",
       " 'id': '20230910155330_1264016413333_332480451667_86028000',\n",
       " 'desc': '물리적피해,디봇,충해,땅강아지,기타,버뮤다그래스,페어웨이,러프,화본과,잡초,띠_3'}"
      ]
     },
     "execution_count": 8,
     "metadata": {},
     "output_type": "execute_result"
    }
   ],
   "source": [
    "alldata[0]"
   ]
  },
  {
   "cell_type": "code",
   "execution_count": 9,
   "metadata": {},
   "outputs": [],
   "source": [
    "df = pd.DataFrame(alldata)\n",
    "\n",
    "file_to_save = os.path.join(b_folder ,'Total'+datetime.now().strftime(\"%Y%m%d_%H%M%S\")+'.pickle')\n",
    "df.to_pickle(file_to_save)"
   ]
  },
  {
   "cell_type": "code",
   "execution_count": null,
   "metadata": {},
   "outputs": [],
   "source": []
  }
 ],
 "metadata": {
  "kernelspec": {
   "display_name": "Python 3.9.2 ('geo_James')",
   "language": "python",
   "name": "python3"
  },
  "language_info": {
   "codemirror_mode": {
    "name": "ipython",
    "version": 3
   },
   "file_extension": ".py",
   "mimetype": "text/x-python",
   "name": "python",
   "nbconvert_exporter": "python",
   "pygments_lexer": "ipython3",
   "version": "3.9.7"
  },
  "orig_nbformat": 4,
  "vscode": {
   "interpreter": {
    "hash": "af734be8ad55227f26227a3bb273225e8c732a9f6283c6f58fcb510615c38890"
   }
  }
 },
 "nbformat": 4,
 "nbformat_minor": 2
}
