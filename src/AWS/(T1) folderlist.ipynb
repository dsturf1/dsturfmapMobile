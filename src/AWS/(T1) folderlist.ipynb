{
 "cells": [
  {
   "cell_type": "code",
   "execution_count": 1,
   "metadata": {},
   "outputs": [],
   "source": [
    "import pandas as pd\n",
    "import re\n",
    "import os\n",
    "import numpy as np\n",
    "import glob\n",
    "from datetime import datetime\n",
    "import geopandas as gpd\n",
    "import json\n",
    "from shapely.geometry import shape, GeometryCollection\n",
    "from rasterio.plot import show\n",
    "import matplotlib.pyplot as plt\n",
    "from mpl_toolkits.mplot3d import Axes3D\n",
    "from matplotlib import cm\n",
    "from matplotlib import colors\n",
    "from utils import FeatureExtraction, feature_matching, decimal_coords\n",
    "from exif import Image as exifimg\n",
    "from PIL import Image\n",
    "\n",
    "import shutil\n",
    "import rasterio\n",
    "import cv2\n",
    "%matplotlib inline"
   ]
  },
  {
   "cell_type": "code",
   "execution_count": 2,
   "metadata": {},
   "outputs": [],
   "source": [
    "# 가능한 font list 확인\n",
    "import matplotlib.font_manager as fm\n",
    "f = [f.name for f in fm.fontManager.ttflist]\n",
    "# print(f)\n",
    "\n",
    "plt.rc('font', family='Malgun Gothic')"
   ]
  },
  {
   "cell_type": "code",
   "execution_count": 3,
   "metadata": {},
   "outputs": [],
   "source": [
    "import boto3\n",
    "from decimal import Decimal\n",
    "# Get the service resource.\n",
    "dynamodb = boto3.resource('dynamodb', region_name='ap-northeast-2')\n",
    "table = dynamodb.Table('dsnia_imagelabelsV2')\n",
    "# table = dynamodb.Table('dsnia_imagelabels')"
   ]
  },
  {
   "cell_type": "code",
   "execution_count": 4,
   "metadata": {},
   "outputs": [],
   "source": [
    "from boto3.dynamodb.conditions import Key, Attr\n",
    "from botocore.exceptions import ClientError"
   ]
  },
  {
   "cell_type": "code",
   "execution_count": 5,
   "metadata": {},
   "outputs": [],
   "source": [
    "\n",
    "courseid = \"MGC001\"\n",
    "date = \"20230816\"\n",
    "\n",
    "\n",
    "response = table.query(IndexName='courseid-id-index', KeyConditionExpression=Key('courseid').eq(courseid),  FilterExpression=Attr('date').eq(date))\n",
    "data =  response['Items']\n",
    "\n",
    "while 'LastEvaluatedKey' in response:\n",
    "    response = table.query(IndexName='courseid-id-index', KeyConditionExpression=Key('courseid').eq(courseid), \n",
    "     ExclusiveStartKey=response['LastEvaluatedKey'] ,FilterExpression=Attr('date').eq(date) )    \n",
    "    # response_ = table.scan(ExclusiveStartKey=response['LastEvaluatedKey'])\n",
    "    data.extend(response['Items'])"
   ]
  },
  {
   "cell_type": "code",
   "execution_count": 6,
   "metadata": {},
   "outputs": [
    {
     "data": {
      "text/plain": [
       "9184"
      ]
     },
     "execution_count": 6,
     "metadata": {},
     "output_type": "execute_result"
    }
   ],
   "source": [
    "len(data)"
   ]
  },
  {
   "cell_type": "code",
   "execution_count": 7,
   "metadata": {},
   "outputs": [],
   "source": [
    "folderList = list(set([x['json'].get('destFolder') for x in data]))\n",
    "# folderList"
   ]
  },
  {
   "cell_type": "markdown",
   "metadata": {},
   "source": [
    "{\n",
    "    \"path\": \"20230823/9_레이크4H/패취류,섬머패취,켄터키,티\",\n",
    "    \"file_cnt\": 478,\n",
    "    \"labeled_file_cnt\": 0\n",
    "  }"
   ]
  },
  {
   "cell_type": "code",
   "execution_count": 8,
   "metadata": {},
   "outputs": [
    {
     "name": "stdout",
     "output_type": "stream",
     "text": [
      "{'path': '20230816/5.동해3H/미기재_1', 'file_cnt': 402, 'labeled_file_cnt': 402, 'TBD_file_cnt': 0}\n",
      "{'path': '20230816/6.태백1H/미기재_3', 'file_cnt': 52, 'labeled_file_cnt': 52, 'TBD_file_cnt': 0}\n",
      "{'path': '20230816/2.태백5H/미기재_3', 'file_cnt': 66, 'labeled_file_cnt': 0, 'TBD_file_cnt': 0}\n",
      "{'path': '20230816/2.태백5H/미기재_1', 'file_cnt': 501, 'labeled_file_cnt': 501, 'TBD_file_cnt': 0}\n",
      "{'path': '20230816/2.태백5H/미기재_2', 'file_cnt': 501, 'labeled_file_cnt': 501, 'TBD_file_cnt': 0}\n",
      "{'path': '20230816/1.태백3H/미기재_3', 'file_cnt': 501, 'labeled_file_cnt': 480, 'TBD_file_cnt': 0}\n",
      "{'path': '20230816/6.태백1H/미기재_1', 'file_cnt': 501, 'labeled_file_cnt': 501, 'TBD_file_cnt': 0}\n",
      "{'path': '20230816/6.태백1H/미기재_0', 'file_cnt': 501, 'labeled_file_cnt': 501, 'TBD_file_cnt': 0}\n",
      "{'path': '20230816/6.태백1H/미기재_2', 'file_cnt': 501, 'labeled_file_cnt': 501, 'TBD_file_cnt': 0}\n",
      "{'path': '20230816/1.태백3H/미기재_2', 'file_cnt': 501, 'labeled_file_cnt': 501, 'TBD_file_cnt': 0}\n",
      "{'path': '20230816/3.동해1H/미기재_3', 'file_cnt': 501, 'labeled_file_cnt': 501, 'TBD_file_cnt': 0}\n",
      "{'path': '20230816/3.동해1H/미기재_1', 'file_cnt': 501, 'labeled_file_cnt': 501, 'TBD_file_cnt': 0}\n",
      "{'path': '20230816/3.동해1H/미기재_2', 'file_cnt': 501, 'labeled_file_cnt': 501, 'TBD_file_cnt': 0}\n",
      "{'path': '20230816/1.태백3H/미기재_4', 'file_cnt': 368, 'labeled_file_cnt': 368, 'TBD_file_cnt': 0}\n",
      "{'path': '20230816/4.동해2H/미기재_1', 'file_cnt': 95, 'labeled_file_cnt': 95, 'TBD_file_cnt': 0}\n",
      "{'path': '20230816/1.태백3H/미기재_0', 'file_cnt': 501, 'labeled_file_cnt': 53, 'TBD_file_cnt': 11}\n",
      "{'path': '20230816/5.동해3H/미기재_0', 'file_cnt': 501, 'labeled_file_cnt': 501, 'TBD_file_cnt': 0}\n",
      "{'path': '20230816/4.동해2H/미기재_0', 'file_cnt': 501, 'labeled_file_cnt': 501, 'TBD_file_cnt': 0}\n",
      "{'path': '20230816/2.태백5H/미기재_0', 'file_cnt': 501, 'labeled_file_cnt': 480, 'TBD_file_cnt': 0}\n",
      "{'path': '20230816/3.동해1H/미기재_4', 'file_cnt': 185, 'labeled_file_cnt': 185, 'TBD_file_cnt': 0}\n",
      "{'path': '20230816/1.태백3H/미기재_1', 'file_cnt': 501, 'labeled_file_cnt': 472, 'TBD_file_cnt': 0}\n",
      "{'path': '20230816/3.동해1H/미기재_0', 'file_cnt': 501, 'labeled_file_cnt': 500, 'TBD_file_cnt': 0}\n"
     ]
    }
   ],
   "source": [
    "folder_ = folderList[0]\n",
    "\n",
    "folderInfo = []\n",
    "\n",
    "for folder_ in folderList:\n",
    "  res = {}\n",
    "  res['path'] = folder_\n",
    "  res['file_cnt'] = len([x for x in data if x['json'].get('destFolder') == folder_])\n",
    "  res['labeled_file_cnt'] = len([x for x in data if x['json'].get('destFolder') == folder_ and len(x['json'].get('label')) !=0 ])\n",
    "  res['TBD_file_cnt'] = len([x for x in data if x['json'].get('destFolder') == folder_ and len([label_ for label_ in x['json'].get('label') if label_.get('level1') == \"TBD\"])])\n",
    "  print(res)\n",
    "  folderInfo.append(res)"
   ]
  },
  {
   "cell_type": "code",
   "execution_count": 9,
   "metadata": {},
   "outputs": [
    {
     "data": {
      "text/plain": [
       "[{'path': '20230816/5.동해3H/미기재_1',\n",
       "  'file_cnt': 402,\n",
       "  'labeled_file_cnt': 402,\n",
       "  'TBD_file_cnt': 0},\n",
       " {'path': '20230816/6.태백1H/미기재_3',\n",
       "  'file_cnt': 52,\n",
       "  'labeled_file_cnt': 52,\n",
       "  'TBD_file_cnt': 0},\n",
       " {'path': '20230816/2.태백5H/미기재_3',\n",
       "  'file_cnt': 66,\n",
       "  'labeled_file_cnt': 0,\n",
       "  'TBD_file_cnt': 0},\n",
       " {'path': '20230816/2.태백5H/미기재_1',\n",
       "  'file_cnt': 501,\n",
       "  'labeled_file_cnt': 501,\n",
       "  'TBD_file_cnt': 0},\n",
       " {'path': '20230816/2.태백5H/미기재_2',\n",
       "  'file_cnt': 501,\n",
       "  'labeled_file_cnt': 501,\n",
       "  'TBD_file_cnt': 0},\n",
       " {'path': '20230816/1.태백3H/미기재_3',\n",
       "  'file_cnt': 501,\n",
       "  'labeled_file_cnt': 480,\n",
       "  'TBD_file_cnt': 0},\n",
       " {'path': '20230816/6.태백1H/미기재_1',\n",
       "  'file_cnt': 501,\n",
       "  'labeled_file_cnt': 501,\n",
       "  'TBD_file_cnt': 0},\n",
       " {'path': '20230816/6.태백1H/미기재_0',\n",
       "  'file_cnt': 501,\n",
       "  'labeled_file_cnt': 501,\n",
       "  'TBD_file_cnt': 0},\n",
       " {'path': '20230816/6.태백1H/미기재_2',\n",
       "  'file_cnt': 501,\n",
       "  'labeled_file_cnt': 501,\n",
       "  'TBD_file_cnt': 0},\n",
       " {'path': '20230816/1.태백3H/미기재_2',\n",
       "  'file_cnt': 501,\n",
       "  'labeled_file_cnt': 501,\n",
       "  'TBD_file_cnt': 0},\n",
       " {'path': '20230816/3.동해1H/미기재_3',\n",
       "  'file_cnt': 501,\n",
       "  'labeled_file_cnt': 501,\n",
       "  'TBD_file_cnt': 0},\n",
       " {'path': '20230816/3.동해1H/미기재_1',\n",
       "  'file_cnt': 501,\n",
       "  'labeled_file_cnt': 501,\n",
       "  'TBD_file_cnt': 0},\n",
       " {'path': '20230816/3.동해1H/미기재_2',\n",
       "  'file_cnt': 501,\n",
       "  'labeled_file_cnt': 501,\n",
       "  'TBD_file_cnt': 0},\n",
       " {'path': '20230816/1.태백3H/미기재_4',\n",
       "  'file_cnt': 368,\n",
       "  'labeled_file_cnt': 368,\n",
       "  'TBD_file_cnt': 0},\n",
       " {'path': '20230816/4.동해2H/미기재_1',\n",
       "  'file_cnt': 95,\n",
       "  'labeled_file_cnt': 95,\n",
       "  'TBD_file_cnt': 0},\n",
       " {'path': '20230816/1.태백3H/미기재_0',\n",
       "  'file_cnt': 501,\n",
       "  'labeled_file_cnt': 53,\n",
       "  'TBD_file_cnt': 11},\n",
       " {'path': '20230816/5.동해3H/미기재_0',\n",
       "  'file_cnt': 501,\n",
       "  'labeled_file_cnt': 501,\n",
       "  'TBD_file_cnt': 0},\n",
       " {'path': '20230816/4.동해2H/미기재_0',\n",
       "  'file_cnt': 501,\n",
       "  'labeled_file_cnt': 501,\n",
       "  'TBD_file_cnt': 0},\n",
       " {'path': '20230816/2.태백5H/미기재_0',\n",
       "  'file_cnt': 501,\n",
       "  'labeled_file_cnt': 480,\n",
       "  'TBD_file_cnt': 0},\n",
       " {'path': '20230816/3.동해1H/미기재_4',\n",
       "  'file_cnt': 185,\n",
       "  'labeled_file_cnt': 185,\n",
       "  'TBD_file_cnt': 0},\n",
       " {'path': '20230816/1.태백3H/미기재_1',\n",
       "  'file_cnt': 501,\n",
       "  'labeled_file_cnt': 472,\n",
       "  'TBD_file_cnt': 0},\n",
       " {'path': '20230816/3.동해1H/미기재_0',\n",
       "  'file_cnt': 501,\n",
       "  'labeled_file_cnt': 500,\n",
       "  'TBD_file_cnt': 0}]"
      ]
     },
     "execution_count": 9,
     "metadata": {},
     "output_type": "execute_result"
    }
   ],
   "source": [
    "folderInfo"
   ]
  },
  {
   "cell_type": "code",
   "execution_count": 11,
   "metadata": {},
   "outputs": [
    {
     "data": {
      "text/plain": [
       "'c:\\\\Users\\\\yc463\\\\Documents\\\\JamesLocal\\\\DS\\\\Drone\\\\dsmapv2\\\\src\\\\AWS\\\\filepathBackUp'"
      ]
     },
     "execution_count": 11,
     "metadata": {},
     "output_type": "execute_result"
    }
   ],
   "source": [
    "AWS_folder = os.getcwd()\n",
    "\n",
    "b_folder = os.path.join(AWS_folder,'BACKUPS')\n",
    "b_folder\n",
    "\n",
    "src_folder = os.path.join(AWS_folder,'dataDownloaded')\n",
    "src_folder\n",
    "\n",
    "out_folder = os.path.join(AWS_folder,'filepathBackUp')\n",
    "out_folder"
   ]
  },
  {
   "cell_type": "code",
   "execution_count": 13,
   "metadata": {},
   "outputs": [],
   "source": [
    "save_name = os.path.join(out_folder,'filepath_'+courseid + '_'+date+'.json')\n",
    "with open(save_name, \"w\", encoding='utf-8') as final:\n",
    "   json.dump(folderInfo, final , ensure_ascii=False)"
   ]
  },
  {
   "cell_type": "code",
   "execution_count": null,
   "metadata": {},
   "outputs": [],
   "source": []
  }
 ],
 "metadata": {
  "kernelspec": {
   "display_name": "Python 3.9.2 ('geo_James')",
   "language": "python",
   "name": "python3"
  },
  "language_info": {
   "codemirror_mode": {
    "name": "ipython",
    "version": 3
   },
   "file_extension": ".py",
   "mimetype": "text/x-python",
   "name": "python",
   "nbconvert_exporter": "python",
   "pygments_lexer": "ipython3",
   "version": "3.9.7"
  },
  "orig_nbformat": 4,
  "vscode": {
   "interpreter": {
    "hash": "af734be8ad55227f26227a3bb273225e8c732a9f6283c6f58fcb510615c38890"
   }
  }
 },
 "nbformat": 4,
 "nbformat_minor": 2
}
