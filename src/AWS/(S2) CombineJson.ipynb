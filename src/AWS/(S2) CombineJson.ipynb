{
 "cells": [
  {
   "cell_type": "code",
   "execution_count": 1,
   "metadata": {},
   "outputs": [],
   "source": [
    "import pandas as pd\n",
    "import re\n",
    "import os\n",
    "import numpy as np\n",
    "import glob\n",
    "from datetime import datetime\n",
    "import geopandas as gpd\n",
    "import json\n",
    "from shapely.geometry import shape, GeometryCollection\n",
    "from rasterio.plot import show\n",
    "import matplotlib.pyplot as plt\n",
    "from mpl_toolkits.mplot3d import Axes3D\n",
    "from matplotlib import cm\n",
    "from matplotlib import colors\n",
    "from utils import FeatureExtraction, feature_matching, decimal_coords\n",
    "from exif import Image as exifimg\n",
    "from PIL import Image\n",
    "\n",
    "import shutil\n",
    "import rasterio\n",
    "import cv2\n",
    "%matplotlib inline"
   ]
  },
  {
   "cell_type": "code",
   "execution_count": 2,
   "metadata": {},
   "outputs": [],
   "source": [
    "# 가능한 font list 확인\n",
    "import matplotlib.font_manager as fm\n",
    "f = [f.name for f in fm.fontManager.ttflist]\n",
    "# print(f)\n",
    "\n",
    "plt.rc('font', family='Malgun Gothic')"
   ]
  },
  {
   "cell_type": "code",
   "execution_count": 20,
   "metadata": {},
   "outputs": [],
   "source": [
    "img_folder = r'D:\\original'\n",
    "out_folder = r'E:\\ToAWS2'\n",
    "\n",
    "course_list = ['청도','포항','중문','시흥','거창','속리산','춘천']\n",
    "\n",
    "course_ids = {\n",
    "  '포항':'MGC001',\n",
    "  '청도':'MGC002',\n",
    "  '중문':'MGC003',\n",
    "  '시흥':'MGC004',\n",
    "  '거창':'MGC005',\n",
    "  '속리산':'MGC006',\n",
    "  '춘천':'MGC007'\n",
    "}\n",
    "\n",
    "folder_type = ['rgb','ndvi','thumb']"
   ]
  },
  {
   "cell_type": "code",
   "execution_count": 22,
   "metadata": {},
   "outputs": [
    {
     "data": {
      "text/plain": [
       "'MGC003'"
      ]
     },
     "execution_count": 22,
     "metadata": {},
     "output_type": "execute_result"
    }
   ],
   "source": [
    "\n",
    "course_id = course_ids.get('중문')\n",
    "course_id"
   ]
  },
  {
   "cell_type": "code",
   "execution_count": 23,
   "metadata": {},
   "outputs": [
    {
     "data": {
      "text/plain": [
       "['E:\\\\ToAWS2\\\\MGC003\\\\20230910']"
      ]
     },
     "execution_count": 23,
     "metadata": {},
     "output_type": "execute_result"
    }
   ],
   "source": [
    "folders_candidate =glob.glob(os.path.join(out_folder,course_id,'*'))\n",
    "folders_candidate"
   ]
  },
  {
   "cell_type": "code",
   "execution_count": 24,
   "metadata": {},
   "outputs": [
    {
     "data": {
      "text/plain": [
       "'E:\\\\ToAWS2\\\\MGC003\\\\20230910'"
      ]
     },
     "execution_count": 24,
     "metadata": {},
     "output_type": "execute_result"
    }
   ],
   "source": [
    "target_folder = folders_candidate[0]\n",
    "target_folder"
   ]
  },
  {
   "cell_type": "code",
   "execution_count": 25,
   "metadata": {},
   "outputs": [
    {
     "data": {
      "text/plain": [
       "'20230910'"
      ]
     },
     "execution_count": 25,
     "metadata": {},
     "output_type": "execute_result"
    }
   ],
   "source": [
    "target_date = os.path.split(target_folder)[-1]\n",
    "target_date "
   ]
  },
  {
   "cell_type": "markdown",
   "metadata": {},
   "source": [
    "Gather all data json files from Output Folder"
   ]
  },
  {
   "cell_type": "code",
   "execution_count": 26,
   "metadata": {},
   "outputs": [
    {
     "data": {
      "text/plain": [
       "['E:\\\\ToAWS2\\\\MGC003\\\\20230910\\\\중문골프클럽 잔디보식지역\\\\data20230910중문골프클럽 잔디보식지역.json',\n",
       " 'E:\\\\ToAWS2\\\\MGC003\\\\20230910\\\\한라 4H\\\\data20230910한라 4H.json',\n",
       " 'E:\\\\ToAWS2\\\\MGC003\\\\20230910\\\\한라 5H\\\\data20230910한라 5H.json',\n",
       " 'E:\\\\ToAWS2\\\\MGC003\\\\20230910\\\\한라 6H\\\\data20230910한라 6H.json',\n",
       " 'E:\\\\ToAWS2\\\\MGC003\\\\20230910\\\\해안 1H\\\\data20230910해안 1H.json',\n",
       " 'E:\\\\ToAWS2\\\\MGC003\\\\20230910\\\\해안 2H\\\\data20230910해안 2H.json',\n",
       " 'E:\\\\ToAWS2\\\\MGC003\\\\20230910\\\\해안 6H\\\\data20230910해안 6H.json']"
      ]
     },
     "execution_count": 26,
     "metadata": {},
     "output_type": "execute_result"
    }
   ],
   "source": [
    "dataJsonList = glob.glob(os.path.join(out_folder,course_id,target_date,'**/data*.json'), recursive=True)\n",
    "dataJsonList"
   ]
  },
  {
   "cell_type": "code",
   "execution_count": 27,
   "metadata": {},
   "outputs": [],
   "source": [
    "folderinDataJson = []\n",
    "totalPhotoJson = []\n",
    "\n",
    "for dataJson_ in dataJsonList:\n",
    "  with open(dataJson_, \"r\", encoding='utf-8') as _json:\n",
    "    dataJson= json.load(_json)\n",
    "\n",
    "\n",
    "  for data_ in dataJson:\n",
    "    # if data_['dest']['thumb'][0] !=\"M\" :\n",
    "      data_['dest']['thumb'] = os.path.join(course_id,target_date,data_['info']['area'],data_['info']['desc'],'thumb','thumbrgb{}.JPG'.format( data_['id']) )\n",
    "    # if data_['dest']['rgb'][0] !=\"M\" :\n",
    "      data_['dest']['rgb'] = os.path.join(course_id,target_date,data_['info']['area'],data_['info']['desc'],'rgb','rgb{}.JPG'.format( data_['id']) )\n",
    "    # if data_['dest']['ndvi'][0] !=\"M\" :\n",
    "      data_['dest']['ndvi'] = os.path.join(course_id,target_date,data_['info']['area'],data_['info']['desc'],'ndvi','ndvi{}.JPG'.format( data_['id']) )\n",
    "    \n",
    "  \n",
    "  totalPhotoJson.extend(dataJson)\n",
    "\n",
    "  for Json_ in dataJson:\n",
    "    if Json_['destFolder'] not in folderinDataJson:\n",
    "      folderinDataJson.append(Json_['destFolder'])\n",
    "\n",
    "\n"
   ]
  },
  {
   "cell_type": "code",
   "execution_count": 28,
   "metadata": {},
   "outputs": [
    {
     "data": {
      "text/plain": [
       "16961"
      ]
     },
     "execution_count": 28,
     "metadata": {},
     "output_type": "execute_result"
    }
   ],
   "source": [
    "len(totalPhotoJson)"
   ]
  },
  {
   "cell_type": "code",
   "execution_count": 29,
   "metadata": {},
   "outputs": [
    {
     "data": {
      "text/plain": [
       "{'id': '20230910131355_1264064138889_332512323889_92468000',\n",
       " 'originalFileJPG': 'ta/nas/10_원시데이터(3사_분류대상)/2023_0910_중문골프클럽_데이터 1차 분류_완/중문골프클럽 잔디보식지역/2023_0910_중문골프클럽_잔디보식지역_0.5m/20230910_1313-1345_잔디보식지역/DJI_20230910131355_0001_D.JPG',\n",
       " 'originalFileGrp': ['ta/nas/10_원시데이터(3사_분류대상)/2023_0910_중문골프클럽_데이터 1차 분류_완/중문골프클럽 잔디보식지역/2023_0910_중문골프클럽_잔디보식지역_0.5m/20230910_1313-1345_잔디보식지역/DJI_20230910131355_0001_MS_G.TIF',\n",
       "  'ta/nas/10_원시데이터(3사_분류대상)/2023_0910_중문골프클럽_데이터 1차 분류_완/중문골프클럽 잔디보식지역/2023_0910_중문골프클럽_잔디보식지역_0.5m/20230910_1313-1345_잔디보식지역/DJI_20230910131355_0001_MS_NIR.TIF',\n",
       "  'ta/nas/10_원시데이터(3사_분류대상)/2023_0910_중문골프클럽_데이터 1차 분류_완/중문골프클럽 잔디보식지역/2023_0910_중문골프클럽_잔디보식지역_0.5m/20230910_1313-1345_잔디보식지역/DJI_20230910131355_0001_MS_R.TIF',\n",
       "  'ta/nas/10_원시데이터(3사_분류대상)/2023_0910_중문골프클럽_데이터 1차 분류_완/중문골프클럽 잔디보식지역/2023_0910_중문골프클럽_잔디보식지역_0.5m/20230910_1313-1345_잔디보식지역/DJI_20230910131355_0001_MS_RE.TIF'],\n",
       " 'destFolder': '20230910/중문골프클럽 잔디보식지역/잔디보식지역_0',\n",
       " 'GeoTagInfo': {'coords': [126.40641388888889, 33.25123238888889],\n",
       "  'datetime_original': '2023:09:10 13:13:55',\n",
       "  'gps_altitude': 92.468,\n",
       "  'gps_altitude_ref': 0},\n",
       " 'dest': {'rgb': 'MGC003\\\\20230910\\\\중문골프클럽 잔디보식지역\\\\잔디보식지역_0\\\\rgb\\\\rgb20230910131355_1264064138889_332512323889_92468000.JPG',\n",
       "  'ndvi': 'MGC003\\\\20230910\\\\중문골프클럽 잔디보식지역\\\\잔디보식지역_0\\\\ndvi\\\\ndvi20230910131355_1264064138889_332512323889_92468000.JPG',\n",
       "  'thumb': 'MGC003\\\\20230910\\\\중문골프클럽 잔디보식지역\\\\잔디보식지역_0\\\\thumb\\\\thumbrgb20230910131355_1264064138889_332512323889_92468000.JPG'},\n",
       " 'info': {'course': '중문',\n",
       "  'area': '중문골프클럽 잔디보식지역',\n",
       "  'desc': '잔디보식지역_0',\n",
       "  'alt': '0.5m',\n",
       "  'date': '20230910'},\n",
       " 'label': [],\n",
       " 'annotation': [],\n",
       " 'labelBy': ''}"
      ]
     },
     "execution_count": 29,
     "metadata": {},
     "output_type": "execute_result"
    }
   ],
   "source": [
    "totalPhotoJson[0]"
   ]
  },
  {
   "cell_type": "code",
   "execution_count": 30,
   "metadata": {},
   "outputs": [],
   "source": [
    "save_name = os.path.join(out_folder,course_id,target_date, 'photo.json')\n",
    "with open(save_name, \"w\", encoding='utf-8') as final:\n",
    "   json.dump(totalPhotoJson, final , ensure_ascii=False)"
   ]
  },
  {
   "cell_type": "code",
   "execution_count": 31,
   "metadata": {},
   "outputs": [],
   "source": [
    "filestructure = []\n",
    "\n",
    "\n",
    "for folder_ in folderinDataJson:\n",
    "  fileinfo = {}\n",
    "  fileinfo[\"path\"] = folder_\n",
    "  fileinfo[\"file_cnt\"] = len([ x for x in totalPhotoJson if x[\"destFolder\"] == folder_])\n",
    "  fileinfo[\"labeled_file_cnt\"] = 0\n",
    "  filestructure.append(fileinfo)\n",
    "  "
   ]
  },
  {
   "cell_type": "code",
   "execution_count": 32,
   "metadata": {},
   "outputs": [],
   "source": [
    "save_name = os.path.join(out_folder,course_id,target_date, 'filepath_'+course_id + '_'+target_date+'.json')\n",
    "with open(save_name, \"w\", encoding='utf-8') as final:\n",
    "   json.dump(filestructure, final , ensure_ascii=False)"
   ]
  },
  {
   "cell_type": "code",
   "execution_count": 33,
   "metadata": {},
   "outputs": [
    {
     "data": {
      "text/plain": [
       "[{'path': '20230910/중문골프클럽 잔디보식지역/잔디보식지역_0',\n",
       "  'file_cnt': 501,\n",
       "  'labeled_file_cnt': 0},\n",
       " {'path': '20230910/중문골프클럽 잔디보식지역/잔디보식지역_1',\n",
       "  'file_cnt': 501,\n",
       "  'labeled_file_cnt': 0},\n",
       " {'path': '20230910/중문골프클럽 잔디보식지역/잔디보식지역_2',\n",
       "  'file_cnt': 501,\n",
       "  'labeled_file_cnt': 0},\n",
       " {'path': '20230910/중문골프클럽 잔디보식지역/잔디보식지역_3',\n",
       "  'file_cnt': 501,\n",
       "  'labeled_file_cnt': 0},\n",
       " {'path': '20230910/중문골프클럽 잔디보식지역/잔디보식지역_4',\n",
       "  'file_cnt': 501,\n",
       "  'labeled_file_cnt': 0},\n",
       " {'path': '20230910/중문골프클럽 잔디보식지역/잔디보식지역_5',\n",
       "  'file_cnt': 501,\n",
       "  'labeled_file_cnt': 0},\n",
       " {'path': '20230910/중문골프클럽 잔디보식지역/잔디보식지역_6',\n",
       "  'file_cnt': 501,\n",
       "  'labeled_file_cnt': 0},\n",
       " {'path': '20230910/중문골프클럽 잔디보식지역/잔디보식지역_7',\n",
       "  'file_cnt': 4,\n",
       "  'labeled_file_cnt': 0},\n",
       " {'path': '20230910/한라 4H/물리적피해,장비피해,잡초,광엽,피막이_0',\n",
       "  'file_cnt': 501,\n",
       "  'labeled_file_cnt': 0},\n",
       " {'path': '20230910/한라 4H/물리적피해,장비피해,잡초,광엽,피막이_1',\n",
       "  'file_cnt': 501,\n",
       "  'labeled_file_cnt': 0},\n",
       " {'path': '20230910/한라 4H/물리적피해,장비피해,잡초,광엽,피막이_2',\n",
       "  'file_cnt': 501,\n",
       "  'labeled_file_cnt': 0},\n",
       " {'path': '20230910/한라 4H/물리적피해,장비피해,잡초,광엽,피막이_3',\n",
       "  'file_cnt': 501,\n",
       "  'labeled_file_cnt': 0},\n",
       " {'path': '20230910/한라 4H/티,물리적피해,디봇,장비,피막이_0',\n",
       "  'file_cnt': 501,\n",
       "  'labeled_file_cnt': 0},\n",
       " {'path': '20230910/한라 4H/티,물리적피해,디봇,장비,피막이_1',\n",
       "  'file_cnt': 501,\n",
       "  'labeled_file_cnt': 0},\n",
       " {'path': '20230910/한라 4H/티,물리적피해,디봇,장비,피막이_2',\n",
       "  'file_cnt': 501,\n",
       "  'labeled_file_cnt': 0},\n",
       " {'path': '20230910/한라 4H/물리적피해,장비피해,잡초,광엽,피막이_4',\n",
       "  'file_cnt': 501,\n",
       "  'labeled_file_cnt': 0},\n",
       " {'path': '20230910/한라 4H/물리적피해,장비피해,잡초,광엽,피막이_5',\n",
       "  'file_cnt': 501,\n",
       "  'labeled_file_cnt': 0},\n",
       " {'path': '20230910/한라 4H/물리적피해,장비피해,잡초,광엽,피막이_6',\n",
       "  'file_cnt': 369,\n",
       "  'labeled_file_cnt': 0},\n",
       " {'path': '20230910/한라 4H/티,물리적피해,디봇,장비,피막이_3',\n",
       "  'file_cnt': 483,\n",
       "  'labeled_file_cnt': 0},\n",
       " {'path': '20230910/한라 5H/플레이어답압,물리적피해,장비,스캘핑_0',\n",
       "  'file_cnt': 501,\n",
       "  'labeled_file_cnt': 0},\n",
       " {'path': '20230910/한라 5H/플레이어답압,물리적피해,장비,스캘핑_1',\n",
       "  'file_cnt': 501,\n",
       "  'labeled_file_cnt': 0},\n",
       " {'path': '20230910/한라 5H/플레이어답압,물리적피해,장비,스캘핑_2',\n",
       "  'file_cnt': 124,\n",
       "  'labeled_file_cnt': 0},\n",
       " {'path': '20230910/한라 5H/플레이어답압,물리적피해,장비,스캘핑(2)_0',\n",
       "  'file_cnt': 383,\n",
       "  'labeled_file_cnt': 0},\n",
       " {'path': '20230910/한라 5H/미기재_0', 'file_cnt': 123, 'labeled_file_cnt': 0},\n",
       " {'path': '20230910/한라 6H/물리적피해,장비피해,스캘핑,잡초,사과초,기타,향부자,광엽,피막이_0',\n",
       "  'file_cnt': 501,\n",
       "  'labeled_file_cnt': 0},\n",
       " {'path': '20230910/한라 6H/물리적피해,장비피해,스캘핑,잡초,사과초,기타,향부자,광엽,피막이_1',\n",
       "  'file_cnt': 501,\n",
       "  'labeled_file_cnt': 0},\n",
       " {'path': '20230910/한라 6H/물리적피해,장비피해,스캘핑,잡초,사과초,기타,향부자,광엽,피막이_2',\n",
       "  'file_cnt': 501,\n",
       "  'labeled_file_cnt': 0},\n",
       " {'path': '20230910/한라 6H/물리적피해,장비피해,스캘핑,잡초,사과초,기타,향부자,광엽,피막이_3',\n",
       "  'file_cnt': 41,\n",
       "  'labeled_file_cnt': 0},\n",
       " {'path': '20230910/해안 1H/물리적피해,디봇,충해,땅강아지,기타,버뮤다그래스,페어웨이,러프,화본과,잡초,띠_0',\n",
       "  'file_cnt': 501,\n",
       "  'labeled_file_cnt': 0},\n",
       " {'path': '20230910/해안 1H/물리적피해,디봇,충해,땅강아지,기타,버뮤다그래스,페어웨이,러프,화본과,잡초,띠_1',\n",
       "  'file_cnt': 501,\n",
       "  'labeled_file_cnt': 0},\n",
       " {'path': '20230910/해안 1H/물리적피해,디봇,충해,땅강아지,기타,버뮤다그래스,페어웨이,러프,화본과,잡초,띠_2',\n",
       "  'file_cnt': 501,\n",
       "  'labeled_file_cnt': 0},\n",
       " {'path': '20230910/해안 1H/물리적피해,디봇,충해,땅강아지,잡초,화본과,띠_0',\n",
       "  'file_cnt': 361,\n",
       "  'labeled_file_cnt': 0},\n",
       " {'path': '20230910/해안 1H/물리적피해,디봇,충해,땅강아지,기타,버뮤다그래스,페어웨이,러프,화본과,잡초,띠_3',\n",
       "  'file_cnt': 501,\n",
       "  'labeled_file_cnt': 0},\n",
       " {'path': '20230910/해안 1H/물리적피해,디봇,충해,땅강아지,기타,버뮤다그래스,페어웨이,러프,화본과,잡초,띠_4',\n",
       "  'file_cnt': 43,\n",
       "  'labeled_file_cnt': 0},\n",
       " {'path': '20230910/해안 2H/물리적피해,답압,장비,충해,땅강아지_0',\n",
       "  'file_cnt': 501,\n",
       "  'labeled_file_cnt': 0},\n",
       " {'path': '20230910/해안 2H/물리적피해,답압,장비,충해,땅강아지_1',\n",
       "  'file_cnt': 501,\n",
       "  'labeled_file_cnt': 0},\n",
       " {'path': '20230910/해안 2H/물리적피해,답압,장비,충해,땅강아지_2',\n",
       "  'file_cnt': 8,\n",
       "  'labeled_file_cnt': 0},\n",
       " {'path': '20230910/해안 6H/물리적피해,장비,스켈핑_0',\n",
       "  'file_cnt': 501,\n",
       "  'labeled_file_cnt': 0},\n",
       " {'path': '20230910/해안 6H/물리적피해,장비,스켈핑_1',\n",
       "  'file_cnt': 501,\n",
       "  'labeled_file_cnt': 0},\n",
       " {'path': '20230910/해안 6H/물리적피해,장비,스켈핑_2',\n",
       "  'file_cnt': 493,\n",
       "  'labeled_file_cnt': 0}]"
      ]
     },
     "execution_count": 33,
     "metadata": {},
     "output_type": "execute_result"
    }
   ],
   "source": [
    "filestructure"
   ]
  },
  {
   "cell_type": "code",
   "execution_count": null,
   "metadata": {},
   "outputs": [],
   "source": []
  }
 ],
 "metadata": {
  "kernelspec": {
   "display_name": "Python 3.9.2 ('geo_James')",
   "language": "python",
   "name": "python3"
  },
  "language_info": {
   "codemirror_mode": {
    "name": "ipython",
    "version": 3
   },
   "file_extension": ".py",
   "mimetype": "text/x-python",
   "name": "python",
   "nbconvert_exporter": "python",
   "pygments_lexer": "ipython3",
   "version": "3.9.7"
  },
  "orig_nbformat": 4,
  "vscode": {
   "interpreter": {
    "hash": "af734be8ad55227f26227a3bb273225e8c732a9f6283c6f58fcb510615c38890"
   }
  }
 },
 "nbformat": 4,
 "nbformat_minor": 2
}
