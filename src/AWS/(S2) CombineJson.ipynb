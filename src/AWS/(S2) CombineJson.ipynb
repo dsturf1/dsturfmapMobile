{
 "cells": [
  {
   "cell_type": "code",
   "execution_count": 28,
   "metadata": {},
   "outputs": [],
   "source": [
    "import pandas as pd\n",
    "import re\n",
    "import os\n",
    "import numpy as np\n",
    "import glob\n",
    "from datetime import datetime\n",
    "import geopandas as gpd\n",
    "import json\n",
    "from shapely.geometry import shape, GeometryCollection\n",
    "from rasterio.plot import show\n",
    "import matplotlib.pyplot as plt\n",
    "from mpl_toolkits.mplot3d import Axes3D\n",
    "from matplotlib import cm\n",
    "from matplotlib import colors\n",
    "from utils import FeatureExtraction, feature_matching, decimal_coords\n",
    "from exif import Image as exifimg\n",
    "from PIL import Image\n",
    "\n",
    "import shutil\n",
    "import rasterio\n",
    "import cv2\n",
    "%matplotlib inline"
   ]
  },
  {
   "cell_type": "code",
   "execution_count": 29,
   "metadata": {},
   "outputs": [],
   "source": [
    "# 가능한 font list 확인\n",
    "import matplotlib.font_manager as fm\n",
    "f = [f.name for f in fm.fontManager.ttflist]\n",
    "# print(f)\n",
    "\n",
    "plt.rc('font', family='Malgun Gothic')"
   ]
  },
  {
   "cell_type": "code",
   "execution_count": 30,
   "metadata": {},
   "outputs": [],
   "source": [
    "img_folder = r'D:\\original'\n",
    "out_folder = r'D:\\ToAWS2'\n",
    "\n",
    "course_list = ['청도','포항','중문','시흥','거창','속리산','춘천']\n",
    "\n",
    "course_ids = {\n",
    "  '포항':'MGC001',\n",
    "  '청도':'MGC002',\n",
    "  '중문':'MGC003',\n",
    "  '시흥':'MGC004',\n",
    "  '거창':'MGC005',\n",
    "  '속리산':'MGC006',\n",
    "  '춘천':'MGC007'\n",
    "}\n",
    "\n",
    "folder_type = ['rgb','ndvi','thumb']"
   ]
  },
  {
   "cell_type": "code",
   "execution_count": 31,
   "metadata": {},
   "outputs": [
    {
     "data": {
      "text/plain": [
       "'MGC002'"
      ]
     },
     "execution_count": 31,
     "metadata": {},
     "output_type": "execute_result"
    }
   ],
   "source": [
    "\n",
    "course_id = course_ids.get('청도')\n",
    "course_id"
   ]
  },
  {
   "cell_type": "code",
   "execution_count": 32,
   "metadata": {},
   "outputs": [
    {
     "data": {
      "text/plain": [
       "['D:\\\\ToAWS2\\\\MGC002\\\\20230907']"
      ]
     },
     "execution_count": 32,
     "metadata": {},
     "output_type": "execute_result"
    }
   ],
   "source": [
    "folders_candidate =glob.glob(os.path.join(out_folder,course_id,'*'))\n",
    "folders_candidate"
   ]
  },
  {
   "cell_type": "code",
   "execution_count": 33,
   "metadata": {},
   "outputs": [
    {
     "data": {
      "text/plain": [
       "'D:\\\\ToAWS2\\\\MGC002\\\\20230907'"
      ]
     },
     "execution_count": 33,
     "metadata": {},
     "output_type": "execute_result"
    }
   ],
   "source": [
    "target_folder = folders_candidate[0]\n",
    "target_folder"
   ]
  },
  {
   "cell_type": "code",
   "execution_count": 34,
   "metadata": {},
   "outputs": [
    {
     "data": {
      "text/plain": [
       "'20230907'"
      ]
     },
     "execution_count": 34,
     "metadata": {},
     "output_type": "execute_result"
    }
   ],
   "source": [
    "target_date = os.path.split(target_folder)[-1]\n",
    "target_date "
   ]
  },
  {
   "cell_type": "markdown",
   "metadata": {},
   "source": [
    "Gather all data json files from Output Folder"
   ]
  },
  {
   "cell_type": "code",
   "execution_count": 35,
   "metadata": {},
   "outputs": [
    {
     "data": {
      "text/plain": [
       "['D:\\\\ToAWS2\\\\MGC002\\\\20230907\\\\청도그레이스_레이크1H\\\\data20230907청도그레이스_레이크1H.json',\n",
       " 'D:\\\\ToAWS2\\\\MGC002\\\\20230907\\\\청도그레이스_레이크2H\\\\data20230907청도그레이스_레이크2H.json',\n",
       " 'D:\\\\ToAWS2\\\\MGC002\\\\20230907\\\\청도그레이스_레이크4H\\\\data20230907청도그레이스_레이크4H.json',\n",
       " 'D:\\\\ToAWS2\\\\MGC002\\\\20230907\\\\청도그레이스_마운틴1H\\\\data20230907청도그레이스_마운틴1H.json',\n",
       " 'D:\\\\ToAWS2\\\\MGC002\\\\20230907\\\\청도그레이스_마운틴2H\\\\data20230907청도그레이스_마운틴2H.json',\n",
       " 'D:\\\\ToAWS2\\\\MGC002\\\\20230907\\\\청도그레이스_마운틴3H\\\\data20230907청도그레이스_마운틴3H.json',\n",
       " 'D:\\\\ToAWS2\\\\MGC002\\\\20230907\\\\청도그레이스_마운틴4H\\\\data20230907청도그레이스_마운틴4H.json',\n",
       " 'D:\\\\ToAWS2\\\\MGC002\\\\20230907\\\\청도그레이스_마운틴5H\\\\data20230907청도그레이스_마운틴5H.json',\n",
       " 'D:\\\\ToAWS2\\\\MGC002\\\\20230907\\\\청도그레이스_마운틴6H\\\\data20230907청도그레이스_마운틴6H.json',\n",
       " 'D:\\\\ToAWS2\\\\MGC002\\\\20230907\\\\청도그레이스_마운틴7H\\\\data20230907청도그레이스_마운틴7H.json',\n",
       " 'D:\\\\ToAWS2\\\\MGC002\\\\20230907\\\\청도그레이스_마운틴너스리포장\\\\data20230907청도그레이스_마운틴너스리포장.json',\n",
       " 'D:\\\\ToAWS2\\\\MGC002\\\\20230907\\\\청도그레이스_스타트퍼팅그린\\\\data20230907청도그레이스_스타트퍼팅그린.json']"
      ]
     },
     "execution_count": 35,
     "metadata": {},
     "output_type": "execute_result"
    }
   ],
   "source": [
    "dataJsonList = glob.glob(os.path.join(out_folder,course_id,target_date,'**/data*.json'), recursive=True)\n",
    "dataJsonList"
   ]
  },
  {
   "cell_type": "code",
   "execution_count": 36,
   "metadata": {},
   "outputs": [],
   "source": [
    "folderinDataJson = []\n",
    "totalPhotoJson = []\n",
    "\n",
    "for dataJson_ in dataJsonList:\n",
    "  with open(dataJson_, \"r\") as _json:\n",
    "    dataJson= json.load(_json)\n",
    "\n",
    "\n",
    "  for data_ in dataJson:\n",
    "    # if data_['dest']['thumb'][0] !=\"M\" :\n",
    "      data_['dest']['thumb'] = os.path.join(course_id,target_date,data_['info']['area'],data_['info']['desc'],'thumb','thumbrgb{}.JPG'.format( data_['id']) )\n",
    "    # if data_['dest']['rgb'][0] !=\"M\" :\n",
    "      data_['dest']['rgb'] = os.path.join(course_id,target_date,data_['info']['area'],data_['info']['desc'],'rgb','rgb{}.JPG'.format( data_['id']) )\n",
    "    # if data_['dest']['ndvi'][0] !=\"M\" :\n",
    "      data_['dest']['ndvi'] = os.path.join(course_id,target_date,data_['info']['area'],data_['info']['desc'],'ndvi','ndvi{}.JPG'.format( data_['id']) )\n",
    "    \n",
    "  \n",
    "  totalPhotoJson.extend(dataJson)\n",
    "\n",
    "  for Json_ in dataJson:\n",
    "    if Json_['destFolder'] not in folderinDataJson:\n",
    "      folderinDataJson.append(Json_['destFolder'])\n",
    "\n",
    "\n"
   ]
  },
  {
   "cell_type": "code",
   "execution_count": 37,
   "metadata": {},
   "outputs": [
    {
     "data": {
      "text/plain": [
       "9891"
      ]
     },
     "execution_count": 37,
     "metadata": {},
     "output_type": "execute_result"
    }
   ],
   "source": [
    "len(totalPhotoJson)"
   ]
  },
  {
   "cell_type": "code",
   "execution_count": 38,
   "metadata": {},
   "outputs": [
    {
     "data": {
      "text/plain": [
       "{'id': '20230907150744_1286447571944_356629456389_156910000',\n",
       " 'originalFileJPG': 'NIA_2023_52_잔디\\\\10_원시데이터(3사_분류대상)\\\\2023_0907_청도그레이스_맑은날_구름조금_데이터 1차 분류_완\\\\청도그레이스_레이크1H\\\\2023_0907_청도그레이스_레이크1H_0.5m\\\\20230907_1507-1513_패취류,섬머패취,켄터키,티,잡초,이종잔디,한국잔디\\\\DJI_20230907150744_0001_D.JPG',\n",
       " 'originalFileGrp': ['NIA_2023_52_잔디\\\\10_원시데이터(3사_분류대상)\\\\2023_0907_청도그레이스_맑은날_구름조금_데이터 1차 분류_완\\\\청도그레이스_레이크1H\\\\2023_0907_청도그레이스_레이크1H_0.5m\\\\20230907_1507-1513_패취류,섬머패취,켄터키,티,잡초,이종잔디,한국잔디\\\\DJI_20230907150744_0001_MS_G.TIF',\n",
       "  'NIA_2023_52_잔디\\\\10_원시데이터(3사_분류대상)\\\\2023_0907_청도그레이스_맑은날_구름조금_데이터 1차 분류_완\\\\청도그레이스_레이크1H\\\\2023_0907_청도그레이스_레이크1H_0.5m\\\\20230907_1507-1513_패취류,섬머패취,켄터키,티,잡초,이종잔디,한국잔디\\\\DJI_20230907150744_0001_MS_NIR.TIF',\n",
       "  'NIA_2023_52_잔디\\\\10_원시데이터(3사_분류대상)\\\\2023_0907_청도그레이스_맑은날_구름조금_데이터 1차 분류_완\\\\청도그레이스_레이크1H\\\\2023_0907_청도그레이스_레이크1H_0.5m\\\\20230907_1507-1513_패취류,섬머패취,켄터키,티,잡초,이종잔디,한국잔디\\\\DJI_20230907150744_0001_MS_R.TIF',\n",
       "  'NIA_2023_52_잔디\\\\10_원시데이터(3사_분류대상)\\\\2023_0907_청도그레이스_맑은날_구름조금_데이터 1차 분류_완\\\\청도그레이스_레이크1H\\\\2023_0907_청도그레이스_레이크1H_0.5m\\\\20230907_1507-1513_패취류,섬머패취,켄터키,티,잡초,이종잔디,한국잔디\\\\DJI_20230907150744_0001_MS_RE.TIF'],\n",
       " 'destFolder': '20230907/청도그레이스_레이크1H/패취류,섬머패취,켄터키,티,잡초,이종잔디,한국잔디_0',\n",
       " 'GeoTagInfo': {'coords': [128.64475719444442, 35.662945638888885],\n",
       "  'datetime_original': '2023:09:07 15:07:44',\n",
       "  'gps_altitude': 156.91,\n",
       "  'gps_altitude_ref': 0},\n",
       " 'dest': {'rgb': 'MGC002\\\\20230907\\\\청도그레이스_레이크1H\\\\패취류,섬머패취,켄터키,티,잡초,이종잔디,한국잔디_0\\\\rgb\\\\rgb20230907150744_1286447571944_356629456389_156910000.JPG',\n",
       "  'ndvi': 'MGC002\\\\20230907\\\\청도그레이스_레이크1H\\\\패취류,섬머패취,켄터키,티,잡초,이종잔디,한국잔디_0\\\\ndvi\\\\ndvi20230907150744_1286447571944_356629456389_156910000.JPG',\n",
       "  'thumb': 'MGC002\\\\20230907\\\\청도그레이스_레이크1H\\\\패취류,섬머패취,켄터키,티,잡초,이종잔디,한국잔디_0\\\\thumb\\\\thumbrgb20230907150744_1286447571944_356629456389_156910000.JPG'},\n",
       " 'info': {'course': '청도',\n",
       "  'area': '청도그레이스_레이크1H',\n",
       "  'desc': '패취류,섬머패취,켄터키,티,잡초,이종잔디,한국잔디_0',\n",
       "  'alt': '0.5m',\n",
       "  'date': '20230907'},\n",
       " 'label': [],\n",
       " 'annotation': [],\n",
       " 'labelBy': ''}"
      ]
     },
     "execution_count": 38,
     "metadata": {},
     "output_type": "execute_result"
    }
   ],
   "source": [
    "totalPhotoJson[0]"
   ]
  },
  {
   "cell_type": "code",
   "execution_count": 39,
   "metadata": {},
   "outputs": [],
   "source": [
    "save_name = os.path.join(out_folder,course_id,target_date, 'photo.json')\n",
    "with open(save_name, \"w\", encoding='utf-8') as final:\n",
    "   json.dump(totalPhotoJson, final , ensure_ascii=False)"
   ]
  },
  {
   "cell_type": "code",
   "execution_count": 40,
   "metadata": {},
   "outputs": [],
   "source": [
    "filestructure = []\n",
    "\n",
    "\n",
    "for folder_ in folderinDataJson:\n",
    "  fileinfo = {}\n",
    "  fileinfo[\"path\"] = folder_\n",
    "  fileinfo[\"file_cnt\"] = len([ x for x in totalPhotoJson if x[\"destFolder\"] == folder_])\n",
    "  fileinfo[\"labeled_file_cnt\"] = 0\n",
    "  filestructure.append(fileinfo)\n",
    "  "
   ]
  },
  {
   "cell_type": "code",
   "execution_count": 41,
   "metadata": {},
   "outputs": [],
   "source": [
    "save_name = os.path.join(out_folder,course_id,target_date, 'filepath_'+course_id + '_'+target_date+'.json')\n",
    "with open(save_name, \"w\", encoding='utf-8') as final:\n",
    "   json.dump(filestructure, final , ensure_ascii=False)"
   ]
  },
  {
   "cell_type": "code",
   "execution_count": null,
   "metadata": {},
   "outputs": [],
   "source": []
  }
 ],
 "metadata": {
  "kernelspec": {
   "display_name": "Python 3.9.2 ('geo_James')",
   "language": "python",
   "name": "python3"
  },
  "language_info": {
   "codemirror_mode": {
    "name": "ipython",
    "version": 3
   },
   "file_extension": ".py",
   "mimetype": "text/x-python",
   "name": "python",
   "nbconvert_exporter": "python",
   "pygments_lexer": "ipython3",
   "version": "3.9.7"
  },
  "orig_nbformat": 4,
  "vscode": {
   "interpreter": {
    "hash": "af734be8ad55227f26227a3bb273225e8c732a9f6283c6f58fcb510615c38890"
   }
  }
 },
 "nbformat": 4,
 "nbformat_minor": 2
}
