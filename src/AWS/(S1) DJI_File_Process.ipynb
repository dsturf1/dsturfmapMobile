{
 "cells": [
  {
   "cell_type": "code",
   "execution_count": 2,
   "metadata": {},
   "outputs": [],
   "source": [
    "import pandas as pd\n",
    "import re\n",
    "import os\n",
    "import numpy as np\n",
    "import glob\n",
    "from datetime import datetime\n",
    "import geopandas as gpd\n",
    "import json\n",
    "from shapely.geometry import shape, GeometryCollection\n",
    "from rasterio.plot import show\n",
    "import matplotlib.pyplot as plt\n",
    "from mpl_toolkits.mplot3d import Axes3D\n",
    "from matplotlib import cm\n",
    "from matplotlib import colors\n",
    "from utils import FeatureExtraction, feature_matching, decimal_coords\n",
    "from exif import Image as exifimg\n",
    "from PIL import Image\n",
    "\n",
    "import shutil\n",
    "import rasterio\n",
    "import cv2\n",
    "%matplotlib inline"
   ]
  },
  {
   "cell_type": "code",
   "execution_count": 3,
   "metadata": {},
   "outputs": [],
   "source": [
    "# 가능한 font list 확인\n",
    "import matplotlib.font_manager as fm\n",
    "f = [f.name for f in fm.fontManager.ttflist]\n",
    "# print(f)\n",
    "\n",
    "plt.rc('font', family='Malgun Gothic')"
   ]
  },
  {
   "cell_type": "code",
   "execution_count": 4,
   "metadata": {},
   "outputs": [],
   "source": [
    "def getInfo(filesGrp, img_path):\n",
    "\n",
    "  dslabel = {\n",
    "    \"id\":\"\",\n",
    "    \"originalFileJPG\":\"\",\n",
    "    \"originalFileGrp\":[],\n",
    "    \"destFolder\":\"\",\n",
    "    \"GeoTagInfo\":{\n",
    "      \"coords\":[],\n",
    "      \"datetime_original\":\"\",\n",
    "      \"gps_altitude\":0,\n",
    "      \"gps_altitude_ref\":\"\"    \n",
    "    },\n",
    "    \"dest\":{\n",
    "      \"rgb\":\"\",\n",
    "      \"ndvi\":\"\",\n",
    "      \"thumb\":\"\",\n",
    "    },\n",
    "    \"info\":{\n",
    "      \"course\":\"\",\n",
    "      \"area\":\"\",\n",
    "      \"desc\":\"\",\n",
    "      \"alt\":\"\"\n",
    "    },\n",
    "    \"label\":[],\n",
    "    \"annotation\":[],\n",
    "    \"labelBy\":\"\"\n",
    "  }\n",
    "\n",
    "# Remove Drive letter with root path\n",
    "  dslabel['originalFileJPG'] = img_path[3:]\n",
    "  dslabel['originalFileGrp'] = [x[3:] for x in filesGrp  if ('.JPG' not in x)]\n",
    "\n",
    "  with open(img_path, 'rb') as src:\n",
    "    img = exifimg(src)\n",
    "\n",
    "  coords = [\n",
    "    decimal_coords(img.gps_longitude,\n",
    "    img.gps_longitude_ref),\n",
    "      decimal_coords(img.gps_latitude,\n",
    "    img.gps_latitude_ref)\n",
    "  ]\n",
    "\n",
    "  dslabel['id'] = img.datetime_original.replace(\" \",\"\").replace(\":\",\"\") + \"_{:.10f}\".format(coords[0]).replace(\".\",\"\") + \"_{:.10f}\".format(coords[1]).replace(\".\",\"\") + \"_{:f}\".format(img.gps_altitude).replace(\".\",\"\")\n",
    "  dslabel['GeoTagInfo']['coords'] = coords\n",
    "  dslabel['GeoTagInfo']['datetime_original'] = img.datetime_original\n",
    "  dslabel['GeoTagInfo']['gps_altitude'] = img.gps_altitude\n",
    "  dslabel['GeoTagInfo']['gps_altitude_ref'] = img.gps_altitude_ref\n",
    "  \n",
    "  return dslabel"
   ]
  },
  {
   "cell_type": "code",
   "execution_count": 5,
   "metadata": {},
   "outputs": [],
   "source": [
    "def getNDVIimg(filesGrp):\n",
    "\n",
    "\n",
    "  with rasterio.open([ x for x in filesGrp if ('_MS_R' in x) ][0]) as src:\n",
    "      band_red = src.read(1).astype(float)/65536.\n",
    "\n",
    "  with rasterio.open([ x for x in filesGrp if ('_MS_NIR' in x) ][0]) as src:\n",
    "      band_nir = src.read(1).astype(float)/65536.\n",
    "\n",
    "  np.seterr(divide='ignore', invalid='ignore')\n",
    "\n",
    "  # Calculate NDVI\n",
    "  ndvi = (band_nir.astype(float) - band_red.astype(float)) / (band_nir.astype(float) + band_red.astype(float))\n",
    "\n",
    "  ndvi -= ndvi.min() # ensure the minimal value is 0.0\n",
    "  ndvi /= ndvi.max() # maximum value in image is now 1.0\n",
    "\n",
    "  cm = plt.cm.get_cmap('RdYlGn')\n",
    "  ndvi_cm = cm(ndvi)\n",
    "\n",
    "  ndvi_img = cv2.normalize(ndvi_cm[:,:,:3], None, alpha = 0, beta = 255, norm_type = cv2.NORM_MINMAX, dtype = cv2.CV_32F).astype(np.uint8)\n",
    "\n",
    "  return ndvi_img"
   ]
  },
  {
   "cell_type": "code",
   "execution_count": 6,
   "metadata": {},
   "outputs": [],
   "source": [
    "def getalignedRGB(filesGrp_, ndvi_img):\n",
    "  RGBimg = np.asarray(Image.open([x for x in filesGrp_ if 'JPG' in x][0]))\n",
    "\n",
    "  # RGBimg = np.asarray(Image.open(filesGrp_[0]).resize((ndvi_img.shape[1],ndvi_img.shape[0])))\n",
    "  # features0 = FeatureExtraction(RGBimg)\n",
    "  # features1 = FeatureExtraction(ndvi_img)\n",
    "\n",
    "  # matches = feature_matching(features0, features1)\n",
    "\n",
    "  # print('{} number of matched has been found! in {}'.format(len(matches), filesGrp_[0]))\n",
    "\n",
    "  # if len(matches) < 10:\n",
    "  #    raise Exception(\"Not Enough Matches\")\n",
    "\n",
    "  # H, _ = cv2.findHomography( features0.matched_pts, features1.matched_pts, cv2.RANSAC, 5.0)\n",
    "\n",
    "  H = np.array([[ 5.93209530e-01, -8.35074813e-03, -2.21474434e+02],\n",
    "       [ 1.32198817e-02,  5.96460559e-01, -2.01042419e+02],\n",
    "       [ 1.58520522e-06,  1.69424781e-06,  1.00000000e+00]])\n",
    "\n",
    "  h, w, c = ndvi_img.shape\n",
    "  RGBimg_tuned = cv2.warpPerspective(RGBimg, H, (w, h), borderMode=cv2.BORDER_CONSTANT, borderValue=(0, 0, 0, 0))\n",
    "\n",
    "  return RGBimg_tuned "
   ]
  },
  {
   "cell_type": "code",
   "execution_count": 7,
   "metadata": {},
   "outputs": [],
   "source": [
    "img_folder = r'D:\\NIA_2023_52_잔디\\10_원시데이터(3사_분류대상)'\n",
    "out_folder = r'D:\\ToAWS2'\n",
    "\n",
    "course_list = ['청도','포항','중문','시흥','거창','속리산','춘천']\n",
    "\n",
    "course_ids = {\n",
    "  '포항':'MGC001',\n",
    "  '청도':'MGC002',\n",
    "  '중문':'MGC003',\n",
    "  '시흥':'MGC004',\n",
    "  '거창':'MGC005',\n",
    "  '속리산':'MGC006',\n",
    "  '춘천':'MGC007'\n",
    "}\n",
    "\n",
    "folder_type = ['rgb','ndvi','thumb']"
   ]
  },
  {
   "cell_type": "code",
   "execution_count": 8,
   "metadata": {},
   "outputs": [
    {
     "data": {
      "text/plain": [
       "'MGC002'"
      ]
     },
     "execution_count": 8,
     "metadata": {},
     "output_type": "execute_result"
    }
   ],
   "source": [
    "course_id = course_ids.get('청도')\n",
    "course_id"
   ]
  },
  {
   "cell_type": "code",
   "execution_count": 9,
   "metadata": {},
   "outputs": [
    {
     "data": {
      "text/plain": [
       "['D:\\\\NIA_2023_52_잔디\\\\10_원시데이터(3사_분류대상)\\\\2023_0817_거창클럽디_오전구름많이오후구름반햇빛반_데이터 1차 분류본_완',\n",
       " 'D:\\\\NIA_2023_52_잔디\\\\10_원시데이터(3사_분류대상)\\\\2023_0822_시흥아세코밸리_비온직후맑은날_데이터 1차 분류본_완',\n",
       " 'D:\\\\NIA_2023_52_잔디\\\\10_원시데이터(3사_분류대상)\\\\2023_0825_클럽디속리산_맑고뭉게구름_데이터1차분류_M3M_완',\n",
       " 'D:\\\\NIA_2023_52_잔디\\\\10_원시데이터(3사_분류대상)\\\\2023_0826_춘천오너스_맑고구름조금미세먼지_데이터 1차 분류_완',\n",
       " 'D:\\\\NIA_2023_52_잔디\\\\10_원시데이터(3사_분류대상)\\\\2023_0902_시흥아세코밸리_맑은날_구름조금_데이터 1차 분류_완',\n",
       " 'D:\\\\NIA_2023_52_잔디\\\\10_원시데이터(3사_분류대상)\\\\2023_0906_거창클럽디_맑은날_구름조금_데이터 1차 분류_완',\n",
       " 'D:\\\\NIA_2023_52_잔디\\\\10_원시데이터(3사_분류대상)\\\\2023_0907_청도그레이스_맑은날_구름조금_데이터 1차 분류_완',\n",
       " 'D:\\\\NIA_2023_52_잔디\\\\10_원시데이터(3사_분류대상)\\\\2023_0908_포항CC_데이터 1차 분류_완',\n",
       " 'D:\\\\NIA_2023_52_잔디\\\\10_원시데이터(3사_분류대상)\\\\2023_0909_중문골프클럽_데이터 1차 분류_완']"
      ]
     },
     "execution_count": 9,
     "metadata": {},
     "output_type": "execute_result"
    }
   ],
   "source": [
    "img_folders_candidate =glob.glob(os.path.join(img_folder,'*'))\n",
    "img_folders_candidate"
   ]
  },
  {
   "cell_type": "code",
   "execution_count": 10,
   "metadata": {},
   "outputs": [
    {
     "data": {
      "text/plain": [
       "'D:\\\\NIA_2023_52_잔디\\\\10_원시데이터(3사_분류대상)\\\\2023_0907_청도그레이스_맑은날_구름조금_데이터 1차 분류_완'"
      ]
     },
     "execution_count": 10,
     "metadata": {},
     "output_type": "execute_result"
    }
   ],
   "source": [
    "img_folder = img_folders_candidate[6]\n",
    "img_folder"
   ]
  },
  {
   "cell_type": "code",
   "execution_count": 11,
   "metadata": {},
   "outputs": [
    {
     "data": {
      "text/plain": [
       "9893"
      ]
     },
     "execution_count": 11,
     "metadata": {},
     "output_type": "execute_result"
    }
   ],
   "source": [
    "files = glob.glob(os.path.join(img_folder,'**/DJI_*.JPG'), recursive=True)\n",
    "\n",
    "len(files)"
   ]
  },
  {
   "cell_type": "code",
   "execution_count": 12,
   "metadata": {},
   "outputs": [],
   "source": [
    "original_folder = []\n",
    "\n",
    "for file_ in files:\n",
    "  path_ = os.path.normpath(file_)\n",
    "  paths_ = path_.split(os.sep)\n",
    "  path_ = (os.sep).join(paths_[0:5])\n",
    "\n",
    "  if path_ not in original_folder:\n",
    "    original_folder.append(path_)"
   ]
  },
  {
   "cell_type": "code",
   "execution_count": 13,
   "metadata": {},
   "outputs": [
    {
     "data": {
      "text/plain": [
       "['D:\\\\NIA_2023_52_잔디\\\\10_원시데이터(3사_분류대상)\\\\2023_0907_청도그레이스_맑은날_구름조금_데이터 1차 분류_완\\\\청도그레이스_레이크1H',\n",
       " 'D:\\\\NIA_2023_52_잔디\\\\10_원시데이터(3사_분류대상)\\\\2023_0907_청도그레이스_맑은날_구름조금_데이터 1차 분류_완\\\\청도그레이스_레이크2H',\n",
       " 'D:\\\\NIA_2023_52_잔디\\\\10_원시데이터(3사_분류대상)\\\\2023_0907_청도그레이스_맑은날_구름조금_데이터 1차 분류_완\\\\청도그레이스_레이크4H',\n",
       " 'D:\\\\NIA_2023_52_잔디\\\\10_원시데이터(3사_분류대상)\\\\2023_0907_청도그레이스_맑은날_구름조금_데이터 1차 분류_완\\\\청도그레이스_마운틴1H',\n",
       " 'D:\\\\NIA_2023_52_잔디\\\\10_원시데이터(3사_분류대상)\\\\2023_0907_청도그레이스_맑은날_구름조금_데이터 1차 분류_완\\\\청도그레이스_마운틴2H',\n",
       " 'D:\\\\NIA_2023_52_잔디\\\\10_원시데이터(3사_분류대상)\\\\2023_0907_청도그레이스_맑은날_구름조금_데이터 1차 분류_완\\\\청도그레이스_마운틴3H',\n",
       " 'D:\\\\NIA_2023_52_잔디\\\\10_원시데이터(3사_분류대상)\\\\2023_0907_청도그레이스_맑은날_구름조금_데이터 1차 분류_완\\\\청도그레이스_마운틴4H',\n",
       " 'D:\\\\NIA_2023_52_잔디\\\\10_원시데이터(3사_분류대상)\\\\2023_0907_청도그레이스_맑은날_구름조금_데이터 1차 분류_완\\\\청도그레이스_마운틴5H',\n",
       " 'D:\\\\NIA_2023_52_잔디\\\\10_원시데이터(3사_분류대상)\\\\2023_0907_청도그레이스_맑은날_구름조금_데이터 1차 분류_완\\\\청도그레이스_마운틴6H',\n",
       " 'D:\\\\NIA_2023_52_잔디\\\\10_원시데이터(3사_분류대상)\\\\2023_0907_청도그레이스_맑은날_구름조금_데이터 1차 분류_완\\\\청도그레이스_마운틴7H',\n",
       " 'D:\\\\NIA_2023_52_잔디\\\\10_원시데이터(3사_분류대상)\\\\2023_0907_청도그레이스_맑은날_구름조금_데이터 1차 분류_완\\\\청도그레이스_마운틴너스리포장',\n",
       " 'D:\\\\NIA_2023_52_잔디\\\\10_원시데이터(3사_분류대상)\\\\2023_0907_청도그레이스_맑은날_구름조금_데이터 1차 분류_완\\\\청도그레이스_스타트퍼팅그린']"
      ]
     },
     "execution_count": 13,
     "metadata": {},
     "output_type": "execute_result"
    }
   ],
   "source": [
    "original_folder"
   ]
  },
  {
   "cell_type": "code",
   "execution_count": 19,
   "metadata": {},
   "outputs": [
    {
     "data": {
      "text/plain": [
       "(780,\n",
       " 'D:\\\\NIA_2023_52_잔디\\\\10_원시데이터(3사_분류대상)\\\\2023_0907_청도그레이스_맑은날_구름조금_데이터 1차 분류_완\\\\청도그레이스_마운틴4H')"
      ]
     },
     "execution_count": 19,
     "metadata": {},
     "output_type": "execute_result"
    }
   ],
   "source": [
    "target_path = original_folder[6]\n",
    "target_files = glob.glob(os.path.join(target_path,'**/DJI_*.JPG'), recursive=True)\n",
    "len(target_files), target_path\n"
   ]
  },
  {
   "cell_type": "code",
   "execution_count": 20,
   "metadata": {},
   "outputs": [
    {
     "data": {
      "text/plain": [
       "('MGC002', '20230907', '청도그레이스_마운틴4H')"
      ]
     },
     "execution_count": 20,
     "metadata": {},
     "output_type": "execute_result"
    }
   ],
   "source": [
    "course = list(filter(lambda y: y in img_folder, course_list))[0]\n",
    "course_id = course_ids.get(course)\n",
    "\n",
    "path_ = os.path.normpath(target_path).split(os.sep)\n",
    "\n",
    "target_date = ('').join(path_[-2].split('_')[:2])\n",
    "area = path_[-1]\n",
    "\n",
    "course_id, target_date, area\n",
    "\n"
   ]
  },
  {
   "cell_type": "code",
   "execution_count": 21,
   "metadata": {},
   "outputs": [
    {
     "data": {
      "text/plain": [
       "('D:\\\\ToAWS2', 'MGC002', '20230907', '청도그레이스_마운틴3H', '패취류,섬머패취,켄터키,티_0')"
      ]
     },
     "execution_count": 21,
     "metadata": {},
     "output_type": "execute_result"
    }
   ],
   "source": [
    "file_ = target_files[0]\n",
    "\n",
    "path = os.path.normpath(file_)\n",
    "info = path.split(os.sep)\n",
    "root_index = [idx for idx, s in enumerate(info) if 'NIA_2023_52_잔디' in s][0]\n",
    "area = info[root_index + 3]\n",
    "\n",
    "if len(info[root_index + 5].split('_')) ==3 :\n",
    "  desc = info[root_index + 5].split('_')[-1] + '_0'\n",
    "else:\n",
    "  desc = \"미기재\" + '_0'\n",
    "\n",
    "\n",
    "out_folder,course_id,target_date,area,desc"
   ]
  },
  {
   "cell_type": "code",
   "execution_count": 22,
   "metadata": {},
   "outputs": [
    {
     "name": "stderr",
     "output_type": "stream",
     "text": [
      "C:\\Users\\yc463\\AppData\\Local\\Temp\\ipykernel_41048\\891679340.py:18: MatplotlibDeprecationWarning: The get_cmap function was deprecated in Matplotlib 3.7 and will be removed two minor releases later. Use ``matplotlib.colormaps[name]`` or ``matplotlib.colormaps.get_cmap(obj)`` instead.\n",
      "  cm = plt.cm.get_cmap('RdYlGn')\n"
     ]
    },
    {
     "name": "stdout",
     "output_type": "stream",
     "text": [
      "D:\\ToAWS2\\MGC002\\20230907\\청도그레이스_마운틴3H\\패취류,섬머패취,켄터키,티_0\\thumb\\thumbrgb20230907112503_1286380307500_356694134722_201049000.JPG\r"
     ]
    },
    {
     "name": "stderr",
     "output_type": "stream",
     "text": [
      "C:\\Users\\yc463\\AppData\\Local\\Temp\\ipykernel_41048\\1506130912.py:2: DeprecationWarning: An exception was ignored while fetching the attribute `__array_interface__` from an object of type 'MpoImageFile'.  With the exception of `AttributeError` NumPy will always raise this exception in the future.  Raise this deprecation warning to see the original exception. (Warning added NumPy 1.21)\n",
      "  RGBimg = np.asarray(Image.open([x for x in filesGrp_ if 'JPG' in x][0]))\n"
     ]
    },
    {
     "name": "stdout",
     "output_type": "stream",
     "text": [
      "248 file ErrorOpenCV(4.6.0) :-1: error: (-5:Bad argument) in function 'warpPerspective'\n",
      "> Overload resolution failed:\n",
      ">  - src data type = 17 is not supported\n",
      ">  - Expected Ptr<cv::UMat> for argument 'src'\n",
      "\n",
      "D:\\ToAWS2\\MGC002\\20230907\\청도그레이스_마운틴3H\\패취류,섬머패취,켄터키,티_0\\thumb\\thumbrgb20230907112523_1286380078611_356694055000_200977000.JPG\r"
     ]
    }
   ],
   "source": [
    "InfoJsonArray = []\n",
    "target_folder = []\n",
    "\n",
    "for idx, file_ in enumerate(target_files):\n",
    "\n",
    "  path = os.path.normpath(file_)\n",
    "  info = path.split(os.sep)\n",
    "  root_index = [idx for idx, s in enumerate(info) if 'NIA_2023_52_잔디' in s][0]\n",
    "  area = info[root_index + 3]\n",
    "  \n",
    "  if len(info[root_index + 5].split('_')) ==3 :\n",
    "    desc = info[root_index + 5].split('_')[-1] + '_0'\n",
    "  else:\n",
    "    desc = \"미기재\" + '_0'\n",
    "\n",
    "  target_path = ('/').join([target_date,area,desc])\n",
    "\n",
    "  while target_folder.count(target_path)>500:\n",
    "    desc = desc.split('_')[0] + '_'+str(int(desc.split('_')[-1]) + 1)\n",
    "    target_path = ('/').join([target_date,area,desc])\n",
    "\n",
    "  target_folder.append(target_path)\n",
    "\n",
    "  alt =  info[root_index + 4].split('_')[-1]\n",
    "\n",
    "\n",
    "  filesGrp = glob.glob(os.path.join(os.path.split(file_)[0],(os.path.split(file_)[1].split('_')[0]+'_'+ \n",
    "    os.path.split(file_)[1].split('_')[1][:-3]+\"***_\" + os.path.split(file_)[1].split('_')[2]) + '*'), recursive=True)\n",
    "  \n",
    "  file_info = getInfo(filesGrp, file_)\n",
    "\n",
    "  file_info['info']['course'] = course\n",
    "  file_info['info']['area'] = area\n",
    "  file_info['info']['alt'] = alt\n",
    "  file_info['info']['desc'] = desc\n",
    "  file_info['info']['date'] = target_date\n",
    "  file_info['destFolder'] = target_path\n",
    "\n",
    "  path_ = os.path.join(out_folder,course_id,target_date,area,desc,'rgb')\n",
    "\n",
    "  if not os.path.exists(path_):\n",
    "    os.makedirs(path_)\n",
    "\n",
    "  path_ = os.path.join(out_folder,course_id,target_date,area,desc,'ndvi')\n",
    "\n",
    "  if not os.path.exists(path_):\n",
    "    os.makedirs(path_)\n",
    "\n",
    "  path_ = os.path.join(out_folder,course_id,target_date,area,desc,'thumb')\n",
    "\n",
    "  if not os.path.exists(path_):\n",
    "    os.makedirs(path_)\n",
    "\n",
    "\n",
    "  try:\n",
    "    ndvi_img = getNDVIimg(filesGrp)\n",
    "    rgb_img = getalignedRGB(filesGrp, ndvi_img)\n",
    "    resized_ndvi = cv2.resize(ndvi_img, dsize=(648,486), interpolation=cv2.INTER_CUBIC)\n",
    "    save_name = os.path.join(out_folder,course_id,target_date,area,desc,'ndvi','ndvi{}.JPG'.format( file_info['id']) )\n",
    "    im = Image.fromarray(resized_ndvi)\n",
    "    im.save(save_name)\n",
    "    file_info['dest']['ndvi'] = os.path.join(course_id,target_date,area,desc,'ndvi','ndvi{}.JPG'.format( file_info['id']) )\n",
    "\n",
    "    resized_rgb = cv2.resize(rgb_img , dsize=(2592,1944), interpolation=cv2.INTER_CUBIC)\n",
    "    save_name = os.path.join(out_folder,course_id,target_date,area,desc,'rgb','rgb{}.JPG'.format( file_info['id']) )\n",
    "    im = Image.fromarray(resized_rgb)\n",
    "    im.save(save_name)\n",
    "    file_info['dest']['rgb'] = os.path.join(course_id,target_date,area,desc,'ndvi','ndvi{}.JPG'.format( file_info['id']) )\n",
    "\n",
    "\n",
    "    thumb_rgb = cv2.resize(rgb_img , dsize=(324,243), interpolation=cv2.INTER_CUBIC)\n",
    "    save_name = os.path.join(out_folder,course_id,target_date,area,desc,'thumb','thumbrgb{}.JPG'.format( file_info['id']) )\n",
    "    im = Image.fromarray(thumb_rgb)\n",
    "    im.save(save_name)\n",
    "    file_info['dest']['thumb'] = os.path.join(course_id,target_date,area,desc,'ndvi','ndvi{}.JPG'.format( file_info['id']) )\n",
    "\n",
    "    InfoJsonArray.append( file_info)\n",
    "    print('{} out of {} files Completed'.format(idx, len(target_files)), end='\\r')\n",
    "    print(save_name)\n",
    "  except Exception as e:\n",
    "    print(\"{} file Error\".format(idx) + str(e))\n",
    "    # logfile.write(\"{} file Error\".format(idx) +'('+file_+')'+ str(e))\n",
    "  finally:\n",
    "    continue\n",
    "  \n",
    "  \n",
    "\n",
    "save_name = os.path.join(out_folder,course_id,target_date,area, 'data'+target_date+area+'.json')\n",
    "with open(save_name, \"w\", encoding='utf-8') as final:\n",
    "   json.dump(InfoJsonArray, final , ensure_ascii=False)\n",
    "\n",
    "\n",
    "  "
   ]
  },
  {
   "cell_type": "code",
   "execution_count": null,
   "metadata": {},
   "outputs": [],
   "source": []
  },
  {
   "cell_type": "markdown",
   "metadata": {},
   "source": [
    "Gather all data json files from Output Folder"
   ]
  },
  {
   "cell_type": "code",
   "execution_count": 27,
   "metadata": {},
   "outputs": [
    {
     "data": {
      "text/plain": [
       "['D:\\\\ToAWS\\\\MGC001\\\\20230816\\\\1.태백3H\\\\data202308161.태백3H.json',\n",
       " 'D:\\\\ToAWS\\\\MGC001\\\\20230816\\\\2.태백5H\\\\data202308162.태백5H.json',\n",
       " 'D:\\\\ToAWS\\\\MGC001\\\\20230816\\\\3.동해1H\\\\data202308163.동해1H.json',\n",
       " 'D:\\\\ToAWS\\\\MGC001\\\\20230816\\\\4.동해2H\\\\data202308164.동해2H.json',\n",
       " 'D:\\\\ToAWS\\\\MGC001\\\\20230816\\\\5.동해3H\\\\data202308165.동해3H.json',\n",
       " 'D:\\\\ToAWS\\\\MGC001\\\\20230816\\\\6.태백1H\\\\data202308166.태백1H.json']"
      ]
     },
     "execution_count": 27,
     "metadata": {},
     "output_type": "execute_result"
    }
   ],
   "source": [
    "dataJsonList = glob.glob(os.path.join(out_folder,course_id,target_date,'**/data*.json'), recursive=True)\n",
    "dataJsonList"
   ]
  },
  {
   "cell_type": "code",
   "execution_count": 28,
   "metadata": {},
   "outputs": [],
   "source": [
    "folderinDataJson = []\n",
    "totalPhotoJson = []\n",
    "\n",
    "for dataJson_ in dataJsonList:\n",
    "  with open(dataJson_, \"r\") as _json:\n",
    "    dataJson= json.load(_json)\n",
    "  \n",
    "  totalPhotoJson.extend(dataJson)\n",
    "\n",
    "  for Json_ in dataJson:\n",
    "    if Json_['destFolder'] not in folderinDataJson:\n",
    "      folderinDataJson.append(Json_['destFolder'])\n",
    "\n",
    "\n"
   ]
  },
  {
   "cell_type": "code",
   "execution_count": 29,
   "metadata": {},
   "outputs": [],
   "source": [
    "save_name = os.path.join(out_folder,course_id,target_date, 'photo.json')\n",
    "with open(save_name, \"w\", encoding='utf-8') as final:\n",
    "   json.dump(totalPhotoJson, final , ensure_ascii=False)"
   ]
  },
  {
   "cell_type": "code",
   "execution_count": 30,
   "metadata": {},
   "outputs": [],
   "source": [
    "filestructure = []\n",
    "\n",
    "\n",
    "for folder_ in folderinDataJson:\n",
    "  fileinfo = {}\n",
    "  fileinfo[\"path\"] = folder_\n",
    "  fileinfo[\"file_cnt\"] = len([ x for x in totalPhotoJson if x[\"destFolder\"] == folder_])\n",
    "  fileinfo[\"labeled_file_cnt\"] = 0\n",
    "  filestructure.append(fileinfo)\n",
    "  "
   ]
  },
  {
   "cell_type": "code",
   "execution_count": 31,
   "metadata": {},
   "outputs": [],
   "source": [
    "save_name = os.path.join(out_folder,course_id,target_date, 'filepath_'+course_id + '_'+target_date+'.json')\n",
    "with open(save_name, \"w\", encoding='utf-8') as final:\n",
    "   json.dump(filestructure, final , ensure_ascii=False)"
   ]
  },
  {
   "cell_type": "code",
   "execution_count": 32,
   "metadata": {},
   "outputs": [
    {
     "data": {
      "text/plain": [
       "9184"
      ]
     },
     "execution_count": 32,
     "metadata": {},
     "output_type": "execute_result"
    }
   ],
   "source": [
    "len(totalPhotoJson)"
   ]
  },
  {
   "cell_type": "code",
   "execution_count": null,
   "metadata": {},
   "outputs": [],
   "source": []
  }
 ],
 "metadata": {
  "kernelspec": {
   "display_name": "Python 3.9.2 ('geo_James')",
   "language": "python",
   "name": "python3"
  },
  "language_info": {
   "codemirror_mode": {
    "name": "ipython",
    "version": 3
   },
   "file_extension": ".py",
   "mimetype": "text/x-python",
   "name": "python",
   "nbconvert_exporter": "python",
   "pygments_lexer": "ipython3",
   "version": "3.9.7"
  },
  "orig_nbformat": 4,
  "vscode": {
   "interpreter": {
    "hash": "af734be8ad55227f26227a3bb273225e8c732a9f6283c6f58fcb510615c38890"
   }
  }
 },
 "nbformat": 4,
 "nbformat_minor": 2
}
